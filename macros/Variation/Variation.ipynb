{
 "cells": [
  {
   "cell_type": "markdown",
   "id": "97963b47-d6b6-4f4a-b510-7743f4bc1ec2",
   "metadata": {},
   "source": [
    "# Notebook for looking at photon yield / percentage for diff theta, phi"
   ]
  },
  {
   "cell_type": "code",
   "execution_count": 1,
   "id": "e7479ba6-556e-4413-9054-ec96ab31f0eb",
   "metadata": {},
   "outputs": [
    {
     "name": "stdout",
     "output_type": "stream",
     "text": [
      "Using device cuda:0\n"
     ]
    }
   ],
   "source": [
    "#imports\n",
    "import numpy as np\n",
    "import uproot as up\n",
    "import pandas as pd\n",
    "import matplotlib.pyplot as plot\n",
    "from scipy.stats import norm\n",
    "from scipy.optimize import curve_fit\n",
    "import sympy\n",
    "from IPython.display import clear_output\n",
    "import math\n",
    "import time\n",
    "import util\n",
    "#My imports\n",
    "from util import PVect,get_layer,create_layer_map,theta_func,phi_func,findBin,bin_percent_theta_phi"
   ]
  },
  {
   "cell_type": "code",
   "execution_count": 16,
   "id": "61c5310b-5361-4235-a0af-c5f8831cc513",
   "metadata": {},
   "outputs": [],
   "source": [
    "particle = \"mu\"\n",
    "energy = \"5\"\n",
    "color_dict = {\n",
    "    \"pi\" : \"red\",\n",
    "    \"mu\" : \"blue\"\n",
    "}\n",
    "\n",
    "# uproot_path = f\"/cwork/rck32/eic/work_eic/root_files/June_13/one_sector/pi_5GeV_2k.edm4hep.root:events\"\n",
    "uproot_path = f\"/cwork/rck32/eic/work_eic/root_files/June_13/variation/full_{particle}_{energy}GeV_10k.edm4hep.root:events\"\n",
    "# uproot_path = f\"/cwork/rck32/eic/work_eic/root_files/June_14/variation/full_{particle}_{energy}GeV_1000.edm4hep.root:events\"\n",
    "events = up.open(uproot_path)\n",
    "\n",
    "x_pos_branch = events[\"HcalBarrelHits/HcalBarrelHits.position.x\"].array(library='np')\n",
    "EDep_branch = events[\"HcalBarrelHits.EDep\"].array(library='np')\n",
    "Pathlength_branch = events[\"HcalBarrelHits.pathLength\"].array(library='np')\n",
    "Hits_MC_idx_branch = events[\"_HcalBarrelHits_MCParticle.index\"].array(library='np')\n",
    "MC_parents = events[\"_MCParticles_parents.index\"].array(library='np')\n",
    "MC_daughters = events[\"MCParticles.daughters_end\"].array(library='np')\n",
    "PDG_branch = events[\"MCParticles.PDG\"].array(library='np')\n",
    "MC_endpoint_x_branch = events[\"MCParticles.endpoint.x\"].array(library='np')\n",
    "layer_map = [1830.8000, 1841.4000, 1907.5, 1918.1,1984.1999, 1994.8000, 2060.8999,2071.5,2137.6001,2148.1999,2214.3000,2224.8999,2291,2301.6001,2367.6999,2378.3000,2444.3999,2455,2521.1001,2531.6999,2597.8000,2608.3999,2674.5,2685.1001,2751.1999,2761.8000,2827.8999,2838.5]    \n",
    "\n",
    "MC_px = events[\"MCParticles.momentum.x\"].array(library='np')\n",
    "MC_py = events[\"MCParticles.momentum.y\"].array(library='np')\n",
    "MC_pz = events[\"MCParticles.momentum.z\"].array(library='np')\n",
    "MC_m = events[\"MCParticles.mass\"].array(library='np')\n",
    "MC_vertex_x = events[\"MCParticles.vertex.x\"].array(library='np')"
   ]
  },
  {
   "cell_type": "code",
   "execution_count": null,
   "id": "34df734a-02fb-4bb6-bda5-4dfc1bfb7aae",
   "metadata": {},
   "outputs": [],
   "source": []
  },
  {
   "cell_type": "markdown",
   "id": "5d40876e-5796-4750-91a7-95f1cc1887b7",
   "metadata": {},
   "source": [
    "Idea: first find which super layer, then from there test if in first or second layer"
   ]
  },
  {
   "cell_type": "code",
   "execution_count": 3,
   "id": "7cdab47d-b72a-4dec-86db-b82b252eb435",
   "metadata": {},
   "outputs": [],
   "source": [
    "layer_map,super_layer_map = create_layer_map()"
   ]
  },
  {
   "cell_type": "markdown",
   "id": "01751a86-744d-4837-8951-871e32f65556",
   "metadata": {},
   "source": [
    "# Calculate % of photons hitting sensor for diff theta phi bins"
   ]
  },
  {
   "cell_type": "code",
   "execution_count": 4,
   "id": "9bff0e99-ee4e-402e-96e5-751e497041ce",
   "metadata": {},
   "outputs": [],
   "source": [
    "n_bins = 100\n",
    "\n",
    "theta_min = 68\n",
    "theta_max = 112\n",
    "phi_min = -22\n",
    "phi_max = 22\n",
    "\n",
    "theta_range = theta_max - theta_min\n",
    "phi_range = phi_max - phi_min\n",
    "\n",
    "phi_bins = np.linspace(phi_min,phi_max,n_bins+1)\n",
    "theta_bins = np.linspace(theta_min,theta_max,n_bins+1)"
   ]
  },
  {
   "cell_type": "code",
   "execution_count": 5,
   "id": "cce1b91d-0bd1-42eb-a03d-123db9559365",
   "metadata": {},
   "outputs": [],
   "source": [
    "#works only for evenly spaced bins\n",
    "def findBin(val,bins):\n",
    "    diff = bins[1] - bins[0]\n",
    "    rel_dist = val - bins[0]\n",
    "    mod = np.floor(rel_dist / diff)\n",
    "    return int(mod)"
   ]
  },
  {
   "cell_type": "code",
   "execution_count": 6,
   "id": "83e137c8-8355-4505-ae93-af3a1b044cf1",
   "metadata": {},
   "outputs": [
    {
     "name": "stdout",
     "output_type": "stream",
     "text": [
      "99% done\n"
     ]
    }
   ],
   "source": [
    "theta_percent = [[] for i in range(n_bins)]\n",
    "phi_percent = [[] for i in range(n_bins)]\n",
    "\n",
    "theta_MC = np.zeros(n_bins)\n",
    "phi_MC = np.zeros(n_bins)\n",
    "\n",
    "theta_hits = np.zeros(n_bins)\n",
    "phi_hits = np.zeros(n_bins)\n",
    "\n",
    "theta_counts = np.zeros(n_bins)\n",
    "phi_counts = np.zeros(n_bins)\n",
    "\n",
    "num_MC = 0\n",
    "num_hits = 0\n",
    "energy_dep = 0\n",
    "dep_count = 0\n",
    "hits_per_photon = []\n",
    "num_events = len(EDep_branch)\n",
    "break_val = 10000\n",
    "for event_idx in range(len(EDep_branch)):\n",
    "    if(not (event_idx % (break_val // 100))):\n",
    "        clear_output(wait = True)\n",
    "        print(f\"{event_idx // (break_val // 100)}% done\")\n",
    "#     if(event_idx > break_val):\n",
    "#         break\n",
    "    num_MC = 0\n",
    "    primary = PVect()\n",
    "    primary.setVector(MC_px[event_idx][0],MC_py[event_idx][0],MC_pz[event_idx][0],MC_m[event_idx][0])\n",
    "    phi_bin = findBin(primary.phi,phi_bins)\n",
    "    theta_bin = findBin(primary.theta,theta_bins)\n",
    "    phi_counts[phi_bin]+=1\n",
    "    theta_counts[theta_bin]+=1\n",
    "#     print(f\"theta, phi: {primary.theta}, {primary.phi} | px,pz = {primary.px,primary.pz} | theta, phi bins: {theta_bin},{phi_bin}\")\n",
    "    for i in range(len(PDG_branch[event_idx])):\n",
    "        if(PDG_branch[event_idx][i] == -22 and (i < MC_daughters[event_idx][0])):\n",
    "            theta_MC[theta_bin] += 1\n",
    "            phi_MC[phi_bin] += 1\n",
    "    for hit in range(len(EDep_branch[event_idx])):\n",
    "        #check if hit is from optph\n",
    "        if(PDG_branch[event_idx][Hits_MC_idx_branch[event_idx][hit]] == -22):\n",
    "            theta_hits[theta_bin] += 1\n",
    "            phi_hits[phi_bin] += 1\n",
    "for i in range(n_bins):\n",
    "    #if no MCParticles, then just set to -1\n",
    "    if(not len(theta_MC)):\n",
    "        theta_percent[i] = -1\n",
    "    else:\n",
    "        theta_percent[i] = (theta_hits[i] / theta_MC[i]) * 100\n",
    "    if(not len(phi_MC)):\n",
    "        phi_percent[i] = -1\n",
    "    else:\n",
    "        phi_percent[i] = (phi_hits[i] / phi_MC[i]) * 100"
   ]
  },
  {
   "cell_type": "code",
   "execution_count": 8,
   "id": "58b31a08-c5ea-4e30-99d4-182142141dc7",
   "metadata": {},
   "outputs": [],
   "source": [
    "theta_bin_centers = np.empty(n_bins)\n",
    "phi_bin_centers = np.empty(n_bins)\n",
    "for i in range(len(theta_bins) - 1):\n",
    "    theta_bin_centers[i] = (theta_bins[i] + theta_bins[i+1]) / 2\n",
    "    phi_bin_centers[i] = (phi_bins[i] + phi_bins[i+1]) / 2"
   ]
  },
  {
   "cell_type": "code",
   "execution_count": 9,
   "id": "1591e738-c7c9-428c-9e63-134b191a7a1b",
   "metadata": {},
   "outputs": [
    {
     "data": {
      "image/png": "[encoded data removed]",
      "text/plain": [
       "<Figure size 720x288 with 2 Axes>"
      ]
     },
     "metadata": {
      "needs_background": "light"
     },
     "output_type": "display_data"
    }
   ],
   "source": [
    "fig, (ax1,ax2) = plot.subplots(1,2, figsize=(10,4))\n",
    "fig.suptitle(\"Percentage of photons reaching sensor as a fraction of total photons generated\")\n",
    "ax1.scatter(phi_bin_centers,phi_percent,color=\"red\")\n",
    "ax1.set_xlabel(\"phi (deg)\")\n",
    "ax1.set_ylabel(\"percentage\")\n",
    "ax2.scatter(theta_bin_centers,theta_percent,color = \"blue\")\n",
    "ax2.set_xlabel(\"theta (deg)\")\n",
    "fig.show()\n",
    "# fig.savefig(\"plots/percentage/June_14_mu_5GeV_10k_phi_theta_20_bins.jpeg\")"
   ]
  },
  {
   "cell_type": "markdown",
   "id": "8c3c0a40-e244-4658-ada3-9df677200263",
   "metadata": {},
   "source": [
    "Fitting theta-% distribution"
   ]
  },
  {
   "cell_type": "code",
   "execution_count": 137,
   "id": "101b40e7-c0c6-4ff7-9a7a-104f726741a8",
   "metadata": {},
   "outputs": [],
   "source": [
    "def exp_curve(x,a,b,c):\n",
    "    return a * np.exp(-x * b) + c\n",
    "def poly_8d(x,a,b,c,d,e,f,g,h,i):\n",
    "    return a * x ** 8 + b * x ** 7 + c * x ** 6 + d * x ** 5 + e * x ** 4 + f * x ** 3 + g * x ** 2 + h * x + i \n",
    "def poly_2d(x,a,b,c):\n",
    "    return a * x ** 2 + b * x + c\n",
    "def inverse(x,a,b,c):\n",
    "    return a  / (x + b) + c"
   ]
  },
  {
   "cell_type": "code",
   "execution_count": 138,
   "id": "6948c32a-67d1-4212-b345-a4ee49f4c35b",
   "metadata": {},
   "outputs": [],
   "source": [
    "popt_theta, pcov_theta = curve_fit(inverse,theta_bin_centers,theta_percent)"
   ]
  },
  {
   "cell_type": "code",
   "execution_count": 156,
   "id": "e3f4b407-9df4-4d07-80c6-bf237b9536be",
   "metadata": {},
   "outputs": [
    {
     "data": {
      "text/plain": [
       "Text(0, 0.5, '% photons reaching sensor')"
      ]
     },
     "execution_count": 156,
     "metadata": {},
     "output_type": "execute_result"
    },
    {
     "data": {
      "image/png": "[encoded data removed]",
      "text/plain": [
       "<Figure size 432x288 with 1 Axes>"
      ]
     },
     "metadata": {
      "needs_background": "light"
     },
     "output_type": "display_data"
    }
   ],
   "source": [
    "fig_theta, ax_theta = plot.subplots(1,1)\n",
    "ax_theta.plot(theta_bin_centers, inverse(theta_bin_centers,*popt_theta), 'g--')\n",
    "fig_theta.suptitle(\"Theta dependence of % photons reaching sensor\")\n",
    "ax_theta.scatter(theta_bin_centers,theta_percent,color=\"red\")\n",
    "ax_theta.set_xlabel(\"theta (deg)\")\n",
    "ax_theta.set_ylabel(\"% photons reaching sensor\")\n",
    "# fig_theta.legend()"
   ]
  },
  {
   "cell_type": "code",
   "execution_count": 157,
   "id": "6180d468-5b28-4798-808f-71878267286f",
   "metadata": {},
   "outputs": [],
   "source": [
    "popt_phi, pcov_phi = curve_fit(poly_2d,phi_bin_centers,phi_percent)"
   ]
  },
  {
   "cell_type": "code",
   "execution_count": 158,
   "id": "79f92516-c9c5-4eaf-af8b-f119308a9bb0",
   "metadata": {},
   "outputs": [
    {
     "data": {
      "text/plain": [
       "Text(0, 0.5, '% photons reaching sensor')"
      ]
     },
     "execution_count": 158,
     "metadata": {},
     "output_type": "execute_result"
    },
    {
     "data": {
      "image/png": "[encoded data removed]",
      "text/plain": [
       "<Figure size 432x288 with 1 Axes>"
      ]
     },
     "metadata": {
      "needs_background": "light"
     },
     "output_type": "display_data"
    }
   ],
   "source": [
    "fig_phi, ax_phi = plot.subplots(1,1)\n",
    "ax_phi.plot(phi_bin_centers, poly_2d(phi_bin_centers,*popt_phi), 'g--')\n",
    "fig_phi.suptitle(\"Phi dependence of % photons reaching sensor\")\n",
    "ax_phi.scatter(phi_bin_centers,phi_percent,color=\"red\")\n",
    "ax_phi.set_xlabel(\"phi (deg)\")\n",
    "ax_phi.set_ylabel(\"% photons reaching sensor\")\n",
    "# fig_phi.legend()"
   ]
  },
  {
   "cell_type": "markdown",
   "id": "4c509e00-4744-4174-be67-19bad7172847",
   "metadata": {},
   "source": [
    "# % photons as function of z hit pos"
   ]
  },
  {
   "cell_type": "code",
   "execution_count": 13,
   "id": "211a82e0-c475-488d-bd31-135d205da32b",
   "metadata": {},
   "outputs": [],
   "source": [
    "#calc z hit pos from x pos, px pz\n",
    "def dz_func(dx, px, pz):\n",
    "    return dx * pz / px"
   ]
  },
  {
   "cell_type": "code",
   "execution_count": 74,
   "id": "74a4bbdd-46d9-4861-a809-abd6c954e4c2",
   "metadata": {},
   "outputs": [],
   "source": [
    "n_bins = 30\n",
    "\n",
    "z_min = -770\n",
    "z_max = 770\n",
    "\n",
    "z_range = z_max - z_min\n",
    "\n",
    "z_bins = np.linspace(z_min,z_max,n_bins+1)"
   ]
  },
  {
   "cell_type": "code",
   "execution_count": 75,
   "id": "7b2661db-c80a-4a51-95ce-858b72f95536",
   "metadata": {},
   "outputs": [],
   "source": [
    "#works only for evenly spaced bins\n",
    "def findBin(val,bins):\n",
    "    diff = bins[1] - bins[0]\n",
    "    rel_dist = val - bins[0]\n",
    "    mod = np.floor(rel_dist / diff)\n",
    "    return int(mod)"
   ]
  },
  {
   "cell_type": "code",
   "execution_count": 76,
   "id": "1781e380-dafa-45af-8e36-b058d4d1c6dc",
   "metadata": {},
   "outputs": [],
   "source": [
    "z_vals = []\n",
    "for i in range(len(MC_px)):\n",
    "    z_vals.append(dz_func(1770 - MC_vertex_x[i][0],MC_px[i][0],MC_pz[i][0]))"
   ]
  },
  {
   "cell_type": "code",
   "execution_count": 77,
   "id": "862e560e-22ec-4b6a-82b6-9a23832f1ae5",
   "metadata": {},
   "outputs": [
    {
     "name": "stdout",
     "output_type": "stream",
     "text": [
      "99% done\n"
     ]
    }
   ],
   "source": [
    "z_percent = [[] for i in range(n_bins)]\n",
    "\n",
    "z_MC = np.zeros(n_bins)\n",
    "\n",
    "z_hits = np.zeros(n_bins)\n",
    "\n",
    "z_counts = np.zeros(n_bins)\n",
    "\n",
    "num_MC = 0\n",
    "num_hits = 0\n",
    "energy_dep = 0\n",
    "dep_count = 0\n",
    "hits_per_photon = []\n",
    "num_events = len(EDep_branch)\n",
    "break_val = 10000\n",
    "for event_idx in range(len(EDep_branch)):\n",
    "    if(not (event_idx % (break_val // 100))):\n",
    "        clear_output(wait = True)\n",
    "        print(f\"{event_idx // (break_val // 100)}% done\")\n",
    "#     if(event_idx > break_val):\n",
    "#         break\n",
    "    num_MC = 0\n",
    "    primary = PVect()\n",
    "    primary.setVector(MC_px[event_idx][0],MC_py[event_idx][0],MC_pz[event_idx][0],MC_m[event_idx][0])\n",
    "    dx = 1770 - MC_vertex_x[event_idx][0]  #first layer at approx 1770\n",
    "    dz = dz_func(dx,primary.px,primary.pz)\n",
    "    z_bin = findBin(dz,z_bins)\n",
    "    z_counts[z_bin]+=1\n",
    "    \n",
    "#     print(f\"theta, phi: {primary.theta}, {primary.phi} | px,pz = {primary.px,primary.pz} | theta, phi bins: {theta_bin},{phi_bin}\")\n",
    "    for i in range(len(PDG_branch[event_idx])):\n",
    "        if(PDG_branch[event_idx][i] == -22 and (i < MC_daughters[event_idx][0])):\n",
    "            z_MC[z_bin] += 1\n",
    "    for hit in range(len(EDep_branch[event_idx])):\n",
    "        #check if hit is from optph\n",
    "        if(PDG_branch[event_idx][Hits_MC_idx_branch[event_idx][hit]] == -22):\n",
    "            z_hits[z_bin] += 1\n",
    "for i in range(n_bins):\n",
    "    #if no MCParticles, then just set to -1\n",
    "    if(not len(z_MC)):\n",
    "        z_percent[i] = -1\n",
    "    else:\n",
    "        z_percent[i] = (z_hits[i] / z_MC[i]) * 100"
   ]
  },
  {
   "cell_type": "code",
   "execution_count": 78,
   "id": "2efcb997-d4d0-4383-868a-36ccebe24125",
   "metadata": {},
   "outputs": [],
   "source": [
    "z_bin_centers = np.empty(n_bins)\n",
    "for i in range(len(z_bins) - 1):\n",
    "    z_bin_centers[i] = (z_bins[i] + z_bins[i+1]) / 2\n",
    "z_bin_centers_dis = 770 - z_bin_centers    "
   ]
  },
  {
   "cell_type": "code",
   "execution_count": 79,
   "id": "81f4d383-bc31-4587-8da1-12fa3dfedc92",
   "metadata": {},
   "outputs": [
    {
     "data": {
      "image/png": "[encoded data removed]",
      "text/plain": [
       "<Figure size 360x360 with 1 Axes>"
      ]
     },
     "metadata": {
      "needs_background": "light"
     },
     "output_type": "display_data"
    }
   ],
   "source": [
    "fig, ax1 = plot.subplots(1,1, figsize=(5,5))\n",
    "fig.suptitle(\"Percentage of photons reaching sensor as a fraction of total photons generated\")\n",
    "ax1.set_ylabel(\"percentage\")\n",
    "ax1.scatter(z_bin_centers_dis,z_percent,color = \"blue\")\n",
    "ax1.set_xlabel(\"z (distance from sensor)\")\n",
    "fig.show()\n",
    "# fig.savefig(\"plots/percentage/June_14_mu_5GeV_10k_phi_theta_20_bins.jpeg\")"
   ]
  },
  {
   "cell_type": "code",
   "execution_count": 110,
   "id": "12313378-05dc-4ef7-9dc6-cdb7fbaa3192",
   "metadata": {},
   "outputs": [],
   "source": [
    "z_hit = 740"
   ]
  },
  {
   "cell_type": "code",
   "execution_count": 115,
   "id": "9a8100f9-5a27-4b78-9431-20ac2d49f8a7",
   "metadata": {},
   "outputs": [
    {
     "data": {
      "text/plain": [
       "1.0393869174699915"
      ]
     },
     "execution_count": 115,
     "metadata": {},
     "output_type": "execute_result"
    }
   ],
   "source": [
    "inverse(400,494.98,9.9733,-0.16796)"
   ]
  },
  {
   "cell_type": "code",
   "execution_count": 80,
   "id": "c395963e-eca7-4a0c-85d2-792885027620",
   "metadata": {},
   "outputs": [],
   "source": [
    "def inverse(x,a,b,c):\n",
    "    return a  / (x + b) + c"
   ]
  },
  {
   "cell_type": "code",
   "execution_count": 81,
   "id": "fe3c2d66-a8aa-4fb8-b089-e4e1f5176ab6",
   "metadata": {},
   "outputs": [],
   "source": [
    "fit_percent = []\n",
    "fit_bins = []\n",
    "for i in range(n_bins):\n",
    "    if(np.isnan(z_percent[i])):\n",
    "        continue\n",
    "    fit_percent.append(z_percent[i])\n",
    "    fit_bins.append(z_bin_centers_dis[i])"
   ]
  },
  {
   "cell_type": "code",
   "execution_count": 116,
   "id": "6708cade-1f94-467f-8708-bcda83cd722d",
   "metadata": {},
   "outputs": [],
   "source": [
    "popt_z, pcov_z = curve_fit(inverse,fit_bins,fit_percent)\n",
    "fit_x = np.linspace(25,1500,200)\n",
    "# z_fit = inverse(fit_x,*popt_z)\n",
    "z_fit = inverse(fit_x,494.98,9.9733,-0.16796)"
   ]
  },
  {
   "cell_type": "code",
   "execution_count": 117,
   "id": "db7a6424-241a-4d61-997e-64ed4c87c6a8",
   "metadata": {},
   "outputs": [
    {
     "data": {
      "text/plain": [
       "Text(0, 0.5, '% photons reaching sensor')"
      ]
     },
     "execution_count": 117,
     "metadata": {},
     "output_type": "execute_result"
    },
    {
     "data": {
      "image/png": "[encoded data removed]",
      "text/plain": [
       "<Figure size 432x288 with 1 Axes>"
      ]
     },
     "metadata": {
      "needs_background": "light"
     },
     "output_type": "display_data"
    }
   ],
   "source": [
    "fig_z, ax_z = plot.subplots(1,1)\n",
    "ax_z.plot(fit_x,z_fit, 'g--')\n",
    "fig_z.suptitle(\"z dependence of % photons reaching sensor\")\n",
    "ax_z.scatter(fit_bins,fit_percent,color=\"blue\", alpha = 0.7)\n",
    "ax_z.set_xlabel(\"distance from sensor\")\n",
    "ax_z.set_ylabel(\"% photons reaching sensor\")\n",
    "# fig_theta.legend()"
   ]
  },
  {
   "cell_type": "code",
   "execution_count": 101,
   "id": "68db9bbb-55c4-4907-8402-ab2229833a21",
   "metadata": {},
   "outputs": [
    {
     "data": {
      "text/plain": [
       "array([ 4.94980435e+02,  9.97331864e+00, -1.67969893e-01])"
      ]
     },
     "execution_count": 101,
     "metadata": {},
     "output_type": "execute_result"
    }
   ],
   "source": [
    "popt_z"
   ]
  },
  {
   "cell_type": "code",
   "execution_count": null,
   "id": "dbabe2b5-b91e-46ff-a5a9-0f9924a74f56",
   "metadata": {},
   "outputs": [],
   "source": []
  }
 ],
 "metadata": {
  "kernelspec": {
   "display_name": "Python 3",
   "language": "python",
   "name": "python3"
  },
  "language_info": {
   "codemirror_mode": {
    "name": "ipython",
    "version": 3
   },
   "file_extension": ".py",
   "mimetype": "text/x-python",
   "name": "python",
   "nbconvert_exporter": "python",
   "pygments_lexer": "ipython3",
   "version": "3.8.8"
  }
 },
 "nbformat": 4,
 "nbformat_minor": 5
}
