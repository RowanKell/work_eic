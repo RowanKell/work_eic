{
 "cells": [
  {
   "cell_type": "markdown",
   "id": "97963b47-d6b6-4f4a-b510-7743f4bc1ec2",
   "metadata": {},
   "source": [
    "# Notebook for looking at photon yield / percentage for diff theta, phi"
   ]
  },
  {
   "cell_type": "code",
   "execution_count": 1,
   "id": "e7479ba6-556e-4413-9054-ec96ab31f0eb",
   "metadata": {},
   "outputs": [],
   "source": [
    "#imports\n",
    "import numpy as np\n",
    "import uproot as up\n",
    "import pandas as pd\n",
    "import matplotlib.pyplot as plot\n",
    "from scipy.stats import norm\n",
    "from scipy.optimize import curve_fit\n",
    "import sympy\n",
    "from IPython.display import clear_output\n",
    "import math\n",
    "import time\n",
    "import util\n",
    "#My imports\n",
    "from util import PVect,get_layer,create_layer_map,theta_func,phi_func,findBin,bin_percent_theta_phi"
   ]
  },
  {
   "cell_type": "code",
   "execution_count": 29,
   "id": "61c5310b-5361-4235-a0af-c5f8831cc513",
   "metadata": {},
   "outputs": [],
   "source": [
    "particle = \"mu\"\n",
    "energy = \"5\"\n",
    "color_dict = {\n",
    "    \"pi\" : \"red\",\n",
    "    \"mu\" : \"blue\"\n",
    "}\n",
    "\n",
    "# uproot_path = f\"/cwork/rck32/eic/work_eic/root_files/June_13/one_sector/pi_5GeV_2k.edm4hep.root:events\"\n",
    "uproot_path = f\"/cwork/rck32/eic/work_eic/root_files/June_13/variation/full_{particle}_{energy}GeV_10k.edm4hep.root:events\"\n",
    "# uproot_path = f\"/cwork/rck32/eic/work_eic/root_files/June_14/variation/full_{particle}_{energy}GeV_1000.edm4hep.root:events\"\n",
    "events = up.open(uproot_path)\n",
    "\n",
    "x_pos_branch = events[\"HcalBarrelHits/HcalBarrelHits.position.x\"].array(library='np')\n",
    "EDep_branch = events[\"HcalBarrelHits.EDep\"].array(library='np')\n",
    "Pathlength_branch = events[\"HcalBarrelHits.pathLength\"].array(library='np')\n",
    "Hits_MC_idx_branch = events[\"_HcalBarrelHits_MCParticle.index\"].array(library='np')\n",
    "MC_parents = events[\"_MCParticles_parents.index\"].array(library='np')\n",
    "MC_daughters = events[\"MCParticles.daughters_end\"].array(library='np')\n",
    "PDG_branch = events[\"MCParticles.PDG\"].array(library='np')\n",
    "MC_endpoint_x_branch = events[\"MCParticles.endpoint.x\"].array(library='np')\n",
    "layer_map = [1830.8000, 1841.4000, 1907.5, 1918.1,1984.1999, 1994.8000, 2060.8999,2071.5,2137.6001,2148.1999,2214.3000,2224.8999,2291,2301.6001,2367.6999,2378.3000,2444.3999,2455,2521.1001,2531.6999,2597.8000,2608.3999,2674.5,2685.1001,2751.1999,2761.8000,2827.8999,2838.5]    \n",
    "\n",
    "MC_px = events[\"MCParticles.momentum.x\"].array(library='np')\n",
    "MC_py = events[\"MCParticles.momentum.y\"].array(library='np')\n",
    "MC_pz = events[\"MCParticles.momentum.z\"].array(library='np')\n",
    "MC_m = events[\"MCParticles.mass\"].array(library='np')"
   ]
  },
  {
   "cell_type": "code",
   "execution_count": null,
   "id": "34df734a-02fb-4bb6-bda5-4dfc1bfb7aae",
   "metadata": {},
   "outputs": [],
   "source": []
  },
  {
   "cell_type": "markdown",
   "id": "5d40876e-5796-4750-91a7-95f1cc1887b7",
   "metadata": {},
   "source": [
    "Idea: first find which super layer, then from there test if in first or second layer"
   ]
  },
  {
   "cell_type": "code",
   "execution_count": 30,
   "id": "7cdab47d-b72a-4dec-86db-b82b252eb435",
   "metadata": {},
   "outputs": [],
   "source": [
    "layer_map,super_layer_map = create_layer_map()"
   ]
  },
  {
   "cell_type": "markdown",
   "id": "01751a86-744d-4837-8951-871e32f65556",
   "metadata": {},
   "source": [
    "# Calculate % of photons hitting sensor for diff theta phi bins"
   ]
  },
  {
   "cell_type": "code",
   "execution_count": 130,
   "id": "9bff0e99-ee4e-402e-96e5-751e497041ce",
   "metadata": {},
   "outputs": [],
   "source": [
    "n_bins = 100\n",
    "\n",
    "theta_min = 68\n",
    "theta_max = 112\n",
    "phi_min = -22\n",
    "phi_max = 22\n",
    "\n",
    "theta_range = theta_max - theta_min\n",
    "phi_range = phi_max - phi_min\n",
    "\n",
    "phi_bins = np.linspace(phi_min,phi_max,n_bins+1)\n",
    "theta_bins = np.linspace(theta_min,theta_max,n_bins+1)"
   ]
  },
  {
   "cell_type": "code",
   "execution_count": null,
   "id": "bde8ce92-a74c-49f5-88a2-4b69b4921689",
   "metadata": {},
   "outputs": [],
   "source": [
    "#xpos binning\n",
    "x_max = "
   ]
  },
  {
   "cell_type": "code",
   "execution_count": 131,
   "id": "cce1b91d-0bd1-42eb-a03d-123db9559365",
   "metadata": {},
   "outputs": [],
   "source": [
    "#works only for evenly spaced bins\n",
    "def findBin(val,bins):\n",
    "    diff = bins[1] - bins[0]\n",
    "    rel_dist = val - bins[0]\n",
    "    mod = np.floor(rel_dist / diff)\n",
    "    return int(mod)"
   ]
  },
  {
   "cell_type": "code",
   "execution_count": 132,
   "id": "83e137c8-8355-4505-ae93-af3a1b044cf1",
   "metadata": {},
   "outputs": [
    {
     "name": "stdout",
     "output_type": "stream",
     "text": [
      "99% done\n"
     ]
    }
   ],
   "source": [
    "theta_percent = [[] for i in range(n_bins)]\n",
    "phi_percent = [[] for i in range(n_bins)]\n",
    "\n",
    "theta_MC = np.zeros(n_bins)\n",
    "phi_MC = np.zeros(n_bins)\n",
    "\n",
    "theta_hits = np.zeros(n_bins)\n",
    "phi_hits = np.zeros(n_bins)\n",
    "\n",
    "theta_counts = np.zeros(n_bins)\n",
    "phi_counts = np.zeros(n_bins)\n",
    "\n",
    "num_MC = 0\n",
    "num_hits = 0\n",
    "energy_dep = 0\n",
    "dep_count = 0\n",
    "hits_per_photon = []\n",
    "num_events = len(EDep_branch)\n",
    "break_val = 10000\n",
    "for event_idx in range(len(EDep_branch)):\n",
    "    if(not (event_idx % (break_val // 100))):\n",
    "        clear_output(wait = True)\n",
    "        print(f\"{event_idx // (break_val // 100)}% done\")\n",
    "#     if(event_idx > break_val):\n",
    "#         break\n",
    "    num_MC = 0\n",
    "    primary = PVect()\n",
    "    primary.setVector(MC_px[event_idx][0],MC_py[event_idx][0],MC_pz[event_idx][0],MC_m[event_idx][0])\n",
    "    phi_bin = findBin(primary.phi,phi_bins)\n",
    "    theta_bin = findBin(primary.theta,theta_bins)\n",
    "    phi_counts[phi_bin]+=1\n",
    "    theta_counts[theta_bin]+=1\n",
    "#     print(f\"theta, phi: {primary.theta}, {primary.phi} | px,pz = {primary.px,primary.pz} | theta, phi bins: {theta_bin},{phi_bin}\")\n",
    "    for i in range(len(PDG_branch[event_idx])):\n",
    "        if(PDG_branch[event_idx][i] == -22 and (i < MC_daughters[event_idx][0])):\n",
    "            theta_MC[theta_bin] += 1\n",
    "            phi_MC[phi_bin] += 1\n",
    "    for hit in range(len(EDep_branch[event_idx])):\n",
    "        #check if hit is from optph\n",
    "        if(PDG_branch[event_idx][Hits_MC_idx_branch[event_idx][hit]] == -22):\n",
    "            theta_hits[theta_bin] += 1\n",
    "            phi_hits[phi_bin] += 1\n",
    "for i in range(n_bins):\n",
    "    #if no MCParticles, then just set to -1\n",
    "    if(not len(theta_MC)):\n",
    "        theta_percent[i] = -1\n",
    "    else:\n",
    "        theta_percent[i] = (theta_hits[i] / theta_MC[i]) * 100\n",
    "    if(not len(phi_MC)):\n",
    "        phi_percent[i] = -1\n",
    "    else:\n",
    "        phi_percent[i] = (phi_hits[i] / phi_MC[i]) * 100"
   ]
  },
  {
   "cell_type": "code",
   "execution_count": 134,
   "id": "64d4f5e2-f6c4-4ddd-975c-86025d337362",
   "metadata": {},
   "outputs": [
    {
     "name": "stdout",
     "output_type": "stream",
     "text": [
      "bin #0: 111.0    |    89.0\n",
      "bin #1: 89.0    |    108.0\n",
      "bin #2: 95.0    |    105.0\n",
      "bin #3: 82.0    |    86.0\n",
      "bin #4: 105.0    |    85.0\n",
      "bin #5: 101.0    |    104.0\n",
      "bin #6: 98.0    |    99.0\n",
      "bin #7: 102.0    |    100.0\n",
      "bin #8: 103.0    |    109.0\n",
      "bin #9: 107.0    |    92.0\n",
      "bin #10: 102.0    |    110.0\n",
      "bin #11: 99.0    |    97.0\n",
      "bin #12: 113.0    |    108.0\n",
      "bin #13: 102.0    |    86.0\n",
      "bin #14: 122.0    |    88.0\n",
      "bin #15: 95.0    |    99.0\n",
      "bin #16: 98.0    |    104.0\n",
      "bin #17: 97.0    |    88.0\n",
      "bin #18: 95.0    |    119.0\n",
      "bin #19: 90.0    |    102.0\n",
      "bin #20: 118.0    |    79.0\n",
      "bin #21: 85.0    |    112.0\n",
      "bin #22: 88.0    |    106.0\n",
      "bin #23: 103.0    |    120.0\n",
      "bin #24: 89.0    |    99.0\n",
      "bin #25: 87.0    |    96.0\n",
      "bin #26: 101.0    |    96.0\n",
      "bin #27: 108.0    |    78.0\n",
      "bin #28: 90.0    |    117.0\n",
      "bin #29: 102.0    |    106.0\n",
      "bin #30: 97.0    |    108.0\n",
      "bin #31: 103.0    |    118.0\n",
      "bin #32: 102.0    |    111.0\n",
      "bin #33: 99.0    |    110.0\n",
      "bin #34: 114.0    |    84.0\n",
      "bin #35: 91.0    |    101.0\n",
      "bin #36: 111.0    |    102.0\n",
      "bin #37: 92.0    |    89.0\n",
      "bin #38: 110.0    |    120.0\n",
      "bin #39: 98.0    |    116.0\n",
      "bin #40: 96.0    |    104.0\n",
      "bin #41: 97.0    |    102.0\n",
      "bin #42: 110.0    |    100.0\n",
      "bin #43: 104.0    |    83.0\n",
      "bin #44: 80.0    |    102.0\n",
      "bin #45: 114.0    |    81.0\n",
      "bin #46: 105.0    |    114.0\n",
      "bin #47: 117.0    |    93.0\n",
      "bin #48: 113.0    |    112.0\n",
      "bin #49: 104.0    |    99.0\n",
      "bin #50: 109.0    |    108.0\n",
      "bin #51: 81.0    |    101.0\n",
      "bin #52: 105.0    |    107.0\n",
      "bin #53: 90.0    |    108.0\n",
      "bin #54: 96.0    |    79.0\n",
      "bin #55: 97.0    |    93.0\n",
      "bin #56: 103.0    |    98.0\n",
      "bin #57: 103.0    |    82.0\n",
      "bin #58: 109.0    |    102.0\n",
      "bin #59: 99.0    |    93.0\n",
      "bin #60: 98.0    |    94.0\n",
      "bin #61: 88.0    |    101.0\n",
      "bin #62: 107.0    |    101.0\n",
      "bin #63: 101.0    |    96.0\n",
      "bin #64: 121.0    |    105.0\n",
      "bin #65: 97.0    |    87.0\n",
      "bin #66: 118.0    |    104.0\n",
      "bin #67: 89.0    |    108.0\n",
      "bin #68: 93.0    |    107.0\n",
      "bin #69: 116.0    |    115.0\n",
      "bin #70: 111.0    |    125.0\n",
      "bin #71: 81.0    |    94.0\n",
      "bin #72: 93.0    |    103.0\n",
      "bin #73: 90.0    |    88.0\n",
      "bin #74: 86.0    |    98.0\n",
      "bin #75: 103.0    |    94.0\n",
      "bin #76: 99.0    |    101.0\n",
      "bin #77: 93.0    |    85.0\n",
      "bin #78: 94.0    |    101.0\n",
      "bin #79: 106.0    |    96.0\n",
      "bin #80: 102.0    |    102.0\n",
      "bin #81: 110.0    |    98.0\n",
      "bin #82: 100.0    |    105.0\n",
      "bin #83: 103.0    |    100.0\n",
      "bin #84: 102.0    |    102.0\n",
      "bin #85: 94.0    |    103.0\n",
      "bin #86: 89.0    |    114.0\n",
      "bin #87: 97.0    |    103.0\n",
      "bin #88: 106.0    |    112.0\n",
      "bin #89: 104.0    |    96.0\n",
      "bin #90: 108.0    |    98.0\n",
      "bin #91: 87.0    |    99.0\n",
      "bin #92: 91.0    |    104.0\n",
      "bin #93: 101.0    |    93.0\n",
      "bin #94: 110.0    |    92.0\n",
      "bin #95: 100.0    |    92.0\n",
      "bin #96: 106.0    |    95.0\n",
      "bin #97: 95.0    |    96.0\n",
      "bin #98: 98.0    |    89.0\n",
      "bin #99: 87.0    |    97.0\n"
     ]
    }
   ],
   "source": [
    "for i in range(len(phi_counts)):\n",
    "    print(f\"bin #{i}: {phi_counts[i]}    |    {theta_counts[i]}\")"
   ]
  },
  {
   "cell_type": "code",
   "execution_count": 135,
   "id": "58b31a08-c5ea-4e30-99d4-182142141dc7",
   "metadata": {},
   "outputs": [],
   "source": [
    "theta_bin_centers = np.empty(n_bins)\n",
    "phi_bin_centers = np.empty(n_bins)\n",
    "for i in range(len(theta_bins) - 1):\n",
    "    theta_bin_centers[i] = (theta_bins[i] + theta_bins[i+1]) / 2\n",
    "    phi_bin_centers[i] = (phi_bins[i] + phi_bins[i+1]) / 2"
   ]
  },
  {
   "cell_type": "code",
   "execution_count": 136,
   "id": "1591e738-c7c9-428c-9e63-134b191a7a1b",
   "metadata": {},
   "outputs": [
    {
     "data": {
      "image/png": "[encoded data removed]",
      "text/plain": [
       "<Figure size 720x288 with 2 Axes>"
      ]
     },
     "metadata": {
      "needs_background": "light"
     },
     "output_type": "display_data"
    }
   ],
   "source": [
    "fig, (ax1,ax2) = plot.subplots(1,2, figsize=(10,4))\n",
    "fig.suptitle(\"Percentage of photons reaching sensor as a fraction of total photons generated\")\n",
    "ax1.scatter(phi_bin_centers,phi_percent,color=\"red\")\n",
    "ax1.set_xlabel(\"phi (deg)\")\n",
    "ax1.set_ylabel(\"percentage\")\n",
    "ax2.scatter(theta_bin_centers,theta_percent,color = \"blue\")\n",
    "ax2.set_xlabel(\"theta (deg)\")\n",
    "fig.show()\n",
    "# fig.savefig(\"plots/percentage/June_14_mu_5GeV_10k_phi_theta_20_bins.jpeg\")"
   ]
  },
  {
   "cell_type": "markdown",
   "id": "8c3c0a40-e244-4658-ada3-9df677200263",
   "metadata": {},
   "source": [
    "Fitting theta-% distribution"
   ]
  },
  {
   "cell_type": "code",
   "execution_count": 137,
   "id": "101b40e7-c0c6-4ff7-9a7a-104f726741a8",
   "metadata": {},
   "outputs": [],
   "source": [
    "def exp_curve(x,a,b,c):\n",
    "    return a * np.exp(-x * b) + c\n",
    "def poly_8d(x,a,b,c,d,e,f,g,h,i):\n",
    "    return a * x ** 8 + b * x ** 7 + c * x ** 6 + d * x ** 5 + e * x ** 4 + f * x ** 3 + g * x ** 2 + h * x + i \n",
    "def poly_2d(x,a,b,c):\n",
    "    return a * x ** 2 + b * x + c\n",
    "def inverse(x,a,b,c):\n",
    "    return a  / (x + b) + c"
   ]
  },
  {
   "cell_type": "code",
   "execution_count": 138,
   "id": "6948c32a-67d1-4212-b345-a4ee49f4c35b",
   "metadata": {},
   "outputs": [],
   "source": [
    "popt_theta, pcov_theta = curve_fit(inverse,theta_bin_centers,theta_percent)"
   ]
  },
  {
   "cell_type": "code",
   "execution_count": 156,
   "id": "e3f4b407-9df4-4d07-80c6-bf237b9536be",
   "metadata": {},
   "outputs": [
    {
     "data": {
      "text/plain": [
       "Text(0, 0.5, '% photons reaching sensor')"
      ]
     },
     "execution_count": 156,
     "metadata": {},
     "output_type": "execute_result"
    },
    {
     "data": {
      "image/png": "[encoded data removed]",
      "text/plain": [
       "<Figure size 432x288 with 1 Axes>"
      ]
     },
     "metadata": {
      "needs_background": "light"
     },
     "output_type": "display_data"
    }
   ],
   "source": [
    "fig_theta, ax_theta = plot.subplots(1,1)\n",
    "ax_theta.plot(theta_bin_centers, inverse(theta_bin_centers,*popt_theta), 'g--')\n",
    "fig_theta.suptitle(\"Theta dependence of % photons reaching sensor\")\n",
    "ax_theta.scatter(theta_bin_centers,theta_percent,color=\"red\")\n",
    "ax_theta.set_xlabel(\"theta (deg)\")\n",
    "ax_theta.set_ylabel(\"% photons reaching sensor\")\n",
    "# fig_theta.legend()"
   ]
  },
  {
   "cell_type": "code",
   "execution_count": 157,
   "id": "6180d468-5b28-4798-808f-71878267286f",
   "metadata": {},
   "outputs": [],
   "source": [
    "popt_phi, pcov_phi = curve_fit(poly_2d,phi_bin_centers,phi_percent)"
   ]
  },
  {
   "cell_type": "code",
   "execution_count": 158,
   "id": "79f92516-c9c5-4eaf-af8b-f119308a9bb0",
   "metadata": {},
   "outputs": [
    {
     "data": {
      "text/plain": [
       "Text(0, 0.5, '% photons reaching sensor')"
      ]
     },
     "execution_count": 158,
     "metadata": {},
     "output_type": "execute_result"
    },
    {
     "data": {
      "image/png": "[encoded data removed]",
      "text/plain": [
       "<Figure size 432x288 with 1 Axes>"
      ]
     },
     "metadata": {
      "needs_background": "light"
     },
     "output_type": "display_data"
    }
   ],
   "source": [
    "fig_phi, ax_phi = plot.subplots(1,1)\n",
    "ax_phi.plot(phi_bin_centers, poly_2d(phi_bin_centers,*popt_phi), 'g--')\n",
    "fig_phi.suptitle(\"Phi dependence of % photons reaching sensor\")\n",
    "ax_phi.scatter(phi_bin_centers,phi_percent,color=\"red\")\n",
    "ax_phi.set_xlabel(\"phi (deg)\")\n",
    "ax_phi.set_ylabel(\"% photons reaching sensor\")\n",
    "# fig_phi.legend()"
   ]
  }
 ],
 "metadata": {
  "kernelspec": {
   "display_name": "Python 3",
   "language": "python",
   "name": "python3"
  },
  "language_info": {
   "codemirror_mode": {
    "name": "ipython",
    "version": 3
   },
   "file_extension": ".py",
   "mimetype": "text/x-python",
   "name": "python",
   "nbconvert_exporter": "python",
   "pygments_lexer": "ipython3",
   "version": "3.8.8"
  }
 },
 "nbformat": 4,
 "nbformat_minor": 5
}
