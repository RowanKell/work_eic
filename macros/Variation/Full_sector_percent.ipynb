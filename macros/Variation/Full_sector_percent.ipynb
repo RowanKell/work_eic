{
 "cells": [
  {
   "cell_type": "markdown",
   "id": "97963b47-d6b6-4f4a-b510-7743f4bc1ec2",
   "metadata": {},
   "source": [
    "# Notebook for looking at photon yield / percentage for diff theta, phi"
   ]
  },
  {
   "cell_type": "code",
   "execution_count": 1,
   "id": "e7479ba6-556e-4413-9054-ec96ab31f0eb",
   "metadata": {},
   "outputs": [
    {
     "name": "stdout",
     "output_type": "stream",
     "text": [
      "Using device cuda:0\n"
     ]
    }
   ],
   "source": [
    "#imports\n",
    "import numpy as np\n",
    "import uproot as up\n",
    "import pandas as pd\n",
    "import matplotlib.pyplot as plot\n",
    "from scipy.stats import norm\n",
    "from scipy.optimize import curve_fit\n",
    "import sympy\n",
    "from IPython.display import clear_output\n",
    "import math\n",
    "import time\n",
    "import util\n",
    "#My imports\n",
    "from util import PVect,get_layer,create_layer_map,theta_func,phi_func,findBin,bin_percent_theta_phi\n",
    "import os"
   ]
  },
  {
   "cell_type": "markdown",
   "id": "43823cdd-8b44-46a5-8f79-63514e2b9b9f",
   "metadata": {},
   "source": [
    "## Use this for single files"
   ]
  },
  {
   "cell_type": "code",
   "execution_count": 16,
   "id": "61c5310b-5361-4235-a0af-c5f8831cc513",
   "metadata": {},
   "outputs": [],
   "source": [
    "particle = \"mu\"\n",
    "energy = \"5\"\n",
    "color_dict = {\n",
    "    \"pi\" : \"red\",\n",
    "    \"mu\" : \"blue\"\n",
    "}\n",
    "\n",
    "#full sector test\n",
    "# uproot_path = f\"/cwork/rck32/eic/work_eic/root_files/July_16/optph_full_sector/mu_5GeV_10events_theta_90.edm4hep.root:events\"\n",
    "\n",
    "\n",
    "#Used to fit curve\n",
    "# uproot_path = f\"/cwork/rck32/eic/work_eic/root_files/June_13/variation/full_{particle}_{energy}GeV_10k.edm4hep.root:events\"\n",
    "\n",
    "# uproot_path = f\"/cwork/rck32/eic/work_eic/root_files/June_14/variation/full_{particle}_{energy}GeV_1000.edm4hep.root:events\"\n",
    "# uproot_path = f\"/cwork/rck32/eic/work_eic/root_files/June_13/one_sector/pi_5GeV_2k.edm4hep.root:events\"\n",
    "# events = up.open(uproot_path)\n",
    "\n",
    "x_pos_branch = events[\"HcalBarrelHits/HcalBarrelHits.position.x\"].array(library='np')\n",
    "EDep_branch = events[\"HcalBarrelHits.EDep\"].array(library='np')\n",
    "Pathlength_branch = events[\"HcalBarrelHits.pathLength\"].array(library='np')\n",
    "Hits_MC_idx_branch = events[\"_HcalBarrelHits_MCParticle.index\"].array(library='np')\n",
    "MC_parents = events[\"_MCParticles_parents.index\"].array(library='np')\n",
    "MC_daughters = events[\"MCParticles.daughters_end\"].array(library='np')\n",
    "PDG_branch = events[\"MCParticles.PDG\"].array(library='np')\n",
    "MC_endpoint_x_branch = events[\"MCParticles.endpoint.x\"].array(library='np')\n",
    "\n",
    "time_branch = events[\"HcalBarrelHits.time\"].array(library='np')\n",
    "layer_map = [1830.8000, 1841.4000, 1907.5, 1918.1,1984.1999, 1994.8000, 2060.8999,2071.5,2137.6001,2148.1999,2214.3000,2224.8999,2291,2301.6001,2367.6999,2378.3000,2444.3999,2455,2521.1001,2531.6999,2597.8000,2608.3999,2674.5,2685.1001,2751.1999,2761.8000,2827.8999,2838.5]    \n",
    "\n",
    "MC_px = events[\"MCParticles.momentum.x\"].array(library='np')\n",
    "MC_py = events[\"MCParticles.momentum.y\"].array(library='np')\n",
    "MC_pz = events[\"MCParticles.momentum.z\"].array(library='np')\n",
    "MC_m = events[\"MCParticles.mass\"].array(library='np')\n",
    "MC_vertex_x = events[\"MCParticles.vertex.x\"].array(library='np')"
   ]
  },
  {
   "cell_type": "markdown",
   "id": "df09ab76-bfbc-4480-8a10-713376e86c0c",
   "metadata": {},
   "source": [
    "## Use this for multiple files"
   ]
  },
  {
   "cell_type": "code",
   "execution_count": 2,
   "id": "34df734a-02fb-4bb6-bda5-4dfc1bfb7aae",
   "metadata": {},
   "outputs": [],
   "source": [
    "branch_list = [\"HcalBarrelHits.position.x\",\"HcalBarrelHits.EDep\",\"HcalBarrelHits.pathLength\",\"_HcalBarrelHits_MCParticle.index\",\"_MCParticles_parents.index\",\"MCParticles.daughters_end\",\"MCParticles.PDG\",\"MCParticles.endpoint.x\",\"MCParticles.momentum.x\",\"MCParticles.momentum.y\",\"MCParticles.momentum.z\",\"MCParticles.mass\",\"MCParticles.vertex.x\",\"HcalBarrelHits.time\"]\n",
    "file_dir = f\"/cwork/rck32/eic/work_eic/root_files/July_16/test/\"\n",
    "# num_files = len([name for name in os.listdir(file_dir) if not os.path.isdir(name)])\n",
    "# file_names = [name for name in os.listdir(file_dir) if not os.path.isdir(name)]\n",
    "tree_ext = \":events\"\n",
    "events = up.concatenate(file_dir + \"*\" + tree_ext)\n",
    "\n",
    "\n",
    "# for i in range(num_files):\n",
    "#     if(i == 0):\n",
    "#         events = up.open(file_dir + file_names[i] + tree_ext).arrays(branch_list,library=\"np\")\n",
    "#     else:\n",
    "#         if(i > 0):\n",
    "#             break\n",
    "#         events = pd.concat([events,up.open(file_dir + file_names[i] + tree_ext).arrays(branch_list,library=\"np\")],ignore_index = True)\n"
   ]
  },
  {
   "cell_type": "code",
   "execution_count": 13,
   "id": "d66c75a3-6f24-40dd-90bb-a0f4b98c3dce",
   "metadata": {},
   "outputs": [],
   "source": [
    "x_pos_branch = events[\"HcalBarrelHits.position.x\"]\n",
    "EDep_branch = events[\"HcalBarrelHits.EDep\"]\n",
    "Pathlength_branch = events[\"HcalBarrelHits.pathLength\"]\n",
    "Hits_MC_idx_branch = events[\"_HcalBarrelHits_MCParticle.index\"]\n",
    "MC_parents = events[\"_MCParticles_parents.index\"]\n",
    "MC_daughters = events[\"MCParticles.daughters_end\"]\n",
    "PDG_branch = events[\"MCParticles.PDG\"]\n",
    "MC_endpoint_x_branch = events[\"MCParticles.endpoint.x\"]\n",
    "\n",
    "time_branch = events[\"HcalBarrelHits.time\"]\n",
    "\n",
    "MC_px = events[\"MCParticles.momentum.x\"]\n",
    "MC_py = events[\"MCParticles.momentum.y\"]\n",
    "MC_pz = events[\"MCParticles.momentum.z\"]\n",
    "MC_m = events[\"MCParticles.mass\"]\n",
    "MC_vertex_x = events[\"MCParticles.vertex.x\"]"
   ]
  },
  {
   "cell_type": "markdown",
   "id": "5d40876e-5796-4750-91a7-95f1cc1887b7",
   "metadata": {},
   "source": [
    "Idea: first find which super layer, then from there test if in first or second layer"
   ]
  },
  {
   "cell_type": "code",
   "execution_count": 14,
   "id": "7cdab47d-b72a-4dec-86db-b82b252eb435",
   "metadata": {},
   "outputs": [],
   "source": [
    "layer_map,super_layer_map = create_layer_map()"
   ]
  },
  {
   "cell_type": "markdown",
   "id": "4c509e00-4744-4174-be67-19bad7172847",
   "metadata": {},
   "source": [
    "# % photons as function of z hit pos"
   ]
  },
  {
   "cell_type": "code",
   "execution_count": 28,
   "id": "862e560e-22ec-4b6a-82b6-9a23832f1ae5",
   "metadata": {},
   "outputs": [
    {
     "name": "stdout",
     "output_type": "stream",
     "text": [
      "0.0% done\n",
      "took 1692561153.1719387 minutes\n"
     ]
    }
   ],
   "source": [
    "num_events = len(EDep_branch)\n",
    "\n",
    "pixels_per_event = np.zeros(num_events)\n",
    "\n",
    "PDG_per_event = np.zeros(num_events)\n",
    "\n",
    "times = []\n",
    "\n",
    "break_val = 10\n",
    "begin_time = time.time()\n",
    "for event_idx in range(len(EDep_branch)):\n",
    "    if(event_idx > break_val):\n",
    "        break\n",
    "    if(not (event_idx % (break_val / 100))):\n",
    "        clear_output(wait = True)\n",
    "        print(f\"{event_idx / (break_val / 100)}% done\")\n",
    "    num_MC = 0\n",
    "    for i in range(len(PDG_branch[event_idx])):\n",
    "        if(PDG_branch[event_idx][i] == -22):\n",
    "            PDG_per_event[event_idx]+=1\n",
    "    for hit in range(len(EDep_branch[event_idx])):\n",
    "        #check if hit is from optph\n",
    "        if(PDG_branch[event_idx][Hits_MC_idx_branch[event_idx][hit]] == -22):\n",
    "            pixels_per_event[event_idx]+=1\n",
    "            times.append(time_branch[event_idx][hit])\n",
    "end_time = time.time()\n",
    "print(f\"took {(end_time - begin_time) / 60} minutes\")"
   ]
  },
  {
   "cell_type": "code",
   "execution_count": 29,
   "id": "fd10e505-cf26-4491-a1e7-113a5152c7f5",
   "metadata": {},
   "outputs": [
    {
     "data": {
      "text/plain": [
       "0.1826196738171815"
      ]
     },
     "execution_count": 29,
     "metadata": {},
     "output_type": "execute_result"
    }
   ],
   "source": [
    "sum(pixels_per_event) / sum(PDG_per_event)"
   ]
  },
  {
   "cell_type": "code",
   "execution_count": 34,
   "id": "ed03d72a-d6f0-4ef1-a03e-3382521c8b94",
   "metadata": {},
   "outputs": [
    {
     "data": {
      "text/plain": [
       "1390670"
      ]
     },
     "execution_count": 34,
     "metadata": {},
     "output_type": "execute_result"
    }
   ],
   "source": [
    "len(times)"
   ]
  },
  {
   "cell_type": "code",
   "execution_count": 35,
   "id": "da4fa1de-71b8-44b2-a031-6e3f77ad6ba9",
   "metadata": {},
   "outputs": [
    {
     "data": {
      "image/png": "[encoded data removed]",
      "text/plain": [
       "<Figure size 432x288 with 1 Axes>"
      ]
     },
     "metadata": {
      "needs_background": "light"
     },
     "output_type": "display_data"
    }
   ],
   "source": [
    "plot.hist(times,bins = 100);"
   ]
  },
  {
   "cell_type": "code",
   "execution_count": null,
   "id": "7bd3b1aa-80b8-4bbc-adc1-9b4933e5bdd8",
   "metadata": {},
   "outputs": [],
   "source": [
    "pixels_per_event.mean()"
   ]
  },
  {
   "cell_type": "code",
   "execution_count": 28,
   "id": "e7d4c223-6791-4b63-aba1-d409669973d2",
   "metadata": {},
   "outputs": [
    {
     "name": "stdout",
     "output_type": "stream",
     "text": [
      "rate of sim: 1818.1818181818182 | rate of NF: 74000.0\n"
     ]
    }
   ],
   "source": [
    "MC_pps = 100000 / 55 #pixels per second\n",
    "NF_pps = 74000 / 1\n",
    "print(f\"rate of sim: {MC_pps} | rate of NF: {NF_pps}\")"
   ]
  },
  {
   "cell_type": "code",
   "execution_count": 9,
   "id": "2efcb997-d4d0-4383-868a-36ccebe24125",
   "metadata": {},
   "outputs": [],
   "source": [
    "z_bin_centers = np.empty(n_bins)\n",
    "for i in range(len(z_bins) - 1):\n",
    "    z_bin_centers[i] = (z_bins[i] + z_bins[i+1]) / 2\n",
    "z_bin_centers_dis = 770 - z_bin_centers    "
   ]
  },
  {
   "cell_type": "code",
   "execution_count": 10,
   "id": "81f4d383-bc31-4587-8da1-12fa3dfedc92",
   "metadata": {},
   "outputs": [
    {
     "data": {
      "image/png": "[encoded data removed]",
      "text/plain": [
       "<Figure size 360x360 with 1 Axes>"
      ]
     },
     "metadata": {
      "needs_background": "light"
     },
     "output_type": "display_data"
    }
   ],
   "source": [
    "fig, ax1 = plot.subplots(1,1, figsize=(5,5))\n",
    "fig.suptitle(\"Percentage of photons reaching sensor as a fraction of total photons generated\")\n",
    "ax1.set_ylabel(\"percentage\")\n",
    "ax1.scatter(z_bin_centers_dis,z_percent,color = \"blue\")\n",
    "ax1.set_xlabel(\"z (distance from sensor)\")\n",
    "fig.show()\n",
    "# fig.savefig(\"plots/percentage/June_14_mu_5GeV_10k_phi_theta_20_bins.jpeg\")"
   ]
  },
  {
   "cell_type": "code",
   "execution_count": 14,
   "id": "c395963e-eca7-4a0c-85d2-792885027620",
   "metadata": {},
   "outputs": [],
   "source": [
    "def inverse(x,a,b,c):\n",
    "    return a  / (x + b) + c"
   ]
  },
  {
   "cell_type": "code",
   "execution_count": 15,
   "id": "fe3c2d66-a8aa-4fb8-b089-e4e1f5176ab6",
   "metadata": {},
   "outputs": [],
   "source": [
    "fit_percent = []\n",
    "fit_bins = []\n",
    "for i in range(n_bins):\n",
    "    if(np.isnan(z_percent[i])):\n",
    "        continue\n",
    "    fit_percent.append(z_percent[i])\n",
    "    fit_bins.append(z_bin_centers_dis[i])"
   ]
  },
  {
   "cell_type": "code",
   "execution_count": 16,
   "id": "6708cade-1f94-467f-8708-bcda83cd722d",
   "metadata": {},
   "outputs": [],
   "source": [
    "popt_z, pcov_z = curve_fit(inverse,fit_bins,fit_percent)\n",
    "fit_x = np.linspace(25,1500,200)\n",
    "# z_fit = inverse(fit_x,*popt_z)\n",
    "z_fit = inverse(fit_x,494.98,9.9733,-0.16796)"
   ]
  },
  {
   "cell_type": "code",
   "execution_count": 37,
   "id": "db7a6424-241a-4d61-997e-64ed4c87c6a8",
   "metadata": {},
   "outputs": [
    {
     "data": {
      "text/plain": [
       "<matplotlib.legend.Legend at 0x7f1ca1cbca60>"
      ]
     },
     "execution_count": 37,
     "metadata": {},
     "output_type": "execute_result"
    },
    {
     "data": {
      "image/png": "[encoded data removed]",
      "text/plain": [
       "<Figure size 576x432 with 1 Axes>"
      ]
     },
     "metadata": {
      "needs_background": "light"
     },
     "output_type": "display_data"
    }
   ],
   "source": [
    "fig_z, ax_z = plot.subplots(1,1, figsize = (8,6))\n",
    "ax_z.plot(fit_x,z_fit, 'r--',label='fit: a=%5.3f, b=%5.3f, c=%5.3f' % tuple(popt_z))\n",
    "fig_z.suptitle(\"z dependence of % photons reaching sensor\")\n",
    "ax_z.scatter(fit_bins,fit_percent,color=\"blue\", alpha = 0.7)\n",
    "ax_z.set_xlabel(\"distance from sensor\")\n",
    "ax_z.set_ylabel(\"% photons reaching sensor\")\n",
    "fig_z.legend(bbox_to_anchor=(0.8, 0.8))"
   ]
  },
  {
   "cell_type": "code",
   "execution_count": 18,
   "id": "68db9bbb-55c4-4907-8402-ab2229833a21",
   "metadata": {},
   "outputs": [
    {
     "data": {
      "text/plain": [
       "array([ 4.94980435e+02,  9.97331864e+00, -1.67969893e-01])"
      ]
     },
     "execution_count": 18,
     "metadata": {},
     "output_type": "execute_result"
    }
   ],
   "source": [
    "popt_z"
   ]
  },
  {
   "cell_type": "code",
   "execution_count": null,
   "id": "dbabe2b5-b91e-46ff-a5a9-0f9924a74f56",
   "metadata": {},
   "outputs": [],
   "source": []
  }
 ],
 "metadata": {
  "kernelspec": {
   "display_name": "Python 3",
   "language": "python",
   "name": "python3"
  },
  "language_info": {
   "codemirror_mode": {
    "name": "ipython",
    "version": 3
   },
   "file_extension": ".py",
   "mimetype": "text/x-python",
   "name": "python",
   "nbconvert_exporter": "python",
   "pygments_lexer": "ipython3",
   "version": "3.8.8"
  }
 },
 "nbformat": 4,
 "nbformat_minor": 5
}
