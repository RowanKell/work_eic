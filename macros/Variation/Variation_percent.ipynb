{
 "cells": [
  {
   "cell_type": "markdown",
   "id": "97963b47-d6b6-4f4a-b510-7743f4bc1ec2",
   "metadata": {},
   "source": [
    "# Notebook for looking at photon yield / percentage for diff theta, phi"
   ]
  },
  {
   "cell_type": "code",
   "execution_count": 3,
   "id": "e7479ba6-556e-4413-9054-ec96ab31f0eb",
   "metadata": {},
   "outputs": [
    {
     "name": "stdout",
     "output_type": "stream",
     "text": [
      "Using device cuda:0\n"
     ]
    }
   ],
   "source": [
    "#imports\n",
    "import numpy as np\n",
    "import uproot as up\n",
    "import pandas as pd\n",
    "import matplotlib.pyplot as plot\n",
    "from scipy.stats import norm\n",
    "from scipy.optimize import curve_fit\n",
    "import sympy\n",
    "from IPython.display import clear_output\n",
    "import math\n",
    "import time\n",
    "import util\n",
    "import multiprocessing\n",
    "import time\n",
    "#My imports\n",
    "from util import PVect,get_layer,create_layer_map,theta_func,phi_func,findBin,bin_percent_theta_phi\n",
    "import os"
   ]
  },
  {
   "cell_type": "code",
   "execution_count": 4,
   "id": "a6a1a5fe-dad1-4fb7-b3b8-361d341a72d5",
   "metadata": {},
   "outputs": [],
   "source": [
    "groupdir_pref = \"/hpc/group/vossenlab/rck32/\""
   ]
  },
  {
   "cell_type": "code",
   "execution_count": 5,
   "id": "63950dc5-f42c-4dc4-9cbf-5cebb5cec71e",
   "metadata": {},
   "outputs": [],
   "source": [
    "layer_map,super_layer_map = create_layer_map()\n",
    "n_bins = 10\n",
    "\n",
    "z_min = -770\n",
    "z_max = 770\n",
    "\n",
    "z_bins = np.linspace(z_min,z_max,n_bins+1)\n",
    "#calc z hit pos from x pos, px pz\n",
    "def dz_func(dx, px, pz):\n",
    "    return dx * pz / px\n",
    "#works only for evenly spaced bins\n",
    "def findBin(val,bins):\n",
    "    diff = bins[1] - bins[0]\n",
    "    rel_dist = val - bins[0]\n",
    "    mod = np.floor(rel_dist / diff)\n",
    "    return int(mod)\n",
    "z_bin_centers = np.empty(n_bins)\n",
    "for i in range(len(z_bins) - 1):\n",
    "    z_bin_centers[i] = (z_bins[i] + z_bins[i+1]) / 2\n",
    "z_bin_centers_dis = 770 - z_bin_centers    "
   ]
  },
  {
   "cell_type": "markdown",
   "id": "4c509e00-4744-4174-be67-19bad7172847",
   "metadata": {},
   "source": [
    "# % photons as function of z hit pos"
   ]
  },
  {
   "cell_type": "markdown",
   "id": "43823cdd-8b44-46a5-8f79-63514e2b9b9f",
   "metadata": {},
   "source": [
    "## Use this for single files"
   ]
  },
  {
   "cell_type": "code",
   "execution_count": 6,
   "id": "bfa9b991-33a3-4551-8e5f-20e0102fcf5c",
   "metadata": {},
   "outputs": [],
   "source": [
    "particle = \"mu\"\n",
    "energy = \"5\"\n",
    "color_dict = {\n",
    "    \"pi\" : \"red\",\n",
    "    \"mu\" : \"blue\"\n",
    "}\n",
    "\n",
    "#Sept 5th 2024: New data for fitting curve and double checking relationship:\n",
    "def extract_photon_per_energy(uproot_path):\n",
    "    print(\"starting process\")\n",
    "    events = up.open(uproot_path)\n",
    "\n",
    "    x_pos_branch = events[\"HcalBarrelHits/HcalBarrelHits.position.x\"].array(library='np')\n",
    "    EDep_branch = events[\"HcalBarrelHits.EDep\"].array(library='np')\n",
    "    Pathlength_branch = events[\"HcalBarrelHits.pathLength\"].array(library='np')\n",
    "    Hits_MC_idx_branch = events[\"_HcalBarrelHits_MCParticle.index\"].array(library='np')\n",
    "    MC_parents = events[\"_MCParticles_parents.index\"].array(library='np')\n",
    "    MC_daughters = events[\"MCParticles.daughters_end\"].array(library='np')\n",
    "    PDG_branch = events[\"MCParticles.PDG\"].array(library='np')\n",
    "    MC_endpoint_x_branch = events[\"MCParticles.endpoint.x\"].array(library='np')\n",
    "\n",
    "    time_branch = events[\"HcalBarrelHits.time\"].array(library='np')\n",
    "    layer_map = [1830.8000, 1841.4000, 1907.5, 1918.1,1984.1999, 1994.8000, 2060.8999,2071.5,2137.6001,2148.1999,2214.3000,2224.8999,2291,2301.6001,2367.6999,2378.3000,2444.3999,2455,2521.1001,2531.6999,2597.8000,2608.3999,2674.5,2685.1001,2751.1999,2761.8000,2827.8999,2838.5]    \n",
    "\n",
    "    MC_px = events[\"MCParticles.momentum.x\"].array(library='np')\n",
    "    MC_py = events[\"MCParticles.momentum.y\"].array(library='np')\n",
    "    MC_pz = events[\"MCParticles.momentum.z\"].array(library='np')\n",
    "    MC_m = events[\"MCParticles.mass\"].array(library='np')\n",
    "    MC_vertex_x = events[\"MCParticles.vertex.x\"].array(library='np')\n",
    "    MC_vertex_z = events[\"MCParticles.vertex.z\"].array(library='np')\n",
    "    print(\"loaded all branches\")\n",
    "\n",
    "\n",
    "    z_percent = np.zeros(n_bins)\n",
    "    num_events = len(EDep_branch)\n",
    "\n",
    "    z_MC = np.zeros(n_bins)\n",
    "\n",
    "    z_hits = np.zeros(n_bins)\n",
    "\n",
    "    num_MC = 0\n",
    "    num_hits = 0\n",
    "    energy_dep = 0\n",
    "    dep_count = 0\n",
    "    hits_per_photon = []\n",
    "    break_val = 1000\n",
    "    \n",
    "    edep_array = np.zeros(len(EDep_branch))\n",
    "    photons_per_event = np.zeros(len(EDep_branch))\n",
    "    \n",
    "    print(\"starting loop\")\n",
    "    for event_idx in range(len(EDep_branch)):\n",
    "        if(not (event_idx % (break_val // 100))):\n",
    "            clear_output(wait = True)\n",
    "            print(f\"{event_idx // (break_val // 100)}% done\")\n",
    "        num_MC = 0\n",
    "        primary = PVect()\n",
    "        primary.setVector(MC_px[event_idx][0],MC_py[event_idx][0],MC_pz[event_idx][0],MC_m[event_idx][0])\n",
    "        dx = 1770 - MC_vertex_x[event_idx][0]  #first layer at approx 1770\n",
    "        z_hit_pos = dz_func(dx,primary.px,primary.pz) + MC_vertex_z[event_idx][0]\n",
    "        for i in range(len(PDG_branch[event_idx])):\n",
    "            if(PDG_branch[event_idx][i] == -22 and (i < MC_daughters[event_idx][0])):\n",
    "                photons_per_event[event_idx] += 1\n",
    "        for hit in range(len(EDep_branch[event_idx])):\n",
    "            if(Hits_MC_idx_branch[event_idx][hit] == 0):\n",
    "                edep_array[event_idx] += EDep_branch[event_idx][hit]\n",
    "        if(event_idx > break_val):\n",
    "            break\n",
    "    return photons_per_event, edep_array"
   ]
  },
  {
   "cell_type": "code",
   "execution_count": 7,
   "id": "6e1a4b61-8193-4384-a196-c50b8ebaeaf5",
   "metadata": {},
   "outputs": [],
   "source": [
    "#Sept 5th 2024: New data for fitting curve and double checking relationship:\n",
    "def extract_photon_yield_one_file(uproot_path):\n",
    "    print(\"starting process\")\n",
    "    events = up.open(uproot_path)\n",
    "\n",
    "    x_pos_branch = events[\"HcalBarrelHits/HcalBarrelHits.position.x\"].array(library='np')\n",
    "    EDep_branch = events[\"HcalBarrelHits.EDep\"].array(library='np')\n",
    "    Pathlength_branch = events[\"HcalBarrelHits.pathLength\"].array(library='np')\n",
    "    Hits_MC_idx_branch = events[\"_HcalBarrelHits_MCParticle.index\"].array(library='np')\n",
    "    MC_parents = events[\"_MCParticles_parents.index\"].array(library='np')\n",
    "    MC_daughters = events[\"MCParticles.daughters_end\"].array(library='np')\n",
    "    PDG_branch = events[\"MCParticles.PDG\"].array(library='np')\n",
    "    MC_endpoint_x_branch = events[\"MCParticles.endpoint.x\"].array(library='np')\n",
    "\n",
    "    time_branch = events[\"HcalBarrelHits.time\"].array(library='np')\n",
    "    layer_map = [1830.8000, 1841.4000, 1907.5, 1918.1,1984.1999, 1994.8000, 2060.8999,2071.5,2137.6001,2148.1999,2214.3000,2224.8999,2291,2301.6001,2367.6999,2378.3000,2444.3999,2455,2521.1001,2531.6999,2597.8000,2608.3999,2674.5,2685.1001,2751.1999,2761.8000,2827.8999,2838.5]    \n",
    "\n",
    "    MC_px = events[\"MCParticles.momentum.x\"].array(library='np')\n",
    "    MC_py = events[\"MCParticles.momentum.y\"].array(library='np')\n",
    "    MC_pz = events[\"MCParticles.momentum.z\"].array(library='np')\n",
    "    MC_m = events[\"MCParticles.mass\"].array(library='np')\n",
    "    MC_vertex_x = events[\"MCParticles.vertex.x\"].array(library='np')\n",
    "    MC_vertex_z = events[\"MCParticles.vertex.z\"].array(library='np')\n",
    "    print(\"loaded all branches\")\n",
    "\n",
    "\n",
    "    z_percent = np.zeros(n_bins)\n",
    "    num_events = len(EDep_branch)\n",
    "\n",
    "    z_MC = np.zeros(n_bins)\n",
    "\n",
    "    z_hits = np.zeros(n_bins)\n",
    "\n",
    "    num_MC = 0\n",
    "    num_hits = 0\n",
    "    energy_dep = 0\n",
    "    dep_count = 0\n",
    "    hits_per_photon = []\n",
    "    break_val = 1000\n",
    "    print(\"starting loop\")\n",
    "    for event_idx in range(len(EDep_branch)):\n",
    "        if(not (event_idx % (break_val // 100))):\n",
    "            clear_output(wait = True)\n",
    "            print(f\"{event_idx // (break_val // 100)}% done\")\n",
    "        num_MC = 0\n",
    "        primary = PVect()\n",
    "        primary.setVector(MC_px[event_idx][0],MC_py[event_idx][0],MC_pz[event_idx][0],MC_m[event_idx][0])\n",
    "        dx = 1770 - MC_vertex_x[event_idx][0]  #first layer at approx 1770\n",
    "        z_hit_pos = dz_func(dx,primary.px,primary.pz) + MC_vertex_z[event_idx][0]\n",
    "        z_bin = findBin(z_hit_pos,z_bins)\n",
    "        for i in range(len(PDG_branch[event_idx])):\n",
    "            if(PDG_branch[event_idx][i] == -22 and (i < MC_daughters[event_idx][0])):\n",
    "                z_MC[z_bin] += 1\n",
    "        for hit in range(len(EDep_branch[event_idx])):\n",
    "            if(PDG_branch[event_idx][Hits_MC_idx_branch[event_idx][hit]] == -22):\n",
    "                z_hits[z_bin] += 1\n",
    "        if(event_idx > break_val):\n",
    "            break\n",
    "    return z_hits, z_MC"
   ]
  },
  {
   "cell_type": "code",
   "execution_count": 9,
   "id": "be362805-c4a9-4ba0-9a9b-44187c13b8a6",
   "metadata": {},
   "outputs": [
    {
     "name": "stdout",
     "output_type": "stream",
     "text": [
      "49% done\n",
      "0.012018734902909804\n"
     ]
    }
   ],
   "source": [
    "uproot_file_dir = groupdir_pref + \"eic/work_eic/root_files/test/\"\n",
    "\n",
    "output = extract_photon_yield_one_file(uproot_file_dir + f\"mu_w_medium_QE.edm4hep.root:events\")\n",
    "\n",
    "print(sum(output[0]) / sum(output[1]))"
   ]
  },
  {
   "cell_type": "code",
   "execution_count": 10,
   "id": "769d5e7c-68d7-4720-bfa0-7c0ac3e8e83c",
   "metadata": {},
   "outputs": [
    {
     "data": {
      "text/plain": [
       "(array([ 328.,  396.,  183.,  416.,  646.,  668.,  602.,  588., 1953.,\n",
       "        7679.]),\n",
       " array([143447., 157365.,  69994.,  73198., 163496., 135451.,  81903.,\n",
       "         58870., 106712., 129399.]))"
      ]
     },
     "execution_count": 10,
     "metadata": {},
     "output_type": "execute_result"
    }
   ],
   "source": [
    "output"
   ]
  },
  {
   "cell_type": "markdown",
   "id": "f1b29d39-d25d-4fdf-8dfc-fcdec750d8ad",
   "metadata": {},
   "source": [
    "Below is the photon yield for QE divided by 10 (should be low)"
   ]
  },
  {
   "cell_type": "code",
   "execution_count": 93,
   "id": "3aa2d655-13a5-4cd1-a0b2-1bdda0a1137f",
   "metadata": {
    "tags": []
   },
   "outputs": [
    {
     "name": "stdout",
     "output_type": "stream",
     "text": [
      "49% done\n",
      "0.01850734258700463\n"
     ]
    }
   ],
   "source": [
    "uproot_file_dir = groupdir_pref + \"eic/work_eic/root_files/test/\"\n",
    "\n",
    "output = extract_photon_yield_one_file(uproot_file_dir + f\"mu_w_low_QE.edm4hep.root:events\")\n",
    "\n",
    "print(sum(output[0]) / sum(output[1]))"
   ]
  },
  {
   "cell_type": "code",
   "execution_count": 94,
   "id": "980d0808-2402-4ce8-b315-1678262cecd9",
   "metadata": {},
   "outputs": [
    {
     "data": {
      "text/plain": [
       "(array([  22.,   29.,   36.,   36.,   45.,   50.,   82.,  174.,  347.,\n",
       "        1939.]),\n",
       " array([11315., 17424., 13226., 11662., 12142., 11431., 10307., 18591.,\n",
       "        19165., 23867.]))"
      ]
     },
     "execution_count": 94,
     "metadata": {},
     "output_type": "execute_result"
    }
   ],
   "source": [
    "output"
   ]
  },
  {
   "cell_type": "code",
   "execution_count": 95,
   "id": "68319685-e910-4fe3-8cd1-a16878ee4908",
   "metadata": {},
   "outputs": [
    {
     "name": "stdout",
     "output_type": "stream",
     "text": [
      "49% done\n",
      "0.015647168019379144\n"
     ]
    }
   ],
   "source": [
    "uproot_file_dir = groupdir_pref + \"eic/work_eic/root_files/test/\"\n",
    "\n",
    "output = extract_photon_yield_one_file(uproot_file_dir + f\"mu_w_medium_QE_sensor.edm4hep.root:events\")\n",
    "\n",
    "print(sum(output[0]) / sum(output[1]))"
   ]
  },
  {
   "cell_type": "code",
   "execution_count": 96,
   "id": "60c5222c-cdab-4641-a6bb-65adfd514c1f",
   "metadata": {},
   "outputs": [
    {
     "data": {
      "text/plain": [
       "(array([  238.,   585.,   613.,   584.,  1465.,  1343.,  1171.,  2072.,\n",
       "         2972., 23786.]),\n",
       " array([105682., 252245., 229986., 158698., 358764., 262527., 165459.,\n",
       "        231251., 157423., 303863.]))"
      ]
     },
     "execution_count": 96,
     "metadata": {},
     "output_type": "execute_result"
    }
   ],
   "source": [
    "output"
   ]
  },
  {
   "cell_type": "code",
   "execution_count": 97,
   "id": "91a9d9ad-b8b8-43ac-b92a-2e620fbd7750",
   "metadata": {},
   "outputs": [
    {
     "name": "stdout",
     "output_type": "stream",
     "text": [
      "49% done\n",
      "0.015812821048264952\n"
     ]
    }
   ],
   "source": [
    "uproot_file_dir = groupdir_pref + \"eic/work_eic/root_files/test/\"\n",
    "\n",
    "output = extract_photon_yield_one_file(uproot_file_dir + f\"mu_w_low_QE_sensor.edm4hep.root:events\")\n",
    "\n",
    "print(sum(output[0]) / sum(output[1]))"
   ]
  },
  {
   "cell_type": "code",
   "execution_count": 98,
   "id": "16f9368b-946a-4591-8550-22696b1570a8",
   "metadata": {},
   "outputs": [
    {
     "data": {
      "text/plain": [
       "(array([  678.,   529.,   796.,  1181.,  1025.,  1451.,  2826.,  2161.,\n",
       "         3527., 30730.]),\n",
       " array([305072., 206529., 277544., 359704., 257662., 287410., 382982.,\n",
       "        229383., 216529., 316906.]))"
      ]
     },
     "execution_count": 98,
     "metadata": {},
     "output_type": "execute_result"
    }
   ],
   "source": [
    "output"
   ]
  },
  {
   "cell_type": "code",
   "execution_count": 99,
   "id": "94003fc3-ea8c-4871-9df6-16d44bb394b0",
   "metadata": {},
   "outputs": [
    {
     "name": "stdout",
     "output_type": "stream",
     "text": [
      "49% done\n",
      "0.016464590796362633\n"
     ]
    }
   ],
   "source": [
    "uproot_file_dir = groupdir_pref + \"eic/work_eic/root_files/test/\"\n",
    "\n",
    "output = extract_photon_yield_one_file(uproot_file_dir + f\"mu_w_low_QE_slice.edm4hep.root:events\")\n",
    "\n",
    "print(sum(output[0]) / sum(output[1]))"
   ]
  },
  {
   "cell_type": "code",
   "execution_count": 100,
   "id": "d922e3b8-fc59-490d-a4cd-651c1c8e3bc8",
   "metadata": {},
   "outputs": [
    {
     "data": {
      "text/plain": [
       "(array([  23.,   38.,   30.,   62.,   55.,   58.,   75.,  152.,  313.,\n",
       "        1584.]),\n",
       " array([13054., 14575., 12301., 18457., 16275., 12704., 12992., 15677.,\n",
       "        16045., 13080.]))"
      ]
     },
     "execution_count": 100,
     "metadata": {},
     "output_type": "execute_result"
    }
   ],
   "source": [
    "output"
   ]
  },
  {
   "cell_type": "code",
   "execution_count": 20,
   "id": "04d03d9c-c756-4d98-ba82-c811e80a3e5e",
   "metadata": {},
   "outputs": [
    {
     "name": "stdout",
     "output_type": "stream",
     "text": [
      "49% done\n",
      "without QE:10.44 | with QE: 5.07\n",
      " ratio: 0.4862\n"
     ]
    }
   ],
   "source": [
    "counts, edeps = extract_photon_per_energy(uproot_file_dir + \"mu_w_no_QE_scint.edm4hep.root:events\")\n",
    "counts_QE, edeps_QE = extract_photon_per_energy(uproot_file_dir + \"mu_w_QE_scint.edm4hep.root:events\")\n",
    "optph_per_keV = np.sum(counts) / np.sum(edeps)\n",
    "optph_per_keV_w_QE = np.sum(counts_QE) / np.sum(edeps_QE)\n",
    "print(f\"without QE:%.2f | with QE: %.2f\\n ratio: %.4f\" %((optph_per_keV / 1000 / 1000),(optph_per_keV_w_QE / 1000 / 1000),(optph_per_keV_w_QE / optph_per_keV)))"
   ]
  },
  {
   "cell_type": "code",
   "execution_count": null,
   "id": "ed2182a0-9ea1-41c8-8e56-59338364db4c",
   "metadata": {},
   "outputs": [],
   "source": [
    "eic_pref = \"/hpc/group/vossenlab/rck32/eic/\"\n",
    "\n",
    "uproot_file_dir = groupdir_pref + \"eic/work_eic/root_files/Photon_yield_param/run_2_no_QE/\"\n",
    "file_list = []\n",
    "for i in range(31):\n",
    "    file_list.append(uproot_file_dir + f\"x_1769_3_vary_z_th_1kevents_{i}_30_z_vals.edm4hep.root:events\")\n",
    "z_hits = np.zeros(n_bins)\n",
    "z_MC = np.zeros(n_bins)\n",
    "with multiprocessing.Pool() as pool:\n",
    "    results_list = pool.map(extract_photon_yield_one_file, file_list)\n",
    "results_np = np.array(results_list)\n",
    "np.save(groupdir_pref + \"eic/work_eic/macros/Timing_estimation/data/photon_yield/october_20_run_2_no_qe/data\",results_np)"
   ]
  },
  {
   "cell_type": "code",
   "execution_count": 79,
   "id": "98689d83-cc7d-4509-b669-463e8219eccd",
   "metadata": {},
   "outputs": [],
   "source": [
    "results_list = np.load(groupdir_pref+\"eic/work_eic/macros/Variation/data/photon_yield/october_20_run_6_low_qe.npy\")"
   ]
  },
  {
   "cell_type": "code",
   "execution_count": 80,
   "id": "e2ed508e-cfd4-4b9b-ba41-535172eab05b",
   "metadata": {},
   "outputs": [
    {
     "name": "stdout",
     "output_type": "stream",
     "text": [
      "0.0037791458970477918\n"
     ]
    }
   ],
   "source": [
    "z_hits_total = 0\n",
    "z_MC_total = 0\n",
    "for i in range(0,10):\n",
    "    z_hits_total += np.sum(results_list[i][0])\n",
    "    z_MC_total += np.sum(results_list[i][1])\n",
    "print(z_hits_total / z_MC_total)"
   ]
  },
  {
   "cell_type": "code",
   "execution_count": 81,
   "id": "e202ff0e-fe48-4f1a-a73d-39c675462060",
   "metadata": {},
   "outputs": [
    {
     "name": "stdout",
     "output_type": "stream",
     "text": [
      "0.0037791458970477918\n"
     ]
    }
   ],
   "source": [
    "print(z_hits_total / z_MC_total)"
   ]
  },
  {
   "cell_type": "code",
   "execution_count": 39,
   "id": "99f50d1c-945f-4014-9a3b-39c487b8afdd",
   "metadata": {},
   "outputs": [],
   "source": [
    "z_hits = np.zeros(n_bins)\n",
    "z_MC = np.zeros(n_bins)\n",
    "for i in range(len(results_list)):\n",
    "    z_hits += results_list[i][0]\n",
    "    z_MC += results_list[i][1]"
   ]
  },
  {
   "cell_type": "code",
   "execution_count": 40,
   "id": "b84506a5-13ce-4c42-ae4d-c3f7e55aab9a",
   "metadata": {},
   "outputs": [
    {
     "name": "stderr",
     "output_type": "stream",
     "text": [
      "<ipython-input-40-c85d72ca091e>:1: RuntimeWarning: invalid value encountered in divide\n",
      "  z_percent = z_hits / z_MC * 100\n"
     ]
    }
   ],
   "source": [
    "z_percent = z_hits / z_MC * 100\n",
    "z_bin_centers_dis = 770 - z_bin_centers"
   ]
  },
  {
   "cell_type": "code",
   "execution_count": 41,
   "id": "384e7f6a-ac3e-4fac-ab0d-85201f37a283",
   "metadata": {},
   "outputs": [
    {
     "data": {
      "image/png": "[encoded data removed]",
      "text/plain": [
       "<Figure size 432x288 with 1 Axes>"
      ]
     },
     "metadata": {
      "needs_background": "light"
     },
     "output_type": "display_data"
    }
   ],
   "source": [
    "plot.scatter(z_bin_centers_dis,z_percent);"
   ]
  },
  {
   "cell_type": "code",
   "execution_count": 22,
   "id": "81f4d383-bc31-4587-8da1-12fa3dfedc92",
   "metadata": {},
   "outputs": [
    {
     "data": {
      "image/png": "[encoded data removed]",
      "text/plain": [
       "<Figure size 504x360 with 1 Axes>"
      ]
     },
     "metadata": {
      "needs_background": "light"
     },
     "output_type": "display_data"
    }
   ],
   "source": [
    "fig, ax1 = plot.subplots(1,1, figsize=(7,5))\n",
    "fig.suptitle(\"Percentage of photons reaching sensor as a fraction of total photons generated\")\n",
    "ax1.set_ylabel(\"percentage\")\n",
    "ax1.scatter(z_bin_centers_dis,z_percent,color = \"blue\")\n",
    "ax1.set_xlabel(\"z (distance from sensor)\")\n",
    "fig.show()\n",
    "# fig.savefig(\"plots/percentage/June_14_mu_5GeV_10k_phi_theta_20_bins.jpeg\")"
   ]
  },
  {
   "cell_type": "code",
   "execution_count": 23,
   "id": "c395963e-eca7-4a0c-85d2-792885027620",
   "metadata": {},
   "outputs": [],
   "source": [
    "def inverse(x,a,b,c):\n",
    "    return a  / (x + b) + c"
   ]
  },
  {
   "cell_type": "code",
   "execution_count": 24,
   "id": "fe3c2d66-a8aa-4fb8-b089-e4e1f5176ab6",
   "metadata": {},
   "outputs": [],
   "source": [
    "fit_percent = []\n",
    "fit_bins = []\n",
    "for i in range(n_bins):\n",
    "    if(np.isnan(z_percent[i])):\n",
    "        continue\n",
    "    fit_percent.append(z_percent[i])\n",
    "    fit_bins.append(z_bin_centers_dis[i])"
   ]
  },
  {
   "cell_type": "code",
   "execution_count": 34,
   "id": "6708cade-1f94-467f-8708-bcda83cd722d",
   "metadata": {},
   "outputs": [],
   "source": [
    "popt_z, pcov_z = curve_fit(inverse,fit_bins,fit_percent)\n",
    "fit_x = np.linspace(80,1500,200)\n",
    "z_fit = inverse(fit_x,*popt_z)\n",
    "z_fit_no_QE = inverse(fit_x,494.98,9.9733,-0.16796)"
   ]
  },
  {
   "cell_type": "code",
   "execution_count": 36,
   "id": "52f468d0-8d9d-47d2-8f56-2753fd21fb44",
   "metadata": {},
   "outputs": [
    {
     "data": {
      "text/plain": [
       "<matplotlib.legend.Legend at 0x7fe69c217c40>"
      ]
     },
     "execution_count": 36,
     "metadata": {},
     "output_type": "execute_result"
    },
    {
     "data": {
      "image/png": "[encoded data removed]",
      "text/plain": [
       "<Figure size 576x432 with 1 Axes>"
      ]
     },
     "metadata": {
      "needs_background": "light"
     },
     "output_type": "display_data"
    }
   ],
   "source": [
    "fig_z, ax_z = plot.subplots(1,1, figsize = (8,6))\n",
    "ax_z.plot(fit_x,z_fit, 'r--',label='fit: a=%5.3f, b=%5.3f, c=%5.3f' % tuple(popt_z))\n",
    "ax_z.plot(fit_x,z_fit_no_QE, 'b--',label='fit: a=%5.3f, b=%5.3f, c=%5.3f' % tuple(popt_z))\n",
    "fig_z.suptitle(\"z dependence of % photons reaching sensor\")\n",
    "ax_z.scatter(fit_bins,fit_percent,color=\"blue\", alpha = 0.7)\n",
    "ax_z.set_xlabel(\"distance from sensor\")\n",
    "ax_z.set_ylabel(\"% photons reaching sensor\")\n",
    "fig_z.legend(bbox_to_anchor=(0.8, 0.8))"
   ]
  },
  {
   "cell_type": "code",
   "execution_count": 42,
   "id": "db7a6424-241a-4d61-997e-64ed4c87c6a8",
   "metadata": {},
   "outputs": [
    {
     "data": {
      "text/plain": [
       "<matplotlib.legend.Legend at 0x7f5fdd137cd0>"
      ]
     },
     "execution_count": 42,
     "metadata": {},
     "output_type": "execute_result"
    },
    {
     "data": {
      "image/png": "[encoded data removed]",
      "text/plain": [
       "<Figure size 576x432 with 1 Axes>"
      ]
     },
     "metadata": {
      "needs_background": "light"
     },
     "output_type": "display_data"
    }
   ],
   "source": [
    "fig_z, ax_z = plot.subplots(1,1, figsize = (8,6))\n",
    "ax_z.plot(fit_x,z_fit, 'r--',label='fit: a=%5.3f, b=%5.3f, c=%5.3f' % tuple(popt_z))\n",
    "ax_z.plot(fit_x,z_fit_no_QE, 'b--',label='fit: a=%5.3f, b=%5.3f, c=%5.3f' % tuple(popt_z))\n",
    "fig_z.suptitle(\"z dependence of % photons reaching sensor\")\n",
    "ax_z.scatter(fit_bins,fit_percent,color=\"blue\", alpha = 0.7)\n",
    "ax_z.set_xlabel(\"distance from sensor\")\n",
    "ax_z.set_ylabel(\"% photons reaching sensor\")\n",
    "fig_z.legend(bbox_to_anchor=(0.8, 0.8))"
   ]
  },
  {
   "cell_type": "code",
   "execution_count": 38,
   "id": "68db9bbb-55c4-4907-8402-ab2229833a21",
   "metadata": {},
   "outputs": [
    {
     "data": {
      "text/plain": [
       "array([ 4.65713433e+02,  1.85721637e+00, -1.38278415e-01])"
      ]
     },
     "execution_count": 38,
     "metadata": {},
     "output_type": "execute_result"
    }
   ],
   "source": [
    "popt_z"
   ]
  },
  {
   "cell_type": "code",
   "execution_count": null,
   "id": "dbabe2b5-b91e-46ff-a5a9-0f9924a74f56",
   "metadata": {},
   "outputs": [],
   "source": []
  }
 ],
 "metadata": {
  "kernelspec": {
   "display_name": "Python 3",
   "language": "python",
   "name": "python3"
  },
  "language_info": {
   "codemirror_mode": {
    "name": "ipython",
    "version": 3
   },
   "file_extension": ".py",
   "mimetype": "text/x-python",
   "name": "python",
   "nbconvert_exporter": "python",
   "pygments_lexer": "ipython3",
   "version": "3.8.8"
  }
 },
 "nbformat": 4,
 "nbformat_minor": 5
}
