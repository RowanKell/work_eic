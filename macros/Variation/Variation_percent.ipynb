{
 "cells": [
  {
   "cell_type": "markdown",
   "id": "97963b47-d6b6-4f4a-b510-7743f4bc1ec2",
   "metadata": {},
   "source": [
    "# Notebook for looking at photon yield / percentage for diff theta, phi"
   ]
  },
  {
   "cell_type": "code",
   "execution_count": 1,
   "id": "e7479ba6-556e-4413-9054-ec96ab31f0eb",
   "metadata": {},
   "outputs": [
    {
     "name": "stdout",
     "output_type": "stream",
     "text": [
      "Using device cuda:0\n"
     ]
    }
   ],
   "source": [
    "#imports\n",
    "import numpy as np\n",
    "import uproot as up\n",
    "import pandas as pd\n",
    "import matplotlib.pyplot as plot\n",
    "from scipy.stats import norm\n",
    "from scipy.optimize import curve_fit\n",
    "import sympy\n",
    "from IPython.display import clear_output\n",
    "import math\n",
    "import time\n",
    "import util\n",
    "import multiprocessing\n",
    "import time\n",
    "#My imports\n",
    "from util import PVect,get_layer,create_layer_map,theta_func,phi_func,findBin,bin_percent_theta_phi\n",
    "import os"
   ]
  },
  {
   "cell_type": "code",
   "execution_count": 2,
   "id": "a6a1a5fe-dad1-4fb7-b3b8-361d341a72d5",
   "metadata": {},
   "outputs": [],
   "source": [
    "groupdir_pref = \"/hpc/group/vossenlab/rck32/\""
   ]
  },
  {
   "cell_type": "code",
   "execution_count": 3,
   "id": "63950dc5-f42c-4dc4-9cbf-5cebb5cec71e",
   "metadata": {},
   "outputs": [],
   "source": [
    "layer_map,super_layer_map = create_layer_map()\n",
    "n_bins = 30\n",
    "\n",
    "z_min = -770\n",
    "z_max = 770\n",
    "\n",
    "z_bins = np.linspace(z_min,z_max,n_bins+1)\n",
    "#calc z hit pos from x pos, px pz\n",
    "def dz_func(dx, px, pz):\n",
    "    return dx * pz / px\n",
    "#works only for evenly spaced bins\n",
    "def findBin(val,bins):\n",
    "    diff = bins[1] - bins[0]\n",
    "    rel_dist = val - bins[0]\n",
    "    mod = np.floor(rel_dist / diff)\n",
    "    return int(mod)\n",
    "z_bin_centers = np.empty(n_bins)\n",
    "for i in range(len(z_bins) - 1):\n",
    "    z_bin_centers[i] = (z_bins[i] + z_bins[i+1]) / 2\n",
    "z_bin_centers_dis = 770 - z_bin_centers    "
   ]
  },
  {
   "cell_type": "markdown",
   "id": "4c509e00-4744-4174-be67-19bad7172847",
   "metadata": {},
   "source": [
    "# % photons as function of z hit pos"
   ]
  },
  {
   "cell_type": "markdown",
   "id": "43823cdd-8b44-46a5-8f79-63514e2b9b9f",
   "metadata": {},
   "source": [
    "## Use this for single files"
   ]
  },
  {
   "cell_type": "code",
   "execution_count": 4,
   "id": "6e1a4b61-8193-4384-a196-c50b8ebaeaf5",
   "metadata": {},
   "outputs": [],
   "source": [
    "particle = \"mu\"\n",
    "energy = \"5\"\n",
    "color_dict = {\n",
    "    \"pi\" : \"red\",\n",
    "    \"mu\" : \"blue\"\n",
    "}\n",
    "\n",
    "#Sept 5th 2024: New data for fitting curve and double checking relationship:\n",
    "def extract_photon_yield_one_file(uproot_path):\n",
    "#     print(\"starting process\")\n",
    "    events = up.open(uproot_path)\n",
    "\n",
    "    x_pos_branch = events[\"HcalBarrelHits/HcalBarrelHits.position.x\"].array(library='np')\n",
    "    EDep_branch = events[\"HcalBarrelHits.EDep\"].array(library='np')\n",
    "    Pathlength_branch = events[\"HcalBarrelHits.pathLength\"].array(library='np')\n",
    "    Hits_MC_idx_branch = events[\"_HcalBarrelHits_MCParticle.index\"].array(library='np')\n",
    "    MC_parents = events[\"_MCParticles_parents.index\"].array(library='np')\n",
    "    MC_daughters = events[\"MCParticles.daughters_end\"].array(library='np')\n",
    "    PDG_branch = events[\"MCParticles.PDG\"].array(library='np')\n",
    "    MC_endpoint_x_branch = events[\"MCParticles.endpoint.x\"].array(library='np')\n",
    "\n",
    "    time_branch = events[\"HcalBarrelHits.time\"].array(library='np')\n",
    "    layer_map = [1830.8000, 1841.4000, 1907.5, 1918.1,1984.1999, 1994.8000, 2060.8999,2071.5,2137.6001,2148.1999,2214.3000,2224.8999,2291,2301.6001,2367.6999,2378.3000,2444.3999,2455,2521.1001,2531.6999,2597.8000,2608.3999,2674.5,2685.1001,2751.1999,2761.8000,2827.8999,2838.5]    \n",
    "\n",
    "    MC_px = events[\"MCParticles.momentum.x\"].array(library='np')\n",
    "    MC_py = events[\"MCParticles.momentum.y\"].array(library='np')\n",
    "    MC_pz = events[\"MCParticles.momentum.z\"].array(library='np')\n",
    "    MC_m = events[\"MCParticles.mass\"].array(library='np')\n",
    "    MC_vertex_x = events[\"MCParticles.vertex.x\"].array(library='np')\n",
    "    MC_vertex_z = events[\"MCParticles.vertex.z\"].array(library='np')\n",
    "#     print(\"loaded all branches\")\n",
    "\n",
    "\n",
    "    z_percent = np.zeros(n_bins)\n",
    "    num_events = len(EDep_branch)\n",
    "\n",
    "    z_MC = np.zeros(n_bins)\n",
    "\n",
    "    z_hits = np.zeros(n_bins)\n",
    "\n",
    "    num_MC = 0\n",
    "    num_hits = 0\n",
    "    energy_dep = 0\n",
    "    dep_count = 0\n",
    "    hits_per_photon = []\n",
    "    break_val = 1000\n",
    "#     print(\"starting loop\")\n",
    "    for event_idx in range(len(EDep_branch)):\n",
    "#         if(not (event_idx % (break_val // 100))):\n",
    "#             clear_output(wait = True)\n",
    "#             print(f\"{event_idx // (break_val // 100)}% done\")\n",
    "        num_MC = 0\n",
    "        primary = PVect()\n",
    "        primary.setVector(MC_px[event_idx][0],MC_py[event_idx][0],MC_pz[event_idx][0],MC_m[event_idx][0])\n",
    "        dx = 1770 - MC_vertex_x[event_idx][0]  #first layer at approx 1770\n",
    "        z_hit_pos = dz_func(dx,primary.px,primary.pz) + MC_vertex_z[event_idx][0]\n",
    "        z_bin = findBin(z_hit_pos,z_bins)\n",
    "        for i in range(len(PDG_branch[event_idx])):\n",
    "            if(PDG_branch[event_idx][i] == -22 and (i < MC_daughters[event_idx][0])):\n",
    "                z_MC[z_bin] += 1\n",
    "        for hit in range(len(EDep_branch[event_idx])):\n",
    "            if(PDG_branch[event_idx][Hits_MC_idx_branch[event_idx][hit]] == -22):\n",
    "                z_hits[z_bin] += 1\n",
    "        if(event_idx > break_val):\n",
    "            break\n",
    "    return z_hits, z_MC"
   ]
  },
  {
   "cell_type": "code",
   "execution_count": null,
   "id": "3aa2d655-13a5-4cd1-a0b2-1bdda0a1137f",
   "metadata": {
    "tags": []
   },
   "outputs": [],
   "source": [
    "uproot_file_dir = groupdir_pref + \"eic/work_eic/root_files/Photon_yield_param/run_2_no_QE/\"\n",
    "\n",
    "output = extract_photon_yield_one_file(uproot_file_dir + f\"x_1769_3_vary_z_th_1kevents_0_30_z_vals.edm4hep.root:events\")\n",
    "\n",
    "output"
   ]
  },
  {
   "cell_type": "code",
   "execution_count": null,
   "id": "ed2182a0-9ea1-41c8-8e56-59338364db4c",
   "metadata": {},
   "outputs": [],
   "source": [
    "eic_pref = \"/hpc/group/vossenlab/rck32/eic/\"\n",
    "\n",
    "uproot_file_dir = groupdir_pref + \"eic/work_eic/root_files/Photon_yield_param/run_2_no_QE/\"\n",
    "file_list = []\n",
    "for i in range(31):\n",
    "    file_list.append(uproot_file_dir + f\"x_1769_3_vary_z_th_1kevents_{i}_30_z_vals.edm4hep.root:events\")\n",
    "z_hits = np.zeros(n_bins)\n",
    "z_MC = np.zeros(n_bins)\n",
    "with multiprocessing.Pool() as pool:\n",
    "    results_list = pool.map(extract_photon_yield_one_file, file_list)\n",
    "results_np = np.array(results_list)\n",
    "np.save(groupdir_pref + \"eic/work_eic/macros/Timing_estimation/data/photon_yield/october_20_run_2_no_qe/data\",results_np)"
   ]
  },
  {
   "cell_type": "code",
   "execution_count": null,
   "id": "99f50d1c-945f-4014-9a3b-39c487b8afdd",
   "metadata": {},
   "outputs": [],
   "source": [
    "for i in range(len(results_list)):\n",
    "    z_hits += results_list[i][0]\n",
    "    z_MC += results_list[i][1]"
   ]
  },
  {
   "cell_type": "code",
   "execution_count": null,
   "id": "b84506a5-13ce-4c42-ae4d-c3f7e55aab9a",
   "metadata": {},
   "outputs": [],
   "source": [
    "z_percent = z_hits / z_MC * 100\n",
    "z_bin_centers_dis = 770 - z_bin_centers"
   ]
  },
  {
   "cell_type": "code",
   "execution_count": null,
   "id": "384e7f6a-ac3e-4fac-ab0d-85201f37a283",
   "metadata": {},
   "outputs": [],
   "source": [
    "plot.scatter(z_bin_distances,z_percent);"
   ]
  },
  {
   "cell_type": "code",
   "execution_count": null,
   "id": "81f4d383-bc31-4587-8da1-12fa3dfedc92",
   "metadata": {},
   "outputs": [],
   "source": [
    "fig, ax1 = plot.subplots(1,1, figsize=(7,5))\n",
    "fig.suptitle(\"Percentage of photons reaching sensor as a fraction of total photons generated\")\n",
    "ax1.set_ylabel(\"percentage\")\n",
    "ax1.scatter(z_bin_centers_dis,z_percent,color = \"blue\")\n",
    "ax1.set_xlabel(\"z (distance from sensor)\")\n",
    "fig.show()\n",
    "# fig.savefig(\"plots/percentage/June_14_mu_5GeV_10k_phi_theta_20_bins.jpeg\")"
   ]
  },
  {
   "cell_type": "code",
   "execution_count": 34,
   "id": "c395963e-eca7-4a0c-85d2-792885027620",
   "metadata": {},
   "outputs": [],
   "source": [
    "def inverse(x,a,b,c):\n",
    "    return a  / (x + b) + c"
   ]
  },
  {
   "cell_type": "code",
   "execution_count": 35,
   "id": "fe3c2d66-a8aa-4fb8-b089-e4e1f5176ab6",
   "metadata": {},
   "outputs": [],
   "source": [
    "fit_percent = []\n",
    "fit_bins = []\n",
    "for i in range(n_bins):\n",
    "    if(np.isnan(z_percent[i])):\n",
    "        continue\n",
    "    fit_percent.append(z_percent[i])\n",
    "    fit_bins.append(z_bin_centers_dis[i])"
   ]
  },
  {
   "cell_type": "code",
   "execution_count": 40,
   "id": "6708cade-1f94-467f-8708-bcda83cd722d",
   "metadata": {},
   "outputs": [],
   "source": [
    "popt_z, pcov_z = curve_fit(inverse,fit_bins,fit_percent)\n",
    "fit_x = np.linspace(25,1500,200)\n",
    "z_fit = inverse(fit_x,*popt_z)\n",
    "z_fit_no_QE = inverse(fit_x,494.98,9.9733,-0.16796)"
   ]
  },
  {
   "cell_type": "code",
   "execution_count": 42,
   "id": "db7a6424-241a-4d61-997e-64ed4c87c6a8",
   "metadata": {},
   "outputs": [
    {
     "data": {
      "text/plain": [
       "<matplotlib.legend.Legend at 0x7f5fdd137cd0>"
      ]
     },
     "execution_count": 42,
     "metadata": {},
     "output_type": "execute_result"
    },
    {
     "data": {
      "image/png": "[encoded data removed]",
      "text/plain": [
       "<Figure size 576x432 with 1 Axes>"
      ]
     },
     "metadata": {
      "needs_background": "light"
     },
     "output_type": "display_data"
    }
   ],
   "source": [
    "fig_z, ax_z = plot.subplots(1,1, figsize = (8,6))\n",
    "ax_z.plot(fit_x,z_fit, 'r--',label='fit: a=%5.3f, b=%5.3f, c=%5.3f' % tuple(popt_z))\n",
    "ax_z.plot(fit_x,z_fit_no_QE, 'b--',label='fit: a=%5.3f, b=%5.3f, c=%5.3f' % tuple(popt_z))\n",
    "fig_z.suptitle(\"z dependence of % photons reaching sensor\")\n",
    "ax_z.scatter(fit_bins,fit_percent,color=\"blue\", alpha = 0.7)\n",
    "ax_z.set_xlabel(\"distance from sensor\")\n",
    "ax_z.set_ylabel(\"% photons reaching sensor\")\n",
    "fig_z.legend(bbox_to_anchor=(0.8, 0.8))"
   ]
  },
  {
   "cell_type": "code",
   "execution_count": 38,
   "id": "68db9bbb-55c4-4907-8402-ab2229833a21",
   "metadata": {},
   "outputs": [
    {
     "data": {
      "text/plain": [
       "array([ 4.65713433e+02,  1.85721637e+00, -1.38278415e-01])"
      ]
     },
     "execution_count": 38,
     "metadata": {},
     "output_type": "execute_result"
    }
   ],
   "source": [
    "popt_z"
   ]
  },
  {
   "cell_type": "code",
   "execution_count": null,
   "id": "dbabe2b5-b91e-46ff-a5a9-0f9924a74f56",
   "metadata": {},
   "outputs": [],
   "source": []
  }
 ],
 "metadata": {
  "kernelspec": {
   "display_name": "Python 3",
   "language": "python",
   "name": "python3"
  },
  "language_info": {
   "codemirror_mode": {
    "name": "ipython",
    "version": 3
   },
   "file_extension": ".py",
   "mimetype": "text/x-python",
   "name": "python",
   "nbconvert_exporter": "python",
   "pygments_lexer": "ipython3",
   "version": "3.8.8"
  }
 },
 "nbformat": 4,
 "nbformat_minor": 5
}
