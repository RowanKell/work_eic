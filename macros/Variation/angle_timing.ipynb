{
 "cells": [
  {
   "cell_type": "markdown",
   "id": "97963b47-d6b6-4f4a-b510-7743f4bc1ec2",
   "metadata": {},
   "source": [
    "# Notebook for looking at photon yield / percentage for diff theta, phi"
   ]
  },
  {
   "cell_type": "code",
   "execution_count": 1,
   "id": "e7479ba6-556e-4413-9054-ec96ab31f0eb",
   "metadata": {},
   "outputs": [
    {
     "name": "stdout",
     "output_type": "stream",
     "text": [
      "Using device cpu\n"
     ]
    }
   ],
   "source": [
    "#imports\n",
    "import numpy as np\n",
    "import uproot as up\n",
    "import pandas as pd\n",
    "import matplotlib.pyplot as plot\n",
    "from scipy.stats import norm\n",
    "from scipy.optimize import curve_fit\n",
    "import sympy\n",
    "from IPython.display import clear_output\n",
    "import math\n",
    "import time\n",
    "import util\n",
    "#My imports\n",
    "from util import PVect,get_layer,create_layer_map,theta_func,phi_func,findBin,bin_percent_theta_phi"
   ]
  },
  {
   "cell_type": "code",
   "execution_count": 2,
   "id": "f75bafd8-67f9-4b2e-9351-0e02bcbb8abd",
   "metadata": {},
   "outputs": [],
   "source": [
    "n_files = 20"
   ]
  },
  {
   "cell_type": "code",
   "execution_count": 3,
   "id": "7cdab47d-b72a-4dec-86db-b82b252eb435",
   "metadata": {},
   "outputs": [],
   "source": [
    "layer_map,super_layer_map = create_layer_map()\n",
    "n_bins = 20\n",
    "\n",
    "theta_min = 0.1745\n",
    "theta_max = 2.966500\n",
    "\n",
    "theta_range = theta_max - theta_min\n",
    "\n",
    "theta_bins = np.linspace(theta_min,theta_max,n_bins)\n",
    "theta_bins_deg = theta_bins * 180 / 3.1415926535"
   ]
  },
  {
   "cell_type": "code",
   "execution_count": 4,
   "id": "3f8ae09b-7e35-418e-8ba5-3b7df9e08474",
   "metadata": {},
   "outputs": [],
   "source": [
    "particle = \"mu\"\n",
    "energy = \"5\"\n",
    "color_dict = {\n",
    "    \"pi\" : \"red\",\n",
    "    \"mu\" : \"blue\"\n",
    "}"
   ]
  },
  {
   "cell_type": "code",
   "execution_count": 5,
   "id": "48f4348a-d134-42d8-9d43-922e4c715fe5",
   "metadata": {},
   "outputs": [],
   "source": [
    "%%capture\n",
    "histo_fig, histo_axs = plot.subplots(5,4, figsize = (20,25));\n",
    "histo_fig.suptitle(\"Histogram of # of photons\");"
   ]
  },
  {
   "cell_type": "code",
   "execution_count": 6,
   "id": "8b859677-b741-40aa-b11a-b3ce46ec68e8",
   "metadata": {},
   "outputs": [],
   "source": [
    "time_diff_means = np.empty(n_files)\n",
    "emission_time_means = np.empty(n_files)\n",
    "time_diff = []\n",
    "emission_time_list = []"
   ]
  },
  {
   "cell_type": "code",
   "execution_count": null,
   "id": "fad39963-acab-4384-9c69-33775616a337",
   "metadata": {},
   "outputs": [
    {
     "name": "stdout",
     "output_type": "stream",
     "text": [
      "99% done\n",
      "Starting file #17\n"
     ]
    }
   ],
   "source": [
    "skipped_daughter = 0\n",
    "for curr_bin in range(n_files):\n",
    "    time_diff.append([])\n",
    "    emission_time_list.append([])\n",
    "    print(f\"Starting file #{curr_bin}\")\n",
    "    uproot_path = f\"/cwork/rck32/eic/work_eic/root_files/June_24/variation_pos/mu/varied_theta_same_pos_{curr_bin}.edm4hep.root:events\"\n",
    "    with up.open(uproot_path) as events:\n",
    "        x_pos_branch = events[\"HcalBarrelHits/HcalBarrelHits.position.x\"].array(library='np')\n",
    "        z_pos_branch = events[\"HcalBarrelHits/HcalBarrelHits.position.z\"].array(library='np')\n",
    "        EDep_branch = events[\"HcalBarrelHits.EDep\"].array(library='np')\n",
    "        Pathlength_branch = events[\"HcalBarrelHits.pathLength\"].array(library='np')\n",
    "        Hits_MC_idx_branch = events[\"_HcalBarrelHits_MCParticle.index\"].array(library='np')\n",
    "        PDG_branch = events[\"MCParticles.PDG\"].array(library='np')\n",
    "\n",
    "        time_branch = events[\"HcalBarrelHits.time\"].array(library='np')   \n",
    "\n",
    "        MC_px = events[\"MCParticles.momentum.x\"].array(library='np')\n",
    "        MC_py = events[\"MCParticles.momentum.y\"].array(library='np')\n",
    "        MC_pz = events[\"MCParticles.momentum.z\"].array(library='np')\n",
    "        MC_m = events[\"MCParticles.mass\"].array(library='np')\n",
    "        MC_vertex_x = events[\"MCParticles.vertex.x\"].array(library='np')\n",
    "        MC_vertex_z = events[\"MCParticles.vertex.z\"].array(library='np')\n",
    "        MC_time_branch = events[\"MCParticles.time\"].array(library='np')\n",
    "        \n",
    "        daughters_begin_branch = events[\"MCParticles.daughters_begin\"].array(library='np')\n",
    "        daughters_end_branch = events[\"MCParticles.daughters_end\"].array(library='np')\n",
    "        curr_theta = theta_bins[curr_bin]\n",
    "        \n",
    "        #histogram\n",
    "        row = curr_bin // 4\n",
    "        col = curr_bin % 4\n",
    "        num_photons = np.empty(len(PDG_branch))\n",
    "        for event_idx in range(len(PDG_branch)):\n",
    "            num_photons[event_idx] = np.asarray(np.where(PDG_branch[event_idx] == -22, 1, 0)).sum()\n",
    "        histo_axs[row, col].hist(num_photons / 1000,bins = 100);\n",
    "        histo_axs[row,col].set_title(f\"theta = {theta_bins_deg[curr_bin]}\")\n",
    "        histo_axs[row,col].set_xlabel(\"# of photons (thousands)\")\n",
    "        histo_axs[row,col].set_ylabel(\"Counts (# events)\")\n",
    "\n",
    "        break_val = 2000\n",
    "        for event_idx in range(len(time_branch)):\n",
    "            num_photons = 0\n",
    "            if(not (event_idx % (break_val // 100))):\n",
    "                clear_output(wait = True)\n",
    "                print(f\"{event_idx // (break_val // 100)}% done\")\n",
    "            if(event_idx > break_val):\n",
    "                break\n",
    "            for hit in range(len(time_branch[event_idx])):\n",
    "                #check if hit is from optph\n",
    "                hit_idx = Hits_MC_idx_branch[event_idx][hit]\n",
    "                if(PDG_branch[event_idx][hit_idx] != -22):\n",
    "                    continue\n",
    "#                 if((hit_idx < daughters_begin_branch[event][0]) or (hit_idx > daughters_end_branch[event][0])):\n",
    "#                     skipped_daughter += 1\n",
    "#                     continue\n",
    "                hit_time = time_branch[event_idx][hit]\n",
    "                emission_time = MC_time_branch[event_idx][Hits_MC_idx_branch[event_idx][hit]] \n",
    "                time_diff[curr_bin].append(hit_time - emission_time)\n",
    "                emission_time_list[curr_bin].append(emission_time)\n",
    "        time_diff_means[curr_bin] = sum(time_diff[curr_bin]) / len(time_diff[curr_bin])\n",
    "        emission_time_means[curr_bin] = sum(emission_time_list[curr_bin]) / len(emission_time_list[curr_bin])"
   ]
  },
  {
   "cell_type": "code",
   "execution_count": null,
   "id": "80fbd46a-fc56-4ab7-afda-a3f565e368d2",
   "metadata": {},
   "outputs": [],
   "source": [
    "histo_fig.savefig(\"plots/time_parameterization/theta_vary/num_photons_histo_20_no_daughter_cut.jpeg\")\n",
    "histo_fig.show()"
   ]
  },
  {
   "cell_type": "code",
   "execution_count": null,
   "id": "4eb258e8-2056-4571-a2da-75b8003de420",
   "metadata": {},
   "outputs": [],
   "source": [
    "fig, ax1 = plot.subplots(1,1, figsize=(5,5))\n",
    "fig.suptitle(\"Travel time of photon as function of theta\")\n",
    "ax1.set_ylabel(\"Travel time (ns)\")\n",
    "ax1.scatter(theta_bins_deg,time_diff_means,color = \"blue\")\n",
    "ax1.set_xlabel(\"theta (degrees)\")\n",
    "ax1.set_ylim(0,6)\n",
    "fig.show()\n",
    "fig.savefig(\"plots/time_parameterization/theta_vary/photon_travel_time_20_no_daughter_cut.jpeg\")"
   ]
  },
  {
   "cell_type": "code",
   "execution_count": null,
   "id": "6dddb00e-da8d-412a-98b5-f61c3fd78f24",
   "metadata": {},
   "outputs": [],
   "source": [
    "fig, axs = plot.subplots(4,5,figsize = (20,15))\n",
    "fig.suptitle(\"Theta binnings of photon travel time\")\n",
    "for i in range(axs.shape[0]):\n",
    "    n_columns = axs.shape[1]\n",
    "    for j in range(n_columns):\n",
    "        axs[i,j].set_title(\"theta = %2.3f\"%(theta_bins_deg[i * 5 + j]))\n",
    "        axs[i,j].hist(emission_time[i * 5 + j], color = 'r', bins = 1000)\n",
    "fig.savefig(\"plots/time_parameterization/theta_vary/histos_emission_time_theta_no_daughter_cut.jpeg\")"
   ]
  },
  {
   "cell_type": "code",
   "execution_count": null,
   "id": "1de6d207-7ea0-4b86-8a49-d9a76481d8ed",
   "metadata": {},
   "outputs": [],
   "source": []
  }
 ],
 "metadata": {
  "kernelspec": {
   "display_name": "Python 3",
   "language": "python",
   "name": "python3"
  },
  "language_info": {
   "codemirror_mode": {
    "name": "ipython",
    "version": 3
   },
   "file_extension": ".py",
   "mimetype": "text/x-python",
   "name": "python",
   "nbconvert_exporter": "python",
   "pygments_lexer": "ipython3",
   "version": "3.8.8"
  }
 },
 "nbformat": 4,
 "nbformat_minor": 5
}
