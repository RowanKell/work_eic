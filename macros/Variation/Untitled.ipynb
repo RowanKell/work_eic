{
 "cells": [
  {
   "cell_type": "markdown",
   "id": "97963b47-d6b6-4f4a-b510-7743f4bc1ec2",
   "metadata": {},
   "source": [
    "# Notebook for looking at photon yield / percentage for diff theta, phi"
   ]
  },
  {
   "cell_type": "code",
   "execution_count": 165,
   "id": "e7479ba6-556e-4413-9054-ec96ab31f0eb",
   "metadata": {},
   "outputs": [],
   "source": [
    "#imports\n",
    "import numpy as np\n",
    "import uproot as up\n",
    "import pandas as pd\n",
    "import matplotlib.pyplot as plot\n",
    "from scipy.stats import norm\n",
    "import sympy\n",
    "from IPython.display import clear_output"
   ]
  },
  {
   "cell_type": "code",
   "execution_count": 183,
   "id": "61c5310b-5361-4235-a0af-c5f8831cc513",
   "metadata": {},
   "outputs": [],
   "source": [
    "particle = \"mu\"\n",
    "energy = \"5\"\n",
    "color_dict = {\n",
    "    \"pi\" : \"red\",\n",
    "    \"mu\" : \"blue\"\n",
    "}\n",
    "\n",
    "uproot_path = f\"/cwork/rck32/eic/work_eic/root_files/June_13/variation/full_{particle}_{energy}GeV_10k.edm4hep.root:events\"\n",
    "# uproot_path = f\"/cwork/rck32/eic/work_eic/root_files/June_14/variation/full_{particle}_{energy}GeV_1000.edm4hep.root:events\"\n",
    "events = up.open(uproot_path)\n",
    "\n",
    "x_pos_branch = events[\"HcalBarrelHits/HcalBarrelHits.position.x\"].array(library='np')\n",
    "EDep_branch = events[\"HcalBarrelHits.EDep\"].array(library='np')\n",
    "Pathlength_branch = events[\"HcalBarrelHits.pathLength\"].array(library='np')\n",
    "Hits_MC_idx_branch = events[\"_HcalBarrelHits_MCParticle.index\"].array(library='np')\n",
    "MC_parents = events[\"_MCParticles_parents.index\"].array(library='np')\n",
    "MC_daughters = events[\"MCParticles.daughters_end\"].array(library='np')\n",
    "PDG_branch = events[\"MCParticles.PDG\"].array(library='np')\n",
    "MC_endpoint_x_branch = events[\"MCParticles.endpoint.x\"].array(library='np')\n",
    "layer_map = [1830.8000, 1841.4000, 1907.5, 1918.1,1984.1999, 1994.8000, 2060.8999,2071.5,2137.6001,2148.1999,2214.3000,2224.8999,2291,2301.6001,2367.6999,2378.3000,2444.3999,2455,2521.1001,2531.6999,2597.8000,2608.3999,2674.5,2685.1001,2751.1999,2761.8000,2827.8999,2838.5]    \n",
    "\n",
    "MC_px = events[\"MCParticles.momentum.x\"].array(library='np')\n",
    "MC_py = events[\"MCParticles.momentum.y\"].array(library='np')\n",
    "MC_pz = events[\"MCParticles.momentum.z\"].array(library='np')\n",
    "MC_m = events[\"MCParticles.mass\"].array(library='np')"
   ]
  },
  {
   "cell_type": "code",
   "execution_count": 136,
   "id": "a4116780-ede9-4f05-ab95-d65a577d3a8d",
   "metadata": {},
   "outputs": [],
   "source": [
    "def get_num_layers_traversed(x_pos):\n",
    "    #This map contains the midpoints of each layer - each layer is 1cm in width, so we can check the 0.5cm on each side to see if a hit was in the layer\n",
    "    layer_map = [1830.8000, 1841.4000, 1907.5, 1918.1,1984.1999, 1994.8000, 2060.8999,2071.5,2137.6001,2148.1999,2214.3000,2224.8999,2291,2301.6001,2367.6999,2378.3000,2444.3999,2455,2521.1001,2531.6999,2597.8000,2608.3999,2674.5,2685.1001,2751.1999,2761.8000,2827.8999,2838.5]\n",
    "    for layer_idx in range(len(layer_map)):\n",
    "        #check if particle hit within layer\n",
    "        if ((x_pos >= layer_map[layer_idx] - 5) and (x_pos <= layer_map[layer_idx] + 5)):\n",
    "            return layer_idx\n",
    "    #if no layers hit, send error code\n",
    "    return -1\n",
    "#theta = 0: px, py = 0\n",
    "#theta - xz plane\n",
    "#phi - xy plane\n",
    "#https://stackoverflow.com/questions/4116658/faster-numpy-cartesian-to-spherical-coordinate-conversion\n",
    "def theta_func(px,py,pz):\n",
    "    return sympy.acos(pz / np.sqrt(px ** 2 + py ** 2 + pz ** 2)) * 180 / np.pi\n",
    "def phi_func(px,py,pz):\n",
    "    return sympy.atan2(py,px) * 180 / np.pi\n",
    "\n",
    "\n",
    "def Efunc(px,py,pz,m):\n",
    "    return np.sqrt(px**2 + py**2 + pz**2 + m**2)\n",
    "    \n",
    "class PVect:\n",
    "    def __init__(self):\n",
    "        self.px = 0\n",
    "        self.py = 0\n",
    "        self.pz = 0\n",
    "        self.theta = 0\n",
    "        self.phi = 0\n",
    "        self.E = 0\n",
    "        self.M = 0\n",
    "    def setVector(self,px,py,pz,m):\n",
    "        self.px = px\n",
    "        self.py = py\n",
    "        self.pz = pz\n",
    "        self.M = m\n",
    "        self.E = Efunc(px,py,pz,m)\n",
    "        self.theta = theta_func(px,py,pz)\n",
    "        self.phi = phi_func(px,py,pz)"
   ]
  },
  {
   "cell_type": "code",
   "execution_count": null,
   "id": "276cbf6a-4d83-4c31-859b-547fa14ee33e",
   "metadata": {},
   "outputs": [],
   "source": [
    "theta_min = 67\n",
    "theta_max = 113\n",
    "phi_min = -22\n",
    "phi_max = 22\n",
    "\n",
    "num_MC = 0\n",
    "num_hits = 0\n",
    "energy_dep = 0\n",
    "dep_count = 0\n",
    "hits_per_photon = []\n",
    "num_events = len(EDep_branch)\n",
    "for event_idx in range(len(EDep_branch)):\n",
    "    if(event_idx > 100):\n",
    "        break\n",
    "    num_MC = 0\n",
    "    primary = PVect()\n",
    "    primary.setVector(MC_px[event_idx][0],MC_py[event_idx][0],MC_pz[event_idx][0],MC_m[event_idx][0])\n",
    "    print(f\"event # {event_idx}: theta = {primary.theta}; phi = {primary.phi}\")"
   ]
  },
  {
   "cell_type": "code",
   "execution_count": 8,
   "id": "d187e58e-e41a-4ff0-9013-e1f88fba49f5",
   "metadata": {},
   "outputs": [
    {
     "name": "stdout",
     "output_type": "stream",
     "text": [
      "% of photons hitting = 0.8661019396447213%\n"
     ]
    }
   ],
   "source": [
    "num_MC = 0\n",
    "num_hits = 0\n",
    "energy_dep = 0\n",
    "dep_count = 0\n",
    "hits_per_photon = []\n",
    "num_events = len(EDep_branch)\n",
    "for event_idx in range(len(EDep_branch)):\n",
    "  \n",
    "    num_MC = 0\n",
    "    for i in range(len(PDG_branch[event_idx])):\n",
    "        if(PDG_branch[event_idx][i] == -22 and (i < MC_daughters[event_idx][0])):num_MC+= 1\n",
    "    if(num_MC == 0):\n",
    "        print(f\"skipping event #{event_idx}, no optph found\")\n",
    "    else:\n",
    "        hits_per_photon.append(len(EDep_branch[event_idx]) / num_MC)\n",
    "#     if(not (event_idx % 100)):\n",
    "#         print(f\"{event_idx // 100} % done\")\n",
    "print(f\"% of photons hitting = {sum(hits_per_photon) / len(hits_per_photon) * 100}%\")"
   ]
  },
  {
   "cell_type": "markdown",
   "id": "01751a86-744d-4837-8951-871e32f65556",
   "metadata": {},
   "source": [
    "# Calculate % of photons hitting sensor for diff theta phi bins"
   ]
  },
  {
   "cell_type": "code",
   "execution_count": 184,
   "id": "9bff0e99-ee4e-402e-96e5-751e497041ce",
   "metadata": {},
   "outputs": [],
   "source": [
    "n_bins = 10\n",
    "\n",
    "theta_min = 68\n",
    "theta_max = 112\n",
    "phi_min = -22\n",
    "phi_max = 22\n",
    "\n",
    "theta_range = theta_max - theta_min\n",
    "phi_range = phi_max - phi_min\n",
    "\n",
    "phi_bins = np.linspace(phi_min,phi_max,n_bins+1)\n",
    "theta_bins = np.linspace(theta_min,theta_max,n_bins+1)"
   ]
  },
  {
   "cell_type": "code",
   "execution_count": 185,
   "id": "cce1b91d-0bd1-42eb-a03d-123db9559365",
   "metadata": {},
   "outputs": [],
   "source": [
    "#works only for evenly spaced bins\n",
    "def findBin(val,bins):\n",
    "    diff = bins[1] - bins[0]\n",
    "    rel_dist = val - bins[0]\n",
    "    mod = np.floor(rel_dist / diff)\n",
    "    return int(mod)"
   ]
  },
  {
   "cell_type": "code",
   "execution_count": 186,
   "id": "83e137c8-8355-4505-ae93-af3a1b044cf1",
   "metadata": {},
   "outputs": [
    {
     "name": "stdout",
     "output_type": "stream",
     "text": [
      "99% done\n"
     ]
    }
   ],
   "source": [
    "theta_percent = [[] for i in range(n_bins)]\n",
    "phi_percent = [[] for i in range(n_bins)]\n",
    "\n",
    "theta_MC = np.zeros(n_bins)\n",
    "phi_MC = np.zeros(n_bins)\n",
    "\n",
    "theta_hits = np.zeros(n_bins)\n",
    "phi_hits = np.zeros(n_bins)\n",
    "\n",
    "theta_counts = np.zeros(n_bins)\n",
    "phi_counts = np.zeros(n_bins)\n",
    "\n",
    "num_MC = 0\n",
    "num_hits = 0\n",
    "energy_dep = 0\n",
    "dep_count = 0\n",
    "hits_per_photon = []\n",
    "num_events = len(EDep_branch)\n",
    "break_val = 10000\n",
    "for event_idx in range(len(EDep_branch)):\n",
    "    if(not (event_idx % (break_val // 100))):\n",
    "        clear_output(wait = True)\n",
    "        print(f\"{event_idx // (break_val // 100)}% done\")\n",
    "#     if(event_idx > break_val):\n",
    "#         break\n",
    "    num_MC = 0\n",
    "    primary = PVect()\n",
    "    primary.setVector(MC_px[event_idx][0],MC_py[event_idx][0],MC_pz[event_idx][0],MC_m[event_idx][0])\n",
    "    phi_bin = findBin(primary.phi,phi_bins)\n",
    "    theta_bin = findBin(primary.theta,theta_bins)\n",
    "    phi_counts[phi_bin]+=1\n",
    "    theta_counts[theta_bin]+=1\n",
    "#     print(f\"theta, phi: {primary.theta}, {primary.phi} | px,pz = {primary.px,primary.pz} | theta, phi bins: {theta_bin},{phi_bin}\")\n",
    "    for i in range(len(PDG_branch[event_idx])):\n",
    "        if(PDG_branch[event_idx][i] == -22 and (i < MC_daughters[event_idx][0])):\n",
    "            theta_MC[theta_bin] += 1\n",
    "            phi_MC[phi_bin] += 1\n",
    "    for hit in range(len(EDep_branch[event_idx])):\n",
    "        #check if hit is from optph\n",
    "        if(PDG_branch[event_idx][Hits_MC_idx_branch[event_idx][hit]] == -22):\n",
    "            theta_hits[theta_bin] += 1\n",
    "            phi_hits[phi_bin] += 1\n",
    "for i in range(n_bins):\n",
    "    #if no MCParticles, then just set to -1\n",
    "    if(not len(theta_MC)):\n",
    "        theta_percent[i] = -1\n",
    "    else:\n",
    "        theta_percent[i] = (theta_hits[i] / theta_MC[i]) * 100\n",
    "    if(not len(phi_MC)):\n",
    "        phi_percent[i] = -1\n",
    "    else:\n",
    "        phi_percent[i] = (phi_hits[i] / phi_MC[i]) * 100"
   ]
  },
  {
   "cell_type": "code",
   "execution_count": 187,
   "id": "58b31a08-c5ea-4e30-99d4-182142141dc7",
   "metadata": {},
   "outputs": [],
   "source": [
    "theta_bin_centers = np.empty(n_bins)\n",
    "phi_bin_centers = np.empty(n_bins)\n",
    "for i in range(len(theta_bins) - 1):\n",
    "    theta_bin_centers[i] = (theta_bins[i] + theta_bins[i+1]) / 2\n",
    "    phi_bin_centers[i] = (phi_bins[i] + phi_bins[i+1]) / 2"
   ]
  },
  {
   "cell_type": "code",
   "execution_count": 190,
   "id": "1591e738-c7c9-428c-9e63-134b191a7a1b",
   "metadata": {},
   "outputs": [
    {
     "data": {
      "image/png": "[encoded data removed]",
      "text/plain": [
       "<Figure size 720x288 with 2 Axes>"
      ]
     },
     "metadata": {
      "needs_background": "light"
     },
     "output_type": "display_data"
    }
   ],
   "source": [
    "fig, (ax1,ax2) = plot.subplots(1,2, figsize=(10,4))\n",
    "fig.suptitle(\"Percentage of photons reaching sensor as a fraction of total photons generated\")\n",
    "ax1.scatter(phi_bin_centers,phi_percent,color=\"red\")\n",
    "ax1.set_xlabel(\"phi (deg)\")\n",
    "ax1.set_ylabel(\"percentage\")\n",
    "ax2.scatter(theta_bin_centers,theta_percent,color = \"blue\")\n",
    "ax2.set_xlabel(\"theta (deg)\")\n",
    "fig.show()\n",
    "fig.savefig(\"plots/percentage/June_14_mu_5GeV_10k_phi_theta_10_bins.jpeg\")"
   ]
  },
  {
   "cell_type": "markdown",
   "id": "1eb63211-9fdc-42fa-836c-bead7b67c680",
   "metadata": {},
   "source": [
    "# OLD EXTRA"
   ]
  },
  {
   "cell_type": "code",
   "execution_count": null,
   "id": "bad8b109-c35e-4203-bfd0-6684927ccb0e",
   "metadata": {},
   "outputs": [],
   "source": [
    "print(\"theta:           phi: \")\n",
    "for i in range(n_bins):\n",
    "    print(f\"bin #{i}: {theta_counts[i]}    |   {phi_counts[i]}\")\n",
    "\n",
    "print(\"theta:           phi: \")\n",
    "for i in range(n_bins):\n",
    "    print(\"bin #%d: %3.2f%%    |    %3.2f%%\"%(i,phi_percent[i][0] * 100, theta_percent[i][0] * 100))"
   ]
  },
  {
   "cell_type": "code",
   "execution_count": 139,
   "id": "148e7ab3-e658-498f-a33d-dae3828945ee",
   "metadata": {},
   "outputs": [],
   "source": [
    "momenta = [[ 0.888, -0.296, -0.352],\n",
    "[0.963,  0.268, -0.025],\n",
    "[0.992,  0.066, -0.106],\n",
    " [0.966, -0.241,  0.094]]"
   ]
  },
  {
   "cell_type": "code",
   "execution_count": 140,
   "id": "2a161ea7-5cfb-4915-94bb-6a93aa55b4da",
   "metadata": {},
   "outputs": [
    {
     "name": "stdout",
     "output_type": "stream",
     "text": [
      "theta: 110.609003464003\n",
      "theta: 91.4326741440222\n",
      "theta: 96.0858346943626\n",
      "theta: 84.6064309740122\n"
     ]
    }
   ],
   "source": [
    "for i in range(len(momenta)):\n",
    "    print(f\"theta: {theta_func(momenta[i][0],momenta[i][1],momenta[i][2])}\")"
   ]
  },
  {
   "cell_type": "code",
   "execution_count": 127,
   "id": "d8a755e1-7390-47a8-9dcc-871439a66064",
   "metadata": {},
   "outputs": [
    {
     "name": "stdout",
     "output_type": "stream",
     "text": [
      "theta: 79.9798645288412 | phi: -5.01006324057405\n"
     ]
    }
   ],
   "source": [
    "print(f\"theta: {theta_func(0.981,-0.086,0.174)} | phi: {phi_func(0.981,-0.086,0.174)}\")"
   ]
  },
  {
   "cell_type": "code",
   "execution_count": 128,
   "id": "f05ea23f-6333-4d75-90a1-1aee9e02f402",
   "metadata": {},
   "outputs": [
    {
     "name": "stdout",
     "output_type": "stream",
     "text": [
      "theta: 88.0097381614281 | phi: -4.99999734919290\n"
     ]
    }
   ],
   "source": [
    "print(f\"theta: {theta_func(4.9053010,-0.429158,0.8682408)} | phi: {phi_func(4.9053010,-0.429158,0.8682408)}\")"
   ]
  },
  {
   "cell_type": "code",
   "execution_count": 129,
   "id": "3d630f88-542a-4775-ac07-cb33b582478b",
   "metadata": {},
   "outputs": [
    {
     "data": {
      "text/plain": [
       "24.999996576349638"
      ]
     },
     "execution_count": 129,
     "metadata": {},
     "output_type": "execute_result"
    }
   ],
   "source": [
    "4.9053010 ** 2 + (-0.429158) ** 2 + (0.8682408) ** 2"
   ]
  },
  {
   "cell_type": "markdown",
   "id": "56322918-6d08-4341-86c8-de5d2fff18d3",
   "metadata": {},
   "source": [
    "ddsim_shoot =  0.923  0.032  0.383\n",
    "MCParticle momentum = 4.6165838 0.1612146 1.9134172"
   ]
  },
  {
   "cell_type": "code",
   "execution_count": 130,
   "id": "a536ab1a-d00d-4a8e-8d47-93bd85c67496",
   "metadata": {},
   "outputs": [],
   "source": [
    "def r_func(x,y,z):\n",
    "    return np.sqrt(x**2 + y**2 + z**2)"
   ]
  },
  {
   "cell_type": "code",
   "execution_count": 132,
   "id": "7ed2ff37-9a5c-464c-85ff-e70083f2c730",
   "metadata": {},
   "outputs": [
    {
     "data": {
      "text/plain": [
       "5.0000001510931416"
      ]
     },
     "execution_count": 132,
     "metadata": {},
     "output_type": "execute_result"
    }
   ],
   "source": [
    "r_func(4.6165838,0.1612146,1.9134172)"
   ]
  },
  {
   "cell_type": "code",
   "execution_count": 135,
   "id": "2455766e-4268-42d8-9430-eacfb1dc3d07",
   "metadata": {},
   "outputs": [
    {
     "data": {
      "text/plain": [
       "array([0.92331676, 0.03224292, 0.38268344])"
      ]
     },
     "execution_count": 135,
     "metadata": {},
     "output_type": "execute_result"
    }
   ],
   "source": [
    "np.array([4.6165838,0.1612146,1.9134172]) / 5"
   ]
  },
  {
   "cell_type": "code",
   "execution_count": null,
   "id": "101b40e7-c0c6-4ff7-9a7a-104f726741a8",
   "metadata": {},
   "outputs": [],
   "source": []
  }
 ],
 "metadata": {
  "kernelspec": {
   "display_name": "Python 3",
   "language": "python",
   "name": "python3"
  },
  "language_info": {
   "codemirror_mode": {
    "name": "ipython",
    "version": 3
   },
   "file_extension": ".py",
   "mimetype": "text/x-python",
   "name": "python",
   "nbconvert_exporter": "python",
   "pygments_lexer": "ipython3",
   "version": "3.8.8"
  }
 },
 "nbformat": 4,
 "nbformat_minor": 5
}
