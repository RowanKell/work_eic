{
 "cells": [
  {
   "cell_type": "markdown",
   "id": "97963b47-d6b6-4f4a-b510-7743f4bc1ec2",
   "metadata": {},
   "source": [
    "# Notebook for looking at photon yield / percentage for diff theta, phi"
   ]
  },
  {
   "cell_type": "code",
   "execution_count": 76,
   "id": "e7479ba6-556e-4413-9054-ec96ab31f0eb",
   "metadata": {},
   "outputs": [],
   "source": [
    "#imports\n",
    "import numpy as np\n",
    "import uproot as up\n",
    "import pandas as pd\n",
    "import matplotlib.pyplot as plot\n",
    "from scipy.stats import norm\n",
    "import sympy"
   ]
  },
  {
   "cell_type": "code",
   "execution_count": 122,
   "id": "45db97b8-bfa8-43dd-bee8-1864a68a8f91",
   "metadata": {},
   "outputs": [],
   "source": [
    "particle = \"mu\"\n",
    "energy = \"5\"\n",
    "color_dict = {\n",
    "    \"pi\" : \"red\",\n",
    "    \"mu\" : \"blue\"\n",
    "}\n",
    "\n",
    "# uproot_path = f\"/cwork/rck32/eic/work_eic/root_files/June_13/variation/full_{particle}_{energy}GeV_10k.edm4hep.root:events\"\n",
    "uproot_path = f\"/cwork/rck32/eic/work_eic/root_files/June_14/variation/full_{particle}_{energy}GeV_1000.edm4hep.root:events\"\n",
    "events = up.open(uproot_path)\n",
    "\n",
    "x_pos_branch = events[\"HcalBarrelHits/HcalBarrelHits.position.x\"].array(library='np')\n",
    "EDep_branch = events[\"HcalBarrelHits.EDep\"].array(library='np')\n",
    "Pathlength_branch = events[\"HcalBarrelHits.pathLength\"].array(library='np')\n",
    "Hits_MC_idx_branch = events[\"_HcalBarrelHits_MCParticle.index\"].array(library='np')\n",
    "MC_parents = events[\"_MCParticles_parents.index\"].array(library='np')\n",
    "MC_daughters = events[\"MCParticles.daughters_end\"].array(library='np')\n",
    "PDG_branch = events[\"MCParticles.PDG\"].array(library='np')\n",
    "MC_endpoint_x_branch = events[\"MCParticles.endpoint.x\"].array(library='np')\n",
    "layer_map = [1830.8000, 1841.4000, 1907.5, 1918.1,1984.1999, 1994.8000, 2060.8999,2071.5,2137.6001,2148.1999,2214.3000,2224.8999,2291,2301.6001,2367.6999,2378.3000,2444.3999,2455,2521.1001,2531.6999,2597.8000,2608.3999,2674.5,2685.1001,2751.1999,2761.8000,2827.8999,2838.5]    "
   ]
  },
  {
   "cell_type": "code",
   "execution_count": 81,
   "id": "a4116780-ede9-4f05-ab95-d65a577d3a8d",
   "metadata": {},
   "outputs": [],
   "source": [
    "def get_num_layers_traversed(x_pos):\n",
    "    #This map contains the midpoints of each layer - each layer is 1cm in width, so we can check the 0.5cm on each side to see if a hit was in the layer\n",
    "    layer_map = [1830.8000, 1841.4000, 1907.5, 1918.1,1984.1999, 1994.8000, 2060.8999,2071.5,2137.6001,2148.1999,2214.3000,2224.8999,2291,2301.6001,2367.6999,2378.3000,2444.3999,2455,2521.1001,2531.6999,2597.8000,2608.3999,2674.5,2685.1001,2751.1999,2761.8000,2827.8999,2838.5]\n",
    "    for layer_idx in range(len(layer_map)):\n",
    "        #check if particle hit within layer\n",
    "        if ((x_pos >= layer_map[layer_idx] - 5) and (x_pos <= layer_map[layer_idx] + 5)):\n",
    "            return layer_idx\n",
    "    #if no layers hit, send error code\n",
    "    return -1\n",
    "#theta = 0: px, py = 0\n",
    "#theta - xz plane\n",
    "#phi - xy plane\n",
    "#https://stackoverflow.com/questions/4116658/faster-numpy-cartesian-to-spherical-coordinate-conversion\n",
    "def theta_func(px,py,pz):\n",
    "    return sympy.acos(pz / (px ** 2 + py ** 2 + pz ** 2)) * 180 / np.pi\n",
    "def phi_func(px,py,pz):\n",
    "    return sympy.atan2(py,px) * 180 / np.pi\n",
    "\n",
    "\n",
    "def Efunc(px,py,pz,m):\n",
    "    return np.sqrt(px**2 + py**2 + pz**2 + m**2)\n",
    "    \n",
    "class PVect:\n",
    "    def __init__(self):\n",
    "        self.px = 0\n",
    "        self.py = 0\n",
    "        self.pz = 0\n",
    "        self.theta = 0\n",
    "        self.phi = 0\n",
    "        self.E = 0\n",
    "        self.M = 0\n",
    "    def setVector(self,px,py,pz,m):\n",
    "        self.px = px\n",
    "        self.py = py\n",
    "        self.pz = pz\n",
    "        self.M = m\n",
    "        self.E = Efunc(px,py,pz,m)\n",
    "        self.theta = theta_func(px,py,pz)\n",
    "        self.phi = phi_func(px,py,pz)"
   ]
  },
  {
   "cell_type": "code",
   "execution_count": 82,
   "id": "3aa6f40f-562a-4131-92ef-f28ddf8168d3",
   "metadata": {},
   "outputs": [],
   "source": [
    "MC_px = events[\"MCParticles.momentum.x\"].array(library='np')\n",
    "MC_py = events[\"MCParticles.momentum.y\"].array(library='np')\n",
    "MC_pz = events[\"MCParticles.momentum.z\"].array(library='np')\n",
    "MC_m = events[\"MCParticles.mass\"].array(library='np')"
   ]
  },
  {
   "cell_type": "code",
   "execution_count": 123,
   "id": "276cbf6a-4d83-4c31-859b-547fa14ee33e",
   "metadata": {},
   "outputs": [
    {
     "name": "stdout",
     "output_type": "stream",
     "text": [
      "event # 0: theta = 89.3530148321767; phi = 4.01573352795426\n",
      "event # 1: theta = 89.0114218371604; phi = 8.46837938248004\n",
      "event # 2: theta = 87.6057750995283; phi = -2.01202528670779\n",
      "event # 3: theta = 87.8552717378511; phi = 7.33920036633500\n",
      "event # 4: theta = 90.5827053247652; phi = -7.02444096426377\n",
      "event # 5: theta = 87.1267667429213; phi = 21.8044846258304\n",
      "event # 6: theta = 92.8348600306281; phi = -11.1865578922539\n",
      "event # 7: theta = 93.7274121072484; phi = 21.5408988224047\n",
      "event # 8: theta = 90.3748902186229; phi = 1.20209508008446\n",
      "event # 9: theta = 93.4148532986721; phi = 21.1133981929454\n",
      "event # 10: theta = 89.2519254602501; phi = 19.7671867285016\n",
      "event # 11: theta = 91.8637791020725; phi = 1.06216575346831\n",
      "event # 12: theta = 88.9600627219755; phi = 10.5618426842637\n",
      "event # 13: theta = 88.2396864925557; phi = 6.60582140210935\n",
      "event # 14: theta = 90.2870852115768; phi = 21.0286917046788\n",
      "event # 15: theta = 92.6879967932876; phi = -10.6361454283866\n",
      "event # 16: theta = 88.7347431542579; phi = 8.42643898533653\n",
      "event # 17: theta = 85.9641099596171; phi = 20.3272039561618\n",
      "event # 18: theta = 92.5620493024027; phi = -14.0919175844499\n",
      "event # 19: theta = 91.1003688129548; phi = 0.248642108431642\n",
      "event # 20: theta = 93.7701809419348; phi = -1.21558546260514\n",
      "event # 21: theta = 91.4623963253133; phi = 3.45332300200896\n",
      "event # 22: theta = 86.8983399261408; phi = -10.0853298315763\n",
      "event # 23: theta = 85.8737160978945; phi = -1.91203404933448\n",
      "event # 24: theta = 93.9916173388454; phi = 19.4086145467624\n",
      "event # 25: theta = 90.9535767690818; phi = 8.74701467294098\n",
      "event # 26: theta = 85.9727075958503; phi = -8.99038797344688\n",
      "event # 27: theta = 87.3600654390103; phi = 18.5940552932656\n",
      "event # 28: theta = 88.4080679236519; phi = -5.96755388455000\n",
      "event # 29: theta = 91.9272934612031; phi = -16.6446258064433\n",
      "event # 30: theta = 94.1240914612842; phi = 1.98415022223110\n",
      "event # 31: theta = 90.1906459580222; phi = 5.78524551086365\n",
      "event # 32: theta = 89.6079139715922; phi = 3.53797970578569\n",
      "event # 33: theta = 88.2248830522566; phi = -6.20532096578515\n",
      "event # 34: theta = 88.1316383295367; phi = -18.2402259948860\n",
      "event # 35: theta = 87.6568997836407; phi = 21.8874620137632\n",
      "event # 36: theta = 86.5097813491064; phi = -11.4300526183450\n",
      "event # 37: theta = 89.9336669616489; phi = -13.3367718698133\n",
      "event # 38: theta = 92.5012436378994; phi = 2.22546232342747\n",
      "event # 39: theta = 91.5587069530801; phi = -4.14450900387379\n",
      "event # 40: theta = 92.8934048376718; phi = 11.0955712727183\n",
      "event # 41: theta = 89.1322471771687; phi = -6.01307633645823\n",
      "event # 42: theta = 90.1657010662761; phi = 10.0698589977603\n",
      "event # 43: theta = 91.5644292134418; phi = 3.30772036848622\n",
      "event # 44: theta = 91.1727140554756; phi = -15.8191066796223\n",
      "event # 45: theta = 87.3218023293859; phi = 0.527509928888333\n",
      "event # 46: theta = 86.2324440938227; phi = 7.31306958039035\n",
      "event # 47: theta = 93.2504865451161; phi = -7.39125672898525\n",
      "event # 48: theta = 89.3062227641746; phi = -7.71949801378620\n",
      "event # 49: theta = 92.3734614571546; phi = -7.85562823740400\n",
      "event # 50: theta = 91.1529482285698; phi = 9.36258653436225\n",
      "event # 51: theta = 93.1597508824115; phi = -0.592552302534548\n",
      "event # 52: theta = 92.7794603297603; phi = -5.40604190793551\n",
      "event # 53: theta = 92.4986468093331; phi = 18.7538343638657\n",
      "event # 54: theta = 88.5173862362485; phi = 6.88897615285311\n",
      "event # 55: theta = 92.4817656282023; phi = -21.8231015965601\n",
      "event # 56: theta = 92.5125636082432; phi = -8.66864174320066\n",
      "event # 57: theta = 86.2718056654298; phi = -13.0831939631235\n",
      "event # 58: theta = 90.2723090826894; phi = 5.19439225583064\n",
      "event # 59: theta = 87.5997845333611; phi = 1.72933832803120\n",
      "event # 60: theta = 91.8199829710998; phi = 15.0514079879831\n",
      "event # 61: theta = 85.8611702139227; phi = 0.640618013325725\n",
      "event # 62: theta = 90.1880527144952; phi = 15.2353507500469\n",
      "event # 63: theta = 86.1502849600112; phi = 21.9990132704158\n",
      "event # 64: theta = 89.8279546651780; phi = 9.33064431990779\n",
      "event # 65: theta = 86.7655911937083; phi = 0.00834646152083731\n",
      "event # 66: theta = 89.8055598419843; phi = -9.13754485446075\n",
      "event # 67: theta = 90.4792583703314; phi = -6.53325990087884\n",
      "event # 68: theta = 91.6916647501040; phi = 14.4228654455460\n",
      "event # 69: theta = 87.9957056747076; phi = 13.2108996796370\n",
      "event # 70: theta = 86.4050069126568; phi = 5.29242520207792\n",
      "event # 71: theta = 90.5287788778149; phi = -12.0441309450678\n",
      "event # 72: theta = 86.5246791751888; phi = 4.69529727992739\n",
      "event # 73: theta = 91.7898389943837; phi = 17.5512936518834\n",
      "event # 74: theta = 92.1084159199810; phi = 20.5678524665348\n",
      "event # 75: theta = 92.2959376643589; phi = -15.1752329427922\n",
      "event # 76: theta = 92.7532262035436; phi = 17.7056474273347\n",
      "event # 77: theta = 93.0120357907537; phi = 14.5015977950186\n",
      "event # 78: theta = 90.9699415718862; phi = -8.70518841584760\n",
      "event # 79: theta = 88.3826694091691; phi = -14.2576975074728\n",
      "event # 80: theta = 93.6181122784911; phi = -12.9578584740339\n",
      "event # 81: theta = 90.9901394559746; phi = 15.2048437860100\n",
      "event # 82: theta = 92.1733055531465; phi = 9.29875674696668\n",
      "event # 83: theta = 89.0506397003731; phi = 0.401765766813444\n",
      "event # 84: theta = 91.3211097362116; phi = -4.27876623783919\n",
      "event # 85: theta = 93.4060769882653; phi = 11.7878622474089\n",
      "event # 86: theta = 85.8772237125574; phi = -4.05156075400862\n",
      "event # 87: theta = 87.9456366322181; phi = 0.291514750505868\n",
      "event # 88: theta = 91.9682034216089; phi = -16.6468236095363\n",
      "event # 89: theta = 90.2170210332775; phi = -6.87556833973039\n",
      "event # 90: theta = 89.7187158549049; phi = -9.10323119832645\n",
      "event # 91: theta = 89.4367110145538; phi = 4.62966553684680\n",
      "event # 92: theta = 91.1056365111752; phi = 5.82882151064041\n",
      "event # 93: theta = 94.2892077044069; phi = 7.10936723283974\n",
      "event # 94: theta = 90.7940767298659; phi = -16.9118009501689\n",
      "event # 95: theta = 92.6567798143736; phi = -14.5105687172565\n",
      "event # 96: theta = 89.3174999175152; phi = -6.03195437219622\n",
      "event # 97: theta = 89.9795604317280; phi = 2.64637106142771\n",
      "event # 98: theta = 87.0446802855298; phi = 17.8847283089652\n",
      "event # 99: theta = 88.3677331021977; phi = -9.15255791382040\n",
      "event # 100: theta = 93.2114887359386; phi = -5.45973630173070\n"
     ]
    }
   ],
   "source": [
    "theta_min = 67\n",
    "theta_max = 113\n",
    "phi_min = -22\n",
    "phi_max = 22\n",
    "\n",
    "num_MC = 0\n",
    "num_hits = 0\n",
    "energy_dep = 0\n",
    "dep_count = 0\n",
    "hits_per_photon = []\n",
    "num_events = len(EDep_branch)\n",
    "for event_idx in range(len(EDep_branch)):\n",
    "    if(event_idx > 100):\n",
    "        break\n",
    "    num_MC = 0\n",
    "    primary = PVect()\n",
    "    primary.setVector(MC_px[event_idx][0],MC_py[event_idx][0],MC_pz[event_idx][0],MC_m[event_idx][0])\n",
    "    print(f\"event # {event_idx}: theta = {primary.theta}; phi = {primary.phi}\")"
   ]
  },
  {
   "cell_type": "code",
   "execution_count": 8,
   "id": "d187e58e-e41a-4ff0-9013-e1f88fba49f5",
   "metadata": {},
   "outputs": [
    {
     "name": "stdout",
     "output_type": "stream",
     "text": [
      "% of photons hitting = 0.8661019396447213%\n"
     ]
    }
   ],
   "source": [
    "num_MC = 0\n",
    "num_hits = 0\n",
    "energy_dep = 0\n",
    "dep_count = 0\n",
    "hits_per_photon = []\n",
    "num_events = len(EDep_branch)\n",
    "for event_idx in range(len(EDep_branch)):\n",
    "  \n",
    "    num_MC = 0\n",
    "    for i in range(len(PDG_branch[event_idx])):\n",
    "        if(PDG_branch[event_idx][i] == -22 and (i < MC_daughters[event_idx][0])):num_MC+= 1\n",
    "    if(num_MC == 0):\n",
    "        print(f\"skipping event #{event_idx}, no optph found\")\n",
    "    else:\n",
    "        hits_per_photon.append(len(EDep_branch[event_idx]) / num_MC)\n",
    "#     if(not (event_idx % 100)):\n",
    "#         print(f\"{event_idx // 100} % done\")\n",
    "print(f\"% of photons hitting = {sum(hits_per_photon) / len(hits_per_photon) * 100}%\")"
   ]
  },
  {
   "cell_type": "markdown",
   "id": "01751a86-744d-4837-8951-871e32f65556",
   "metadata": {},
   "source": [
    "# Calculate % of photons hitting sensor for diff theta phi bins"
   ]
  },
  {
   "cell_type": "code",
   "execution_count": 110,
   "id": "9bff0e99-ee4e-402e-96e5-751e497041ce",
   "metadata": {},
   "outputs": [],
   "source": [
    "n_bins = 10\n",
    "\n",
    "theta_min = 68\n",
    "theta_max = 112\n",
    "phi_min = -22\n",
    "phi_max = 22\n",
    "\n",
    "theta_range = theta_max - theta_min\n",
    "phi_range = phi_max - phi_min\n",
    "\n",
    "phi_bins = np.linspace(phi_min,phi_max,n_bins+1)\n",
    "theta_bins = np.linspace(theta_min,theta_max,n_bins+1)"
   ]
  },
  {
   "cell_type": "code",
   "execution_count": 111,
   "id": "cce1b91d-0bd1-42eb-a03d-123db9559365",
   "metadata": {},
   "outputs": [],
   "source": [
    "#works only for evenly spaced bins\n",
    "def findBin(val,bins):\n",
    "    diff = bins[1] - bins[0]\n",
    "    rel_dist = val - bins[0]\n",
    "    mod = np.floor(rel_dist / diff)\n",
    "    return int(mod)"
   ]
  },
  {
   "cell_type": "code",
   "execution_count": 112,
   "id": "f210f1f9-4f00-48d6-8983-7a09734f43a3",
   "metadata": {},
   "outputs": [],
   "source": [
    "theta_percent = [[] for i in range(n_bins)]\n",
    "phi_percent = [[] for i in range(n_bins)]"
   ]
  },
  {
   "cell_type": "code",
   "execution_count": 113,
   "id": "65b18764-f642-4912-8934-6f65100ded83",
   "metadata": {},
   "outputs": [],
   "source": [
    "theta_MC = np.zeros(n_bins)\n",
    "phi_MC = np.zeros(n_bins)\n",
    "\n",
    "theta_hits = np.zeros(n_bins)\n",
    "phi_hits = np.zeros(n_bins)\n",
    "\n",
    "theta_counts = np.zeros(n_bins)\n",
    "phi_counts = np.zeros(n_bins)"
   ]
  },
  {
   "cell_type": "code",
   "execution_count": 114,
   "id": "1993fcd1-41e4-4b05-8812-a47d8a2f5906",
   "metadata": {},
   "outputs": [
    {
     "name": "stderr",
     "output_type": "stream",
     "text": [
      "<ipython-input-114-84bb065d2f7f>:32: RuntimeWarning: invalid value encountered in double_scalars\n",
      "  theta_percent[i].append(theta_hits[i] / theta_MC[i])\n"
     ]
    }
   ],
   "source": [
    "num_MC = 0\n",
    "num_hits = 0\n",
    "energy_dep = 0\n",
    "dep_count = 0\n",
    "hits_per_photon = []\n",
    "num_events = len(EDep_branch)\n",
    "break_val = 1000\n",
    "for event_idx in range(len(EDep_branch)):\n",
    "    if(event_idx % (break_val // 100))\n",
    "    if(event_idx > 1000):\n",
    "        break\n",
    "    num_MC = 0\n",
    "    primary = PVect()\n",
    "    primary.setVector(MC_px[event_idx][0],MC_py[event_idx][0],MC_pz[event_idx][0],MC_m[event_idx][0])\n",
    "    phi_bin = findBin(primary.phi,phi_bins)\n",
    "    theta_bin = findBin(primary.theta,theta_bins)\n",
    "    phi_counts[phi_bin]+=1\n",
    "    theta_counts[theta_bin]+=1\n",
    "#     print(f\"theta, phi: {primary.theta}, {primary.phi} | px,pz = {primary.px,primary.pz} | theta, phi bins: {theta_bin},{phi_bin}\")\n",
    "    for i in range(len(PDG_branch[event_idx])):\n",
    "        if(PDG_branch[event_idx][i] == -22 and (i < MC_daughters[event_idx][0])):\n",
    "            theta_MC[theta_bin] += 1\n",
    "            phi_MC[phi_bin] += 1\n",
    "    for hit in range(len(EDep_branch[event_idx])):\n",
    "        #check if hit is from optph\n",
    "        if(PDG_branch[event_idx][Hits_MC_idx_branch[event_idx][hit]] == -22):\n",
    "            theta_hits[theta_bin] += 1\n",
    "            phi_hits[phi_bin] += 1\n",
    "for i in range(n_bins):\n",
    "    #if no MCParticles, then just set to -1\n",
    "    if(not len(theta_MC)):\n",
    "        theta_percent[i] = -1\n",
    "    else:\n",
    "        theta_percent[i].append(theta_hits[i] / theta_MC[i])\n",
    "    if(not len(phi_MC)):\n",
    "        phi_percent[i] = -1\n",
    "    else:\n",
    "        phi_percent[i].append(phi_hits[i] / phi_MC[i])"
   ]
  },
  {
   "cell_type": "code",
   "execution_count": 115,
   "id": "363f7e1b-ce15-4601-94bb-5d7f18576533",
   "metadata": {},
   "outputs": [
    {
     "name": "stdout",
     "output_type": "stream",
     "text": [
      "theta:           phi: \n",
      "bin #0: 0.0    |   99.0\n",
      "bin #1: 0.0    |   104.0\n",
      "bin #2: 0.0    |   106.0\n",
      "bin #3: 0.0    |   89.0\n",
      "bin #4: 496.0    |   92.0\n",
      "bin #5: 505.0    |   104.0\n",
      "bin #6: 0.0    |   111.0\n",
      "bin #7: 0.0    |   94.0\n",
      "bin #8: 0.0    |   95.0\n",
      "bin #9: 0.0    |   107.0\n"
     ]
    }
   ],
   "source": [
    "print(\"theta:           phi: \")\n",
    "for i in range(n_bins):\n",
    "    print(f\"bin #{i}: {theta_counts[i]}    |   {phi_counts[i]}\")"
   ]
  },
  {
   "cell_type": "code",
   "execution_count": 120,
   "id": "ae589732-415f-463b-a251-9bd5438eca70",
   "metadata": {},
   "outputs": [
    {
     "name": "stdout",
     "output_type": "stream",
     "text": [
      "bin #0: 1.217720287219985%\n",
      "bin #1: 1.3867305159333871%\n",
      "bin #2: 1.1959096158699971%\n",
      "bin #3: 0.7840685903277309%\n",
      "bin #4: 0.8397362960786275%\n",
      "bin #5: 1.1291082481763683%\n",
      "bin #6: 0.9524290644134168%\n",
      "bin #7: 0.9171510648072877%\n",
      "bin #8: 1.0116415446288523%\n",
      "bin #9: 1.059408560544408%\n"
     ]
    }
   ],
   "source": [
    "for i in range(n_bins):\n",
    "    print(f\"bin #{i}: {phi_percent[i][0] * 100}%\")"
   ]
  },
  {
   "cell_type": "markdown",
   "id": "1eb63211-9fdc-42fa-836c-bead7b67c680",
   "metadata": {},
   "source": [
    "# OLD EXTRA"
   ]
  },
  {
   "cell_type": "code",
   "execution_count": 117,
   "id": "148e7ab3-e658-498f-a33d-dae3828945ee",
   "metadata": {},
   "outputs": [],
   "source": [
    "momenta = [[ 0.888, -0.296, -0.352],\n",
    "[0.963,  0.268, -0.025],\n",
    "[0.992,  0.066, -0.106],\n",
    " [0.966, -0.241,  0.094]]"
   ]
  },
  {
   "cell_type": "code",
   "execution_count": 121,
   "id": "2a161ea7-5cfb-4915-94bb-6a93aa55b4da",
   "metadata": {},
   "outputs": [
    {
     "name": "stdout",
     "output_type": "stream",
     "text": [
      "theta: 110.608314015655\n",
      "theta: 91.4328045623539\n",
      "theta: 96.0868856845777\n",
      "theta: 84.6066284120157\n"
     ]
    }
   ],
   "source": [
    "for i in range(len(momenta)):\n",
    "    print(f\"theta: {theta_func(momenta[i][0],momenta[i][1],momenta[i][2])}\")"
   ]
  },
  {
   "cell_type": "code",
   "execution_count": 127,
   "id": "d8a755e1-7390-47a8-9dcc-871439a66064",
   "metadata": {},
   "outputs": [
    {
     "name": "stdout",
     "output_type": "stream",
     "text": [
      "theta: 79.9798645288412 | phi: -5.01006324057405\n"
     ]
    }
   ],
   "source": [
    "print(f\"theta: {theta_func(0.981,-0.086,0.174)} | phi: {phi_func(0.981,-0.086,0.174)}\")"
   ]
  },
  {
   "cell_type": "code",
   "execution_count": 128,
   "id": "f05ea23f-6333-4d75-90a1-1aee9e02f402",
   "metadata": {},
   "outputs": [
    {
     "name": "stdout",
     "output_type": "stream",
     "text": [
      "theta: 88.0097381614281 | phi: -4.99999734919290\n"
     ]
    }
   ],
   "source": [
    "print(f\"theta: {theta_func(4.9053010,-0.429158,0.8682408)} | phi: {phi_func(4.9053010,-0.429158,0.8682408)}\")"
   ]
  },
  {
   "cell_type": "code",
   "execution_count": 129,
   "id": "3d630f88-542a-4775-ac07-cb33b582478b",
   "metadata": {},
   "outputs": [
    {
     "data": {
      "text/plain": [
       "24.999996576349638"
      ]
     },
     "execution_count": 129,
     "metadata": {},
     "output_type": "execute_result"
    }
   ],
   "source": [
    "4.9053010 ** 2 + (-0.429158) ** 2 + (0.8682408) ** 2"
   ]
  },
  {
   "cell_type": "code",
   "execution_count": null,
   "id": "98a8790e-d1cf-492d-ac2c-4ad9c08f34b2",
   "metadata": {},
   "outputs": [],
   "source": []
  }
 ],
 "metadata": {
  "kernelspec": {
   "display_name": "Python 3",
   "language": "python",
   "name": "python3"
  },
  "language_info": {
   "codemirror_mode": {
    "name": "ipython",
    "version": 3
   },
   "file_extension": ".py",
   "mimetype": "text/x-python",
   "name": "python",
   "nbconvert_exporter": "python",
   "pygments_lexer": "ipython3",
   "version": "3.8.8"
  }
 },
 "nbformat": 4,
 "nbformat_minor": 5
}
