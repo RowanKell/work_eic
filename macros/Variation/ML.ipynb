{
 "cells": [
  {
   "cell_type": "code",
   "execution_count": 1,
   "id": "3e6c0140-6983-476e-8ac7-511cde9d36fb",
   "metadata": {},
   "outputs": [],
   "source": [
    "import numpy as np\n",
    "import uproot as up\n",
    "import pandas as pd\n",
    "import matplotlib.pyplot as plot\n",
    "from scipy.stats import norm\n",
    "from scipy.optimize import curve_fit\n",
    "import sympy\n",
    "from IPython.display import clear_output\n",
    "import math\n",
    "import time\n",
    "import util\n",
    "#My imports\n",
    "from util import PVect,get_layer,create_layer_map,theta_func,phi_func,findBin,bin_percent_theta_phi"
   ]
  },
  {
   "cell_type": "code",
   "execution_count": 2,
   "id": "0570947a-ae4c-417e-a3c1-6b3063b89cda",
   "metadata": {},
   "outputs": [],
   "source": [
    "## PyTorch\n",
    "import torch\n",
    "import torch.nn as nn\n",
    "import torch.nn.functional as F\n",
    "import torch.utils.data as tdata\n",
    "import torch.optim as optim\n",
    "\n",
    "from tqdm import tqdm"
   ]
  },
  {
   "cell_type": "code",
   "execution_count": 3,
   "id": "e97c14f4-758c-4610-b6ed-3130e66777f2",
   "metadata": {},
   "outputs": [
    {
     "name": "stdout",
     "output_type": "stream",
     "text": [
      "Using device cuda:0\n"
     ]
    }
   ],
   "source": [
    "#roc-curve calculations\n",
    "from sklearn.metrics import roc_auc_score, roc_curve\n",
    "\n",
    "# Fetching the device that will be used throughout this notebook\n",
    "device = torch.device(\"cpu\") if not torch.cuda.is_available() else torch.device(\"cuda:0\")\n",
    "print(\"Using device\", device)"
   ]
  },
  {
   "cell_type": "code",
   "execution_count": 6,
   "id": "b458d35f-0bdf-4f07-979a-fb0871ccf9b8",
   "metadata": {},
   "outputs": [],
   "source": [
    "particle = \"mu\"\n",
    "energy = \"5\"\n",
    "color_dict = {\n",
    "    \"pi\" : \"red\",\n",
    "    \"mu\" : \"blue\"\n",
    "}\n",
    "part_dict = {\n",
    "    -211 : 1,\n",
    "    13 : 0\n",
    "}"
   ]
  },
  {
   "cell_type": "markdown",
   "id": "644b6779-3406-4861-a5a7-413d252f7289",
   "metadata": {},
   "source": [
    "Input:\n",
    "1. \\# hits per layer\n",
    "2. total energy per layer\n",
    "\n",
    "56 total"
   ]
  },
  {
   "cell_type": "code",
   "execution_count": 245,
   "id": "1d629ce2-2e98-4f89-8f4b-cc57425bd489",
   "metadata": {},
   "outputs": [],
   "source": [
    "def p_func(x,y,z):\n",
    "    return np.sqrt((x ** 2) + (y ** 2) + (z ** 2))"
   ]
  },
  {
   "cell_type": "code",
   "execution_count": 156,
   "id": "955ce296-9c94-434f-a051-44046a97347f",
   "metadata": {},
   "outputs": [],
   "source": [
    "def calculate_num_pixels(energy_dep):\n",
    "    efficiency = 0.005\n",
    "    return 10 * energy_dep * (1000 * 1000) * efficiency"
   ]
  },
  {
   "cell_type": "code",
   "execution_count": 260,
   "id": "e74ba2eb-7894-42bb-8e5c-c757947ab1a6",
   "metadata": {},
   "outputs": [],
   "source": [
    "def create_data_depth(uproot_path, file_num = 0, particle = \"pion\"):\n",
    "    events = up.open(uproot_path)\n",
    "\n",
    "    x_pos_branch = events[\"HcalBarrelHits/HcalBarrelHits.position.x\"].array(library='np')\n",
    "    EDep_branch = events[\"HcalBarrelHits.EDep\"].array(library='np')\n",
    "    Hits_MC_idx_branch = events[\"_HcalBarrelHits_MCParticle.index\"].array(library='np')\n",
    "    PDG_branch = events[\"MCParticles.PDG\"].array(library='np')\n",
    "\n",
    "    x_momentum_branch = events[\"MCParticles.momentum.x\"].array(library='np')\n",
    "    y_momentum_branch = events[\"MCParticles.momentum.y\"].array(library='np')\n",
    "    z_momentum_branch = events[\"MCParticles.momentum.z\"].array(library='np')\n",
    "    num_events = len(x_pos_branch)\n",
    "    num_features = 56\n",
    "    num_layers = 28\n",
    "\n",
    "    hits_per_layer = np.zeros((num_events,28))\n",
    "    EDep_per_layer = np.zeros((num_events,28))\n",
    "    label = np.zeros((num_events,1))\n",
    "    layers_traversed = np.zeros((num_events,1))\n",
    "    primary_momentum = np.zeros((num_events,1))\n",
    "    skip_count = 0\n",
    "    for event_idx in range(len(x_pos_branch)):\n",
    "        if(not event_idx % (len(x_pos_branch) // 10)):\n",
    "            clear_output(wait = True)\n",
    "            print(f\"on event #{event_idx} for file #{file_num} for {particle}\")\n",
    "        event_x_pos = x_pos_branch[event_idx]\n",
    "        event_EDep = EDep_branch[event_idx]\n",
    "        \n",
    "        current_px = x_momentum_branch[event_idx][0]\n",
    "        current_py = y_momentum_branch[event_idx][0]\n",
    "        current_pz = z_momentum_branch[event_idx][0]\n",
    "\n",
    "        primary_momentum[event_idx][0] = p_func(current_pz,current_py,current_pz)\n",
    "        #for each event, loop over the particles to find mu/pi\n",
    "        hit_layers = np.zeros(28)\n",
    "        for hit_idx in range(len(event_x_pos)):\n",
    "            current_x_pos = event_x_pos[hit_idx]\n",
    "            current_EDep = event_EDep[hit_idx]\n",
    "\n",
    "            layer_hit = get_layer(current_x_pos,super_layer_map)\n",
    "            if(layer_hit == -1):\n",
    "                skip_count += 1\n",
    "                continue\n",
    "            hit_layers[layer_hit] += 1\n",
    "            EDep_per_layer[event_idx][layer_hit] += current_EDep\n",
    "            hits_per_layer[event_idx][layer_hit] += 1\n",
    "        label[event_idx][0] = part_dict[PDG_branch[event_idx][0]]\n",
    "        for i in range(29):\n",
    "            if(i == 28):\n",
    "                layers_traversed[event_idx][0] = 28\n",
    "            elif(hit_layers[i] < 2):\n",
    "                if(i == 0):\n",
    "                    layers_traversed[event_idx][0] = 0\n",
    "                else:\n",
    "                    layers_traversed[event_idx][0] = i\n",
    "    return torch.cat((torch.tensor(EDep_per_layer),torch.tensor(primary_momentum),torch.tensor(layers_traversed),torch.tensor(label)),1)\n",
    "#     return torch.cat((torch.tensor(hits_per_layer),torch.tensor(EDep_per_layer),torch.tensor(primary_momentum),torch.tensor(label)),1)\n"
   ]
  },
  {
   "cell_type": "code",
   "execution_count": 246,
   "id": "4247e323-d7e3-43a0-bde1-c7c506787a7a",
   "metadata": {
    "jupyter": {
     "source_hidden": true
    },
    "tags": []
   },
   "outputs": [],
   "source": [
    "def create_data(uproot_path, file_num = 0, particle = \"pion\"):\n",
    "    events = up.open(uproot_path)\n",
    "\n",
    "    x_pos_branch = events[\"HcalBarrelHits/HcalBarrelHits.position.x\"].array(library='np')\n",
    "    EDep_branch = events[\"HcalBarrelHits.EDep\"].array(library='np')\n",
    "    Hits_MC_idx_branch = events[\"_HcalBarrelHits_MCParticle.index\"].array(library='np')\n",
    "    PDG_branch = events[\"MCParticles.PDG\"].array(library='np')\n",
    "\n",
    "    x_momentum_branch = events[\"MCParticles.momentum.x\"].array(library='np')\n",
    "    y_momentum_branch = events[\"MCParticles.momentum.y\"].array(library='np')\n",
    "    z_momentum_branch = events[\"MCParticles.momentum.z\"].array(library='np')\n",
    "    num_events = len(x_pos_branch)\n",
    "    num_features = 56\n",
    "    num_layers = 28\n",
    "\n",
    "    hits_per_layer = np.zeros((num_events,28))\n",
    "    EDep_per_layer = np.zeros((num_events,28))\n",
    "    label = np.zeros((num_events,1))\n",
    "    primary_momentum = np.zeros((num_events,1))\n",
    "    skip_count = 0\n",
    "    for event_idx in range(len(x_pos_branch)):\n",
    "        if(not event_idx % (len(x_pos_branch) // 10)):\n",
    "            clear_output(wait = True)\n",
    "            print(f\"on event #{event_idx} for file #{file_num} for {particle}\")\n",
    "        event_x_pos = x_pos_branch[event_idx]\n",
    "        event_EDep = EDep_branch[event_idx]\n",
    "        \n",
    "        current_px = x_momentum_branch[event_idx][0]\n",
    "        current_py = y_momentum_branch[event_idx][0]\n",
    "        current_pz = z_momentum_branch[event_idx][0]\n",
    "\n",
    "        primary_momentum[event_idx][0] = p_func(current_pz,current_py,current_pz)\n",
    "        #for each event, loop over the particles to find mu/pi\n",
    "        for hit_idx in range(len(event_x_pos)):\n",
    "            current_x_pos = event_x_pos[hit_idx]\n",
    "            current_EDep = event_EDep[hit_idx]\n",
    "\n",
    "            layer_hit = get_layer(current_x_pos,super_layer_map)\n",
    "            if(layer_hit == -1):\n",
    "                skip_count += 1\n",
    "                continue\n",
    "            EDep_per_layer[event_idx][layer_hit] += current_EDep\n",
    "            hits_per_layer[event_idx][layer_hit] += 1\n",
    "        label[event_idx][0] = part_dict[PDG_branch[event_idx][0]]\n",
    "    return torch.cat((torch.tensor(EDep_per_layer),torch.tensor(primary_momentum),torch.tensor(label)),1)\n",
    "#     return torch.cat((torch.tensor(hits_per_layer),torch.tensor(EDep_per_layer),torch.tensor(primary_momentum),torch.tensor(label)),1)\n"
   ]
  },
  {
   "cell_type": "code",
   "execution_count": 247,
   "id": "036f9668-ad77-40f5-bbd7-4d449a04526b",
   "metadata": {},
   "outputs": [],
   "source": [
    "layer_map, super_layer_map = create_layer_map()"
   ]
  },
  {
   "cell_type": "code",
   "execution_count": 263,
   "id": "3fe4151c-5f3e-4420-b349-cf3f6d55666a",
   "metadata": {},
   "outputs": [
    {
     "name": "stdout",
     "output_type": "stream",
     "text": [
      "on event #9000 for file #14 for pion\n"
     ]
    }
   ],
   "source": [
    "for i in range(10,14):\n",
    "    if(i == 10):\n",
    "        mu_data = create_data_depth(uproot_path = f\"/cwork/rck32/eic/work_eic/root_files/June_18/variation_sector_scint_uniform/mu/variation_10kevents_file_{i}.edm4hep.root:events\",file_num = i, particle = \"muon\")\n",
    "        pi_data = create_data_depth(uproot_path = f\"/cwork/rck32/eic/work_eic/root_files/June_18/variation_sector_scint_uniform/pi/variation_10kevents_file_{i}.edm4hep.root:events\",file_num=i,particle=\"pion\")\n",
    "    else:\n",
    "        add_mu = create_data_depth(uproot_path = f\"/cwork/rck32/eic/work_eic/root_files/June_18/variation_sector_scint_uniform/mu/variation_10kevents_file_{i}.edm4hep.root:events\",file_num = i, particle = \"muon\")\n",
    "        mu_data = torch.cat((mu_data, add_mu),0)\n",
    "        add_pi = create_data_depth(uproot_path = f\"/cwork/rck32/eic/work_eic/root_files/June_18/variation_sector_scint_uniform/pi/variation_10kevents_file_{i}.edm4hep.root:events\",file_num=i,particle=\"pion\")\n",
    "        pi_data = torch.cat((pi_data, add_pi),0)\n",
    "for i in range(14,15):\n",
    "    if(i == 14):\n",
    "        test_mu_data = create_data_depth(uproot_path = f\"/cwork/rck32/eic/work_eic/root_files/June_18/variation_sector_scint_uniform/mu/variation_10kevents_file_{i}.edm4hep.root:events\",file_num = i, particle = \"muon\")\n",
    "        test_pi_data = create_data_depth(uproot_path = f\"/cwork/rck32/eic/work_eic/root_files/June_18/variation_sector_scint_uniform/pi/variation_10kevents_file_{i}.edm4hep.root:events\",file_num=i,particle=\"pion\")\n",
    "    else:\n",
    "        test_add_mu = create_data_depth(uproot_path = f\"/cwork/rck32/eic/work_eic/root_files/June_18/variation_sector_scint_uniform/mu/variation_10kevents_file_{i}.edm4hep.root:events\",file_num = i, particle = \"muon\")\n",
    "        test_mu_data = torch.cat((test_mu_data, test_add_mu),0)\n",
    "        test_add_pi = create_data_depth(uproot_path = f\"/cwork/rck32/eic/work_eic/root_files/June_18/variation_sector_scint_uniform/pi/variation_10kevents_file_{i}.edm4hep.root:events\",file_num=i,particle=\"pion\")\n",
    "        test_pi_data = torch.cat((test_pi_data, test_add_pi),0)"
   ]
  },
  {
   "cell_type": "code",
   "execution_count": 264,
   "id": "5cb62056-c20e-47a3-950f-83a5f298f432",
   "metadata": {},
   "outputs": [],
   "source": [
    "dataset = torch.cat((mu_data,pi_data),)\n",
    "indexes = torch.randperm(dataset.shape[0])\n",
    "dataset_shuffled = dataset[indexes]\n",
    "\n",
    "test_dataset = torch.cat((test_mu_data,test_pi_data),)\n",
    "test_indexes = torch.randperm(test_dataset.shape[0])\n",
    "test_dataset_shuffled = test_dataset[test_indexes]"
   ]
  },
  {
   "cell_type": "code",
   "execution_count": 265,
   "id": "e3b8ce4e-c249-4185-b196-dd563ff69674",
   "metadata": {},
   "outputs": [],
   "source": [
    "class Classifier(nn.Module):\n",
    "    \"\"\"\n",
    "    Classifier for normalized tensors\n",
    "    \"\"\"\n",
    "    def __init__(self, input_size=29, num_classes=2, hidden_dim = 256, num_layers = 5):\n",
    "        super(Classifier, self).__init__()\n",
    "        self.layer = nn.Sequential()\n",
    "        for i in range(num_layers):\n",
    "            if(i == 0):\n",
    "                self.layer.append(\n",
    "                nn.Linear(input_size, hidden_dim)\n",
    "                )\n",
    "                self.layer.append(\n",
    "                    nn.ReLU(inplace=True)\n",
    "                )\n",
    "            elif(i == num_layers - 1):\n",
    "                self.layer.append(\n",
    "                nn.Linear(hidden_dim, num_classes)\n",
    "                )\n",
    "            else:\n",
    "                self.layer.append(\n",
    "                    nn.Linear(hidden_dim, hidden_dim)\n",
    "                )\n",
    "                self.layer.append(\n",
    "                    nn.ReLU(inplace=True)\n",
    "                )\n",
    "        self.name = \"Classifier\"\n",
    "        self.double()\n",
    "        \n",
    "    def forward(self, h):\n",
    "        c = self.layer(h)\n",
    "        return c\n",
    "    \n",
    "    # @property\n",
    "    def name(self):\n",
    "        \"\"\"\n",
    "        Name of model.\n",
    "        \"\"\"\n",
    "        return self.name"
   ]
  },
  {
   "cell_type": "code",
   "execution_count": 268,
   "id": "be5b2847-058b-4a1a-ae3b-25ea71476803",
   "metadata": {},
   "outputs": [],
   "source": [
    "classifier = Classifier(num_layers = 10, input_size=30).to(device)\n",
    "\n",
    "criterion = nn.CrossEntropyLoss()\n",
    "optimizer = torch.optim.Adam(classifier.parameters(), lr=5e-4, weight_decay=1e-5)\n",
    "num_epochs_classifier = 15"
   ]
  },
  {
   "cell_type": "code",
   "execution_count": 269,
   "id": "3a84ee98-2e19-421f-8bfc-f15b02ec9531",
   "metadata": {},
   "outputs": [
    {
     "name": "stderr",
     "output_type": "stream",
     "text": [
      "100%|██████████| 800/800 [00:03<00:00, 202.72it/s]"
     ]
    },
    {
     "name": "stdout",
     "output_type": "stream",
     "text": [
      "Finished Training\n"
     ]
    },
    {
     "name": "stderr",
     "output_type": "stream",
     "text": [
      "\n"
     ]
    }
   ],
   "source": [
    "train_data = dataset_shuffled\n",
    "\n",
    "num_epochs = 1\n",
    "batch_size = 100\n",
    "num_it = train_data.shape[0] // batch_size\n",
    "\n",
    "show_progress = True\n",
    "loss_hist = []\n",
    "curr_losses = []\n",
    "for i in range(num_epochs):\n",
    "    epoch_hist = np.array([])\n",
    "    val_epoch_hist = np.array([])\n",
    "    with tqdm(total=num_it, position=0, leave=True) as pbar:\n",
    "        for it in range(num_it):\n",
    "            optimizer.zero_grad()\n",
    "            #randomly sample the latent space\n",
    "            begin = it * batch_size\n",
    "            end = (it + 1) * batch_size\n",
    "            it_data = train_data[begin:end]\n",
    "            samples = it_data[:,:30]\n",
    "            labels = it_data[:,30]#.unsqueeze(1)\n",
    "#             print(labels)\n",
    "            samples = samples.to(device)\n",
    "            labels = (labels.type(torch.LongTensor)).to(device)\n",
    "            # forward + backward + optimize\n",
    "            outputs = classifier(samples)\n",
    "#             print(outputs)\n",
    "            loss = criterion(outputs, labels)\n",
    "            # Do backprop and optimizer step\n",
    "            if ~(torch.isnan(loss) | torch.isinf(loss)):\n",
    "                loss.backward()\n",
    "                optimizer.step()\n",
    "            # Log loss\n",
    "            if~(torch.isnan(loss)):\n",
    "                curr_losses.append(loss.to('cpu').data.numpy())\n",
    "                if(not (it % 5)):\n",
    "                    loss_hist.append(sum(curr_losses) / len(curr_losses))\n",
    "                    curr_losses = []\n",
    "            if(show_progress):\n",
    "                pbar.update(1)\n",
    "\n",
    "print('Finished Training')"
   ]
  },
  {
   "cell_type": "code",
   "execution_count": 270,
   "id": "8570b636-2545-4603-a9c6-29d3be649a34",
   "metadata": {},
   "outputs": [
    {
     "data": {
      "text/plain": [
       "[<matplotlib.lines.Line2D at 0x7fdcd75e91c0>]"
      ]
     },
     "execution_count": 270,
     "metadata": {},
     "output_type": "execute_result"
    },
    {
     "data": {
      "image/png": "[encoded data removed]",
      "text/plain": [
       "<Figure size 640x480 with 1 Axes>"
      ]
     },
     "metadata": {},
     "output_type": "display_data"
    }
   ],
   "source": [
    "plot.plot(loss_hist)"
   ]
  },
  {
   "cell_type": "code",
   "execution_count": 271,
   "id": "a1c0a69c-82b8-462b-a5d0-6033faa603ea",
   "metadata": {},
   "outputs": [],
   "source": [
    "test_data = test_dataset_shuffled\n",
    "# test_data = dataset_shuffled"
   ]
  },
  {
   "cell_type": "code",
   "execution_count": 272,
   "id": "612cd255-e071-4fb5-ba99-46162b849325",
   "metadata": {},
   "outputs": [],
   "source": [
    "test_batch_size = 10\n",
    "test_num_it = test_data.shape[0] // test_batch_size"
   ]
  },
  {
   "cell_type": "code",
   "execution_count": 273,
   "id": "577714c6-3da9-497b-a07d-83ab1a8d15a2",
   "metadata": {},
   "outputs": [
    {
     "name": "stderr",
     "output_type": "stream",
     "text": [
      "100%|██████████| 2000/2000 [00:02<00:00, 870.82it/s]\n"
     ]
    }
   ],
   "source": [
    "outputs = torch.empty(test_data.shape[0],2)    \n",
    "with tqdm(total=test_num_it, position=0, leave=True) as pbar:\n",
    "    for it in range(test_num_it):\n",
    "        #randomly sample the latent space\n",
    "        begin = it * test_batch_size\n",
    "        end = (it + 1) * test_batch_size\n",
    "        it_data = test_data[begin:end]\n",
    "        samples = it_data[:,:30]\n",
    "        labels = it_data[:,30]#.unsqueeze(1)\n",
    "        samples = samples.to(device)\n",
    "        labels = (labels.type(torch.LongTensor)).to(device)\n",
    "        # forward + backward + optimize\n",
    "        output_batch = classifier(samples)\n",
    "        for i in range(test_batch_size):\n",
    "            outputs[it*test_batch_size + i] = output_batch[i]\n",
    "        if(show_progress):\n",
    "            pbar.update(1)"
   ]
  },
  {
   "cell_type": "code",
   "execution_count": 274,
   "id": "f5b64bea-c75e-4fe4-9c27-6a9edf42faef",
   "metadata": {},
   "outputs": [
    {
     "name": "stdout",
     "output_type": "stream",
     "text": [
      "Accuracy: 50.0\n"
     ]
    }
   ],
   "source": [
    "test_Y     = test_data[:,30].clone().detach().float().view(-1, 1).to(\"cpu\")\n",
    "probs_Y = torch.softmax(outputs, 1)\n",
    "argmax_Y = torch.max(probs_Y, 1)[1].view(-1,1)\n",
    "test_acc = (test_Y == argmax_Y.float()).sum().item() / len(test_Y)\n",
    "print(f\"Accuracy: {test_acc * 100}\")  "
   ]
  },
  {
   "cell_type": "code",
   "execution_count": 275,
   "id": "c6b0baa9-855e-434f-93d7-ecafd809108c",
   "metadata": {},
   "outputs": [
    {
     "name": "stdout",
     "output_type": "stream",
     "text": [
      "AUC = 0.5000\n"
     ]
    },
    {
     "data": {
      "image/png": "[encoded data removed]",
      "text/plain": [
       "<Figure size 640x480 with 1 Axes>"
      ]
     },
     "metadata": {},
     "output_type": "display_data"
    }
   ],
   "source": [
    "verbose = True\n",
    "# Get ROC curve\n",
    "pfn_fp, pfn_tp, threshs = roc_curve(test_Y, probs_Y[:,1].detach().numpy())\n",
    "\n",
    "auc = roc_auc_score(np.squeeze(test_Y), probs_Y[:,1].detach().numpy())\n",
    "print(f'AUC = {auc:.4f}')\n",
    "f = plot.figure()\n",
    "\n",
    "plot.plot(pfn_tp, 1-pfn_fp, '-', color='black')\n",
    "\n",
    "# axes labels\n",
    "plot.xlabel('True positive efficiency')\n",
    "plot.ylabel('False positive Rejection')\n",
    "\n",
    "# axes limits\n",
    "plot.xlim(0, 1)\n",
    "plot.ylim(0, 1)\n",
    "\n",
    "f.show()"
   ]
  },
  {
   "cell_type": "code",
   "execution_count": null,
   "id": "f459b2d5-d9f7-4778-bbd4-7bf4892c308b",
   "metadata": {},
   "outputs": [],
   "source": [
    "def find_layer_traversed():\n",
    "    num_pixels_per_layer = \n",
    "    for i in range(28):\n",
    "        if (num_pixels_per_layer[i] < 2):\n",
    "            return i - 1"
   ]
  }
 ],
 "metadata": {
  "kernelspec": {
   "display_name": "ML_venv",
   "language": "python",
   "name": "ml_venv"
  },
  "language_info": {
   "codemirror_mode": {
    "name": "ipython",
    "version": 3
   },
   "file_extension": ".py",
   "mimetype": "text/x-python",
   "name": "python",
   "nbconvert_exporter": "python",
   "pygments_lexer": "ipython3",
   "version": "3.9.18"
  }
 },
 "nbformat": 4,
 "nbformat_minor": 5
}
