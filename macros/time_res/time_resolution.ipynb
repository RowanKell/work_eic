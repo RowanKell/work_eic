{
 "cells": [
  {
   "cell_type": "code",
   "execution_count": 81,
   "id": "1467505e-0624-473a-a89f-9ddf6b0718f7",
   "metadata": {},
   "outputs": [],
   "source": [
    "import numpy as np\n",
    "import uproot as up\n",
    "import pandas as pd\n",
    "import matplotlib.pyplot as plot\n",
    "import matplotlib.mlab as mlab\n",
    "from scipy.stats import norm\n",
    "import pylandau"
   ]
  },
  {
   "cell_type": "markdown",
   "id": "c230aca6-3389-4332-b8d1-ee52d200c0fd",
   "metadata": {},
   "source": [
    "#### First, open the root file with uproot and save the times to a Numpy Array"
   ]
  },
  {
   "cell_type": "code",
   "execution_count": 90,
   "id": "5c2e364a-54a2-4195-b1d4-c1b461cbbb20",
   "metadata": {},
   "outputs": [],
   "source": [
    "# events = up.open(\"/cwork/rck32/eic/work_eic/root_files/time_res/one_segment/mu_5GeV_2000events_2m_1cm_3cm.edm4hep.root:events\")\n",
    "events = up.open(\"/cwork/rck32/eic/work_eic/root_files/time_res/one_segment/mu_5GeV_10000events_2m_1cm_3cm.edm4hep.root:events\")\n",
    "\n",
    "times = events[\"HcalBarrelHits/HcalBarrelHits.time\"].array(library='np')"
   ]
  },
  {
   "cell_type": "markdown",
   "id": "26e28e64-e032-48a9-a23a-8f7ff6a2bf57",
   "metadata": {},
   "source": [
    "#### Now we can loop over all events with the first index of the array and cut events with <2 optical photons\n",
    "Goal: skip events with only 1 hit (noise) and search remaining events for first photon, ie photon with lowest time. Take that time "
   ]
  },
  {
   "cell_type": "code",
   "execution_count": 91,
   "id": "5ea567d5-c102-41ad-83d3-d1349f46a759",
   "metadata": {},
   "outputs": [],
   "source": [
    "accepted_times = []"
   ]
  },
  {
   "cell_type": "code",
   "execution_count": 92,
   "id": "12f638cd-d2f8-4b39-b2ae-554fb95fe5d9",
   "metadata": {
    "tags": []
   },
   "outputs": [],
   "source": [
    "#Note - array.shape[0] gives the first dimension of the array\n",
    "for event_num in range(times.shape[0]):\n",
    "    if(times[event_num].shape[0] < 2): continue\n",
    "    accepted_times.append(min(times[event_num]))"
   ]
  },
  {
   "cell_type": "markdown",
   "id": "41449764-d926-4e9b-85ad-558499616bb0",
   "metadata": {},
   "source": [
    "#### We can plot the times in a histogram to visualize the result"
   ]
  },
  {
   "cell_type": "code",
   "execution_count": 93,
   "id": "d7d0daa4-f6ef-4ac9-9176-cb96f7864c10",
   "metadata": {},
   "outputs": [
    {
     "name": "stdout",
     "output_type": "stream",
     "text": [
      "resolution (sigma): 0.5704158544540405 | mean: 12.405163764953613 | FWHM: 1.3404772579669952\n"
     ]
    },
    {
     "data": {
      "image/png": "[encoded data removed]",
      "text/plain": [
       "<Figure size 432x288 with 1 Axes>"
      ]
     },
     "metadata": {
      "needs_background": "light"
     },
     "output_type": "display_data"
    }
   ],
   "source": [
    "n_bins = 100\n",
    "fig, axs = plot.subplots(1, 1)\n",
    "fig.suptitle(\"Times for 2000 5GeV mu- events; one segment\")\n",
    "# We can set the number of bins with the *bins* keyword argument.\n",
    "axs.hist(accepted_times, bins=n_bins)\n",
    "fig.show()\n",
    "\n",
    "#calculate std\n",
    "std = np.std(accepted_times)\n",
    "mean = np.mean(accepted_times)\n",
    "print(f\"resolution (sigma): {std} | mean: {mean} | FWHM: {2.35 * std}\")\n"
   ]
  },
  {
   "cell_type": "markdown",
   "id": "225becb2-d6f8-4129-a9a8-9a1b8d79470f",
   "metadata": {},
   "source": [
    "#### Now we need to calculate the standard deviation and mean of this distribution"
   ]
  },
  {
   "cell_type": "code",
   "execution_count": 94,
   "id": "618dfc3a-70fb-4fc0-b395-d1d6270aa50d",
   "metadata": {},
   "outputs": [
    {
     "data": {
      "image/png": "[encoded data removed]",
      "text/plain": [
       "<Figure size 432x288 with 1 Axes>"
      ]
     },
     "metadata": {
      "needs_background": "light"
     },
     "output_type": "display_data"
    },
    {
     "name": "stdout",
     "output_type": "stream",
     "text": [
      "resolution (sigma): 0.5704158544540405 | mean: 12.405163764953613 | FWHM: 1.3404772579669952\n"
     ]
    }
   ],
   "source": [
    "(mu, sigma) = norm.fit(accepted_times)\n",
    "n, bins, patches = plot.hist(accepted_times, 100, facecolor='green', alpha=0.75, density=True)\n",
    "\n",
    "y = norm.pdf( bins, mu, sigma)\n",
    "l = plot.plot(bins, y, 'r--', linewidth=2)\n",
    "plot.xlabel('Time')\n",
    "plot.ylabel('Counts')\n",
    "plot.grid(True)\n",
    "\n",
    "plot.show()\n",
    "print(f\"resolution (sigma): {sigma} | mean: {mu} | FWHM: {2.35 * std}\")"
   ]
  },
  {
   "cell_type": "code",
   "execution_count": 120,
   "id": "ae1f9253-cc2a-443c-aff1-977076c85fa6",
   "metadata": {},
   "outputs": [],
   "source": [
    "import numpy as np\n",
    "import matplotlib.pyplot as plt\n",
    "\n",
    "from scipy.optimize import curve_fit"
   ]
  },
  {
   "cell_type": "code",
   "execution_count": 121,
   "id": "3869b767-aae8-490e-a172-7bd8f8844373",
   "metadata": {},
   "outputs": [],
   "source": [
    "def gaussian(x, mean, amplitude, standard_deviation):\n",
    "    return amplitude * np.exp( - (x - mean)**2 / (2*standard_deviation ** 2))\n",
    "    \n",
    "x = np.array(accepted_times)\n",
    "# x = np.random.normal(10, 5, size=10000)"
   ]
  },
  {
   "cell_type": "code",
   "execution_count": 124,
   "id": "3a4165b5-6d46-42f3-a887-6ccc7b1a3e35",
   "metadata": {},
   "outputs": [
    {
     "data": {
      "text/plain": [
       "<matplotlib.legend.Legend at 0x7f45d4d729a0>"
      ]
     },
     "execution_count": 124,
     "metadata": {},
     "output_type": "execute_result"
    },
    {
     "data": {
      "image/png": "[encoded data removed]",
      "text/plain": [
       "<Figure size 432x288 with 1 Axes>"
      ]
     },
     "metadata": {
      "needs_background": "light"
     },
     "output_type": "display_data"
    }
   ],
   "source": [
    "bin_heights, bin_borders, _ = plt.hist(x, bins='auto', label='histogram')\n",
    "bin_centers = bin_borders[:-1] + np.diff(bin_borders) / 2\n",
    "popt, _ = curve_fit(gaussian, bin_centers, bin_heights, p0=[1., 0., 1.])\n",
    "\n",
    "x_interval_for_fit = np.linspace(bin_borders[0], bin_borders[-1], 9992)\n",
    "plt.plot(x_interval_for_fit, gaussian(x_interval_for_fit, *popt), label='fit')\n",
    "plt.legend()"
   ]
  },
  {
   "cell_type": "code",
   "execution_count": null,
   "id": "afe4acba-9d75-4e9d-98fb-61d8c205f390",
   "metadata": {},
   "outputs": [],
   "source": []
  }
 ],
 "metadata": {
  "kernelspec": {
   "display_name": "Python 3",
   "language": "python",
   "name": "python3"
  },
  "language_info": {
   "codemirror_mode": {
    "name": "ipython",
    "version": 3
   },
   "file_extension": ".py",
   "mimetype": "text/x-python",
   "name": "python",
   "nbconvert_exporter": "python",
   "pygments_lexer": "ipython3",
   "version": "3.8.8"
  }
 },
 "nbformat": 4,
 "nbformat_minor": 5
}
