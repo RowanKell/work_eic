{
 "cells": [
  {
   "cell_type": "code",
   "execution_count": 18,
   "id": "1467505e-0624-473a-a89f-9ddf6b0718f7",
   "metadata": {},
   "outputs": [],
   "source": [
    "import numpy as np\n",
    "import uproot as up\n",
    "import pandas as pd\n",
    "import matplotlib.pyplot as plot\n",
    "import matplotlib.mlab as mlab\n",
    "from scipy.stats import norm\n",
    "import pylandau"
   ]
  },
  {
   "cell_type": "markdown",
   "id": "247e9bd8-c460-4d31-9325-cc950c11e817",
   "metadata": {},
   "source": [
    "#### Set any parameters here to select the root file and prepare the plots"
   ]
  },
  {
   "cell_type": "code",
   "execution_count": 19,
   "id": "4c3d70e7-af8b-4112-9aeb-7df92b69aaf9",
   "metadata": {},
   "outputs": [],
   "source": [
    "# particle = \"pi\"\n",
    "particle = \"mu\"\n",
    "length = \"1.5\"\n",
    "length_dict = {\n",
    "    \"2.5\" : \"2_5\",\n",
    "    \"2\" : \"2\",\n",
    "    \"1.5\" : \"1_5\"\n",
    "}\n",
    "color_dict = {\n",
    "    \"pi\" : \"green\",\n",
    "    \"mu\" : \"blue\"\n",
    "}"
   ]
  },
  {
   "cell_type": "markdown",
   "id": "c230aca6-3389-4332-b8d1-ee52d200c0fd",
   "metadata": {},
   "source": [
    "#### Nest, open the root file with uproot and save the times to a Numpy Array"
   ]
  },
  {
   "cell_type": "code",
   "execution_count": 20,
   "id": "5c2e364a-54a2-4195-b1d4-c1b461cbbb20",
   "metadata": {},
   "outputs": [],
   "source": [
    "# uproot_path = f\"/cwork/rck32/eic/work_eic/root_files/time_res/one_segment_sensor_in_volume/{particle}_5GeV_10kevents_{length_dict[length]}m_1cm_3cm.edm4hep.root:events\"\n",
    "# uproot_path = f\"/cwork/rck32/eic/work_eic/root_files/time_res/one_segment_test/{particle}_5GeV_100events_{length_dict[length]}m_1cm_3cm_28_layers.edm4hep.root:events\"\n",
    "# uproot_path = f\"/cwork/rck32/eic/work_eic/root_files/time_res/one_segment_sensor_in_volume/June_6/{particle}_5GeV_10kevents_{length_dict[length]}m_1cm_3cm.edm4hep.root:events\"\n",
    "uproot_path = f\"/hpc/group/vossenlab/rck32/eic/work_eic/root_files/time_res_one_segment_sensor/May_5/run_1_mum_10GeV_theta_90_5kevents.edm4hep.root:events\"\n",
    "\n",
    "events = up.open(uproot_path)\n",
    "\n",
    "times = events[\"HcalBarrelHits/HcalBarrelHits.time\"].array(library='np')\n",
    "cells = events[\"HcalBarrelHits/HcalBarrelHits.cellID\"].array(library='np')\n",
    "x_pos_branch = events[\"HcalBarrelHits/HcalBarrelHits.position.x\"].array(library='np')\n",
    "y_pos_branch = events[\"HcalBarrelHits/HcalBarrelHits.position.y\"].array(library='np')\n",
    "z_pos_branch = events[\"HcalBarrelHits/HcalBarrelHits.position.z\"].array(library='np')"
   ]
  },
  {
   "cell_type": "markdown",
   "id": "26e28e64-e032-48a9-a23a-8f7ff6a2bf57",
   "metadata": {},
   "source": [
    "#### Now we can loop over all events with the first index of the array and cut events with <2 optical photons\n",
    "Goal: skip events with only 1 hit (noise) and search remaining events for first photon, ie photon with lowest time. Take that time "
   ]
  },
  {
   "cell_type": "code",
   "execution_count": 5,
   "id": "9cc54538-8508-464f-b77d-7b818ddb6033",
   "metadata": {},
   "outputs": [],
   "source": [
    "def avg_time(num,event_times):\n",
    "    ten_sorted_times = sorted(event_times)[:num]\n",
    "    return sum(ten_sorted_times) / len(ten_sorted_times)"
   ]
  },
  {
   "cell_type": "code",
   "execution_count": 6,
   "id": "69d4a2a5-3c75-4206-902b-cb9416310edd",
   "metadata": {},
   "outputs": [],
   "source": [
    "#Minimum number of pixels to be hit for us to accept event\n",
    "threshold = 10\n",
    "use_avg = False"
   ]
  },
  {
   "cell_type": "code",
   "execution_count": 21,
   "id": "b31e4527-d499-4a6c-a2e1-f50077e6e8b3",
   "metadata": {},
   "outputs": [],
   "source": [
    "class SiPMSignalProcessor:\n",
    "    def __init__(self, \n",
    "                 sampling_rate=40e9,  # 40 GHz sampling rate\n",
    "                 tau_rise=1.1e-9,       # 1 ns rise time\n",
    "                 tau_fall=15e-9,      # 50 ns fall time\n",
    "                 window=200e-9,       # 200 ns time window\n",
    "                 cfd_delay=5e-9,      # 5 ns delay for CFD\n",
    "                 cfd_fraction=0.3):   # 30% fraction for CFD\n",
    "        \n",
    "        self.sampling_rate = sampling_rate\n",
    "        self.tau_rise = tau_rise\n",
    "        self.tau_fall = tau_fall\n",
    "        self.window = window\n",
    "        self.cfd_delay = cfd_delay\n",
    "        self.cfd_fraction = cfd_fraction\n",
    "#         self.cfd_delay = self.tau_rise * (1 - self.cfd_fraction)\n",
    "        \n",
    "        # Time array for single pulse shape\n",
    "        self.time = np.arange(0, self.window, 1/self.sampling_rate)\n",
    "        \n",
    "        # Generate single pulse shape\n",
    "        self.pulse_shape = self._generate_pulse_shape()\n",
    "    \n",
    "    def _generate_pulse_shape(self):\n",
    "        \"\"\"Generate normalized pulse shape for a single photon\"\"\"\n",
    "        shape = np.exp(-self.time/self.tau_fall) - np.exp(-self.time/self.tau_rise)\n",
    "        return shape / np.max(shape)  # Normalize\n",
    "    \n",
    "    def generate_waveform(self, photon_times):\n",
    "        \"\"\"Generate waveform from list of photon arrival times\"\"\"\n",
    "        # Initialize waveform array\n",
    "        waveform = np.zeros_like(self.time)\n",
    "        \n",
    "        # Add pulse for each photon\n",
    "        for t in photon_times:\n",
    "            if 0 <= t < self.window:\n",
    "                idx = int(t * self.sampling_rate)\n",
    "                remaining_samples = len(self.time) - idx\n",
    "                waveform[idx:] += self.pulse_shape[:remaining_samples]\n",
    "        \n",
    "        return self.time, waveform\n",
    "    \n",
    "    def integrate_charge(self, waveform, integration_start=0, integration_time=100e-9):\n",
    "        \"\"\"Integrate charge in specified time window\"\"\"\n",
    "        start_idx = int(integration_start * self.sampling_rate)\n",
    "        end_idx = int((integration_start + integration_time) * self.sampling_rate)\n",
    "        \n",
    "        # Integrate using trapezoidal rule\n",
    "        charge = np.trapezoid(waveform[start_idx:end_idx], dx=1/self.sampling_rate)\n",
    "        return charge\n",
    "    def constant_threshold_timing(self,waveform,threshold):\n",
    "        for i in range(len(self.time)):\n",
    "            if(waveform[i] > threshold):\n",
    "                return self.time[i]\n",
    "        return None\n",
    "        \n",
    "    def apply_cfd(self,waveform):\n",
    "        maximum = max(waveform)\n",
    "        for i in range(len(self.time)):\n",
    "            if(waveform[i] > maximum * self.cfd_fraction):\n",
    "                return self.time[i]\n",
    "        return None\n",
    "    def apply_cfd_old(self, waveform, use_interpolation=True):\n",
    "        \"\"\"Apply Constant Fraction Discrimination to the waveform.\n",
    "\n",
    "        Parameters:\n",
    "        -----------\n",
    "        waveform : numpy.ndarray\n",
    "            Input waveform to process\n",
    "        use_interpolation : bool, optional\n",
    "            If True, use linear interpolation for sub-sample precision\n",
    "            If False, return the sample index of zero crossing\n",
    "            Default is True\n",
    "\n",
    "        Returns:\n",
    "        --------\n",
    "        tuple (numpy.ndarray, float)\n",
    "            CFD processed waveform and the zero-crossing time in seconds.\n",
    "            If use_interpolation is False, zero-crossing time will be aligned\n",
    "            to sample boundaries.\n",
    "        \"\"\"\n",
    "        # Calculate delay in samples\n",
    "        delay_samples = int(self.cfd_delay * self.sampling_rate)\n",
    "\n",
    "        # Create delayed and attenuated versions of the waveform\n",
    "        delayed_waveform = np.pad(waveform, (delay_samples, 0))[:-delay_samples]\n",
    "        attenuated_waveform = -self.cfd_fraction * waveform\n",
    "\n",
    "        # Calculate CFD waveform\n",
    "        cfd_waveform = delayed_waveform + attenuated_waveform\n",
    "\n",
    "        # Find all zero crossings\n",
    "        zero_crossings = np.where(np.diff(np.signbit(cfd_waveform)))[0]\n",
    "\n",
    "        if len(zero_crossings) < 2:  # Need at least two crossings for valid CFD\n",
    "            return cfd_waveform, None\n",
    "\n",
    "        # Find the rising edge of the original pulse\n",
    "        pulse_start = np.where(waveform > np.max(waveform) * 0.1)[0]  # cfd fraction threshold\n",
    "        if len(pulse_start) == 0:\n",
    "            return cfd_waveform, None\n",
    "        pulse_start = pulse_start[0]\n",
    "\n",
    "        # Find the first zero crossing that occurs after the pulse starts\n",
    "        valid_crossings = zero_crossings[zero_crossings > pulse_start]\n",
    "        if len(valid_crossings) == 0:\n",
    "            return cfd_waveform, None\n",
    "\n",
    "        crossing_idx = valid_crossings[0]\n",
    "\n",
    "        if not use_interpolation:\n",
    "            # Simply return the sample index converted to time\n",
    "            crossing_time = crossing_idx / self.sampling_rate\n",
    "        else:\n",
    "            # Use linear interpolation for sub-sample precision\n",
    "            y1 = cfd_waveform[crossing_idx]\n",
    "            y2 = cfd_waveform[crossing_idx + 1]\n",
    "\n",
    "            # Calculate fractional position of zero crossing\n",
    "            fraction = -y1 / (y2 - y1)\n",
    "\n",
    "            # Calculate precise crossing time\n",
    "            crossing_time = (crossing_idx + fraction) / self.sampling_rate\n",
    "\n",
    "        return cfd_waveform, crossing_time\n",
    "\n",
    "\n",
    "    def get_pulse_timing(self, waveform, threshold=3):\n",
    "        \"\"\"Get pulse timing using CFD method with additional validation.\n",
    "        \n",
    "        Parameters:\n",
    "        -----------\n",
    "        waveform : numpy.ndarray\n",
    "            Input waveform to analyze\n",
    "        threshold : float\n",
    "            Minimum amplitude threshold for valid pulses (relative to max amplitude)\n",
    "            \n",
    "        Returns:\n",
    "        --------\n",
    "        float or None\n",
    "            Timestamp of the pulse in seconds, or None if no valid pulse found\n",
    "        \"\"\"\n",
    "        # Check if pulse amplitude exceeds threshold\n",
    "        max_amplitude = np.max(waveform)\n",
    "        if max_amplitude < threshold:\n",
    "            return None\n",
    "            \n",
    "        # Apply CFD\n",
    "        crossing_time = self.apply_cfd(waveform)\n",
    "        \n",
    "        return crossing_time"
   ]
  },
  {
   "cell_type": "code",
   "execution_count": 23,
   "id": "d178927a-6794-432a-b865-743eaec82cc4",
   "metadata": {},
   "outputs": [],
   "source": [
    "def theta_func(px,py,pz):\n",
    "    return np.arccos(pz / np.sqrt(px ** 2 + py ** 2 + pz ** 2)) * 180 / np.pi\n",
    "def phi_func(px,py,pz):\n",
    "    return np.arctan2(py,px) * 180 / np.pi\n",
    "def Efunc(px,py,pz,m):\n",
    "    return np.sqrt(px**2 + py**2 + pz**2 + m**2)\n",
    "def r_func(x,y,z):\n",
    "    return np.sqrt(x**2 + y**2 + z**2)\n",
    "def z_func(z_vertex, theta):\n",
    "    return z_vertex + 6 * np.tan(np.pi / 2 - theta * np.pi / 180)\n",
    "\n",
    "class PVect:\n",
    "    def __init__(self):\n",
    "        self.px = 0\n",
    "        self.py = 0\n",
    "        self.pz = 0\n",
    "        self.theta = 0\n",
    "        self.phi = 0\n",
    "        self.E = 0\n",
    "        self.M = 0\n",
    "        self.P = 0\n",
    "    def setVector(self,px,py,pz,m):\n",
    "        self.px = px\n",
    "        self.py = py\n",
    "        self.pz = pz\n",
    "        self.M = m\n",
    "        self.E = Efunc(px,py,pz,m)\n",
    "        self.P = r_func(self.px,self.py,self.pz)\n",
    "        self.theta = theta_func(px,py,pz)\n",
    "        self.phi = phi_func(px,py,pz)\n",
    "\n",
    "class TimingResolution:\n",
    "    def __init__(self,pixel_threshold = 2,useCFD = False):\n",
    "        self.processor = SiPMSignalProcessor()\n",
    "        self.pixel_threshold = pixel_threshold\n",
    "        self.useCFD = useCFD\n",
    "    def time_func(self,p,m,dx):\n",
    "        \"\"\"\n",
    "        Calculate the hit time of a particle in the scintillator\n",
    "        \n",
    "        Calculates the velocity of the particle from the momentum\n",
    "        and calculates how long the photon travels to the center of the scintillator.\n",
    "        \n",
    "        ...\n",
    "        \n",
    "        Parameters\n",
    "        ----------\n",
    "        p : double\n",
    "            TODO: should this just be x momentum??\n",
    "            Momentum of particle in GeV/c\n",
    "        m : double\n",
    "            Mass of particle in GeV/c\n",
    "        dx : double\n",
    "            Distance between particle gun position and scintillator\n",
    "        \n",
    "        Returns\n",
    "        -------\n",
    "        dx / v_mmpns : double\n",
    "            Time between gun shoot and particle hit in scintillator.\n",
    "        \"\"\"\n",
    "        c = 299792458 # 2.998 * 10 ^ 8 m/s\n",
    "        c_n = 1 #c = 1 in natural units\n",
    "        p_div_m = p / m\n",
    "        vc = p_div_m * np.sqrt(1 / (1 + ((p_div_m) ** 2) * (1 / (c_n ** 2)))) # in terms of c\n",
    "        v = vc * c #now in m/s\n",
    "        v_mm = v * 1000 # in mm/s\n",
    "        v_mmpns = v_mm / (10 ** (9)) # in mm/ns\n",
    "        return dx / v_mmpns\n",
    "    def apply_time_func(self, momentum_vector, m, vertex_vector):\n",
    "        # Compute derived quantities\n",
    "        primary = PVect()\n",
    "        primary.setVector(momentum_vector[0], momentum_vector[1], momentum_vector[2], m)\n",
    "        theta = primary.theta\n",
    "        P = primary.P\n",
    "        mu_incident_time = self.time_func(primary.px, primary.M, 1770.3 - vertex_vector[0])\n",
    "        hit_z = z_func(vertex_vector[1], theta)\n",
    "        return mu_incident_time, hit_z\n",
    "    def process(self, root_file_path):\n",
    "        events = up.open(root_file_path)\n",
    "        times = events[\"HcalBarrelHits/HcalBarrelHits.time\"].array(library='np')\n",
    "        cells = events[\"HcalBarrelHits/HcalBarrelHits.cellID\"].array(library='np')\n",
    "        x_pos_branch = events[\"HcalBarrelHits/HcalBarrelHits.position.x\"].array(library='np')\n",
    "        y_pos_branch = events[\"HcalBarrelHits/HcalBarrelHits.position.y\"].array(library='np')\n",
    "        z_pos_branch = events[\"HcalBarrelHits/HcalBarrelHits.position.z\"].array(library='np')\n",
    "        x_vertex_branch = events[\"MCParticles/MCParticles.vertex.x\"].array(library='np')\n",
    "        y_vertex_branch = events[\"MCParticles/MCParticles.vertex.y\"].array(library='np')\n",
    "        z_vertex_branch = events[\"MCParticles/MCParticles.vertex.z\"].array(library='np')\n",
    "        x_momentum_branch = events[\"MCParticles/MCParticles.momentum.x\"].array(library='np')\n",
    "        y_momentum_branch = events[\"MCParticles/MCParticles.momentum.y\"].array(library='np')\n",
    "        z_momentum_branch = events[\"MCParticles/MCParticles.momentum.z\"].array(library='np')\n",
    "        mass_branch = events[\"MCParticles/MCParticles.mass\"].array(library='np')\n",
    "        self.all_times = []\n",
    "        self.accepted_times = []\n",
    "        self.avg_accepted_times = []\n",
    "\n",
    "        self.duplicates = 0\n",
    "        self.total = 0\n",
    "        self.total_cells = set()\n",
    "\n",
    "        self.skipped = 0\n",
    "        self.num_list = []\n",
    "        #First loop over events\n",
    "        for event_num in range(len(cells)):\n",
    "            event_times = np.array(times[event_num])\n",
    "            # Primary particle hit time\n",
    "            momentum_vector = (x_momentum_branch[event_num][0],y_momentum_branch[event_num][0],z_momentum_branch[event_num][0])\n",
    "            mass = mass_branch[event_num][0]\n",
    "            vertex_vector = (x_vertex_branch[event_num][0],y_vertex_branch[event_num][0],z_vertex_branch[event_num][0])\n",
    "            scint_hit_time, scint_hit_z = self.apply_time_func(momentum_vector, mass, vertex_vector)\n",
    "            event_times -= scint_hit_time\n",
    "            curr_set = set()\n",
    "            curr_total = 0\n",
    "            for photon_num in range(len(cells[event_num])):\n",
    "                curr_set.add(cells[event_num][photon_num])\n",
    "                self.total += 1\n",
    "                curr_total += 1\n",
    "            self.num_list.append(len(curr_set))\n",
    "            #check if enough pixels are hit\n",
    "            if(len(curr_set) < self.pixel_threshold): \n",
    "                self.skipped += 1\n",
    "                continue\n",
    "            self.accepted_times.append(min(times[event_num]))\n",
    "            self.all_times.append(times[event_num])\n",
    "            self.avg_accepted_times.append(self.avg_time(self.pixel_threshold,times[event_num]))\n",
    "            self.duplicates += curr_total - len(curr_set)\n",
    "            \n",
    "        print(f\"total: {self.total} | duplicates: {self.duplicates} | ratio: {self.duplicates / self.total} | num unique cells hit: {len(self.total_cells)} | skipped: {self.skipped}\")\n",
    "\n",
    "    def apply_SiPM(self):\n",
    "        self.SiPM_timing = []\n",
    "        for event_idx in range(len(self.all_times)):\n",
    "            photon_time_list = np.array(self.all_times[event_idx]) * 10**(-9) # same conversion as in momentum_prediction_util.py newer_prepare_nn_input\n",
    "#             print(photon_time_list)\n",
    "            time_arr, waveform = self.processor.generate_waveform(photon_time_list)\n",
    "            if(self.useCFD):\n",
    "                timing = self.processor.get_pulse_timing(waveform, threshold=self.pixel_threshold) * 10 ** 9\n",
    "            else:\n",
    "                timing = self.processor.constant_threshold_timing(waveform,threshold = self.pixel_threshold)* 10 ** 9\n",
    "            self.SiPM_timing.append(timing)\n",
    "        return self.SiPM_timing\n",
    "    def get_timing(self):\n",
    "        return self.accepted_times\n",
    "    def get_mean_std(self, values):\n",
    "        return norm.fit(values)\n",
    "    def avg_time(self,num,event_times):\n",
    "        ten_sorted_times = sorted(event_times)[:num]\n",
    "        return sum(ten_sorted_times) / len(ten_sorted_times)"
   ]
  },
  {
   "cell_type": "code",
   "execution_count": 25,
   "id": "ae7d22ba-e4d6-46e1-adba-16c343d520c9",
   "metadata": {},
   "outputs": [
    {
     "name": "stdout",
     "output_type": "stream",
     "text": [
      "total: 203181 | duplicates: 6355 | ratio: 0.03127753087148897 | num unique cells hit: 0 | skipped: 0\n"
     ]
    }
   ],
   "source": [
    "root_file_path = f\"/hpc/group/vossenlab/rck32/eic/work_eic/root_files/time_res_one_segment_sensor/May_5/run_1_mum_10GeV_theta_90_5kevents_with_rise_time.edm4hep.root:events\"\n",
    "TR = TimingResolution()\n",
    "TR.process(root_file_path)\n",
    "timing = TR.get_timing()\n",
    "SiPM_timing = TR.apply_SiPM()"
   ]
  },
  {
   "cell_type": "code",
   "execution_count": 28,
   "id": "8059384f-4d47-432e-bd2a-88415473e37a",
   "metadata": {},
   "outputs": [
    {
     "name": "stdout",
     "output_type": "stream",
     "text": [
      "Timing (mu, std) : (10.52 +/- 0.190) ns\n",
      "SiPM timing (mu, std) : (11.26 +/- 0.241) ns\n"
     ]
    },
    {
     "data": {
      "image/png": "[encoded data removed]",
      "text/plain": [
       "<Figure size 432x288 with 1 Axes>"
      ]
     },
     "metadata": {
      "needs_background": "light"
     },
     "output_type": "display_data"
    }
   ],
   "source": [
    "mu_timing, std_timing = TR.get_mean_std(timing)\n",
    "mu_SiPM, std_SiPM = TR.get_mean_std(SiPM_timing)\n",
    "print(f\"Timing (mu, std) : ({mu_timing:0.2f} +/- {std_timing:0.3f}) ns\")\n",
    "print(f\"SiPM timing (mu, std) : ({mu_SiPM:0.2f} +/- {std_SiPM:0.3f}) ns\")\n",
    "\n",
    "fig,axs = plot.subplots(1,1)\n",
    "fig.suptitle(\"Rise Time Included\\nTiming distribution (one entry per event)\\nSiPM Timing and First photon arrival time.\")\n",
    "axs.hist(timing,bins = 50,alpha = 0.7, label = \"First photon arrival time\");\n",
    "axs.hist(SiPM_timing,bins = 50,alpha = 0.7, label = \"SiPM leading edge time\");\n",
    "axs.set(xlabel = \"Time (ns)\",ylabel = \"Counts\")\n",
    "axs.legend()\n",
    "axs.text(11.8, 350, fr\"First photon ($\\mu$,$\\sigma$) = ({mu_timing:0.1f},{std_timing:0.2f})ns \")\n",
    "axs.text(11.8, 200, fr\"SiPM ($\\mu$,$\\sigma$) = ({mu_SiPM:0.1f},{std_SiPM:0.2f})ns \")\n",
    "axs.set(xlim = (9.5,14))\n",
    "fig.show()\n",
    "fig.tight_layout()\n",
    "fig.savefig(\"plots/Paper/SiPM_vs_first_photon_timing_resolution_with_rise_time.pdf\")"
   ]
  },
  {
   "cell_type": "code",
   "execution_count": 9,
   "id": "b41f715d-181a-4ce0-a54a-bf014c87226e",
   "metadata": {},
   "outputs": [
    {
     "name": "stdout",
     "output_type": "stream",
     "text": [
      "Timing (mu, std) : (10.52 +/- 0.186) ns\n",
      "SiPM timing (mu, std) : (11.26 +/- 0.232) ns\n"
     ]
    }
   ],
   "source": []
  },
  {
   "cell_type": "code",
   "execution_count": 6,
   "id": "2d8a321b-d890-4c99-8869-60e4c943aa71",
   "metadata": {},
   "outputs": [
    {
     "name": "stdout",
     "output_type": "stream",
     "text": [
      "total: 406858 | duplicates: 12761 | ratio: 0.03136475133830476 | num unique cells hit: 6471 | skipped: 0\n"
     ]
    }
   ],
   "source": [
    "accepted_times = []\n",
    "avg_accepted_times = []\n",
    "rel_accepted_times = []\n",
    "\n",
    "duplicates = 0\n",
    "total = 0\n",
    "total_cells = []\n",
    "\n",
    "skipped = 0\n",
    "num_list = []\n",
    "#First loop over events\n",
    "for event_num in range(len(cells)):\n",
    "    \n",
    "    #skip events with less than 2 photons\n",
    "#     if(times[event_num].shape[0] < threshold): continue\n",
    "    \n",
    "    #Keep track of which cell IDs are hit\n",
    "    curr_list = []\n",
    "    for photon_num in range(len(cells[event_num])):\n",
    "        if(cells[event_num][photon_num] in curr_list):\n",
    "            duplicates += 1\n",
    "        else:\n",
    "            curr_list.append(cells[event_num][photon_num])\n",
    "        if(cells[event_num][photon_num] not in total_cells):\n",
    "            total_cells.append(cells[event_num][photon_num])\n",
    "        total += 1\n",
    "    num_list.append(len(curr_list))\n",
    "    #check if 2 unique pixels are hit\n",
    "    if(len(curr_list) < threshold): \n",
    "        skipped += 1\n",
    "        continue\n",
    "    accepted_times.append(min(times[event_num]))\n",
    "    avg_accepted_times.append(avg_time(threshold,times[event_num]))\n",
    "#     if(len(curr_list) == 15):\n",
    "#         print(f\"event #{event_num}\")\n",
    "print(f\"total: {total} | duplicates: {duplicates} | ratio: {duplicates / total} | num unique cells hit: {len(total_cells)} | skipped: {skipped}\")"
   ]
  },
  {
   "cell_type": "markdown",
   "id": "41449764-d926-4e9b-85ad-558499616bb0",
   "metadata": {},
   "source": [
    "#### We can plot the times in a histogram to visualize the result"
   ]
  },
  {
   "cell_type": "markdown",
   "id": "225becb2-d6f8-4129-a9a8-9a1b8d79470f",
   "metadata": {},
   "source": [
    "#### Now we need to calculate the standard deviation and mean of this distribution"
   ]
  },
  {
   "cell_type": "code",
   "execution_count": 7,
   "id": "618dfc3a-70fb-4fc0-b395-d1d6270aa50d",
   "metadata": {},
   "outputs": [
    {
     "name": "stdout",
     "output_type": "stream",
     "text": [
      "resolution (sigma): 0.182 | mean: 10.52 | FWHM: 0.427\n"
     ]
    },
    {
     "data": {
      "image/png": "[encoded data removed]",
      "text/plain": [
       "<Figure size 432x288 with 1 Axes>"
      ]
     },
     "metadata": {
      "needs_background": "light"
     },
     "output_type": "display_data"
    }
   ],
   "source": [
    "plot_times = avg_accepted_times if use_avg else accepted_times\n",
    "\n",
    "fig, axs = plot.subplots(1, 1)\n",
    "\n",
    "(mu, sigma) = norm.fit(plot_times)\n",
    "n, bins, patches = plot.hist(plot_times, 100, facecolor=color_dict[particle], alpha=0.75, density=True)\n",
    "fig.suptitle(f\"5GeV {particle}-, {length}m length, thresh={threshold}\")\n",
    "\n",
    "y = norm.pdf( bins, mu, sigma)\n",
    "l = axs.plot(bins, y, 'r--', linewidth=2)\n",
    "axs.set_xlabel('Time (ns)')\n",
    "axs.set_ylabel('Counts (normalized)')\n",
    "axs.grid(True)\n",
    "axs.text(8.6,1.6,r'$\\mu=%4.2f,\\ \\sigma=%4.3f$'%(mu,sigma),fontsize=14)\n",
    "\n",
    "fig.show()\n",
    "extra_str = \"_avg\" if use_avg else \"\"\n",
    "# fig.savefig(f\"plots/June_6/{particle}_5GeV_{length_dict[length]}m_10k_events_{threshold}g_thresh{extra_str}.svg\")\n",
    "print(\"resolution (sigma): %4.3f | mean: %4.2f | FWHM: %4.3f\" %(sigma,mu,(2.35 * sigma)))"
   ]
  },
  {
   "cell_type": "code",
   "execution_count": 38,
   "id": "35f867e2-1aba-4007-8683-ee6daa5d2800",
   "metadata": {},
   "outputs": [],
   "source": [
    "counts = []\n",
    "counts_cut = []\n",
    "for i in range(times.shape[0]):\n",
    "    count = len(times[i])\n",
    "    counts.append(len(times[i]))\n",
    "    if(count < 10 or count > 250):continue\n",
    "    counts_cut.append(len(times[i]))\n",
    "max_count = max(counts_cut)\n",
    "min_count = min(counts_cut)\n",
    "n_bins = max_count - min_count"
   ]
  },
  {
   "cell_type": "code",
   "execution_count": 42,
   "id": "978102f0-72ee-4240-af10-308cb0e79775",
   "metadata": {},
   "outputs": [
    {
     "name": "stdout",
     "output_type": "stream",
     "text": [
      "Mean: 40.69 | Sigma: 12.150\n"
     ]
    },
    {
     "data": {
      "image/png": "[encoded data removed]",
      "text/plain": [
       "<Figure size 432x288 with 1 Axes>"
      ]
     },
     "metadata": {
      "needs_background": "light"
     },
     "output_type": "display_data"
    }
   ],
   "source": [
    "(mu, sigma) = norm.fit(counts_cut)\n",
    "n, bins, patches = plot.hist(counts_cut, bins=n_bins, density = False,facecolor=color_dict[particle])\n",
    "plot.title(f\"# of photons, 5GeV {particle}-, {length}m length segment\")\n",
    "plot.xlabel(\"# of photons\")\n",
    "plot.ylabel(\"# of events\")\n",
    "plot.text(75,215,r'$\\mu=%4.2f,\\ \\sigma=%4.3f$'%(mu,sigma),fontsize=14)\n",
    "plot.grid(True)\n",
    "\n",
    "plot.plot\n",
    "plot.savefig(f\"plots/June_6/counts_{particle}_5GeV_{length_dict[length]}m_10k_events_{threshold}g_thresh.svg\")\n",
    "print(\"Mean: %4.2f | Sigma: %4.3f\"%(mu,sigma))"
   ]
  },
  {
   "cell_type": "code",
   "execution_count": 99,
   "id": "45c4e350-6306-40dd-9d1d-c7ccd7f58e79",
   "metadata": {},
   "outputs": [],
   "source": [
    "uproot_path = f\"~/cworkdir/eic/work_eic/root_files/time_res/one_segment_test/mu_5GeV_1kevents_1_5m_1cm_3cm_test.edm4hep.root:events\"\n",
    "events = up.open(uproot_path)\n",
    "cells = events[\"HcalBarrelHits/HcalBarrelHits.cellID\"].array(library='np')\n",
    "x_pos_branch = events[\"HcalBarrelHits/HcalBarrelHits.position.x\"].array(library='np')\n",
    "y_pos_branch = events[\"HcalBarrelHits/HcalBarrelHits.position.y\"].array(library='np')\n",
    "z_pos_branch = events[\"HcalBarrelHits/HcalBarrelHits.position.z\"].array(library='np')"
   ]
  },
  {
   "cell_type": "code",
   "execution_count": 100,
   "id": "647fa165-d77a-464a-9fa7-d2ce24b7aaed",
   "metadata": {},
   "outputs": [
    {
     "name": "stdout",
     "output_type": "stream",
     "text": [
      "total: 40495 | duplicates: 1251 | ratio: 0.030892702802815163 | num unique cells hit: 2547\n"
     ]
    }
   ],
   "source": [
    "duplicates = 0\n",
    "total = 0\n",
    "total_cells = []\n",
    "for i in range(len(cells)):\n",
    "    curr_list = []\n",
    "    for j in range(len(cells[i])):\n",
    "        if(cells[i][j] in curr_list):\n",
    "            duplicates += 1\n",
    "        else:\n",
    "            curr_list.append(cells[i][j])\n",
    "        if(cells[i][j] not in total_cells):\n",
    "            total_cells.append(cells[i][j])\n",
    "        total += 1\n",
    "print(f\"total: {total} | duplicates: {duplicates} | ratio: {duplicates / total} | num unique cells hit: {len(total_cells)}\")"
   ]
  },
  {
   "cell_type": "code",
   "execution_count": 101,
   "id": "5b3d7b60-9e1f-4986-8535-52a8c7e0daa6",
   "metadata": {},
   "outputs": [
    {
     "data": {
      "text/plain": [
       "346.41016151377545"
      ]
     },
     "execution_count": 101,
     "metadata": {},
     "output_type": "execute_result"
    }
   ],
   "source": [
    "np.sqrt(3) / ((50 * 0.0001))"
   ]
  },
  {
   "cell_type": "code",
   "execution_count": 102,
   "id": "508d1144-2b16-46e9-bf5d-149e0bcc1c5b",
   "metadata": {},
   "outputs": [],
   "source": [
    "x_pos = []\n",
    "for i in range(len(x_pos_branch)):\n",
    "    for j in range(len(x_pos_branch[i])):\n",
    "        x_pos.append(x_pos_branch[i][j])\n",
    "y_pos = []\n",
    "for i in range(len(y_pos_branch)):\n",
    "    for j in range(len(y_pos_branch[i])):\n",
    "        y_pos.append(y_pos_branch[i][j])\n",
    "z_pos = []\n",
    "for i in range(len(z_pos_branch)):\n",
    "    for j in range(len(z_pos_branch[i])):\n",
    "        if(z_pos_branch[i][j] > 767.45):\n",
    "            z_pos.append(z_pos_branch[i][j])"
   ]
  },
  {
   "cell_type": "code",
   "execution_count": 106,
   "id": "a626b6dc-7df7-4280-a3d8-89d7641ca179",
   "metadata": {},
   "outputs": [
    {
     "data": {
      "image/png": "[encoded data removed]",
      "text/plain": [
       "<Figure size 432x288 with 1 Axes>"
      ]
     },
     "metadata": {
      "needs_background": "light"
     },
     "output_type": "display_data"
    }
   ],
   "source": [
    "plot.hist2d(x_pos,y_pos,500)\n",
    "plot.show()"
   ]
  },
  {
   "cell_type": "code",
   "execution_count": 107,
   "id": "73184bd8-082c-4e61-962c-8ccbdd718df0",
   "metadata": {},
   "outputs": [
    {
     "data": {
      "image/png": "[encoded data removed]",
      "text/plain": [
       "<Figure size 432x288 with 1 Axes>"
      ]
     },
     "metadata": {
      "needs_background": "light"
     },
     "output_type": "display_data"
    }
   ],
   "source": [
    "plot.hist(x_pos,100)\n",
    "plot.show()"
   ]
  },
  {
   "cell_type": "markdown",
   "id": "ebca04a1-ff6c-4531-93dc-61f22839df8b",
   "metadata": {},
   "source": [
    "# OLD"
   ]
  },
  {
   "cell_type": "code",
   "execution_count": 180,
   "id": "2a09a7a0-3554-4e32-a49e-f4fedb9edc27",
   "metadata": {
    "tags": []
   },
   "outputs": [],
   "source": [
    "# accepted_times = []\n",
    "\n",
    "# #Note - array.shape[0] gives the first dimension of the array\n",
    "# for event_num in range(times.shape[0]):\n",
    "#     if(times[event_num].shape[0] < 2): continue\n",
    "#     if(min(times[event_num]) > 12.5 or min(times[event_num]) < 9): continue\n",
    "#     accepted_times.append(min(times[event_num]))"
   ]
  },
  {
   "cell_type": "code",
   "execution_count": 74,
   "id": "9a5f5c0f-96a8-4cc8-a7a2-88d8bdc0fc41",
   "metadata": {},
   "outputs": [
    {
     "data": {
      "image/png": "[encoded data removed]",
      "text/plain": [
       "<Figure size 432x288 with 1 Axes>"
      ]
     },
     "metadata": {
      "needs_background": "light"
     },
     "output_type": "display_data"
    }
   ],
   "source": [
    "plot.hist(num_list,100)\n",
    "plot.title(\"Number of pixels per event, 5GeV mu-, 1.5m bar\")\n",
    "plot.xlabel(\"# pixels\")\n",
    "plot.ylabel(\"# of events\")\n",
    "plot.axvline(x=15,color='gray',alpha=0.5)\n",
    "plot.savefig(\"./plots/pixels.jpg\")\n",
    "plot.show()"
   ]
  },
  {
   "cell_type": "code",
   "execution_count": null,
   "id": "8e8b724f-8365-4c87-860c-572ebb497b15",
   "metadata": {},
   "outputs": [],
   "source": []
  }
 ],
 "metadata": {
  "kernelspec": {
   "display_name": "Python 3",
   "language": "python",
   "name": "python3"
  },
  "language_info": {
   "codemirror_mode": {
    "name": "ipython",
    "version": 3
   },
   "file_extension": ".py",
   "mimetype": "text/x-python",
   "name": "python",
   "nbconvert_exporter": "python",
   "pygments_lexer": "ipython3",
   "version": "3.8.8"
  }
 },
 "nbformat": 4,
 "nbformat_minor": 5
}
