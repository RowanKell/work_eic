{
 "cells": [
  {
   "cell_type": "code",
   "execution_count": 108,
   "id": "1467505e-0624-473a-a89f-9ddf6b0718f7",
   "metadata": {},
   "outputs": [],
   "source": [
    "import numpy as np\n",
    "import uproot as up\n",
    "import pandas as pd\n",
    "import matplotlib.pyplot as plot\n",
    "import matplotlib.mlab as mlab\n",
    "from scipy.stats import norm\n",
    "import pylandau"
   ]
  },
  {
   "cell_type": "markdown",
   "id": "247e9bd8-c460-4d31-9325-cc950c11e817",
   "metadata": {},
   "source": [
    "#### Set any parameters here to select the root file and prepare the plots"
   ]
  },
  {
   "cell_type": "code",
   "execution_count": 109,
   "id": "4c3d70e7-af8b-4112-9aeb-7df92b69aaf9",
   "metadata": {},
   "outputs": [],
   "source": [
    "particle = \"mu\"\n",
    "# particle = \"mu\"\n",
    "length = \"1.5\"\n",
    "length_dict = {\n",
    "    \"2.5\" : \"2_5\",\n",
    "    \"2\" : \"2\",\n",
    "    \"1.5\" : \"1_5\"\n",
    "}\n",
    "color_dict = {\n",
    "    \"pi\" : \"green\",\n",
    "    \"mu\" : \"blue\"\n",
    "}"
   ]
  },
  {
   "cell_type": "markdown",
   "id": "c230aca6-3389-4332-b8d1-ee52d200c0fd",
   "metadata": {},
   "source": [
    "#### Nest, open the root file with uproot and save the times to a Numpy Array"
   ]
  },
  {
   "cell_type": "code",
   "execution_count": 113,
   "id": "5c2e364a-54a2-4195-b1d4-c1b461cbbb20",
   "metadata": {},
   "outputs": [],
   "source": [
    "# uproot_path = f\"/cwork/rck32/eic/work_eic/root_files/time_res/one_segment_sensor_in_volume/{particle}_5GeV_10kevents_{length_dict[length]}m_1cm_3cm.edm4hep.root:events\"\n",
    "uproot_path = f\"/cwork/rck32/eic/work_eic/root_files/time_res/one_segment_test/{particle}_5GeV_100events_{length_dict[length]}m_1cm_3cm_28_layers.edm4hep.root:events\"\n",
    "events = up.open(uproot_path)\n",
    "\n",
    "times = events[\"HcalBarrelHits/HcalBarrelHits.time\"].array(library='np')\n",
    "cells = events[\"HcalBarrelHits/HcalBarrelHits.cellID\"].array(library='np')\n",
    "x_pos_branch = events[\"HcalBarrelHits/HcalBarrelHits.position.x\"].array(library='np')\n",
    "y_pos_branch = events[\"HcalBarrelHits/HcalBarrelHits.position.y\"].array(library='np')\n",
    "z_pos_branch = events[\"HcalBarrelHits/HcalBarrelHits.position.z\"].array(library='np')"
   ]
  },
  {
   "cell_type": "markdown",
   "id": "26e28e64-e032-48a9-a23a-8f7ff6a2bf57",
   "metadata": {},
   "source": [
    "#### Now we can loop over all events with the first index of the array and cut events with <2 optical photons\n",
    "Goal: skip events with only 1 hit (noise) and search remaining events for first photon, ie photon with lowest time. Take that time "
   ]
  },
  {
   "cell_type": "code",
   "execution_count": 114,
   "id": "9cc54538-8508-464f-b77d-7b818ddb6033",
   "metadata": {},
   "outputs": [],
   "source": [
    "def avg_time(num,event_times):\n",
    "    ten_sorted_times = sorted(event_times)[:num]\n",
    "    return sum(ten_sorted_times) / len(ten_sorted_times)"
   ]
  },
  {
   "cell_type": "code",
   "execution_count": 115,
   "id": "69d4a2a5-3c75-4206-902b-cb9416310edd",
   "metadata": {},
   "outputs": [],
   "source": [
    "#Minimum number of pixels to be hit for us to accept event\n",
    "threshold = 10\n",
    "use_avg = False"
   ]
  },
  {
   "cell_type": "code",
   "execution_count": 116,
   "id": "2d8a321b-d890-4c99-8869-60e4c943aa71",
   "metadata": {},
   "outputs": [
    {
     "name": "stdout",
     "output_type": "stream",
     "text": [
      "total: 127389 | duplicates: 4804 | ratio: 0.03771126235389241 | num unique cells hit: 24035 | skipped: 0\n"
     ]
    }
   ],
   "source": [
    "accepted_times = []\n",
    "avg_accepted_times = []\n",
    "\n",
    "duplicates = 0\n",
    "total = 0\n",
    "total_cells = []\n",
    "\n",
    "skipped = 0\n",
    "num_list = []\n",
    "#First loop over events\n",
    "for event_num in range(len(cells)):\n",
    "    \n",
    "    #skip events with less than 2 photons\n",
    "#     if(times[event_num].shape[0] < threshold): continue\n",
    "    \n",
    "    #Keep track of which cell IDs are hit\n",
    "    curr_list = []\n",
    "    for photon_num in range(len(cells[event_num])):\n",
    "        if(cells[event_num][photon_num] in curr_list):\n",
    "            duplicates += 1\n",
    "        else:\n",
    "            curr_list.append(cells[event_num][photon_num])\n",
    "        if(cells[event_num][photon_num] not in total_cells):\n",
    "            total_cells.append(cells[event_num][photon_num])\n",
    "        total += 1\n",
    "    num_list.append(len(curr_list))\n",
    "    #check if 2 unique pixels are hit\n",
    "    if(len(curr_list) < threshold): \n",
    "        skipped += 1\n",
    "        continue\n",
    "    accepted_times.append(min(times[event_num]))\n",
    "    avg_accepted_times.append(avg_time(threshold,times[event_num]))\n",
    "#     if(len(curr_list) == 15):\n",
    "#         print(f\"event #{event_num}\")\n",
    "print(f\"total: {total} | duplicates: {duplicates} | ratio: {duplicates / total} | num unique cells hit: {len(total_cells)} | skipped: {skipped}\")"
   ]
  },
  {
   "cell_type": "markdown",
   "id": "41449764-d926-4e9b-85ad-558499616bb0",
   "metadata": {},
   "source": [
    "#### We can plot the times in a histogram to visualize the result"
   ]
  },
  {
   "cell_type": "markdown",
   "id": "225becb2-d6f8-4129-a9a8-9a1b8d79470f",
   "metadata": {},
   "source": [
    "#### Now we need to calculate the standard deviation and mean of this distribution"
   ]
  },
  {
   "cell_type": "code",
   "execution_count": 117,
   "id": "618dfc3a-70fb-4fc0-b395-d1d6270aa50d",
   "metadata": {},
   "outputs": [
    {
     "name": "stdout",
     "output_type": "stream",
     "text": [
      "resolution (sigma): 0.121 | mean: 10.36 | FWHM: 0.285\n"
     ]
    },
    {
     "data": {
      "image/png": "[encoded data removed]",
      "text/plain": [
       "<Figure size 432x288 with 1 Axes>"
      ]
     },
     "metadata": {
      "needs_background": "light"
     },
     "output_type": "display_data"
    }
   ],
   "source": [
    "plot_times = avg_accepted_times if use_avg else accepted_times\n",
    "\n",
    "fig, axs = plot.subplots(1, 1)\n",
    "\n",
    "(mu, sigma) = norm.fit(plot_times)\n",
    "n, bins, patches = plot.hist(plot_times, 10, facecolor=color_dict[particle], alpha=0.75, density=True)\n",
    "fig.suptitle(f\"5GeV {particle}-, {length}m length, thresh={threshold}\")\n",
    "\n",
    "y = norm.pdf( bins, mu, sigma)\n",
    "l = axs.plot(bins, y, 'r--', linewidth=2)\n",
    "axs.set_xlabel('Time (ns)')\n",
    "axs.set_ylabel('Counts (normalized)')\n",
    "axs.grid(True)\n",
    "axs.text(8,1.1,r'$\\mu=%4.2f,\\ \\sigma=%4.3f$'%(mu,sigma),fontsize=14)\n",
    "\n",
    "fig.show()\n",
    "extra_str = \"_avg\" if use_avg else \"\"\n",
    "# fig.savefig(f\"plots/{particle}_5GeV_{length_dict[length]}m_10k_events_{threshold}g_thresh{extra_str}.svg\")\n",
    "print(\"resolution (sigma): %4.3f | mean: %4.2f | FWHM: %4.3f\" %(sigma,mu,(2.35 * sigma)))"
   ]
  },
  {
   "cell_type": "code",
   "execution_count": 119,
   "id": "35f867e2-1aba-4007-8683-ee6daa5d2800",
   "metadata": {},
   "outputs": [],
   "source": [
    "counts = []\n",
    "counts_cut = []\n",
    "for i in range(times.shape[0]):\n",
    "    count = len(times[i])\n",
    "    counts.append(len(times[i]))\n",
    "#     if(count < 2 or count > 250):continue\n",
    "    counts_cut.append(len(times[i]))\n",
    "max_count = max(counts_cut)\n",
    "min_count = min(counts_cut)\n",
    "n_bins = max_count - min_count"
   ]
  },
  {
   "cell_type": "code",
   "execution_count": 120,
   "id": "978102f0-72ee-4240-af10-308cb0e79775",
   "metadata": {},
   "outputs": [
    {
     "name": "stdout",
     "output_type": "stream",
     "text": [
      "Mean: 1273.89 | Sigma: 172.622\n"
     ]
    },
    {
     "data": {
      "image/png": "[encoded data removed]",
      "text/plain": [
       "<Figure size 432x288 with 1 Axes>"
      ]
     },
     "metadata": {
      "needs_background": "light"
     },
     "output_type": "display_data"
    }
   ],
   "source": [
    "(mu, sigma) = norm.fit(counts_cut)\n",
    "n, bins, patches = plot.hist(counts_cut, bins=n_bins, density = False,facecolor=color_dict[particle])\n",
    "plot.title(f\"# of photons, 5GeV {particle}-, {length}m length segment\")\n",
    "plot.xlabel(\"# of photons\")\n",
    "plot.ylabel(\"# of events\")\n",
    "plot.text(81.5,3,r'$\\mu=%4.2f,\\ \\sigma=%4.3f$'%(mu,sigma),fontsize=14)\n",
    "plot.grid(True)\n",
    "\n",
    "plot.plot\n",
    "# plot.savefig(f\"plots/counts/{particle}_counts_5GeV_{length_dict[length]}m_new_sensor_placement_10k_events_new_q_eff.svg\")\n",
    "print(\"Mean: %4.2f | Sigma: %4.3f\"%(mu,sigma))"
   ]
  },
  {
   "cell_type": "code",
   "execution_count": 99,
   "id": "45c4e350-6306-40dd-9d1d-c7ccd7f58e79",
   "metadata": {},
   "outputs": [],
   "source": [
    "uproot_path = f\"~/cworkdir/eic/work_eic/root_files/time_res/one_segment_test/mu_5GeV_1kevents_1_5m_1cm_3cm_test.edm4hep.root:events\"\n",
    "events = up.open(uproot_path)\n",
    "cells = events[\"HcalBarrelHits/HcalBarrelHits.cellID\"].array(library='np')\n",
    "x_pos_branch = events[\"HcalBarrelHits/HcalBarrelHits.position.x\"].array(library='np')\n",
    "y_pos_branch = events[\"HcalBarrelHits/HcalBarrelHits.position.y\"].array(library='np')\n",
    "z_pos_branch = events[\"HcalBarrelHits/HcalBarrelHits.position.z\"].array(library='np')"
   ]
  },
  {
   "cell_type": "code",
   "execution_count": 100,
   "id": "647fa165-d77a-464a-9fa7-d2ce24b7aaed",
   "metadata": {},
   "outputs": [
    {
     "name": "stdout",
     "output_type": "stream",
     "text": [
      "total: 40495 | duplicates: 1251 | ratio: 0.030892702802815163 | num unique cells hit: 2547\n"
     ]
    }
   ],
   "source": [
    "duplicates = 0\n",
    "total = 0\n",
    "total_cells = []\n",
    "for i in range(len(cells)):\n",
    "    curr_list = []\n",
    "    for j in range(len(cells[i])):\n",
    "        if(cells[i][j] in curr_list):\n",
    "            duplicates += 1\n",
    "        else:\n",
    "            curr_list.append(cells[i][j])\n",
    "        if(cells[i][j] not in total_cells):\n",
    "            total_cells.append(cells[i][j])\n",
    "        total += 1\n",
    "print(f\"total: {total} | duplicates: {duplicates} | ratio: {duplicates / total} | num unique cells hit: {len(total_cells)}\")"
   ]
  },
  {
   "cell_type": "code",
   "execution_count": 101,
   "id": "5b3d7b60-9e1f-4986-8535-52a8c7e0daa6",
   "metadata": {},
   "outputs": [
    {
     "data": {
      "text/plain": [
       "346.41016151377545"
      ]
     },
     "execution_count": 101,
     "metadata": {},
     "output_type": "execute_result"
    }
   ],
   "source": [
    "np.sqrt(3) / ((50 * 0.0001))"
   ]
  },
  {
   "cell_type": "code",
   "execution_count": 102,
   "id": "508d1144-2b16-46e9-bf5d-149e0bcc1c5b",
   "metadata": {},
   "outputs": [],
   "source": [
    "x_pos = []\n",
    "for i in range(len(x_pos_branch)):\n",
    "    for j in range(len(x_pos_branch[i])):\n",
    "        x_pos.append(x_pos_branch[i][j])\n",
    "y_pos = []\n",
    "for i in range(len(y_pos_branch)):\n",
    "    for j in range(len(y_pos_branch[i])):\n",
    "        y_pos.append(y_pos_branch[i][j])\n",
    "z_pos = []\n",
    "for i in range(len(z_pos_branch)):\n",
    "    for j in range(len(z_pos_branch[i])):\n",
    "        if(z_pos_branch[i][j] > 767.45):\n",
    "            z_pos.append(z_pos_branch[i][j])"
   ]
  },
  {
   "cell_type": "code",
   "execution_count": 106,
   "id": "a626b6dc-7df7-4280-a3d8-89d7641ca179",
   "metadata": {},
   "outputs": [
    {
     "data": {
      "image/png": "[encoded data removed]",
      "text/plain": [
       "<Figure size 432x288 with 1 Axes>"
      ]
     },
     "metadata": {
      "needs_background": "light"
     },
     "output_type": "display_data"
    }
   ],
   "source": [
    "plot.hist2d(x_pos,y_pos,500)\n",
    "plot.show()"
   ]
  },
  {
   "cell_type": "code",
   "execution_count": 107,
   "id": "73184bd8-082c-4e61-962c-8ccbdd718df0",
   "metadata": {},
   "outputs": [
    {
     "data": {
      "image/png": "[encoded data removed]",
      "text/plain": [
       "<Figure size 432x288 with 1 Axes>"
      ]
     },
     "metadata": {
      "needs_background": "light"
     },
     "output_type": "display_data"
    }
   ],
   "source": [
    "plot.hist(x_pos,100)\n",
    "plot.show()"
   ]
  },
  {
   "cell_type": "markdown",
   "id": "ebca04a1-ff6c-4531-93dc-61f22839df8b",
   "metadata": {},
   "source": [
    "# OLD"
   ]
  },
  {
   "cell_type": "code",
   "execution_count": 180,
   "id": "2a09a7a0-3554-4e32-a49e-f4fedb9edc27",
   "metadata": {
    "tags": []
   },
   "outputs": [],
   "source": [
    "# accepted_times = []\n",
    "\n",
    "# #Note - array.shape[0] gives the first dimension of the array\n",
    "# for event_num in range(times.shape[0]):\n",
    "#     if(times[event_num].shape[0] < 2): continue\n",
    "#     if(min(times[event_num]) > 12.5 or min(times[event_num]) < 9): continue\n",
    "#     accepted_times.append(min(times[event_num]))"
   ]
  },
  {
   "cell_type": "code",
   "execution_count": 74,
   "id": "9a5f5c0f-96a8-4cc8-a7a2-88d8bdc0fc41",
   "metadata": {},
   "outputs": [
    {
     "data": {
      "image/png": "[encoded data removed]",
      "text/plain": [
       "<Figure size 432x288 with 1 Axes>"
      ]
     },
     "metadata": {
      "needs_background": "light"
     },
     "output_type": "display_data"
    }
   ],
   "source": [
    "plot.hist(num_list,100)\n",
    "plot.title(\"Number of pixels per event, 5GeV mu-, 1.5m bar\")\n",
    "plot.xlabel(\"# pixels\")\n",
    "plot.ylabel(\"# of events\")\n",
    "plot.axvline(x=15,color='gray',alpha=0.5)\n",
    "plot.savefig(\"./plots/pixels.jpg\")\n",
    "plot.show()"
   ]
  },
  {
   "cell_type": "code",
   "execution_count": null,
   "id": "8e8b724f-8365-4c87-860c-572ebb497b15",
   "metadata": {},
   "outputs": [],
   "source": []
  }
 ],
 "metadata": {
  "kernelspec": {
   "display_name": "Python 3",
   "language": "python",
   "name": "python3"
  },
  "language_info": {
   "codemirror_mode": {
    "name": "ipython",
    "version": 3
   },
   "file_extension": ".py",
   "mimetype": "text/x-python",
   "name": "python",
   "nbconvert_exporter": "python",
   "pygments_lexer": "ipython3",
   "version": "3.8.8"
  }
 },
 "nbformat": 4,
 "nbformat_minor": 5
}
