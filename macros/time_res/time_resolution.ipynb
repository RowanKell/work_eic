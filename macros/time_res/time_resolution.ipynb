{
 "cells": [
  {
   "cell_type": "code",
   "execution_count": 278,
   "id": "1467505e-0624-473a-a89f-9ddf6b0718f7",
   "metadata": {},
   "outputs": [],
   "source": [
    "import numpy as np\n",
    "import uproot as up\n",
    "import pandas as pd\n",
    "import matplotlib.pyplot as plot\n",
    "import matplotlib.mlab as mlab\n",
    "from scipy.stats import norm\n",
    "import pylandau"
   ]
  },
  {
   "cell_type": "markdown",
   "id": "c230aca6-3389-4332-b8d1-ee52d200c0fd",
   "metadata": {},
   "source": [
    "#### First, open the root file with uproot and save the times to a Numpy Array"
   ]
  },
  {
   "cell_type": "code",
   "execution_count": 296,
   "id": "5c2e364a-54a2-4195-b1d4-c1b461cbbb20",
   "metadata": {},
   "outputs": [],
   "source": [
    "# events = up.open(\"/cwork/rck32/eic/work_eic/root_files/time_res/one_segment/mu_5GeV_2000events_2m_1cm_3cm.edm4hep.root:events\")\n",
    "# events = up.open(\"/cwork/rck32/eic/work_eic/root_files/time_res/one_segment/pi_5GeV_10000events_1_5m_1cm_3cm.edm4hep.root:events\")\n",
    "events = up.open(\"/cwork/rck32/eic/work_eic/root_files/time_res/one_segment/mu_5GeV_10000events_2_5m_1cm_3cm.edm4hep.root:events\")\n",
    "# events = up.open(\"/cwork/rck32/eic/work_eic/root_files/time_res/one_layer/mu_5GeV_500_2m_1cm_3cm_one_layer.edm4hep.root:events\")\n",
    "\n",
    "times = events[\"HcalBarrelHits/HcalBarrelHits.time\"].array(library='np')"
   ]
  },
  {
   "cell_type": "markdown",
   "id": "26e28e64-e032-48a9-a23a-8f7ff6a2bf57",
   "metadata": {},
   "source": [
    "#### Now we can loop over all events with the first index of the array and cut events with <2 optical photons\n",
    "Goal: skip events with only 1 hit (noise) and search remaining events for first photon, ie photon with lowest time. Take that time "
   ]
  },
  {
   "cell_type": "code",
   "execution_count": 297,
   "id": "5ea567d5-c102-41ad-83d3-d1349f46a759",
   "metadata": {},
   "outputs": [],
   "source": [
    "accepted_times = []"
   ]
  },
  {
   "cell_type": "code",
   "execution_count": 298,
   "id": "12f638cd-d2f8-4b39-b2ae-554fb95fe5d9",
   "metadata": {
    "tags": []
   },
   "outputs": [],
   "source": [
    "#Note - array.shape[0] gives the first dimension of the array\n",
    "for event_num in range(times.shape[0]):\n",
    "    if(times[event_num].shape[0] < 2): continue\n",
    "    accepted_times.append(min(times[event_num]))"
   ]
  },
  {
   "cell_type": "markdown",
   "id": "41449764-d926-4e9b-85ad-558499616bb0",
   "metadata": {},
   "source": [
    "#### We can plot the times in a histogram to visualize the result"
   ]
  },
  {
   "cell_type": "markdown",
   "id": "225becb2-d6f8-4129-a9a8-9a1b8d79470f",
   "metadata": {},
   "source": [
    "#### Now we need to calculate the standard deviation and mean of this distribution"
   ]
  },
  {
   "cell_type": "code",
   "execution_count": 299,
   "id": "618dfc3a-70fb-4fc0-b395-d1d6270aa50d",
   "metadata": {},
   "outputs": [
    {
     "name": "stdout",
     "output_type": "stream",
     "text": [
      "resolution (sigma): 0.803 | mean: 14.06 | FWHM: 1.886\n"
     ]
    },
    {
     "data": {
      "image/png": "[encoded data removed]",
      "text/plain": [
       "<Figure size 432x288 with 1 Axes>"
      ]
     },
     "metadata": {
      "needs_background": "light"
     },
     "output_type": "display_data"
    }
   ],
   "source": [
    "fig, axs = plot.subplots(1, 1)\n",
    "\n",
    "(mu, sigma) = norm.fit(accepted_times)\n",
    "n, bins, patches = plot.hist(accepted_times, 100, facecolor='blue', alpha=0.75, density=True)\n",
    "fig.suptitle(\"Hist of times for 10000 5GeV mu- events; one segment, 2.5 m long\")\n",
    "\n",
    "y = norm.pdf( bins, mu, sigma)\n",
    "l = axs.plot(bins, y, 'r--', linewidth=2)\n",
    "axs.set_xlabel('Time')\n",
    "axs.set_ylabel('Counts')\n",
    "axs.grid(True)\n",
    "\n",
    "fig.show()\n",
    "fig.savefig(\"plots/mu_5GeV_2_5m.svg\")\n",
    "print(\"resolution (sigma): %4.3f | mean: %4.2f | FWHM: %4.3f\" %(sigma,mu,(2.35 * sigma)))"
   ]
  },
  {
   "cell_type": "code",
   "execution_count": 289,
   "id": "35f867e2-1aba-4007-8683-ee6daa5d2800",
   "metadata": {},
   "outputs": [],
   "source": [
    "counts = []\n",
    "counts_cut = []\n",
    "for i in range(times.shape[0]):\n",
    "    count = len(times[i])\n",
    "    counts.append(len(times[i]))\n",
    "    if(count > 35 or count < 2):continue\n",
    "    counts_cut.append(len(times[i]))"
   ]
  },
  {
   "cell_type": "code",
   "execution_count": 294,
   "id": "978102f0-72ee-4240-af10-308cb0e79775",
   "metadata": {},
   "outputs": [
    {
     "name": "stdout",
     "output_type": "stream",
     "text": [
      "Mean: 9.98 | Sigma: 28.876\n"
     ]
    },
    {
     "data": {
      "image/png": "[encoded data removed]",
      "text/plain": [
       "<Figure size 432x288 with 1 Axes>"
      ]
     },
     "metadata": {
      "needs_background": "light"
     },
     "output_type": "display_data"
    }
   ],
   "source": [
    "(mu, sigma) = norm.fit(counts)\n",
    "n, bins, patches = plot.hist(counts_cut, bins=33, density = False,facecolor = \"green\")\n",
    "plot.title(\"# of photons per event, 5GeV pi-; one segment, 2.5m\")\n",
    "plot.xlabel(\"# of photons\")\n",
    "plot.ylabel(\"# of events\")\n",
    "plot.plot\n",
    "plot.savefig(\"plots/counts/pi_5GeV_2_5m.svg\")\n",
    "print(\"Mean: %4.2f | Sigma: %4.3f\"%(mu,sigma))"
   ]
  },
  {
   "cell_type": "code",
   "execution_count": 295,
   "id": "7ffd4a79-225a-4105-a765-879438cbad3b",
   "metadata": {},
   "outputs": [
    {
     "data": {
      "text/plain": [
       "array([ 2.,  3.,  4.,  5.,  6.,  7.,  8.,  9., 10., 11., 12., 13., 14.,\n",
       "       15., 16., 17., 18., 19., 20., 21., 22., 23., 24., 25., 26., 27.,\n",
       "       28., 29., 30., 31., 32., 33., 34., 35.])"
      ]
     },
     "execution_count": 295,
     "metadata": {},
     "output_type": "execute_result"
    }
   ],
   "source": [
    "bins"
   ]
  },
  {
   "cell_type": "code",
   "execution_count": null,
   "id": "1f94fb3d-3486-44f6-ac96-eafdb4406d70",
   "metadata": {},
   "outputs": [],
   "source": []
  }
 ],
 "metadata": {
  "kernelspec": {
   "display_name": "Python 3",
   "language": "python",
   "name": "python3"
  },
  "language_info": {
   "codemirror_mode": {
    "name": "ipython",
    "version": 3
   },
   "file_extension": ".py",
   "mimetype": "text/x-python",
   "name": "python",
   "nbconvert_exporter": "python",
   "pygments_lexer": "ipython3",
   "version": "3.8.8"
  }
 },
 "nbformat": 4,
 "nbformat_minor": 5
}
