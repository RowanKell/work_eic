{
 "cells": [
  {
   "cell_type": "markdown",
   "id": "1a2e1510-0015-412c-a610-0903f9eb5e09",
   "metadata": {},
   "source": [
    "# Notebook for working with root files from DDSIM to look at hcalbarrelhits and MCParticles"
   ]
  },
  {
   "cell_type": "code",
   "execution_count": 121,
   "id": "1176fa32-52fc-4b62-ab16-58af14cc41f8",
   "metadata": {},
   "outputs": [],
   "source": [
    "#imports\n",
    "import numpy as np\n",
    "import uproot as up\n",
    "import pandas as pd\n",
    "import matplotlib.pyplot as plot\n",
    "from scipy.stats import norm\n"
   ]
  },
  {
   "cell_type": "markdown",
   "id": "afd9e628-86c7-4401-a755-f1663cf49371",
   "metadata": {},
   "source": [
    "Open the root file with up.open, then save a branch to a np array using the .array() method"
   ]
  },
  {
   "cell_type": "code",
   "execution_count": 166,
   "id": "5c158ef3-fccf-4d15-a162-aa284005d39c",
   "metadata": {},
   "outputs": [],
   "source": [
    "particle = \"pi\"\n",
    "energy = \"5\"\n",
    "color_dict = {\n",
    "    \"pi\" : \"red\",\n",
    "    \"mu\" : \"blue\"\n",
    "}\n",
    "\n",
    "uproot_path = f\"/cwork/rck32/eic/work_eic/root_files/June_12/One_sector/{particle}_{energy}GeV_5k.edm4hep.root:events\"\n",
    "events = up.open(uproot_path)\n",
    "\n",
    "x_pos_branch = events[\"HcalBarrelHits/HcalBarrelHits.position.x\"].array(library='np')\n",
    "EDep_branch = events[\"HcalBarrelHits.EDep\"].array(library='np')\n",
    "Pathlength_branch = events[\"HcalBarrelHits.pathLength\"].array(library='np')\n",
    "Hits_MC_idx_branch = events[\"_HcalBarrelHits_MCParticle.index\"].array(library='np')\n",
    "MC_parents = events[\"_MCParticles_parents.index\"].array(library='np')\n",
    "MC_daughters = events[\"MCParticles.daughters_end\"].array(library='np')\n",
    "PDG_branch = events[\"MCParticles.PDG\"].array(library='np')\n",
    "MC_endpoint_x_branch = events[\"MCParticles.endpoint.x\"].array(library='np')\n",
    "layer_map = [1830.8000, 1841.4000, 1907.5, 1918.1,1984.1999, 1994.8000, 2060.8999,2071.5,2137.6001,2148.1999,2214.3000,2224.8999,2291,2301.6001,2367.6999,2378.3000,2444.3999,2455,2521.1001,2531.6999,2597.8000,2608.3999,2674.5,2685.1001,2751.1999,2761.8000,2827.8999,2838.5]    "
   ]
  },
  {
   "cell_type": "markdown",
   "id": "fb121d1f-03cc-4244-9c88-67ad315d5df9",
   "metadata": {},
   "source": [
    "This function gets the layer index from the position - the layer map is a list of the midpoints of each layer, and each layer is 1cm thick, so we can \n",
    "check if hits hit within 0.5cm on each side of the midpoint to check which layer they hit"
   ]
  },
  {
   "cell_type": "code",
   "execution_count": 162,
   "id": "c78d0518-347c-4514-ac09-fab1e7bb78a8",
   "metadata": {
    "tags": []
   },
   "outputs": [],
   "source": [
    "def get_num_layers_traversed(x_pos):\n",
    "    #This map contains the midpoints of each layer - each layer is 1cm in width, so we can check the 0.5cm on each side to see if a hit was in the layer\n",
    "    layer_map = [1830.8000, 1841.4000, 1907.5, 1918.1,1984.1999, 1994.8000, 2060.8999,2071.5,2137.6001,2148.1999,2214.3000,2224.8999,2291,2301.6001,2367.6999,2378.3000,2444.3999,2455,2521.1001,2531.6999,2597.8000,2608.3999,2674.5,2685.1001,2751.1999,2761.8000,2827.8999,2838.5]\n",
    "    for layer_idx in range(len(layer_map)):\n",
    "        #check if particle hit within layer\n",
    "        if ((x_pos >= layer_map[layer_idx] - 5) and (x_pos <= layer_map[layer_idx] + 5)):\n",
    "            return layer_idx\n",
    "    #if no layers hit, send error code\n",
    "    return -1"
   ]
  },
  {
   "cell_type": "code",
   "execution_count": 163,
   "id": "f77440e6-9a22-4a9b-84ae-cfeffe8bff12",
   "metadata": {},
   "outputs": [],
   "source": [
    "min_energy_dep_for_photon = (0.1 / 1000 / 1000) / 0.005"
   ]
  },
  {
   "cell_type": "code",
   "execution_count": 164,
   "id": "81bb19f7-a59c-4032-89b0-6d464718631d",
   "metadata": {},
   "outputs": [
    {
     "name": "stdout",
     "output_type": "stream",
     "text": [
      "avg energy dep: 0.2581811297550176 | avg energy dep from primary: 0.008977748388044028 | no_primary_hits frac: 0.2686 | no_hits_in_event 0\n"
     ]
    }
   ],
   "source": [
    "energy_dep_event = []\n",
    "energy_dep_event_primary = []\n",
    "no_hits_in_event = 0\n",
    "no_primary_hits = 0\n",
    "under_min = 0\n",
    "total_hits = 0\n",
    "for event_idx in range(len(EDep_branch)):\n",
    "    energy_dep = 0\n",
    "    energy_dep_primary = 0\n",
    "    if(len(EDep_branch[event_idx]) == 0):\n",
    "        no_hits_in_event += 1\n",
    "    if(0 not in Hits_MC_idx_branch[event_idx]):\n",
    "        no_primary_hits += 1\n",
    "    for i in range(len(EDep_branch[event_idx])):\n",
    "#         if((get_num_layers_traversed(x_pos_branch[event_idx][i]) != 1) and (get_num_layers_traversed(x_pos_branch[event_idx][i]) != 0)):\n",
    "#             continue\n",
    "        energy_dep += EDep_branch[event_idx][i]\n",
    "        total_hits += 1\n",
    "        if(Hits_MC_idx_branch[event_idx][i] == 0):\n",
    "            energy_dep_primary += EDep_branch[event_idx][i]\n",
    "    energy_dep_event.append(energy_dep)\n",
    "    energy_dep_event_primary.append(energy_dep_primary)\n",
    "print(f\"avg energy dep: {sum(energy_dep_event) / len(energy_dep_event)} | avg energy dep from primary: {sum(energy_dep_event_primary) / len(energy_dep_event_primary)} | no_primary_hits frac: {no_primary_hits / len(EDep_branch)} | no_hits_in_event {no_hits_in_event}\")"
   ]
  },
  {
   "cell_type": "code",
   "execution_count": 186,
   "id": "5eddba99-d9ff-4f68-89da-efccd8d1e86e",
   "metadata": {},
   "outputs": [
    {
     "name": "stdout",
     "output_type": "stream",
     "text": [
      "total: mean: 258.1811297550176 | sigma: 75.34566107278862 | primary: mean: 8.977748388044029 | sigma: 10.284516578723213\n"
     ]
    },
    {
     "data": {
      "image/png": "[encoded data removed]",
      "text/plain": [
       "<Figure size 864x288 with 2 Axes>"
      ]
     },
     "metadata": {
      "needs_background": "light"
     },
     "output_type": "display_data"
    }
   ],
   "source": [
    "energy_dep_event_MeV = []\n",
    "energy_dep_event_primary_MeV = []\n",
    "for i in range(len(energy_dep_event)):\n",
    "    energy_dep_event_MeV.append(energy_dep_event[i] * 1000)\n",
    "    energy_dep_event_primary_MeV.append(energy_dep_event_primary[i] * 1000)\n",
    "(mu, sigma) = norm.fit(energy_dep_event_MeV)\n",
    "(mu_primary, sigma_primary) = norm.fit(energy_dep_event_primary_MeV)\n",
    "\n",
    "fig, (ax1,ax2) = plot.subplots(1,2, figsize=(12,4))\n",
    "ax1.hist(energy_dep_event_MeV,bins= 100,color = color_dict[particle]);\n",
    "ax1.set_xlabel(\"Total EDep for event from all particles (MeV)\")\n",
    "ax1.set_ylabel(\"Counts (# events)\")\n",
    "ax1.text(300,200,r'$\\mu=%4.2f,\\ \\sigma=%4.3f$'%(mu,sigma),fontsize=14)\n",
    "\n",
    "ax2.hist(energy_dep_event_primary_MeV,bins= 100, color = color_dict[particle]);\n",
    "ax2.set_xlabel(\"Total EDep for event from primary (MeV)\")\n",
    "ax2.text(20,800,r'$\\mu=%4.2f,\\ \\sigma=%4.3f$'%(mu_primary,sigma_primary),fontsize=14)\n",
    "print(f\"total: mean: {mu} | sigma: {sigma} | primary: mean: {mu_primary} | sigma: {sigma_primary}\")\n",
    "fig.suptitle(f\"{particle} energy dep histogram (all secondaries) ({energy}GeV)\")\n",
    "fig.show()\n",
    "# fig.savefig(f\"plots/June_12/one_sector/all_layers_energy_dep_{particle}_{energy}GeV.jpeg\")"
   ]
  },
  {
   "cell_type": "code",
   "execution_count": 185,
   "id": "498cd0ce-8f2f-45ee-9aa1-e9dd52fa7390",
   "metadata": {},
   "outputs": [
    {
     "data": {
      "image/png": "[encoded data removed]",
      "text/plain": [
       "<Figure size 432x288 with 1 Axes>"
      ]
     },
     "metadata": {
      "needs_background": "light"
     },
     "output_type": "display_data"
    }
   ],
   "source": [
    "layer_num = []\n",
    "endpoint_x = []\n",
    "for i in range(len(MC_endpoint_x_branch)):\n",
    "    event_pion_dep = 0\n",
    "    curr_layer = get_num_layers_traversed(MC_endpoint_x_branch[i][0])\n",
    "    if(curr_layer == -1):\n",
    "        continue\n",
    "    layer_num.append(np.floor(get_num_layers_traversed(MC_endpoint_x_branch[i][0]) // 2))\n",
    "    endpoint_x.append(MC_endpoint_x_branch[i][0])\n",
    "# plot.hist(pion_dep,bins = 100);\n",
    "plot.hist(endpoint_x,bins = 50);"
   ]
  },
  {
   "cell_type": "code",
   "execution_count": 183,
   "id": "df26d7d9-c6a8-4468-b8a4-2db1487a2e6f",
   "metadata": {},
   "outputs": [
    {
     "data": {
      "text/plain": [
       "5000"
      ]
     },
     "execution_count": 183,
     "metadata": {},
     "output_type": "execute_result"
    }
   ],
   "source": [
    "len(MC_endpoint_x_branch)"
   ]
  },
  {
   "cell_type": "markdown",
   "id": "0949e0a6-7b13-4342-a993-1f2af51a48a3",
   "metadata": {},
   "source": [
    "## Percentage of photons hitting sensor"
   ]
  },
  {
   "cell_type": "code",
   "execution_count": 86,
   "id": "0bdd8ed3-4e3d-4627-8a4f-326de6f43d60",
   "metadata": {},
   "outputs": [
    {
     "name": "stdout",
     "output_type": "stream",
     "text": [
      "% of photons hitting = 0.46485284140641503%\n"
     ]
    }
   ],
   "source": [
    "num_MC = 0\n",
    "num_hits = 0\n",
    "energy_dep = 0\n",
    "dep_count = 0\n",
    "hits_per_photon = []\n",
    "for event_idx in range(len(EDep_branch)):\n",
    "    for i in range(len(PDG_branch[event_idx])):\n",
    "        if(PDG_branch[event_idx][i] == -22 and (i < MC_daughters[event_idx][0])):num_MC+= 1\n",
    "    for i in range(len(EDep_branch[event_idx])):\n",
    "        num_hits += 1\n",
    "    hits_per_photon.append(num_hits / num_MC)\n",
    "print(f\"% of photons hitting = {sum(hits_per_photon) / len(hits_per_photon) * 100}%\")"
   ]
  },
  {
   "cell_type": "code",
   "execution_count": 62,
   "id": "590885a6-4aad-48d3-9a41-fc097a300219",
   "metadata": {},
   "outputs": [
    {
     "name": "stdout",
     "output_type": "stream",
     "text": [
      "mean: 0.46485284140641464 | sigma: 0.006195818634333814\n"
     ]
    },
    {
     "data": {
      "image/png": "[encoded data removed]",
      "text/plain": [
       "<Figure size 432x288 with 1 Axes>"
      ]
     },
     "metadata": {
      "needs_background": "light"
     },
     "output_type": "display_data"
    }
   ],
   "source": [
    "plot.hist(hits_per_photon * 100,bins = 40);\n",
    "(mu, sigma) = norm.fit(hits_per_photon)\n",
    "print(f\"mean: {mu * 100} | sigma: {sigma * 100}\")"
   ]
  },
  {
   "cell_type": "markdown",
   "id": "2eabd8b3-4836-4f13-aa07-dab48237ef2a",
   "metadata": {},
   "source": [
    "## Energy deposited by mu/pi | # of photons per KeV deposited\n"
   ]
  },
  {
   "cell_type": "code",
   "execution_count": 35,
   "id": "b39c728c-8a92-4494-b1f5-2535a8af8ed7",
   "metadata": {},
   "outputs": [],
   "source": [
    "energy_dep_event = []\n",
    "num_per_kev = []\n",
    "skipped_events = 0\n",
    "for event_idx in range(1000):\n",
    "    num_MC = 0\n",
    "    num_hits = 0\n",
    "    dep_count = 0\n",
    "    energy_dep = 0\n",
    "    for i in range(len(PDG_branch[event_idx])):\n",
    "        if(PDG_branch[event_idx][i] == -22 and (i < MC_daughters[event_idx][0])):num_MC+= 1 #count # of optph from muon\n",
    "    for i in range(len(EDep_branch[event_idx])):\n",
    "#         if(Hits_MC_idx_branch[event_idx][i] == 0):\n",
    "        if(True):\n",
    "            energy_dep += EDep_branch[event_idx][i]\n",
    "            dep_count += 1\n",
    "    energy_dep_event.append(energy_dep)\n",
    "    if(energy_dep == 0):\n",
    "        skipped_events += 1\n",
    "        continue\n",
    "    num_per_kev.append(num_MC / (energy_dep * 1000 * 1000))\n",
    "print(f\"# photons per KeV = {sum(num_per_kev) / len(num_per_kev)} | avg energy dep: {sum(energy_dep_event) / len(energy_dep_event)} | skipped {skipped_events} events\")\n",
    "\n",
    "fig, ax = plot.subplots(1,1)\n",
    "ax.hist(energy_dep_event,bins= 50);\n",
    "(mu, sigma) = norm.fit(energy_dep_event)\n",
    "print(f\"mean: {mu} | sigma: {sigma}\")\n",
    "fig.suptitle(\"pi energy dep histogram (all secondaries) (5GeV)\")\n",
    "fig.show()\n",
    "fig.savefig(\"plots/June_12/energy_dep_pi_all_secondaries.jpeg\")"
   ]
  },
  {
   "cell_type": "code",
   "execution_count": null,
   "id": "cae50ba9-bcfd-4231-ae66-604a9132a32f",
   "metadata": {},
   "outputs": [],
   "source": [
    "parent_list = []\n",
    "for i in range(len(MC_parents[0])):\n",
    "    if (MC_parents[0][i] not in parent_list):\n",
    "        parent_list.append(MC_parents[0][i])\n",
    "for i in range(len(parent_list)):\n",
    "    print(PDG_branch[0][parent_list[i]])"
   ]
  },
  {
   "cell_type": "markdown",
   "id": "f651b60a-6485-4e9a-b8cb-ae5622468419",
   "metadata": {},
   "source": [
    "Plot energy deposition"
   ]
  },
  {
   "cell_type": "code",
   "execution_count": 78,
   "id": "6cdb36b5-1f9b-4f80-91d8-d1a3f1625808",
   "metadata": {},
   "outputs": [
    {
     "data": {
      "image/png": "[encoded data removed]",
      "text/plain": [
       "<Figure size 864x432 with 2 Axes>"
      ]
     },
     "metadata": {
      "needs_background": "light"
     },
     "output_type": "display_data"
    }
   ],
   "source": [
    "fig,(ax1,ax2) = plot.subplots(1,2,figsize=(12,6))\n",
    "fig.suptitle(\"1GeV pi-: energy deposited by layer\")\n",
    "ax1.set_title(\"Super layer energy deposition\")\n",
    "ax2.set_title(\"Individual layer energy deposition\")\n",
    "\n",
    "ax1.set_xlabel(\"superlayer number\")\n",
    "ax2.set_xlabel(\"layer number\")\n",
    "\n",
    "ax1.set_ylabel(\"avg energy deposited per event (GeV)\")\n",
    "ax1.scatter(range(14),super_layer_EDep,10)\n",
    "ax2.scatter(layer_map,layer_EDep,10,color = 'r',marker='o')\n",
    "fig.show()\n",
    "# fig.savefig(\"plots/energy_dep/mu_1GeV_10k_edep_vs_layer_num.jpeg\")"
   ]
  },
  {
   "cell_type": "code",
   "execution_count": null,
   "id": "594f5cfc-b03e-4319-94cd-fa79cab20a2c",
   "metadata": {},
   "outputs": [],
   "source": []
  }
 ],
 "metadata": {
  "kernelspec": {
   "display_name": "Python 3",
   "language": "python",
   "name": "python3"
  },
  "language_info": {
   "codemirror_mode": {
    "name": "ipython",
    "version": 3
   },
   "file_extension": ".py",
   "mimetype": "text/x-python",
   "name": "python",
   "nbconvert_exporter": "python",
   "pygments_lexer": "ipython3",
   "version": "3.8.8"
  }
 },
 "nbformat": 4,
 "nbformat_minor": 5
}
