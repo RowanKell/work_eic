{
 "cells": [
  {
   "cell_type": "markdown",
   "id": "1a2e1510-0015-412c-a610-0903f9eb5e09",
   "metadata": {},
   "source": [
    "# Notebook for working with root files from DDSIM to look at hcalbarrelhits and MCParticles"
   ]
  },
  {
   "cell_type": "code",
   "execution_count": 1,
   "id": "1176fa32-52fc-4b62-ab16-58af14cc41f8",
   "metadata": {},
   "outputs": [],
   "source": [
    "#imports\n",
    "import numpy as np\n",
    "import uproot as up\n",
    "import pandas as pd\n",
    "import matplotlib.pyplot as plot\n",
    "from scipy.stats import norm\n"
   ]
  },
  {
   "cell_type": "markdown",
   "id": "afd9e628-86c7-4401-a755-f1663cf49371",
   "metadata": {},
   "source": [
    "Open the root file with up.open, then save a branch to a np array using the .array() method"
   ]
  },
  {
   "cell_type": "code",
   "execution_count": 2,
   "id": "5c158ef3-fccf-4d15-a162-aa284005d39c",
   "metadata": {},
   "outputs": [],
   "source": [
    "particle = \"mu\"\n",
    "energy = \"5\"\n",
    "color_dict = {\n",
    "    \"pi\" : \"red\",\n",
    "    \"mu\" : \"blue\"\n",
    "}\n",
    "\n",
    "uproot_path = f\"/cwork/rck32/eic/work_eic/root_files/June_13/variation/full_{particle}_{energy}GeV_10k.edm4hep.root:events\"\n",
    "events = up.open(uproot_path)\n",
    "\n",
    "x_pos_branch = events[\"HcalBarrelHits/HcalBarrelHits.position.x\"].array(library='np')\n",
    "EDep_branch = events[\"HcalBarrelHits.EDep\"].array(library='np')\n",
    "Pathlength_branch = events[\"HcalBarrelHits.pathLength\"].array(library='np')\n",
    "Hits_MC_idx_branch = events[\"_HcalBarrelHits_MCParticle.index\"].array(library='np')\n",
    "MC_parents = events[\"_MCParticles_parents.index\"].array(library='np')\n",
    "MC_daughters = events[\"MCParticles.daughters_end\"].array(library='np')\n",
    "PDG_branch = events[\"MCParticles.PDG\"].array(library='np')\n",
    "MC_endpoint_x_branch = events[\"MCParticles.endpoint.x\"].array(library='np')\n",
    "layer_map = [1830.8000, 1841.4000, 1907.5, 1918.1,1984.1999, 1994.8000, 2060.8999,2071.5,2137.6001,2148.1999,2214.3000,2224.8999,2291,2301.6001,2367.6999,2378.3000,2444.3999,2455,2521.1001,2531.6999,2597.8000,2608.3999,2674.5,2685.1001,2751.1999,2761.8000,2827.8999,2838.5]    "
   ]
  },
  {
   "cell_type": "markdown",
   "id": "fb121d1f-03cc-4244-9c88-67ad315d5df9",
   "metadata": {},
   "source": [
    "This function gets the layer index from the position - the layer map is a list of the midpoints of each layer, and each layer is 1cm thick, so we can \n",
    "check if hits hit within 0.5cm on each side of the midpoint to check which layer they hit"
   ]
  },
  {
   "cell_type": "code",
   "execution_count": 3,
   "id": "c78d0518-347c-4514-ac09-fab1e7bb78a8",
   "metadata": {
    "tags": []
   },
   "outputs": [],
   "source": [
    "def get_num_layers_traversed(x_pos):\n",
    "    #This map contains the midpoints of each layer - each layer is 1cm in width, so we can check the 0.5cm on each side to see if a hit was in the layer\n",
    "    layer_map = [1830.8000, 1841.4000, 1907.5, 1918.1,1984.1999, 1994.8000, 2060.8999,2071.5,2137.6001,2148.1999,2214.3000,2224.8999,2291,2301.6001,2367.6999,2378.3000,2444.3999,2455,2521.1001,2531.6999,2597.8000,2608.3999,2674.5,2685.1001,2751.1999,2761.8000,2827.8999,2838.5]\n",
    "    for layer_idx in range(len(layer_map)):\n",
    "        #check if particle hit within layer\n",
    "        if ((x_pos >= layer_map[layer_idx] - 5) and (x_pos <= layer_map[layer_idx] + 5)):\n",
    "            return layer_idx\n",
    "    #if no layers hit, send error code\n",
    "    return -1"
   ]
  },
  {
   "cell_type": "markdown",
   "id": "0949e0a6-7b13-4342-a993-1f2af51a48a3",
   "metadata": {},
   "source": [
    "## Percentage of photons hitting sensor"
   ]
  },
  {
   "cell_type": "code",
   "execution_count": 6,
   "id": "2b3304f1-7c18-41af-8dc2-eea68f498e1a",
   "metadata": {},
   "outputs": [],
   "source": [
    "MC_px = events[\"MCParticles.momentum.x\"].array(library='np')\n",
    "MC_py = events[\"MCParticles.momentum.y\"].array(library='np')\n",
    "MC_pz = events[\"MCParticles.momentum.z\"].array(library='np')\n",
    "MC_m = events[\"MCParticles.mass\"].array(library='np')"
   ]
  },
  {
   "cell_type": "code",
   "execution_count": 7,
   "id": "1111f2bd-0be6-474e-8650-113457634fa6",
   "metadata": {},
   "outputs": [],
   "source": [
    "#theta = 0: px, py = 0\n",
    "#theta - xz plane\n",
    "#phi - xy plane\n",
    "def theta_func(px,py,pz):\n",
    "    return np.arctan(px/pz) / np.pi * 180\n",
    "def phi_func(px,py,pz):\n",
    "    return np.arctan(py/px) / np.pi * 180\n",
    "def Efunc(px,py,pz,m):\n",
    "    return np.sqrt(px**2 + py**2 + pz**2 + m**2)\n",
    "    \n",
    "class PVect:\n",
    "    def __init__(self):\n",
    "        self.px = 0\n",
    "        self.py = 0\n",
    "        self.pz = 0\n",
    "        self.theta = 0\n",
    "        self.phi = 0\n",
    "        self.E = 0\n",
    "        self.M = 0\n",
    "    def setVector(self,px,py,pz,m):\n",
    "        self.px = px\n",
    "        self.py = py\n",
    "        self.pz = pz\n",
    "        self.M = m\n",
    "        self.E = Efunc(px,py,pz,m)\n",
    "        self.theta = theta_func(px,py,pz)\n",
    "        self.phi = phi_func(px,py,pz)"
   ]
  },
  {
   "cell_type": "code",
   "execution_count": null,
   "id": "3d1655da-e1de-4ac8-8935-779baebe6742",
   "metadata": {},
   "outputs": [],
   "source": [
    "num_MC = 0\n",
    "num_hits = 0\n",
    "energy_dep = 0\n",
    "dep_count = 0\n",
    "hits_per_photon = []\n",
    "num_events = len(EDep_branch)\n",
    "for event_idx in range(len(EDep_branch)):\n",
    "    if(event_idx > 100):\n",
    "        break\n",
    "    num_MC = 0\n",
    "    primary = PVect()\n",
    "    primary.setVector(MC_px[event_idx][0],MC_py[event_idx][0],MC_pz[event_idx][0],MC_m[event_idx][0])\n",
    "    print(f\"event # {event_idx}: theta = {primary.theta}; phi = {primary.phi}\")"
   ]
  },
  {
   "cell_type": "code",
   "execution_count": 9,
   "id": "0bdd8ed3-4e3d-4627-8a4f-326de6f43d60",
   "metadata": {},
   "outputs": [
    {
     "name": "stdout",
     "output_type": "stream",
     "text": [
      "% of photons hitting = 0.952326403580313%\n"
     ]
    }
   ],
   "source": [
    "num_MC = 0\n",
    "num_hits = 0\n",
    "energy_dep = 0\n",
    "dep_count = 0\n",
    "hits_per_photon = []\n",
    "num_events = len(EDep_branch)\n",
    "for event_idx in range(len(EDep_branch)):\n",
    "#     if(event_idx > 100):\n",
    "#         break\n",
    "    num_MC = 0\n",
    "    for i in range(len(PDG_branch[event_idx])):\n",
    "        if(PDG_branch[event_idx][i] == -22 and (i < MC_daughters[event_idx][0])):num_MC+= 1\n",
    "    if(num_MC == 0):\n",
    "        print(f\"skipping event #{event_idx}, no optph found\")\n",
    "    else:\n",
    "        hits_per_photon.append(len(EDep_branch[event_idx]) / num_MC)\n",
    "#     if(not (event_idx % 100)):\n",
    "#         print(f\"{event_idx // 100} % done\")\n",
    "print(f\"% of photons hitting = {sum(hits_per_photon) / len(hits_per_photon) * 100}%\")"
   ]
  },
  {
   "cell_type": "markdown",
   "id": "e6db27ea-e9b4-449e-a34f-6131fec9dbc1",
   "metadata": {},
   "source": [
    "Binning"
   ]
  },
  {
   "cell_type": "code",
   "execution_count": 31,
   "id": "620fa67f-d672-4676-95a5-df705eebe80b",
   "metadata": {},
   "outputs": [],
   "source": [
    "n_bins = 10\n",
    "\n",
    "theta_min = 68\n",
    "theta_max = 112\n",
    "phi_min = -22\n",
    "phi_max = 22\n",
    "\n",
    "theta_range = theta_max - theta_min\n",
    "phi_range = phi_max - phi_min\n",
    "\n",
    "phi_bins = np.linspace(phi_min,phi_max,n_bins+1)\n",
    "theta_bins = np.linspace(theta_min,theta_max,n_bins+1)"
   ]
  },
  {
   "cell_type": "code",
   "execution_count": 33,
   "id": "7caaaab1-83a7-4128-b883-c1e7fa937aa7",
   "metadata": {},
   "outputs": [],
   "source": [
    "#works only for evenly spaced bins\n",
    "def findBin(val,bins):\n",
    "    diff = bins[1] - bins[0]\n",
    "    rel_dist = val - bins[0]\n",
    "    mod = np.floor(rel_dist / diff)\n",
    "    return mod"
   ]
  },
  {
   "cell_type": "code",
   "execution_count": 37,
   "id": "b5c15177-914f-4131-a173-d93aeb7e12fa",
   "metadata": {},
   "outputs": [],
   "source": [
    "binned_theta = [[] for i in range(n_bins)]"
   ]
  },
  {
   "cell_type": "code",
   "execution_count": null,
   "id": "7a5ee1b0-5076-4b5b-a41e-a612c757bf24",
   "metadata": {},
   "outputs": [],
   "source": [
    "\n",
    "for event_idx in range(len(EDep_branch)):\n",
    "#     if(event_idx > 100):\n",
    "#         break\n",
    "    num_MC = 0\n",
    "    for i in range(len(PDG_branch[event_idx])):\n",
    "        if(PDG_branch[event_idx][i] == -22 and (i < MC_daughters[event_idx][0])):num_MC+= 1\n",
    "    if(num_MC == 0):\n",
    "        print(f\"skipping event #{event_idx}, no optph found\")\n",
    "    else:\n",
    "        hits_per_photon.append(len(EDep_branch[event_idx]) / num_MC)\n",
    "    "
   ]
  },
  {
   "cell_type": "code",
   "execution_count": 62,
   "id": "590885a6-4aad-48d3-9a41-fc097a300219",
   "metadata": {},
   "outputs": [
    {
     "name": "stdout",
     "output_type": "stream",
     "text": [
      "mean: 0.46485284140641464 | sigma: 0.006195818634333814\n"
     ]
    },
    {
     "data": {
      "image/png": "[encoded data removed]",
      "text/plain": [
       "<Figure size 432x288 with 1 Axes>"
      ]
     },
     "metadata": {
      "needs_background": "light"
     },
     "output_type": "display_data"
    }
   ],
   "source": [
    "plot.hist(hits_per_photon * 100,bins = 40);\n",
    "(mu, sigma) = norm.fit(hits_per_photon)\n",
    "print(f\"mean: {mu * 100} | sigma: {sigma * 100}\")"
   ]
  },
  {
   "cell_type": "markdown",
   "id": "2eabd8b3-4836-4f13-aa07-dab48237ef2a",
   "metadata": {},
   "source": [
    "## Energy deposited by mu/pi | # of photons per KeV deposited\n"
   ]
  },
  {
   "cell_type": "code",
   "execution_count": 9,
   "id": "b39c728c-8a92-4494-b1f5-2535a8af8ed7",
   "metadata": {},
   "outputs": [
    {
     "name": "stdout",
     "output_type": "stream",
     "text": [
      "# photons per KeV = 85356.26420167832 | avg energy dep: 2.338912129198345e-07 | skipped 0 events\n",
      "mean: 2.338912129198345e-07 | sigma: 4.06011680223071e-07\n"
     ]
    },
    {
     "data": {
      "image/png": "[encoded data removed]",
      "text/plain": [
       "<Figure size 432x288 with 1 Axes>"
      ]
     },
     "metadata": {
      "needs_background": "light"
     },
     "output_type": "display_data"
    }
   ],
   "source": [
    "energy_dep_event = []\n",
    "num_per_kev = []\n",
    "skipped_events = 0\n",
    "for event_idx in range(1000):\n",
    "    num_MC = 0\n",
    "    num_hits = 0\n",
    "    dep_count = 0\n",
    "    energy_dep = 0\n",
    "    for i in range(len(PDG_branch[event_idx])):\n",
    "        if(PDG_branch[event_idx][i] == -22 and (i < MC_daughters[event_idx][0])):num_MC+= 1 #count # of optph from muon\n",
    "    for i in range(len(EDep_branch[event_idx])):\n",
    "#         if(Hits_MC_idx_branch[event_idx][i] == 0):\n",
    "        if(True):\n",
    "            energy_dep += EDep_branch[event_idx][i]\n",
    "            dep_count += 1\n",
    "    energy_dep_event.append(energy_dep)\n",
    "    if(energy_dep == 0):\n",
    "        skipped_events += 1\n",
    "        continue\n",
    "    num_per_kev.append(num_MC / (energy_dep * 1000 * 1000))\n",
    "print(f\"# photons per KeV = {sum(num_per_kev) / len(num_per_kev)} | avg energy dep: {sum(energy_dep_event) / len(energy_dep_event)} | skipped {skipped_events} events\")\n",
    "\n",
    "fig, ax = plot.subplots(1,1)\n",
    "ax.hist(energy_dep_event,bins= 50);\n",
    "(mu, sigma) = norm.fit(energy_dep_event)\n",
    "print(f\"mean: {mu} | sigma: {sigma}\")\n",
    "fig.suptitle(\"pi energy dep histogram (all secondaries) (5GeV)\")\n",
    "fig.show()\n",
    "# fig.savefig(\"plots/June_12/energy_dep_pi_all_secondaries.jpeg\")"
   ]
  },
  {
   "cell_type": "code",
   "execution_count": null,
   "id": "cae50ba9-bcfd-4231-ae66-604a9132a32f",
   "metadata": {},
   "outputs": [],
   "source": [
    "parent_list = []\n",
    "for i in range(len(MC_parents[0])):\n",
    "    if (MC_parents[0][i] not in parent_list):\n",
    "        parent_list.append(MC_parents[0][i])\n",
    "for i in range(len(parent_list)):\n",
    "    print(PDG_branch[0][parent_list[i]])"
   ]
  },
  {
   "cell_type": "markdown",
   "id": "f651b60a-6485-4e9a-b8cb-ae5622468419",
   "metadata": {},
   "source": [
    "Plot energy deposition"
   ]
  },
  {
   "cell_type": "code",
   "execution_count": 78,
   "id": "6cdb36b5-1f9b-4f80-91d8-d1a3f1625808",
   "metadata": {},
   "outputs": [
    {
     "data": {
      "image/png": "[encoded data removed]",
      "text/plain": [
       "<Figure size 864x432 with 2 Axes>"
      ]
     },
     "metadata": {
      "needs_background": "light"
     },
     "output_type": "display_data"
    }
   ],
   "source": [
    "fig,(ax1,ax2) = plot.subplots(1,2,figsize=(12,6))\n",
    "fig.suptitle(\"1GeV pi-: energy deposited by layer\")\n",
    "ax1.set_title(\"Super layer energy deposition\")\n",
    "ax2.set_title(\"Individual layer energy deposition\")\n",
    "\n",
    "ax1.set_xlabel(\"superlayer number\")\n",
    "ax2.set_xlabel(\"layer number\")\n",
    "\n",
    "ax1.set_ylabel(\"avg energy deposited per event (GeV)\")\n",
    "ax1.scatter(range(14),super_layer_EDep,10)\n",
    "ax2.scatter(layer_map,layer_EDep,10,color = 'r',marker='o')\n",
    "fig.show()\n",
    "# fig.savefig(\"plots/energy_dep/mu_1GeV_10k_edep_vs_layer_num.jpeg\")"
   ]
  },
  {
   "cell_type": "code",
   "execution_count": null,
   "id": "594f5cfc-b03e-4319-94cd-fa79cab20a2c",
   "metadata": {},
   "outputs": [],
   "source": []
  }
 ],
 "metadata": {
  "kernelspec": {
   "display_name": "Python 3",
   "language": "python",
   "name": "python3"
  },
  "language_info": {
   "codemirror_mode": {
    "name": "ipython",
    "version": 3
   },
   "file_extension": ".py",
   "mimetype": "text/x-python",
   "name": "python",
   "nbconvert_exporter": "python",
   "pygments_lexer": "ipython3",
   "version": "3.8.8"
  }
 },
 "nbformat": 4,
 "nbformat_minor": 5
}
