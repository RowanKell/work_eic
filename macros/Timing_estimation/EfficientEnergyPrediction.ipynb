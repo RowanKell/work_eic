{
 "cells": [
  {
   "cell_type": "code",
   "execution_count": 1,
   "id": "cd528141-5e03-4724-a3ac-1a3749c7ed9d",
   "metadata": {},
   "outputs": [
    {
     "name": "stdout",
     "output_type": "stream",
     "text": [
      "Using device cuda:0\n"
     ]
    }
   ],
   "source": [
    "import uproot\n",
    "import numpy as np\n",
    "import torch\n",
    "from collections import defaultdict\n",
    "from util import get_layer, theta_func,create_layer_map\n",
    "from reco import calculate_num_pixels_z_dependence\n",
    "import matplotlib.pyplot as plot\n",
    "import time\n",
    "from collections import defaultdict\n",
    "# Get device to be used\n",
    "device = torch.device('cuda' if torch.cuda.is_available() else 'cpu')\n",
    "import os\n",
    "def checkdir(path):\n",
    "    if not os.path.exists(path): \n",
    "        os.makedirs(path)\n",
    "from IPython.display import clear_output\n",
    "from tqdm import tqdm\n",
    "from torch import nn"
   ]
  },
  {
   "cell_type": "code",
   "execution_count": 2,
   "id": "124f216c-4753-431f-b81e-9a983e997a22",
   "metadata": {},
   "outputs": [
    {
     "name": "stderr",
     "output_type": "stream",
     "text": [
      "/tmp/ipykernel_796603/562767274.py:1: FutureWarning: You are using `torch.load` with `weights_only=False` (the current default value), which uses the default pickle module implicitly. It is possible to construct malicious pickle data which will execute arbitrary code during unpickling (See https://github.com/pytorch/pytorch/blob/main/SECURITY.md#untrusted-models for more details). In a future release, the default value for `weights_only` will be flipped to `True`. This limits the functions that could be executed during unpickling. Arbitrary objects will no longer be allowed to be loaded via this mode unless they are explicitly allowlisted by the user via `torch.serialization.add_safe_globals`. We recommend you start setting `weights_only=True` for any use case where you don't have full control of the loaded file. Please open an issue on GitHub for any issues related to this experimental feature.\n",
      "  nn_input = torch.load(\"/hpc/group/vossenlab/rck32/eic/work_eic/macros/Timing_estimation/data/momentum_prediction/sept_10_5k_n_input_slurm_test.pt\")\n"
     ]
    }
   ],
   "source": [
    "nn_input = torch.load(\"/hpc/group/vossenlab/rck32/eic/work_eic/macros/Timing_estimation/data/momentum_prediction/sept_10_5k_n_input_slurm_test.pt\")"
   ]
  },
  {
   "cell_type": "code",
   "execution_count": 3,
   "id": "9d7a9ff4-fb88-4272-b501-cb02f90f3890",
   "metadata": {},
   "outputs": [
    {
     "name": "stderr",
     "output_type": "stream",
     "text": [
      "/hpc/group/vossenlab/rck32/ML_venv/lib64/python3.9/site-packages/normflows/core.py:213: FutureWarning: You are using `torch.load` with `weights_only=False` (the current default value), which uses the default pickle module implicitly. It is possible to construct malicious pickle data which will execute arbitrary code during unpickling (See https://github.com/pytorch/pytorch/blob/main/SECURITY.md#untrusted-models for more details). In a future release, the default value for `weights_only` will be flipped to `True`. This limits the functions that could be executed during unpickling. Arbitrary objects will no longer be allowed to be loaded via this mode unless they are explicitly allowlisted by the user via `torch.serialization.add_safe_globals`. We recommend you start setting `weights_only=True` for any use case where you don't have full control of the loaded file. Please open an issue on GitHub for any issues related to this experimental feature.\n",
      "  self.load_state_dict(torch.load(path))\n"
     ]
    }
   ],
   "source": [
    "import normflows as nf\n",
    "import datetime\n",
    "x = datetime.datetime.now()\n",
    "today = x.strftime(\"%B_%d\")\n",
    "# particle = \"pi\"\n",
    "particle = \"mu\"\n",
    "\n",
    "# This data will be used for storing plots - today above works if you actually want today\n",
    "# today = \"July_26\"\n",
    "\n",
    "run_num = 7\n",
    "run_num_str = str(run_num)\n",
    "\n",
    "#NF Stuff\n",
    "\n",
    "K = 8 #num flows\n",
    "\n",
    "latent_size = 1 #dimension of PDF\n",
    "hidden_units = 256 #nodes in hidden layers\n",
    "hidden_layers = 26\n",
    "context_size = 3 #conditional variables for PDF\n",
    "num_context = 3\n",
    "\n",
    "K_str = str(K)\n",
    "batch_size= 2000\n",
    "hidden_units_str = str(hidden_units)\n",
    "hidden_layers_str = str(hidden_layers)\n",
    "batch_size_str = str(batch_size)\n",
    "flows = []\n",
    "for i in range(K):\n",
    "    flows += [nf.flows.AutoregressiveRationalQuadraticSpline(latent_size, hidden_layers, hidden_units, \n",
    "                                                             num_context_channels=context_size)]\n",
    "    flows += [nf.flows.LULinearPermute(latent_size)]\n",
    "\n",
    "# Set base distribution\n",
    "q0 = nf.distributions.DiagGaussian(1, trainable=False)\n",
    "    \n",
    "# Construct flow model\n",
    "model = nf.ConditionalNormalizingFlow(q0, flows)\n",
    "\n",
    "# Move model on GPU if available\n",
    "model = model.to(device)\n",
    "# model_date = \"August_03\"\n",
    "# today = \"August_03\"\n",
    "# model_path = \"models/\" + model_date + \"/\"\n",
    "# checkdir(model_path)\n",
    "\n",
    "model_path = \"/hpc/group/vossenlab/rck32/NF_time_res_models/\"\n",
    "\n",
    "samples_path = \"data/samples/\" + today + \"/\"\n",
    "checkdir(samples_path)\n",
    "\n",
    "test_data_path = \"data/test/\" + today + \"/\"\n",
    "checkdir(test_data_path)\n",
    "\n",
    "test_dist_path = \"plots/test_distributions/\" + today + \"/\"\n",
    "checkdir(test_dist_path)\n",
    "model.load(model_path + \"run_\" + run_num_str + \"_\" + str(num_context)+ \"context_\" +K_str +  \"flows_\" + hidden_layers_str+\"hl_\" + hidden_units_str+\"hu_\" + batch_size_str+\"bs.pth\")\n",
    "model = model.to(device)\n",
    "model_compile = torch.compile(model,mode = \"reduce-overhead\")\n",
    "model_compile = model_compile.to(device)"
   ]
  },
  {
   "cell_type": "code",
   "execution_count": 4,
   "id": "52353658-e1ee-4fa5-8f48-a44a5267203b",
   "metadata": {},
   "outputs": [],
   "source": [
    "layer_map, super_layer_map = create_layer_map()\n",
    "\n",
    "\n",
    "def process_root_file(file_path):\n",
    "    print(\"began processing\")\n",
    "    with uproot.open(file_path) as file:\n",
    "        tree_HcalBarrelHits = file[\"events/HcalBarrelHits\"]\n",
    "        tree_MCParticles = file[\"events/MCParticles\"]\n",
    "        \n",
    "        \n",
    "        momentum_x_MC = tree_MCParticles[\"MCParticles.momentum.x\"].array(library=\"np\")\n",
    "        momentum_y_MC = tree_MCParticles[\"MCParticles.momentum.y\"].array(library=\"np\")\n",
    "        momentum_z_MC = tree_MCParticles[\"MCParticles.momentum.z\"].array(library=\"np\")\n",
    "        \n",
    "        z_pos = tree_HcalBarrelHits[\"HcalBarrelHits.position.z\"].array(library=\"np\")\n",
    "        x_pos = tree_HcalBarrelHits[\"HcalBarrelHits.position.x\"].array(library=\"np\")\n",
    "        energy = tree_HcalBarrelHits[\"HcalBarrelHits.EDep\"].array(library=\"np\")\n",
    "        momentum_x = tree_HcalBarrelHits[\"HcalBarrelHits.momentum.x\"].array(library=\"np\")\n",
    "        momentum_y = tree_HcalBarrelHits[\"HcalBarrelHits.momentum.y\"].array(library=\"np\")\n",
    "        momentum_z = tree_HcalBarrelHits[\"HcalBarrelHits.momentum.z\"].array(library=\"np\")\n",
    "        hit_time = tree_HcalBarrelHits[\"HcalBarrelHits.time\"].array(library=\"np\")\n",
    "        mc_hit_idx = file[\"events/_HcalBarrelHits_MCParticle/_HcalBarrelHits_MCParticle.index\"].array(library=\"np\")  # Add PDG code for particle identification\n",
    "        print(\"finished loading branches\")\n",
    "        \n",
    "        processed_data = defaultdict(lambda: defaultdict(lambda: defaultdict(dict)))\n",
    "        \n",
    "        for event_idx in tqdm(range(len(z_pos))):\n",
    "            energy_per_layer_particle = defaultdict(lambda: defaultdict(float))\n",
    "            first_hit_per_layer_particle = defaultdict(dict)\n",
    "            primary_momentum = (momentum_x_MC[event_idx][0],\n",
    "                            momentum_y_MC[event_idx][0],\n",
    "                            momentum_z_MC[event_idx][0])\n",
    "            primary_momentum_mag = np.linalg.norm(primary_momentum)\n",
    "            # First pass: collect first hit data and calculate energy per layer per particle\n",
    "            for hit_idx in range(len(z_pos[event_idx])):\n",
    "                z = z_pos[event_idx][hit_idx]\n",
    "                x = x_pos[event_idx][hit_idx]\n",
    "                e = energy[event_idx][hit_idx]\n",
    "                momentum = (momentum_x[event_idx][hit_idx],\n",
    "                            momentum_y[event_idx][hit_idx],\n",
    "                            momentum_z[event_idx][hit_idx])\n",
    "                momentum_mag = np.linalg.norm(momentum)\n",
    "                theta = theta_func(momentum_x[event_idx][hit_idx], momentum_y[event_idx][hit_idx], momentum_z[event_idx][hit_idx])\n",
    "                layer = get_layer(x)\n",
    "                particle_id = mc_hit_idx[event_idx][hit_idx]\n",
    "                \n",
    "                energy_per_layer_particle[layer][particle_id] += e\n",
    "                \n",
    "                if layer not in first_hit_per_layer_particle or particle_id not in first_hit_per_layer_particle[layer]:\n",
    "                    first_hit_per_layer_particle[layer][particle_id] = {\n",
    "                        \"z_pos\": z,\n",
    "                        \"x_pos\": x,\n",
    "                        \"momentum\": momentum_mag,\n",
    "                        \"primary_momentum\": primary_momentum_mag,\n",
    "                        \"theta\": theta,\n",
    "                        \"time\": hit_time[event_idx][hit_idx],\n",
    "                        \"mc_hit_idx\": particle_id\n",
    "                    }\n",
    "            \n",
    "            \n",
    "            # Second pass: process first hit with total layer energy per particle\n",
    "            for layer, particle_data in first_hit_per_layer_particle.items():\n",
    "                for particle_id, hit_data in particle_data.items():\n",
    "                    layer_particle_energy = energy_per_layer_particle[layer][particle_id]\n",
    "                    num_pixels = calculate_num_pixels_z_dependence(layer_particle_energy, hit_data[\"z_pos\"])\n",
    "#                     print(f\"layer:\\t\\t{layer}\\t|\\tparticle id:\\t{particle_id}\\t|\\tnum_pixels:\\t{num_pixels}\")\n",
    "                    hit_data[\"num_pixels\"] = int(np.floor(num_pixels))\n",
    "                    hit_data[\"layer_energy\"] = layer_particle_energy  # Store total layer energy for this particle\n",
    "                    processed_data[event_idx][layer][particle_id.item()] = hit_data\n",
    "    \n",
    "    print(\"finished processing\")\n",
    "    return processed_data"
   ]
  },
  {
   "cell_type": "code",
   "execution_count": 5,
   "id": "464fc9f8-bd77-438a-b4ab-df08d4458762",
   "metadata": {},
   "outputs": [
    {
     "name": "stdout",
     "output_type": "stream",
     "text": [
      "began processing\n",
      "finished loading branches\n"
     ]
    },
    {
     "name": "stderr",
     "output_type": "stream",
     "text": [
      "100%|██████████| 5000/5000 [00:25<00:00, 198.84it/s]"
     ]
    },
    {
     "name": "stdout",
     "output_type": "stream",
     "text": [
      "finished processing\n"
     ]
    },
    {
     "name": "stderr",
     "output_type": "stream",
     "text": [
      "\n"
     ]
    }
   ],
   "source": [
    "pref = \"/hpc/group/vossenlab/rck32/\"\n",
    "# processed_data = process_root_file(pref + \"eic/work_eic/root_files/September_3/sector_scint/run_1_pip_0_8_10GeV_theta_90_500events.edm4hep.root\")\n",
    "# processed_data = process_root_file(pref + \"eic/work_eic/root_files/September_3/sector_scint/run_1_mum_0_8_10GeV_theta_90_500events.edm4hep.root\")\n",
    "processed_data = process_root_file(pref + \"eic/work_eic/root_files/September_3/sector_scint/run_1_n_0_8_10GeV_theta_90_5kevents.edm4hep.root\")\n",
    "# nn_input, nn_output = prepare_nn_input(processed_data, normalizing_flow_model)\n",
    "# prediction_input, prediction_output = prepare_prediction_input(nn_input, nn_output)"
   ]
  },
  {
   "cell_type": "code",
   "execution_count": 6,
   "id": "f0a1f807-9070-4c1d-8236-0226bb1fee88",
   "metadata": {},
   "outputs": [],
   "source": [
    "def prepare_nn_input(processed_data, normalizing_flow, batch_size=1024):\n",
    "    flattened_data = []\n",
    "    event_indices = []\n",
    "    layer_indices = []\n",
    "    particle_indices = []\n",
    "\n",
    "    final_event_indices = []\n",
    "    final_layer_indices = []\n",
    "    final_particle_indices = []\n",
    "    \n",
    "    momentum_list = []\n",
    "    \n",
    "    context_list = []\n",
    "    running_pixel_idx = 0\n",
    "    for event_idx, event_data in processed_data.items():\n",
    "        for layer, layer_data in event_data.items():\n",
    "            for particle_id, particle_data in layer_data.items():\n",
    "                primary_momentum = particle_data[\"primary_momentum\"]\n",
    "                context = torch.tensor([particle_data['z_pos'], particle_data['theta'], particle_data['momentum']], dtype=torch.float32).repeat(particle_data['num_pixels'], 1)\n",
    "                flattened_data.append(torch.tensor([particle_data['time'], particle_data['num_pixels']]).repeat(particle_data['num_pixels'],1))\n",
    "                context_list.append(context)\n",
    "                for pixel_repeat_idx in range(particle_data['num_pixels']):\n",
    "                    final_event_indices.append(event_idx)\n",
    "                    final_layer_indices.append(layer)\n",
    "                    final_particle_indices.append(particle_id)\n",
    "                    momentum_list.append(primary_momentum.item())\n",
    "    all_context = torch.cat(context_list).to(device)\n",
    "    all_time_pixels = torch.cat(flattened_data)\n",
    "    # Batch the flattened data\n",
    "    max_its = int(np.ceil(all_context.shape[0] / batch_size))\n",
    "    sampled_data = []\n",
    "    print(\"Beginning sampling process\")\n",
    "    for batch_idx in tqdm(range(max_its)):\n",
    "        begin = batch_idx * batch_size\n",
    "        data_left = all_context.shape[0] - (batch_idx * batch_size)\n",
    "        end = min(begin + batch_size,begin + data_left)\n",
    "        add_times = all_time_pixels[begin:end]\n",
    "        context_batch = all_context[begin:end].to(device)\n",
    "        with torch.no_grad():\n",
    "            samples = abs(normalizing_flow.sample(num_samples=context_batch.shape[0], context=context_batch)[0]).squeeze(1)\n",
    "        adjusted_times = samples.detach().cpu() + add_times[:,0]\n",
    "        sampled_data.extend(adjusted_times)\n",
    "    # Reorganize sampled data\n",
    "    nn_input = defaultdict(lambda: defaultdict(list))\n",
    "    nn_output = defaultdict(lambda: defaultdict(list))\n",
    "    print(\"Beginning reorganization process\")\n",
    "    for i, (event, layer, particle) in enumerate(zip(final_event_indices, final_layer_indices, final_particle_indices)):\n",
    "        nn_input[event][layer].append(sampled_data[i])\n",
    "        nn_output[event][layer].append(torch.Tensor([momentum_list[i]]))\n",
    "    return nn_input, nn_output"
   ]
  },
  {
   "cell_type": "code",
   "execution_count": 7,
   "id": "e88b196c-77a7-4904-891c-222e5a5c8dd7",
   "metadata": {},
   "outputs": [
    {
     "name": "stdout",
     "output_type": "stream",
     "text": [
      "Beginning sampling process\n"
     ]
    },
    {
     "name": "stderr",
     "output_type": "stream",
     "text": [
      "100%|██████████| 1220/1220 [14:28<00:00,  1.40it/s]\n"
     ]
    },
    {
     "name": "stdout",
     "output_type": "stream",
     "text": [
      "Beginning reorganization process\n"
     ]
    }
   ],
   "source": [
    "begin = time.time()\n",
    "nn_input, nn_output = prepare_nn_input(processed_data, model_compile,batch_size = 50000)\n",
    "end = time.time()"
   ]
  },
  {
   "cell_type": "code",
   "execution_count": 8,
   "id": "7e37bde4-b5b9-4345-b067-f3e8ee80e0a6",
   "metadata": {},
   "outputs": [
    {
     "name": "stdout",
     "output_type": "stream",
     "text": [
      "rate: 0.24599914326667785 seconds / event\n"
     ]
    }
   ],
   "source": [
    "print(f\"rate: {(end - begin) / 5000} seconds / event\")"
   ]
  },
  {
   "cell_type": "code",
   "execution_count": 9,
   "id": "ed165349-7fa7-463f-9d66-68a30475dba7",
   "metadata": {
    "tags": []
   },
   "outputs": [],
   "source": [
    "def prepare_prediction_input(nn_input, nn_output):\n",
    "    #note - some events do not have dictionaries in nn_input due to being empty\n",
    "    #need to skip over these and condense tensor\n",
    "    prediction_input = torch.ones(len(nn_input),28,10) * 999\n",
    "    prediction_output = torch.ones(len(nn_input)) * 999\n",
    "    \n",
    "    input_dict = defaultdict(lambda: defaultdict(list))\n",
    "    output_dict = {}\n",
    "    curr_event_num = 0\n",
    "    for event_idx in tqdm(list(nn_input)):\n",
    "        event_input = []\n",
    "        set_output = False\n",
    "        layer_keys = nn_input[event_idx].keys()\n",
    "        for layer in range(28):\n",
    "            if(layer in layer_keys):\n",
    "                layer_times = torch.tensor(sorted(nn_input[event_idx][layer]))\n",
    "                # Pad or truncate to exactly 10 times per layer\n",
    "                if len(layer_times) < 10:\n",
    "                    padding = torch.full((10 - len(layer_times),), float(999))\n",
    "                    layer_times = torch.cat([layer_times, padding])\n",
    "                if(not set_output):\n",
    "                    prediction_output[curr_event_num] = nn_output[event_idx][layer][0]\n",
    "                    set_output = True\n",
    "            else:\n",
    "                layer_times = torch.full([28],999)\n",
    "\n",
    "            prediction_input[curr_event_num][layer] = layer_times[:10]\n",
    "        curr_event_num += 1\n",
    "    return prediction_input, prediction_output\n"
   ]
  },
  {
   "cell_type": "code",
   "execution_count": null,
   "id": "676ec2fd-ab27-4c65-bea0-daa777d0cb5c",
   "metadata": {},
   "outputs": [
    {
     "name": "stderr",
     "output_type": "stream",
     "text": [
      " 45%|████▌     | 2251/4979 [10:55<23:40,  1.92it/s] "
     ]
    }
   ],
   "source": [
    "prediction_input, prediction_output= prepare_prediction_input(nn_input,nn_output)"
   ]
  },
  {
   "cell_type": "code",
   "execution_count": null,
   "id": "b6e81d19-11c2-43e4-93cc-09decc13cc2d",
   "metadata": {},
   "outputs": [],
   "source": []
  },
  {
   "cell_type": "code",
   "execution_count": 14,
   "id": "e33031c3-e6e8-470d-9c10-dcdd0405661f",
   "metadata": {},
   "outputs": [],
   "source": [
    "class Predictor(nn.Module):\n",
    "    \"\"\"\n",
    "    Prediction network\n",
    "    \"\"\"\n",
    "    def __init__(self, input_size=280, num_classes=2, hidden_dim = 512, num_layers = 10):\n",
    "        super(Predictor, self).__init__()\n",
    "        self.layer = nn.Sequential()\n",
    "        for i in range(num_layers):\n",
    "            if(i == 0):\n",
    "                self.layer.append(\n",
    "                nn.Linear(input_size, hidden_dim)\n",
    "                )\n",
    "                self.layer.append(\n",
    "                    nn.LeakyReLU(inplace=True)\n",
    "                )\n",
    "            elif(i == num_layers - 1):\n",
    "                self.layer.append(\n",
    "                nn.Linear(hidden_dim, num_classes)\n",
    "                )\n",
    "            else:\n",
    "                self.layer.append(\n",
    "                    nn.Linear(hidden_dim, hidden_dim)\n",
    "                )\n",
    "                self.layer.append(\n",
    "                    nn.LeakyReLU(inplace=True)\n",
    "                )\n",
    "        self.name = \"Predictor\"\n",
    "#         self.double()\n",
    "        \n",
    "    def forward(self, h):\n",
    "        c = self.layer(h)\n",
    "        return c\n",
    "    \n",
    "    # @property\n",
    "    def name(self):\n",
    "        \"\"\"\n",
    "        Name of model.\n",
    "        \"\"\"\n",
    "        return self.name"
   ]
  },
  {
   "cell_type": "code",
   "execution_count": 15,
   "id": "dad25b6c-4da2-4aa9-9b1c-137e23bf2f6c",
   "metadata": {},
   "outputs": [],
   "source": [
    "from torch import nn\n",
    "from reco import Predictor\n",
    "num_layers = 28\n",
    "num_pixels_per_layer = 10\n",
    "model = Predictor(input_size=num_layers * num_pixels_per_layer, num_classes=1, hidden_dim = 280 * 2, num_layers = 20)\n",
    "model = model.to(device)\n",
    "optimizer = torch.optim.Adam(model.parameters(), lr=1e-5, weight_decay=1e-5)"
   ]
  },
  {
   "cell_type": "code",
   "execution_count": 23,
   "id": "ac7678f0-f588-44b1-962c-834d69117007",
   "metadata": {},
   "outputs": [],
   "source": [
    "def train(predictor, train_data,nn_output,optimizer,device, num_epochs = 18, batch_size = 100, show_progress = True):\n",
    "    \n",
    "    criterion = nn.MSELoss()\n",
    "    predictor.train()\n",
    "    total_data_points = train_data.shape[0]\n",
    "    num_it = total_data_points // batch_size\n",
    "\n",
    "    show_progress = True\n",
    "    loss_hist = []\n",
    "    curr_losses = []\n",
    "    for i in range(num_epochs):\n",
    "        clear_output(wait=True)\n",
    "        print(f\"Training epoch #{i}\")\n",
    "        epoch_hist = np.array([])\n",
    "        val_epoch_hist = np.array([])\n",
    "        with tqdm(total=num_it, position=0, leave=True) as pbar:\n",
    "            for it in range(num_it):\n",
    "                optimizer.zero_grad()\n",
    "                begin = it * batch_size\n",
    "                end = min((begin + batch_size),(total_data_points - begin))\n",
    "                context_inputs = train_data[begin:end].flatten(start_dim = 1).to(device)\n",
    "                expected_outputs = nn_output[begin:end].to(device)\n",
    "                outputs = predictor(context_inputs)\n",
    "                print(f\"outputs: {outputs}\")\n",
    "                print(f\"expected outputs: {expected_outputs}\")\n",
    "                loss = criterion(outputs, expected_outputs)\n",
    "                # Do backprop and optimizer step\n",
    "                if ~(torch.isnan(loss) | torch.isinf(loss)):\n",
    "                    loss.backward()\n",
    "                    optimizer.step()\n",
    "                # Log loss\n",
    "                if~(torch.isnan(loss)):\n",
    "                    curr_losses.append(loss.to('cpu').data.numpy())\n",
    "                    if(not (it % 5)):\n",
    "                        loss_hist.append(sum(curr_losses) / len(curr_losses))\n",
    "                        curr_losses = []\n",
    "                if(show_progress):\n",
    "                    pbar.update(1)\n",
    "        \n",
    "\n",
    "    print('Finished Training')\n",
    "    return loss_hist"
   ]
  },
  {
   "cell_type": "code",
   "execution_count": null,
   "id": "8f5c2b34-9bb9-48b0-985e-a1a096a649ed",
   "metadata": {},
   "outputs": [],
   "source": [
    "loss_hist = train(model,prediction_input,prediction_output,optimizer,device,num_epochs = 1, batch_size = 128)"
   ]
  },
  {
   "cell_type": "code",
   "execution_count": 22,
   "id": "2d39aaba-7561-4eab-b857-2fd9981744cf",
   "metadata": {},
   "outputs": [
    {
     "data": {
      "image/png": "[encoded data removed]",
      "text/plain": [
       "<Figure size 640x480 with 1 Axes>"
      ]
     },
     "metadata": {},
     "output_type": "display_data"
    }
   ],
   "source": [
    "plot.plot(loss_hist);"
   ]
  },
  {
   "cell_type": "code",
   "execution_count": 2,
   "id": "c4d49aa1-d51c-46c8-a281-6104030eb026",
   "metadata": {},
   "outputs": [],
   "source": [
    "import torch"
   ]
  },
  {
   "cell_type": "code",
   "execution_count": 7,
   "id": "6bf51496-f9b2-4d90-826f-c13fc24c03ff",
   "metadata": {},
   "outputs": [
    {
     "name": "stderr",
     "output_type": "stream",
     "text": [
      "/tmp/ipykernel_1933968/1021749622.py:1: FutureWarning: You are using `torch.load` with `weights_only=False` (the current default value), which uses the default pickle module implicitly. It is possible to construct malicious pickle data which will execute arbitrary code during unpickling (See https://github.com/pytorch/pytorch/blob/main/SECURITY.md#untrusted-models for more details). In a future release, the default value for `weights_only` will be flipped to `True`. This limits the functions that could be executed during unpickling. Arbitrary objects will no longer be allowed to be loaded via this mode unless they are explicitly allowlisted by the user via `torch.serialization.add_safe_globals`. We recommend you start setting `weights_only=True` for any use case where you don't have full control of the loaded file. Please open an issue on GitHub for any issues related to this experimental feature.\n",
      "  test_input = torch.load(\"./data/momentum_prediction/sept_12_5k_n_input_slurm_0.pt\")\n",
      "/tmp/ipykernel_1933968/1021749622.py:2: FutureWarning: You are using `torch.load` with `weights_only=False` (the current default value), which uses the default pickle module implicitly. It is possible to construct malicious pickle data which will execute arbitrary code during unpickling (See https://github.com/pytorch/pytorch/blob/main/SECURITY.md#untrusted-models for more details). In a future release, the default value for `weights_only` will be flipped to `True`. This limits the functions that could be executed during unpickling. Arbitrary objects will no longer be allowed to be loaded via this mode unless they are explicitly allowlisted by the user via `torch.serialization.add_safe_globals`. We recommend you start setting `weights_only=True` for any use case where you don't have full control of the loaded file. Please open an issue on GitHub for any issues related to this experimental feature.\n",
      "  test_output = torch.load(\"./data/momentum_prediction/sept_12_5k_n_output_slurm_0.pt\")\n"
     ]
    }
   ],
   "source": [
    "test_input = torch.load(\"./data/momentum_prediction/sept_12_5k_n_input_slurm_0.pt\")\n",
    "test_output = torch.load(\"./data/momentum_prediction/sept_12_5k_n_output_slurm_0.pt\")\n"
   ]
  },
  {
   "cell_type": "code",
   "execution_count": 8,
   "id": "80395d2d-84cf-42d9-86c6-7833417a544c",
   "metadata": {},
   "outputs": [
    {
     "data": {
      "text/plain": [
       "tensor([[ 10.8212,  11.2180,  11.5162,  11.5445,  11.6383,  11.6385,  11.6458,\n",
       "          11.6660,  11.6771,  11.6923],\n",
       "        [ 11.3897,  11.4625,  11.4850,  11.5092,  11.5183,  11.5553,  11.5785,\n",
       "          11.5838,  11.5890,  11.6200],\n",
       "        [ 10.9289,  10.9530,  10.9582,  10.9875,  11.0065,  11.0440,  11.0632,\n",
       "          11.0725,  11.0819,  11.1070],\n",
       "        [ 10.9927,  11.0114,  11.0218,  11.0351,  11.0370,  11.0497,  11.1218,\n",
       "          11.1261,  11.1359,  11.1456],\n",
       "        [ 10.7856,  10.8954,  11.1215,  11.1651,  11.1964,  11.1969,  11.2200,\n",
       "          11.2362,  11.2424,  11.2574],\n",
       "        [ 11.1248,  11.2034,  11.2405,  11.2592,  11.2644,  11.3100,  11.3236,\n",
       "          11.3243,  11.3405,  11.3444],\n",
       "        [ 11.5502,  11.6144,  11.6400,  11.7329,  11.7688,  11.8240,  11.8526,\n",
       "          11.8655,  11.8658,  11.8765],\n",
       "        [ 11.5905,  11.6553,  11.7269,  11.7804,  11.8270,  11.9834,  12.0566,\n",
       "          12.1126,  12.1142,  12.2012],\n",
       "        [ 11.6735,  11.7231,  11.7462,  11.8555,  11.8837,  11.9106,  11.9241,\n",
       "          11.9338,  11.9340,  11.9616],\n",
       "        [ 11.2915,  11.5731,  11.5953,  11.6577,  11.8124,  11.8618,  11.9097,\n",
       "          11.9389,  11.9406,  12.0024],\n",
       "        [ 11.8938,  12.8401,  13.0544,  13.1890,  13.3970,  13.5953,  15.4332,\n",
       "          15.9725,  22.0664,  86.0971],\n",
       "        [ 17.3895,  18.5364,  54.9009,  55.2455,  57.0325,  58.5647,  62.4571,\n",
       "         999.0000, 999.0000, 999.0000],\n",
       "        [999.0000, 999.0000, 999.0000, 999.0000, 999.0000, 999.0000, 999.0000,\n",
       "         999.0000, 999.0000, 999.0000],\n",
       "        [140.1728, 999.0000, 999.0000, 999.0000, 999.0000, 999.0000, 999.0000,\n",
       "         999.0000, 999.0000, 999.0000],\n",
       "        [999.0000, 999.0000, 999.0000, 999.0000, 999.0000, 999.0000, 999.0000,\n",
       "         999.0000, 999.0000, 999.0000],\n",
       "        [999.0000, 999.0000, 999.0000, 999.0000, 999.0000, 999.0000, 999.0000,\n",
       "         999.0000, 999.0000, 999.0000],\n",
       "        [999.0000, 999.0000, 999.0000, 999.0000, 999.0000, 999.0000, 999.0000,\n",
       "         999.0000, 999.0000, 999.0000],\n",
       "        [999.0000, 999.0000, 999.0000, 999.0000, 999.0000, 999.0000, 999.0000,\n",
       "         999.0000, 999.0000, 999.0000],\n",
       "        [999.0000, 999.0000, 999.0000, 999.0000, 999.0000, 999.0000, 999.0000,\n",
       "         999.0000, 999.0000, 999.0000],\n",
       "        [999.0000, 999.0000, 999.0000, 999.0000, 999.0000, 999.0000, 999.0000,\n",
       "         999.0000, 999.0000, 999.0000],\n",
       "        [999.0000, 999.0000, 999.0000, 999.0000, 999.0000, 999.0000, 999.0000,\n",
       "         999.0000, 999.0000, 999.0000],\n",
       "        [999.0000, 999.0000, 999.0000, 999.0000, 999.0000, 999.0000, 999.0000,\n",
       "         999.0000, 999.0000, 999.0000],\n",
       "        [999.0000, 999.0000, 999.0000, 999.0000, 999.0000, 999.0000, 999.0000,\n",
       "         999.0000, 999.0000, 999.0000],\n",
       "        [999.0000, 999.0000, 999.0000, 999.0000, 999.0000, 999.0000, 999.0000,\n",
       "         999.0000, 999.0000, 999.0000],\n",
       "        [999.0000, 999.0000, 999.0000, 999.0000, 999.0000, 999.0000, 999.0000,\n",
       "         999.0000, 999.0000, 999.0000],\n",
       "        [999.0000, 999.0000, 999.0000, 999.0000, 999.0000, 999.0000, 999.0000,\n",
       "         999.0000, 999.0000, 999.0000],\n",
       "        [999.0000, 999.0000, 999.0000, 999.0000, 999.0000, 999.0000, 999.0000,\n",
       "         999.0000, 999.0000, 999.0000],\n",
       "        [999.0000, 999.0000, 999.0000, 999.0000, 999.0000, 999.0000, 999.0000,\n",
       "         999.0000, 999.0000, 999.0000]])"
      ]
     },
     "execution_count": 8,
     "metadata": {},
     "output_type": "execute_result"
    }
   ],
   "source": [
    "test[101]"
   ]
  },
  {
   "cell_type": "code",
   "execution_count": 21,
   "id": "9652dc4a-c53a-4a3b-b2bb-cb329c513868",
   "metadata": {},
   "outputs": [
    {
     "data": {
      "text/plain": [
       "tensor(4.1287)"
      ]
     },
     "execution_count": 21,
     "metadata": {},
     "output_type": "execute_result"
    }
   ],
   "source": [
    "test_output[107]"
   ]
  },
  {
   "cell_type": "code",
   "execution_count": 22,
   "id": "c2909555-5983-45de-99ef-5ba8ee7ec614",
   "metadata": {},
   "outputs": [
    {
     "data": {
      "text/plain": [
       "tensor([[999.0000, 999.0000, 999.0000, 999.0000, 999.0000, 999.0000, 999.0000,\n",
       "         999.0000, 999.0000, 999.0000],\n",
       "        [999.0000, 999.0000, 999.0000, 999.0000, 999.0000, 999.0000, 999.0000,\n",
       "         999.0000, 999.0000, 999.0000],\n",
       "        [999.0000, 999.0000, 999.0000, 999.0000, 999.0000, 999.0000, 999.0000,\n",
       "         999.0000, 999.0000, 999.0000],\n",
       "        [999.0000, 999.0000, 999.0000, 999.0000, 999.0000, 999.0000, 999.0000,\n",
       "         999.0000, 999.0000, 999.0000],\n",
       "        [ 16.9103,  17.6764,  18.0900,  18.1883,  18.2154,  18.6976,  20.6132,\n",
       "          21.2458,  22.6018,  23.2951],\n",
       "        [ 20.9510,  20.9725,  21.0208,  21.6770,  21.9571,  22.2717,  22.5472,\n",
       "          22.8347,  22.9454,  23.6713],\n",
       "        [ 18.3015,  18.7514,  18.8010,  19.0258,  19.0356,  19.1539,  19.2485,\n",
       "          19.3906,  19.4158,  19.4383],\n",
       "        [ 16.3187,  16.3503,  16.3561,  16.4729,  16.6279,  16.7275,  16.8192,\n",
       "          16.8327,  16.8656,  16.9273],\n",
       "        [ 17.2845,  18.5188,  18.9531,  20.1260,  20.1461,  20.2879,  42.2971,\n",
       "         999.0000, 999.0000, 999.0000],\n",
       "        [ 32.3153,  32.7357,  32.9809,  56.0297,  56.6125,  56.8128,  57.2063,\n",
       "          57.7153,  58.0606,  58.2485],\n",
       "        [ 11.8349,  11.9857,  12.1419,  12.1423,  12.1663,  12.2175,  12.2204,\n",
       "          12.2237,  12.2322,  12.2802],\n",
       "        [ 12.0024,  12.0036,  12.0991,  12.1001,  12.1512,  12.2442,  12.2456,\n",
       "          12.2495,  12.2629,  12.2996],\n",
       "        [ 12.4080,  12.4217,  12.4481,  12.5799,  12.5840,  12.6403,  12.7301,\n",
       "          12.7694,  12.8212,  12.8238],\n",
       "        [ 12.4013,  12.4619,  12.5158,  12.5851,  12.6083,  12.6597,  12.6763,\n",
       "          12.6850,  12.6900,  12.7093],\n",
       "        [ 12.7035,  12.8014,  12.8304,  12.8892,  12.8986,  12.9223,  12.9869,\n",
       "          12.9890,  13.0254,  13.0540],\n",
       "        [ 12.7923,  12.8812,  12.9341,  12.9506,  12.9652,  13.0200,  13.0646,\n",
       "          13.0822,  13.0853,  13.1219],\n",
       "        [ 13.2084,  13.4208,  13.4238,  13.4896,  13.4978,  13.6031,  13.6992,\n",
       "          13.7012,  13.7101,  13.8165],\n",
       "        [ 13.3144,  13.4906,  13.5488,  13.7009,  13.7538,  13.7604,  13.7670,\n",
       "          13.7814,  13.8288,  13.8292],\n",
       "        [ 13.6248,  13.8479,  13.8804,  13.8814,  13.9707,  14.2144,  14.2441,\n",
       "          14.2826,  14.3073,  14.3590],\n",
       "        [ 13.7189,  13.8353,  13.8734,  13.9101,  13.9556,  13.9833,  14.0113,\n",
       "          14.1407,  14.1558,  14.2524],\n",
       "        [ 14.1317,  14.1541,  14.1630,  14.2528,  14.3165,  14.3433,  14.4232,\n",
       "          14.4246,  14.4382,  14.5064],\n",
       "        [ 14.2254,  14.2322,  14.2708,  14.3576,  14.3692,  14.4356,  14.4714,\n",
       "          14.5270,  14.5723,  14.6138],\n",
       "        [109.1512, 999.0000, 999.0000, 999.0000, 999.0000, 999.0000, 999.0000,\n",
       "         999.0000, 999.0000, 999.0000],\n",
       "        [ 18.4747,  19.0684,  19.2816,  19.3423,  19.5009,  19.8811,  21.1246,\n",
       "          22.9948,  69.7769,  69.8331],\n",
       "        [999.0000, 999.0000, 999.0000, 999.0000, 999.0000, 999.0000, 999.0000,\n",
       "         999.0000, 999.0000, 999.0000],\n",
       "        [ 17.8778,  17.9968, 999.0000, 999.0000, 999.0000, 999.0000, 999.0000,\n",
       "         999.0000, 999.0000, 999.0000],\n",
       "        [999.0000, 999.0000, 999.0000, 999.0000, 999.0000, 999.0000, 999.0000,\n",
       "         999.0000, 999.0000, 999.0000],\n",
       "        [999.0000, 999.0000, 999.0000, 999.0000, 999.0000, 999.0000, 999.0000,\n",
       "         999.0000, 999.0000, 999.0000]])"
      ]
     },
     "execution_count": 22,
     "metadata": {},
     "output_type": "execute_result"
    }
   ],
   "source": [
    "test_input[107]"
   ]
  },
  {
   "cell_type": "code",
   "execution_count": null,
   "id": "e77d0942-db10-44a2-9456-404d292522d4",
   "metadata": {},
   "outputs": [],
   "source": []
  }
 ],
 "metadata": {
  "kernelspec": {
   "display_name": "ML_venv",
   "language": "python",
   "name": "ml_venv"
  },
  "language_info": {
   "codemirror_mode": {
    "name": "ipython",
    "version": 3
   },
   "file_extension": ".py",
   "mimetype": "text/x-python",
   "name": "python",
   "nbconvert_exporter": "python",
   "pygments_lexer": "ipython3",
   "version": "3.9.18"
  }
 },
 "nbformat": 4,
 "nbformat_minor": 5
}
