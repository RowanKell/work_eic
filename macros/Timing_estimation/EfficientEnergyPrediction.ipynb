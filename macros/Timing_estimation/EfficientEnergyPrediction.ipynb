{
 "cells": [
  {
   "cell_type": "code",
   "execution_count": 59,
   "id": "4ed5a5b2-0189-4548-b548-568034073e63",
   "metadata": {},
   "outputs": [
    {
     "name": "stdout",
     "output_type": "stream",
     "text": [
      "began processing\n",
      "finished loading branches\n",
      "x: 1835.1270999179642\t|\tlayer: 0\n"
     ]
    }
   ],
   "source": [
    "import uproot\n",
    "import numpy as np\n",
    "import torch\n",
    "from collections import defaultdict\n",
    "from util import get_layer, theta_func, calculate_num_pixels_z_dependence,create_layer_map\n",
    "import matplotlib.pyplot as plot\n",
    "\n",
    "layer_map, super_layer_map = create_layer_map()\n",
    "x_hit_pos = []\n",
    "layer_list = []\n",
    "def process_root_file(file_path):\n",
    "    print(\"began processing\")\n",
    "    with uproot.open(file_path) as file:\n",
    "        tree = file[\"events/HcalBarrelHits\"]\n",
    "        \n",
    "        z_pos = tree[\"HcalBarrelHits.position.z\"].array(library=\"np\")\n",
    "        x_pos = tree[\"HcalBarrelHits.position.x\"].array(library=\"np\")\n",
    "        energy = tree[\"HcalBarrelHits.EDep\"].array(library=\"np\")\n",
    "        momentum_x = tree[\"HcalBarrelHits.momentum.x\"].array(library=\"np\")\n",
    "        momentum_y = tree[\"HcalBarrelHits.momentum.y\"].array(library=\"np\")\n",
    "        momentum_z = tree[\"HcalBarrelHits.momentum.z\"].array(library=\"np\")\n",
    "        hit_time = tree[\"HcalBarrelHits.time\"].array(library=\"np\")\n",
    "        print(\"finished loading branches\")\n",
    "        processed_data = defaultdict(dict)\n",
    "        \n",
    "        for event_idx in range(len(z_pos)):\n",
    "            energy_per_layer = defaultdict(float)\n",
    "            first_hit_per_layer = {}\n",
    "            \n",
    "            # First pass: collect first hit data and calculate energy per layer\n",
    "            for hit_idx in range(len(z_pos[event_idx])):\n",
    "                z = z_pos[event_idx][hit_idx]\n",
    "                x = x_pos[event_idx][hit_idx]\n",
    "                x_hit_pos.append(x)\n",
    "                e = energy[event_idx][hit_idx]\n",
    "                momentum = (momentum_x[event_idx][hit_idx],\n",
    "                            momentum_y[event_idx][hit_idx],\n",
    "                            momentum_z[event_idx][hit_idx])\n",
    "                momentum_mag = np.linalg.norm(momentum)\n",
    "                theta = theta_func(momentum_x[event_idx][hit_idx],momentum_y[event_idx][hit_idx],momentum_z[event_idx][hit_idx])\n",
    "                layer = get_layer(x)\n",
    "                if(layer == 0):\n",
    "                    print(f\"x: {x}\\t|\\tlayer: {layer}\")\n",
    "                    return\n",
    "                layer_list.append(layer)\n",
    "                \n",
    "                energy_per_layer[layer] += e\n",
    "                \n",
    "                if layer not in first_hit_per_layer:\n",
    "                    first_hit_per_layer[layer] = {\n",
    "                        \"z_pos\": z,\n",
    "                        \"x_pos\": x,\n",
    "                        \"energy\": e,\n",
    "                        \"momentum\": momentum_mag,\n",
    "                        \"theta\": theta,\n",
    "                        \"time\": hit_time[event_idx][hit_idx]\n",
    "                    }\n",
    "            \n",
    "            # Second pass: process first hit with total layer energy\n",
    "            for layer, hit_data in first_hit_per_layer.items():\n",
    "                layer_energy = energy_per_layer[layer]\n",
    "                num_pixels = calculate_num_pixels_z_dependence(layer_energy,hit_data[\"z_pos\"])\n",
    "                hit_data[\"num_pixels\"] = num_pixels\n",
    "                hit_data[\"layer_energy\"] = layer_energy  # Store total layer energy for reference\n",
    "                processed_data[event_idx][layer] = hit_data\n",
    "    print(\"finished processing\")\n",
    "    return processed_data\n",
    "\n",
    "def prepare_nn_input(processed_data, normalizing_flow):\n",
    "    nn_input = defaultdict(lambda: defaultdict(list))\n",
    "    nn_output = defaultdict(lambda: defaultdict(list))\n",
    "    \n",
    "    for event_idx, event_data in processed_data.items():\n",
    "        for layer, hit_data in event_data.items():\n",
    "            context = torch.tensor([hit_data['z_pos'], hit_data['theta'], hit_data['momentum']], dtype=torch.float32)\n",
    "            context = context.repeat(hit_data['num_pixels'], 1)  # Repeat context for each pixel\n",
    "            \n",
    "            # Generate samples for all pixels in the layer\n",
    "            with torch.no_grad():\n",
    "                samples = normalizing_flow.sample(num_samples=1, context=context).squeeze()\n",
    "            \n",
    "            # Add the sampled times to the original time\n",
    "            adjusted_times = samples + hit_data['time']\n",
    "            \n",
    "            # Sort all pixels by adjusted time and take the lowest 10\n",
    "            sorted_indices = torch.argsort(adjusted_times)[:10]\n",
    "            \n",
    "            nn_input[event_idx][layer] = adjusted_times[sorted_indices]\n",
    "            nn_output[event_idx][layer] = torch.full((10,), hit_data['momentum'], dtype=torch.float32)\n",
    "    \n",
    "    return nn_input, nn_output\n",
    "\n",
    "def prepare_prediction_input(nn_input, nn_output):\n",
    "    prediction_input = []\n",
    "    prediction_output = []\n",
    "    \n",
    "    for event_idx in nn_input.keys():\n",
    "        event_input = []\n",
    "        event_output = []\n",
    "        \n",
    "        for layer in sorted(nn_input[event_idx].keys()):\n",
    "            layer_times = nn_input[event_idx][layer]\n",
    "            layer_momenta = nn_output[event_idx][layer]\n",
    "            \n",
    "            # Pad or truncate to exactly 10 times per layer\n",
    "            if len(layer_times) < 10:\n",
    "                padding = torch.full((10 - len(layer_times),), float('inf'))\n",
    "                layer_times = torch.cat([layer_times, padding])\n",
    "            \n",
    "            event_input.append(layer_times)\n",
    "            event_output.append(layer_momenta.mean())  # Using mean momentum as the target\n",
    "        \n",
    "        prediction_input.append(torch.stack(event_input))\n",
    "        prediction_output.append(torch.stack(event_output))\n",
    "    \n",
    "    return torch.stack(prediction_input), torch.stack(prediction_output)\n",
    "\n",
    "# Example usage:\n",
    "# def calculate_theta(z, x):\n",
    "#     return np.arctan2(x, z)\n",
    "\n",
    "# def calculate_num_pixels(z, x, layer_energy):\n",
    "#     # Implement your logic to calculate the number of pixels for a hit\n",
    "#     # using z, x positions and the total energy deposited in the layer\n",
    "#     pass\n",
    "pref = \"/hpc/group/vossenlab/rck32/\"\n",
    "processed_data = process_root_file(pref + \"eic/work_eic/root_files/August_28/sector_scint/run_1/run_1_n_0_8_10GeV_theta_90_5kevents.edm4hep.root\")\n",
    "# nn_input, nn_output = prepare_nn_input(processed_data, normalizing_flow_model)\n",
    "# prediction_input, prediction_output = prepare_prediction_input(nn_input, nn_output)"
   ]
  },
  {
   "cell_type": "code",
   "execution_count": 54,
   "id": "8e04081b-e907-401d-bc1e-9b8dfb7c4972",
   "metadata": {},
   "outputs": [
    {
     "data": {
      "text/plain": [
       "dict_keys([12, 11, 15, 16, 17, 19, 20, 13, 21, 18, 22, 23, 14, 10, 24, 25, 26, 27, 6, 9, 8, 4, 5, 7, 3, 2])"
      ]
     },
     "execution_count": 54,
     "metadata": {},
     "output_type": "execute_result"
    }
   ],
   "source": [
    "processed_data[0].keys()"
   ]
  },
  {
   "cell_type": "code",
   "execution_count": 45,
   "id": "71ec6cb0-f526-49b0-98a8-1f04a21a26d7",
   "metadata": {},
   "outputs": [
    {
     "data": {
      "image/png": "[encoded data removed]",
      "text/plain": [
       "<Figure size 640x480 with 1 Axes>"
      ]
     },
     "metadata": {},
     "output_type": "display_data"
    }
   ],
   "source": [
    "x_arr = np.array(x_hit_pos)\n",
    "x_arr_cut = x_arr[x_arr > 1700]\n",
    "layer_arr_cut = layer_arr[x_arr > 1700]\n",
    "layer_arr = np.array(layer_list)\n",
    "sizes = np.ones(len(x_arr_cut)) * 0.05\n",
    "plot.scatter(x_arr_cut,layer_arr_cut,sizes);"
   ]
  },
  {
   "cell_type": "code",
   "execution_count": 42,
   "id": "8601278e-38c0-458c-b6fb-3e8c458926b4",
   "metadata": {},
   "outputs": [
    {
     "data": {
      "text/plain": [
       "1964258"
      ]
     },
     "execution_count": 42,
     "metadata": {},
     "output_type": "execute_result"
    }
   ],
   "source": [
    "len(x_arr)"
   ]
  },
  {
   "cell_type": "code",
   "execution_count": 31,
   "id": "2657d438-07db-4af8-86f5-2e07630c4523",
   "metadata": {},
   "outputs": [
    {
     "data": {
      "image/png": "[encoded data removed]",
      "text/plain": [
       "<Figure size 640x480 with 1 Axes>"
      ]
     },
     "metadata": {},
     "output_type": "display_data"
    }
   ],
   "source": [
    "plot.hist(x_arr[x_arr > 1700],bins = 100);"
   ]
  },
  {
   "cell_type": "code",
   "execution_count": null,
   "id": "fe53c37d-0475-4729-92ae-690485a1d5ec",
   "metadata": {},
   "outputs": [],
   "source": []
  }
 ],
 "metadata": {
  "kernelspec": {
   "display_name": "ML_venv",
   "language": "python",
   "name": "ml_venv"
  },
  "language_info": {
   "codemirror_mode": {
    "name": "ipython",
    "version": 3
   },
   "file_extension": ".py",
   "mimetype": "text/x-python",
   "name": "python",
   "nbconvert_exporter": "python",
   "pygments_lexer": "ipython3",
   "version": "3.9.18"
  }
 },
 "nbformat": 4,
 "nbformat_minor": 5
}
