{
 "cells": [
  {
   "cell_type": "code",
   "execution_count": 19,
   "id": "5fcf1336-9c6b-4f49-abb6-e77753e1408f",
   "metadata": {},
   "outputs": [],
   "source": [
    "import numpy as np\n",
    "import matplotlib.pyplot as plot\n",
    "import pandas as pd\n",
    "from collections import defaultdict\n",
    "from tqdm import tqdm\n",
    "import "
   ]
  },
  {
   "cell_type": "code",
   "execution_count": 104,
   "id": "4e465641-37d8-4fd9-b407-141c6d7f2ec0",
   "metadata": {},
   "outputs": [],
   "source": [
    "from momentum_prediction_util import Predictor,train,prepare_prediction_input_pulse,new_prepare_nn_input,create_nested_defaultdict,convert_dict_to_defaultdict,load_defaultdict\n",
    "from time_res_util import get_compiled_NF_model\n"
   ]
  },
  {
   "cell_type": "code",
   "execution_count": 12,
   "id": "d3194b69-7499-4b9e-9ac9-61015d0f992f",
   "metadata": {
    "collapsed": true,
    "jupyter": {
     "outputs_hidden": true
    },
    "tags": []
   },
   "outputs": [
    {
     "name": "stdout",
     "output_type": "stream",
     "text": [
      "Processing data in new_prepare_nn_input...\n"
     ]
    },
    {
     "name": "stderr",
     "output_type": "stream",
     "text": [
      "100%|██████████| 6/6 [00:00<00:00, 21.34it/s]\n"
     ]
    },
    {
     "name": "stdout",
     "output_type": "stream",
     "text": [
      "Sampling data...\n"
     ]
    },
    {
     "name": "stderr",
     "output_type": "stream",
     "text": [
      "100%|██████████| 17/17 [00:12<00:00,  1.34it/s]\n"
     ]
    },
    {
     "name": "stdout",
     "output_type": "stream",
     "text": [
      "sampling took 12.681869506835938 seconds\n",
      "Reorganizing data...\n",
      "reorganizing took 6.327610969543457 seconds\n",
      "         2976112 function calls (2911087 primitive calls) in 19.342 seconds\n",
      "\n",
      "   Ordered by: cumulative time\n",
      "   List reduced from 286 to 20 due to restriction <20>\n",
      "\n",
      "   ncalls  tottime  percall  cumtime  percall filename:lineno(function)\n",
      "        1    1.703    1.703   19.343   19.343 /hpc/group/vossenlab/rck32/eic/work_eic/macros/Timing_estimation/momentum_prediction_util.py:226(new_prepare_nn_input)\n",
      "       17    0.007    0.000   10.952    0.644 /hpc/group/vossenlab/rck32/ML_venv/lib64/python3.9/site-packages/normflows/core.py:286(sample)\n",
      "25721/289    0.020    0.000   10.945    0.038 /hpc/group/vossenlab/rck32/ML_venv/lib64/python3.9/site-packages/torch/nn/modules/module.py:1549(_wrapped_call_impl)\n",
      "25721/289    0.044    0.000   10.944    0.038 /hpc/group/vossenlab/rck32/ML_venv/lib64/python3.9/site-packages/torch/nn/modules/module.py:1555(_call_impl)\n",
      "      136    0.001    0.000   10.605    0.078 /hpc/group/vossenlab/rck32/ML_venv/lib64/python3.9/site-packages/normflows/flows/neural_spline/wrapper.py:230(forward)\n",
      "      136    0.003    0.000   10.603    0.078 /hpc/group/vossenlab/rck32/ML_venv/lib64/python3.9/site-packages/normflows/flows/affine/autoregressive.py:29(inverse)\n",
      "      136    0.001    0.000    9.770    0.072 /hpc/group/vossenlab/rck32/ML_venv/lib64/python3.9/site-packages/normflows/flows/neural_spline/autoregressive.py:133(_elementwise_inverse)\n",
      "      136    0.007    0.000    9.770    0.072 /hpc/group/vossenlab/rck32/ML_venv/lib64/python3.9/site-packages/normflows/flows/neural_spline/autoregressive.py:94(_elementwise)\n",
      "      136    9.423    0.069    9.757    0.072 /hpc/group/vossenlab/rck32/ML_venv/lib64/python3.9/site-packages/normflows/utils/splines.py:16(unconstrained_rational_quadratic_spline)\n",
      "   853869    4.583    0.000    4.583    0.000 {built-in method torch.tensor}\n",
      "    10443    0.024    0.000    1.696    0.000 {method 'extend' of 'list' objects}\n",
      "       17    0.000    0.000    1.671    0.098 /hpc/group/vossenlab/rck32/ML_venv/lib64/python3.9/site-packages/torch/_tensor.py:1033(__iter__)\n",
      "       17    1.660    0.098    1.671    0.098 {method 'unbind' of 'torch._C.TensorBase' objects}\n",
      "      136    0.012    0.000    0.806    0.006 /hpc/group/vossenlab/rck32/ML_venv/lib64/python3.9/site-packages/normflows/nets/made.py:296(forward)\n",
      "     3536    0.078    0.000    0.663    0.000 /hpc/group/vossenlab/rck32/ML_venv/lib64/python3.9/site-packages/normflows/nets/made.py:201(forward)\n",
      "      136    0.175    0.001    0.320    0.002 /hpc/group/vossenlab/rck32/ML_venv/lib64/python3.9/site-packages/normflows/utils/splines.py:100(rational_quadratic_spline)\n",
      "     7344    0.084    0.000    0.307    0.000 /hpc/group/vossenlab/rck32/ML_venv/lib64/python3.9/site-packages/normflows/nets/made.py:80(forward)\n",
      "    11016    0.262    0.000    0.262    0.000 {built-in method torch._C._nn.linear}\n",
      "      136    0.002    0.000    0.194    0.001 /hpc/group/vossenlab/rck32/ML_venv/lib64/python3.9/site-packages/normflows/flows/mixing.py:555(forward)\n",
      "  1697667    0.177    0.000    0.177    0.000 {method 'append' of 'list' objects}\n",
      "\n",
      "\n",
      "\n"
     ]
    }
   ],
   "source": [
    "path_to_processed_data = '/hpc/group/vossenlab/rck32/eic/work_eic/macros/Timing_estimation/data/processed_data/old_50events_high_thresh.json'\n",
    "model_compile = get_compiled_NF_model()\n",
    "processed_data = load_defaultdict(path_to_processed_data)\n",
    "nn_input,nn_output = new_prepare_nn_input(processed_data, model_compile,batch_size = 50000)"
   ]
  },
  {
   "cell_type": "code",
   "execution_count": 127,
   "id": "27c8333b-39d9-4cbb-a146-37a6eb4368d8",
   "metadata": {},
   "outputs": [],
   "source": [
    "class SiPMSignalProcessor:\n",
    "    def __init__(self, \n",
    "                 sampling_rate=40e9,  # 40 GHz sampling rate\n",
    "                 tau_rise=1.1e-9,       # 1.1 ns rise time\n",
    "                 tau_fall=15e-9,      # 15 ns fall time\n",
    "                 window=200e-9,       # 200 ns time window\n",
    "                 cfd_delay=1e-9,      # 1 ns delay for CFD\n",
    "                 cfd_fraction=0.3):   # 30% fraction for CFD\n",
    "        \n",
    "        self.sampling_rate = sampling_rate\n",
    "        self.tau_rise = tau_rise\n",
    "        self.tau_fall = tau_fall\n",
    "        self.window = window\n",
    "        self.cfd_delay = cfd_delay\n",
    "        self.cfd_fraction = cfd_fraction\n",
    "        \n",
    "        # Time array for single pulse shape\n",
    "        self.time = np.arange(0, self.window, 1/self.sampling_rate)\n",
    "        \n",
    "        # Generate single pulse shape\n",
    "        self.pulse_shape = self._generate_pulse_shape()\n",
    "    \n",
    "    def _generate_pulse_shape(self):\n",
    "        \"\"\"Generate normalized pulse shape for a single photon\"\"\"\n",
    "        shape = (1 - np.exp(-self.time/self.tau_rise)) * np.exp(-self.time/self.tau_fall)\n",
    "        return shape / np.max(shape)  # Normalize\n",
    "    \n",
    "    def generate_waveform(self, photon_times):\n",
    "        \"\"\"Generate waveform from list of photon arrival times\"\"\"\n",
    "        # Initialize waveform array\n",
    "        waveform = np.zeros_like(self.time)\n",
    "        \n",
    "        # Add pulse for each photon\n",
    "        for t in photon_times:\n",
    "            if 0 <= t < self.window:\n",
    "                idx = int(t * self.sampling_rate)\n",
    "                remaining_samples = len(self.time) - idx\n",
    "                waveform[idx:] += self.pulse_shape[:remaining_samples]\n",
    "        \n",
    "        return self.time, waveform\n",
    "    \n",
    "    def integrate_charge(self, waveform, integration_start=0, integration_time=100e-9):\n",
    "        \"\"\"Integrate charge in specified time window\"\"\"\n",
    "        start_idx = int(integration_start * self.sampling_rate)\n",
    "        end_idx = int((integration_start + integration_time) * self.sampling_rate)\n",
    "        \n",
    "        # Integrate using trapezoidal rule\n",
    "        charge = np.trapezoid(waveform[start_idx:end_idx], dx=1/self.sampling_rate)\n",
    "        return charge\n",
    "    def constant_threshold_timing(self,waveform,threshold):\n",
    "        for i in range(len(self.time)):\n",
    "            if(waveform[i] > threshold):\n",
    "                return self.time[i]\n",
    "        return -1\n",
    "        \n",
    "    def apply_cfd(self, waveform, use_interpolation=False):\n",
    "        \"\"\"Apply Constant Fraction Discrimination to the waveform.\n",
    "\n",
    "        Parameters:\n",
    "        -----------\n",
    "        waveform : numpy.ndarray\n",
    "            Input waveform to process\n",
    "        use_interpolation : bool, optional\n",
    "            If True, use linear interpolation for sub-sample precision\n",
    "            If False, return the sample index of zero crossing\n",
    "            Default is True\n",
    "\n",
    "        Returns:\n",
    "        --------\n",
    "        tuple (numpy.ndarray, float)\n",
    "            CFD processed waveform and the zero-crossing time in seconds.\n",
    "            If use_interpolation is False, zero-crossing time will be aligned\n",
    "            to sample boundaries.\n",
    "        \"\"\"\n",
    "        # Calculate delay in samples\n",
    "        delay_samples = int(self.cfd_delay * self.sampling_rate)\n",
    "\n",
    "        # Create delayed and attenuated versions of the waveform\n",
    "        delayed_waveform = np.pad(waveform, (delay_samples, 0))[:-delay_samples]\n",
    "        attenuated_waveform = -self.cfd_fraction * waveform\n",
    "\n",
    "        # Calculate CFD waveform\n",
    "        cfd_waveform = delayed_waveform + attenuated_waveform\n",
    "\n",
    "        # Find all zero crossings\n",
    "        zero_crossings = np.where(np.diff(np.signbit(cfd_waveform)))[0]\n",
    "\n",
    "        if len(zero_crossings) < 2:  # Need at least two crossings for valid CFD\n",
    "            return cfd_waveform, None\n",
    "\n",
    "        # Find the rising edge of the original pulse\n",
    "        pulse_start = np.where(waveform > np.max(waveform) * 0.1)[0]  # 10% threshold\n",
    "        if len(pulse_start) == 0:\n",
    "            return cfd_waveform, None\n",
    "        pulse_start = pulse_start[0]\n",
    "\n",
    "        # Find the first zero crossing that occurs after the pulse starts\n",
    "        valid_crossings = zero_crossings[zero_crossings > pulse_start]\n",
    "        if len(valid_crossings) == 0:\n",
    "            return cfd_waveform, None\n",
    "\n",
    "        crossing_idx = valid_crossings[0]\n",
    "\n",
    "        if not use_interpolation:\n",
    "            # Simply return the sample index converted to time\n",
    "            crossing_time = crossing_idx / self.sampling_rate\n",
    "        else:\n",
    "            # Use linear interpolation for sub-sample precision\n",
    "            y1 = cfd_waveform[crossing_idx]\n",
    "            y2 = cfd_waveform[crossing_idx + 1]\n",
    "\n",
    "            # Calculate fractional position of zero crossing\n",
    "            fraction = -y1 / (y2 - y1)\n",
    "\n",
    "            # Calculate precise crossing time\n",
    "            crossing_time = (crossing_idx + fraction) / self.sampling_rate\n",
    "\n",
    "        return cfd_waveform, crossing_time\n",
    "\n",
    "\n",
    "    def get_pulse_timing(self, waveform, threshold=0.1):\n",
    "        \"\"\"Get pulse timing using CFD method with additional validation.\n",
    "        \n",
    "        Parameters:\n",
    "        -----------\n",
    "        waveform : numpy.ndarray\n",
    "            Input waveform to analyze\n",
    "        threshold : float\n",
    "            Minimum amplitude threshold for valid pulses (relative to max amplitude)\n",
    "            \n",
    "        Returns:\n",
    "        --------\n",
    "        float or None\n",
    "            Timestamp of the pulse in seconds, or None if no valid pulse found\n",
    "        \"\"\"\n",
    "        # Check if pulse amplitude exceeds threshold\n",
    "        max_amplitude = np.max(waveform)\n",
    "        if max_amplitude < threshold:\n",
    "            return None\n",
    "            \n",
    "        # Apply CFD\n",
    "        _, crossing_time = self.apply_cfd(waveform)\n",
    "        \n",
    "        return crossing_time"
   ]
  },
  {
   "cell_type": "code",
   "execution_count": 132,
   "id": "4ad37b38-a09f-4ace-9792-259cd1859f6e",
   "metadata": {},
   "outputs": [],
   "source": [
    "def test(nn_input,nn_output,pixel_threshold = 5):\n",
    "    processor = SiPMSignalProcessor(cfd_fraction = .3)\n",
    "    waveforms = []\n",
    "    time_arrs = []\n",
    "    timings = []\n",
    "    charges = []\n",
    "    photon_time_arrs = []\n",
    "    \n",
    "    #note - some events do not have dictionaries in nn_input due to being empty\n",
    "    #need to skip over these and condense tensor\n",
    "    out_columns = ['event_idx','stave_idx','layer_idx','segment_idx','trueID','truePID','hitID','hitPID','P','Theta','Phi','strip_x','strip_y','strip_z','hit_x','hit_y','hit_z','KMU_trueID','KMU_truePID','KMU_true_phi','KMU_true_momentum_mag','KMU_endpoint_x','KMU_endpoint_y','KMU_endpoint_z','Charge1','Time1','Charge2','Time2']\n",
    "    running_index = 0\n",
    "    rows = []\n",
    "    curr_event_num = 0\n",
    "    trueID_dict = defaultdict(lambda: defaultdict(lambda: -1))\n",
    "    trueID_dict_running_idx = 0\n",
    "    for event_idx in tqdm(list(nn_input)):\n",
    "        event_input = []\n",
    "        set_output = False\n",
    "        stave_keys = nn_input[event_idx].keys()\n",
    "        for stave_idx in stave_keys:\n",
    "#             print(f\"nn_input[event_idx][stave_idx]: {nn_input[event_idx][stave_idx]}\")\n",
    "            layer_keys = nn_input[event_idx][stave_idx].keys()\n",
    "            for layer_idx in layer_keys:\n",
    "                segment_keys = nn_input[event_idx][stave_idx][layer_idx].keys()\n",
    "                for segment_idx in segment_keys:\n",
    "                    charge_times = np.array([[0.0,0.0],[0.0,0.0]])\n",
    "                    SiPM_keys = nn_input[event_idx][stave_idx][layer_idx][segment_idx].keys()\n",
    "                    set_event_details = False\n",
    "                    trigger = False\n",
    "                    trueID_list_len_max = -1\n",
    "                    for SiPM_idx in SiPM_keys:\n",
    "#                         print(f\"SiPM_idx: {SiPM_idx}\")\n",
    "                        if(nn_output[event_idx][stave_idx][layer_idx][segment_idx][SiPM_idx][0][10] > trueID_list_len_max):\n",
    "                            trueID_list_len_max = nn_output[event_idx][stave_idx][layer_idx][segment_idx][SiPM_idx][0][10]\n",
    "                        photon_times = np.array(sorted(nn_input[event_idx][stave_idx][layer_idx][segment_idx][SiPM_idx])) * 10 **(-9)\n",
    "                        #get relative times\n",
    "                        if(len(photon_times) > 0):\n",
    "                            #calculate time and charge\n",
    "                            time_arr,waveform = processor.generate_waveform(photon_times)\n",
    "                            timing = processor.get_pulse_timing(waveform,threshold = pixel_threshold)\n",
    "                            if(timing is not None):\n",
    "                                curr_charge = processor.integrate_charge(waveform)\n",
    "                                \n",
    "                                charges.append(curr_charge)\n",
    "                                timings.append(timing)\n",
    "                                time_arrs.append(time_arr)\n",
    "                                waveforms.append(waveform)\n",
    "                                photon_time_arrs.append(photon_times)\n",
    "        curr_event_num += 1\n",
    "    return (waveforms,time_arrs,timings,charges,photon_time_arrs)"
   ]
  },
  {
   "cell_type": "code",
   "execution_count": 133,
   "id": "569d0376-e7c6-4655-851b-6c4d01338d38",
   "metadata": {},
   "outputs": [
    {
     "name": "stderr",
     "output_type": "stream",
     "text": [
      "100%|██████████| 8/8 [00:30<00:00,  3.78s/it]\n"
     ]
    }
   ],
   "source": [
    "results = test(nn_input,nn_output,pixel_threshold = 5)"
   ]
  },
  {
   "cell_type": "code",
   "execution_count": 134,
   "id": "38bacccc-d1d8-4ef5-b6e1-1bdb4a0ae2b3",
   "metadata": {},
   "outputs": [],
   "source": [
    "waveforms, time_arrs, timings,charges,photon_time_arrs = results"
   ]
  },
  {
   "cell_type": "code",
   "execution_count": 136,
   "id": "7b3f92a8-cd51-4e6c-ac94-7ddf5f4c1fa6",
   "metadata": {},
   "outputs": [
    {
     "data": {
      "image/png": "[encoded data removed]",
      "text/plain": [
       "<Figure size 400x600 with 2 Axes>"
      ]
     },
     "metadata": {},
     "output_type": "display_data"
    }
   ],
   "source": [
    "current_idx = 0\n",
    "fig,axs = plot.subplots(2,1,figsize=(4,6))\n",
    "axs[0].set_title(\"Optical photon arrival time at SiPM\")\n",
    "axs[0].hist(photon_time_arrs[current_idx])\n",
    "axs[1].plot(time_arrs[current_idx],waveforms[current_idx])\n",
    "axs[1].set_title(\"SiPM waveform\")\n",
    "axs[0].set_xlim(0,0.5*10**-7)\n",
    "axs[1].set_xlim(0,0.5*10**-7)\n",
    "axs[0].axvline(x = timings[current_idx],color = 'r')\n",
    "axs[1].axvline(x = timings[current_idx],color = 'r')\n",
    "axs[0].set_xlabel(\"time (10ns ticks)\")\n",
    "axs[1].set_xlabel(\"time (10ns ticks)\")\n",
    "fig.tight_layout()\n",
    "fig.show()\n",
    "fig.savefig(\"plots/SiPM/waveform_and_optical_photons.pdf\")"
   ]
  },
  {
   "cell_type": "code",
   "execution_count": null,
   "id": "a0e7838f-c668-4d5a-983d-5dae0badee99",
   "metadata": {},
   "outputs": [],
   "source": []
  }
 ],
 "metadata": {
  "kernelspec": {
   "display_name": "ML_venv",
   "language": "python",
   "name": "ml_venv"
  },
  "language_info": {
   "codemirror_mode": {
    "name": "ipython",
    "version": 3
   },
   "file_extension": ".py",
   "mimetype": "text/x-python",
   "name": "python",
   "nbconvert_exporter": "python",
   "pygments_lexer": "ipython3",
   "version": "3.9.18"
  }
 },
 "nbformat": 4,
 "nbformat_minor": 5
}
