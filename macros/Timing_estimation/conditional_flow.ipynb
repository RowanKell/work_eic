{
 "cells": [
  {
   "cell_type": "markdown",
   "id": "98300ae7",
   "metadata": {},
   "source": [
    "# Conditional Normalizing Flow Model"
   ]
  },
  {
   "cell_type": "markdown",
   "id": "4dcd74be",
   "metadata": {},
   "source": [
    "Here, we train a conditional normalizing flow model $q(x|c)$. Our target $p(x|c)$ is a simple 2D Gaussian $\\mathcal{N}(x|\\mu, \\sigma)$, where we condition on the mean $\\mu$ and standard deviation $\\sigma$, i.e. $c = (\\mu, \\sigma)$. We apply conditional autoregressive and coupling neural spline flows as well as a conditional masked autoregressive flow to the problem."
   ]
  },
  {
   "cell_type": "markdown",
   "id": "e55b7404-a921-49a7-93b0-950d39150c0e",
   "metadata": {},
   "source": [
    "## Workflow\n",
    "0. Before working in this notebook, you must first run simulations and the preprocess the data as it takes way too long to do interactively.\n",
    "    1. For simulating data, see work_eic/slurm/makeJobs*\n",
    "    1. for preprocessing the data see work_eic/macros/Time_estimation/slurm/\n",
    "    1. These use the slurm batch system to run on the dcc\n",
    "    1. Once you have run these, you should have a few .pt files that contain tensors that can be read into this notebook\n",
    "    1. These tensors should have 5 values, the first four being context and the last being the time value which is the feature\n",
    "1. Load in the data and shuffle it to ensure data is randomly distributed in dataset; then separate into train and test sets\n",
    "2. Define model\n",
    "    1. Right now the autoregressive neural spline model seems to work well\n",
    "    1. We have used masked affine coupling models before in the past but this doesn't seem like it would make sense here as we only have 1 feature and hence cannot mask it\n",
    "3. Train the model with the training loop (unless you already have a pretrained model)\n",
    "4. Save the model (or load)\n",
    "5. Generate samples based on the context of your test dataset\n",
    "6. Plot timing distribution\n",
    "    7. The test distribution should match the sampled distribution pretty well since the samples are drawn from the same context as the test data"
   ]
  },
  {
   "cell_type": "markdown",
   "id": "800ae93f",
   "metadata": {},
   "source": [
    "## Setup"
   ]
  },
  {
   "cell_type": "code",
   "execution_count": 1,
   "id": "7f293277",
   "metadata": {},
   "outputs": [
    {
     "name": "stdout",
     "output_type": "stream",
     "text": [
      "Using device cuda:0\n"
     ]
    }
   ],
   "source": [
    "# Import packages\n",
    "import torch\n",
    "import numpy as np\n",
    "import normflows as nf\n",
    "\n",
    "import uproot as up\n",
    "\n",
    "from matplotlib import pyplot as plot\n",
    "import math\n",
    "from tqdm import tqdm\n",
    "from util import PVect, theta_func, r_func\n",
    "from IPython.display import clear_output\n"
   ]
  },
  {
   "cell_type": "code",
   "execution_count": 2,
   "id": "a4a9687a-e7b2-465f-ad2d-10bcd3be67ce",
   "metadata": {},
   "outputs": [],
   "source": [
    "import os\n",
    "def checkdir(path):\n",
    "    if not os.path.exists(path): \n",
    "        os.makedirs(path)"
   ]
  },
  {
   "cell_type": "code",
   "execution_count": 3,
   "id": "f879b0d7",
   "metadata": {},
   "outputs": [],
   "source": [
    "# Get device to be used\n",
    "device = torch.device('cuda' if torch.cuda.is_available() else 'cpu')"
   ]
  },
  {
   "cell_type": "markdown",
   "id": "61a4f0ac-47f1-4421-aee8-d8545352763c",
   "metadata": {},
   "source": [
    "#### Data preparation\n",
    "Need 5 features:\n",
    "1. Four conditionals:\n",
    "    1. Hit z position (calculate from shoot position and angle)\n",
    "    2. mu incident time on scint (calculate from momentum and distance)\n",
    "    3. hit theta (calculate from momentum vector)\n",
    "    4. hit momenta (calculate from momentum vector)\n",
    "2. Feature\n",
    "    1. photon hit time on sensor"
   ]
  },
  {
   "cell_type": "markdown",
   "id": "bab1e0f2-93aa-4760-b97b-48ddc354b1a8",
   "metadata": {},
   "source": [
    "##### Status\n",
    "1. Hit z, hit theta, hit momenta and photon hit time are all good\n",
    "1. Just need to calculate hit time from momentum (velocity) and distance traveled (use pythogorean theorem with x and z)"
   ]
  },
  {
   "cell_type": "markdown",
   "id": "017b95a9-3fe8-4049-9b4a-fa6640254418",
   "metadata": {},
   "source": [
    "### Preprocess manually below if not loading data"
   ]
  },
  {
   "cell_type": "markdown",
   "id": "1b7b7b65-8624-4bc7-8a9d-527875d4df03",
   "metadata": {},
   "source": [
    "### Load data from .pt file (created by preprocess.py)"
   ]
  },
  {
   "cell_type": "markdown",
   "id": "039c0715-2586-4ce9-89b8-82e56b74ba6c",
   "metadata": {},
   "source": [
    "July 23rd 600 z pos set: "
   ]
  },
  {
   "cell_type": "code",
   "execution_count": null,
   "id": "5e551269-d0f7-494d-be34-5605b34042c7",
   "metadata": {},
   "outputs": [],
   "source": [
    "# Timing_path = \"/cwork/rck32/eic/work_eic/macros/Timing_estimation/\"\n",
    "\n",
    "# raw_inputs = torch.load(Timing_path + \"data/July_24/Run_1/Vary_p_events_file_0_July_23_600_z_pos.pt\")\n",
    "# for i in range(600):\n",
    "#     clear_output(wait=True)\n",
    "#     print(f\"loaded file #{i+1} of 600\")\n",
    "#     raw_inputs = torch.cat((raw_inputs, torch.load(Timing_path + f\"data/July_24/Run_1/Vary_p_events_file_{i+1}_July_23_600_z_pos.pt\")),0)"
   ]
  },
  {
   "cell_type": "markdown",
   "id": "a711f93b-bb5e-4910-869c-018b89aece75",
   "metadata": {},
   "source": [
    "August 6 dataset with revised z hit calc:"
   ]
  },
  {
   "cell_type": "code",
   "execution_count": 11,
   "id": "010c5bd1-965a-4394-817a-d69a0c788aae",
   "metadata": {},
   "outputs": [
    {
     "name": "stdout",
     "output_type": "stream",
     "text": [
      "loaded file #600 of 600\n"
     ]
    }
   ],
   "source": [
    "Timing_path = \"/cwork/rck32/eic/work_eic/macros/Timing_estimation/\"\n",
    "\n",
    "raw_inputs = torch.load(Timing_path + \"data/August_06/Run_1/Vary_p_events_file_0_July_23_600_z_pos_fixed_z_hit_pos.pt\")\n",
    "for i in range(600):\n",
    "    clear_output(wait=True)\n",
    "    print(f\"loaded file #{i+1} of 600\")\n",
    "    raw_inputs = torch.cat((raw_inputs, torch.load(Timing_path + f\"data/August_06/Run_1/Vary_p_events_file_{i+1}_July_23_600_z_pos_fixed_z_hit_pos.pt\")),0)"
   ]
  },
  {
   "cell_type": "code",
   "execution_count": 12,
   "id": "151786d4-0c80-40c0-b3a7-9672429b472e",
   "metadata": {},
   "outputs": [
    {
     "data": {
      "text/plain": [
       "torch.Size([513132162, 5])"
      ]
     },
     "execution_count": 12,
     "metadata": {},
     "output_type": "execute_result"
    }
   ],
   "source": [
    "raw_inputs.shape"
   ]
  },
  {
   "cell_type": "code",
   "execution_count": 13,
   "id": "b5479302-027d-436d-9412-b562c7fe1cda",
   "metadata": {},
   "outputs": [
    {
     "name": "stderr",
     "output_type": "stream",
     "text": [
      "/tmp/ipykernel_1078427/2075640514.py:1: UserWarning: indexing with dtype torch.uint8 is now deprecated, please use a dtype torch.bool instead. (Triggered internally at ../aten/src/ATen/native/IndexingUtils.h:27.)\n",
      "  inputs = raw_inputs[np.logical_and(raw_inputs[:,4] < 100,raw_inputs[:,3] < 0.06)]\n"
     ]
    }
   ],
   "source": [
    "inputs = raw_inputs[np.logical_and(raw_inputs[:,4] < 100,raw_inputs[:,3] < 0.06)]"
   ]
  },
  {
   "cell_type": "code",
   "execution_count": 23,
   "id": "158035dd-134e-4093-ad2d-fede7c2d2e7c",
   "metadata": {},
   "outputs": [],
   "source": [
    "indexes = torch.randperm(inputs.shape[0])\n",
    "dataset = inputs[indexes]\n",
    "train_frac = 0.08\n",
    "test_frac = 0.01\n",
    "val_frac = 0.01\n",
    "train_lim = int(np.floor(dataset.shape[0] * train_frac))\n",
    "test_lim = train_lim + int(np.floor(dataset.shape[0] * test_frac))\n",
    "val_lim = test_lim + int(np.floor(dataset.shape[0] * val_frac))\n",
    "train_data = dataset[:train_lim]\n",
    "test_data = dataset[train_lim:test_lim]\n",
    "val_data = dataset[test_lim:val_lim]"
   ]
  },
  {
   "cell_type": "code",
   "execution_count": 24,
   "id": "a2d42cdb-523c-4d22-9b55-0f8febdeb478",
   "metadata": {},
   "outputs": [
    {
     "data": {
      "text/plain": [
       "torch.Size([40987094, 5])"
      ]
     },
     "execution_count": 24,
     "metadata": {},
     "output_type": "execute_result"
    }
   ],
   "source": [
    "train_data.shape"
   ]
  },
  {
   "cell_type": "code",
   "execution_count": 22,
   "id": "23f9d03a-fb86-4f5d-a669-e53198b372d3",
   "metadata": {},
   "outputs": [],
   "source": [
    "# train_data = torch.load(Timing_path + \"data/combined/July_23/tenth_600_z_pos_train.pt\")\n",
    "# test_data = torch.load(Timing_path + \"data/combined/July_23/tenth_600_z_pos_test.pt\")\n",
    "# val_data = torch.load(Timing_path + \"data/combined/July_23/tenth_600_z_pos_val.pt\")"
   ]
  },
  {
   "cell_type": "markdown",
   "id": "3c705cd9-1b1c-44f2-8721-a8fb0ed662a9",
   "metadata": {},
   "source": [
    "uncut: 110166 for 0.001 fraction\n",
    "\n",
    "sensor time cut: 110155\n",
    "\n",
    "both cuts: 110114\n",
    "\n",
    "tighter incident cut (0.06): 110022"
   ]
  },
  {
   "cell_type": "code",
   "execution_count": null,
   "id": "32243aee-1b90-4f99-8ade-7599212a7556",
   "metadata": {},
   "outputs": [],
   "source": [
    "fig, axs = plot.subplots(3,2,figsize = (9,14))\n",
    "fig.suptitle(\"test_data 200 z vals\")\n",
    "axs[0,0].hist(test_data[:,0],bins = 1000);\n",
    "axs[0,0].set_title(\"hit z pos\")\n",
    "axs[0,0].set_xlabel(\"mm\")\n",
    "\n",
    "axs[0,1].hist(test_data[:,1],bins = 500);\n",
    "axs[0,1].set_title(\"gun theta\")\n",
    "axs[0,1].set_xlabel(\"theta (degrees)\")\n",
    "\n",
    "\n",
    "axs[1,0].hist(test_data[:,2],bins = 500);\n",
    "axs[1,0].set_title(\"mu momentum\")\n",
    "axs[1,0].set_xlabel(\"(GeV/c)\")\n",
    "\n",
    "axs[1,1].hist(test_data[:,3],bins = 500)\n",
    "axs[1,1].set_title(\"mu hit incident time\")\n",
    "axs[1,1].set_xlabel(\"(ns)\")\n",
    "\n",
    "\n",
    "N, bins, patches = axs[2,1].hist(test_data[:,4],bins = 500)\n",
    "axs[2,1].set_title(\"sensor hit times\")\n",
    "axs[2,1].set_xlabel(\"(ns)\")"
   ]
  },
  {
   "cell_type": "code",
   "execution_count": 55,
   "id": "956dcfb9-de6a-43d7-8bb7-46eb29a0ce5d",
   "metadata": {},
   "outputs": [],
   "source": [
    "fig.savefig(\"plots/inputs/july_21_run_1_sensor_time_incident_time_cuts.pdf\")"
   ]
  },
  {
   "cell_type": "markdown",
   "id": "eb5fef3d",
   "metadata": {},
   "source": [
    "## Masked Autoregressive Flow"
   ]
  },
  {
   "cell_type": "markdown",
   "id": "7153ece3",
   "metadata": {},
   "source": [
    "### Model specification"
   ]
  },
  {
   "cell_type": "code",
   "execution_count": 13,
   "id": "1b7ee5fd",
   "metadata": {
    "tags": []
   },
   "outputs": [],
   "source": [
    "# # Define flows\n",
    "# K = 4\n",
    "\n",
    "# latent_size = 1\n",
    "# hidden_units = 128\n",
    "# num_blocks = 2\n",
    "# context_size = 4\n",
    "\n",
    "# flows = []\n",
    "# for i in range(K):\n",
    "#     flows += [nf.flows.MaskedAffineAutoregressive(latent_size, hidden_units, \n",
    "#                                                   context_features=context_size, \n",
    "#                                                   num_blocks=num_blocks)]\n",
    "#     flows += [nf.flows.LULinearPermute(latent_size)]\n",
    "\n",
    "# # Set base distribution\n",
    "# q0 = nf.distributions.DiagGaussian(1, trainable=False)\n",
    "    \n",
    "# # Construct flow model\n",
    "# model = nf.ConditionalNormalizingFlow(q0, flows)\n",
    "\n",
    "# # Move model on GPU if available\n",
    "# model = model.to(device)"
   ]
  },
  {
   "cell_type": "markdown",
   "id": "1b9c724c-ba39-4603-aed9-56e79406667a",
   "metadata": {},
   "source": [
    "## Neural Spline Flow"
   ]
  },
  {
   "cell_type": "code",
   "execution_count": 25,
   "id": "2f481479-a988-4f4d-9476-617f5bae68df",
   "metadata": {},
   "outputs": [],
   "source": [
    "# Define flows\n",
    "run_num = 1\n",
    "run_num_str = str(run_num)"
   ]
  },
  {
   "cell_type": "code",
   "execution_count": 26,
   "id": "6740b8db-8f4b-40c2-ab0d-9261f46c0be6",
   "metadata": {},
   "outputs": [],
   "source": [
    "K = 1\n",
    "\n",
    "latent_size = 1\n",
    "hidden_units = 128\n",
    "hidden_layers = 20\n",
    "context_size = 3\n",
    "num_context = 3\n",
    "batch_size= 2000\n",
    "lr = 1e-5\n",
    "\n",
    "lr_str = str(lr)\n",
    "K_str = str(K)\n",
    "hidden_units_str = str(hidden_units)\n",
    "hidden_layers_str = str(hidden_layers)\n",
    "batch_size_str = str(batch_size)\n",
    "num_context_str = str(num_context)\n",
    "flows = []\n",
    "for i in range(K):\n",
    "    flows += [nf.flows.AutoregressiveRationalQuadraticSpline(latent_size, hidden_layers, hidden_units, \n",
    "                                                             num_context_channels=context_size)]\n",
    "    flows += [nf.flows.LULinearPermute(latent_size)]\n",
    "\n",
    "# Set base distribution\n",
    "q0 = nf.distributions.DiagGaussian(1, trainable=False)\n",
    "    \n",
    "# Construct flow model\n",
    "model = nf.ConditionalNormalizingFlow(q0, flows)\n",
    "\n",
    "# Move model on GPU if available\n",
    "model = model.to(device)"
   ]
  },
  {
   "cell_type": "markdown",
   "id": "390c8586-665f-4921-a9bd-652f645db3ce",
   "metadata": {},
   "source": [
    "Create necessary directories"
   ]
  },
  {
   "cell_type": "code",
   "execution_count": 27,
   "id": "ff5ea36d-d25c-48e1-9ef7-9faab7c96d05",
   "metadata": {},
   "outputs": [],
   "source": [
    "import datetime\n",
    "\n",
    "x = datetime.datetime.now()\n",
    "today = x.strftime(\"%B_%d\")\n",
    "# model_path = \"models/context_3/\" + today + \"/\"\n",
    "# checkdir(model_path)\n",
    "\n",
    "model_path = \"models/\" + today + \"/\"\n",
    "checkdir(model_path)\n",
    "\n",
    "loss_path = \"plots/loss/\" + today + \"/\"\n",
    "checkdir(loss_path)\n",
    "\n",
    "test_data_path = \"data/test/\" + today + \"/\"\n",
    "checkdir(test_data_path)\n"
   ]
  },
  {
   "cell_type": "code",
   "execution_count": 28,
   "id": "69539b84-311c-450d-834f-bd78ee2ef772",
   "metadata": {},
   "outputs": [],
   "source": [
    "run_info = \"run_\" + run_num_str+\"_\"+num_context_str+ \"context_\"+ K_str + \"flows_\" + hidden_layers_str + \"hl_\" + hidden_units_str + \"hu_\" + batch_size_str + \"bs\""
   ]
  },
  {
   "cell_type": "markdown",
   "id": "09877bb6",
   "metadata": {},
   "source": [
    "### Training"
   ]
  },
  {
   "cell_type": "markdown",
   "id": "04e1c711-1804-45d8-8c79-8c7773690560",
   "metadata": {
    "jupyter": {
     "source_hidden": true
    },
    "tags": []
   },
   "source": [
    "#### Original loop with 4 context params"
   ]
  },
  {
   "cell_type": "code",
   "execution_count": 31,
   "id": "d6739256-5447-41ae-9711-1c0254ef6758",
   "metadata": {
    "jupyter": {
     "source_hidden": true
    },
    "tags": []
   },
   "outputs": [],
   "source": [
    "# # Train model\n",
    "\n",
    "# num_context = 4\n",
    "# num_epochs = 1\n",
    "# max_iter = int(np.floor(train_data.shape[0] / batch_size))\n",
    "\n",
    "# loss_hist = np.array([])\n",
    "\n",
    "# optimizer = torch.optim.Adam(model.parameters(), lr=5e-5, weight_decay=1e-5)\n",
    "# for epoch in range(num_epochs):\n",
    "#     print(f\"Beginning epoch #{epoch}\")\n",
    "#     for it in tqdm(range(max_iter)):\n",
    "#         optimizer.zero_grad()\n",
    "\n",
    "#         # Get training samples\n",
    "#         begin = it * batch_size\n",
    "#         end = (it + 1) * batch_size\n",
    "#         it_data = train_data[begin:end]\n",
    "#         context = it_data[:,:num_context].to(device)\n",
    "#         samples = it_data[:,num_context].unsqueeze(1).to(device)\n",
    "\n",
    "#         # Compute loss\n",
    "#         loss = model.forward_kld(samples, context)\n",
    "\n",
    "#         # Do backprop and optimizer step\n",
    "#         if ~(torch.isnan(loss) | torch.isinf(loss)):\n",
    "#             loss.backward()\n",
    "#             optimizer.step()\n",
    "\n",
    "#         # Log loss\n",
    "#         loss_hist = np.append(loss_hist, loss.to('cpu').data.numpy())"
   ]
  },
  {
   "cell_type": "markdown",
   "id": "28e8065f-ef90-4930-9a3e-936cfd53751a",
   "metadata": {
    "jupyter": {
     "source_hidden": true
    },
    "tags": []
   },
   "source": [
    "#### Loop with 3 context params"
   ]
  },
  {
   "cell_type": "code",
   "execution_count": 32,
   "id": "3250d313-e79e-4c65-b14e-f18b263f1c2d",
   "metadata": {
    "jupyter": {
     "source_hidden": true
    },
    "tags": []
   },
   "outputs": [],
   "source": [
    "# # Train model\n",
    "\n",
    "# num_context = 4\n",
    "# num_epochs = 1\n",
    "# max_iter = int(np.floor(train_data.shape[0] / batch_size))\n",
    "\n",
    "# loss_hist = np.array([])\n",
    "\n",
    "# optimizer = torch.optim.Adam(model.parameters(), lr=lr, weight_decay=1e-5)\n",
    "# for epoch in range(num_epochs):\n",
    "#     print(f\"Beginning epoch #{epoch}\")\n",
    "#     for it in tqdm(range(max_iter)):\n",
    "#         optimizer.zero_grad()\n",
    "\n",
    "#         # Get training samples\n",
    "#         begin = it * batch_size\n",
    "#         end = (it + 1) * batch_size\n",
    "#         it_data = train_data[begin:end]\n",
    "#         context = torch.empty(it_data.size()[0],3)\n",
    "#         context[:,0] = it_data[:,0]\n",
    "#         context[:,1] = it_data[:,1]\n",
    "#         context[:,2] = it_data[:,2]\n",
    "#         context = context.to(device)\n",
    "# #         context = it_data[:,:num_context].to(device)\n",
    "#         samples = (it_data[:,4] - it_data[:,3]).unsqueeze(1).to(device)\n",
    "\n",
    "#         # Compute loss\n",
    "#         loss = model.forward_kld(samples, context)\n",
    "\n",
    "#         # Do backprop and optimizer step\n",
    "#         if ~(torch.isnan(loss) | torch.isinf(loss)):\n",
    "#             loss.backward()\n",
    "#             optimizer.step()\n",
    "\n",
    "#         # Log loss\n",
    "#         loss_hist = np.append(loss_hist, loss.to('cpu').data.numpy())"
   ]
  },
  {
   "cell_type": "markdown",
   "id": "457773ca-fe97-40bd-bacf-b5d9a160a62c",
   "metadata": {},
   "source": [
    "#### Train with Validation"
   ]
  },
  {
   "cell_type": "code",
   "execution_count": null,
   "id": "49c2fbac-86ce-4919-a584-c9d9d1abd810",
   "metadata": {},
   "outputs": [
    {
     "name": "stdout",
     "output_type": "stream",
     "text": [
      "Beginning epoch #15\n"
     ]
    },
    {
     "name": "stderr",
     "output_type": "stream",
     "text": [
      " 10%|▉         | 2003/20493 [01:11<29:27, 10.46it/s]"
     ]
    },
    {
     "name": "stdout",
     "output_type": "stream",
     "text": [
      "train_loss: 2.1938619037866594\n",
      "val_loss: 2.190590693950653\n"
     ]
    },
    {
     "name": "stderr",
     "output_type": "stream",
     "text": [
      " 20%|█▉        | 4004/20493 [02:27<18:58, 14.48it/s]"
     ]
    },
    {
     "name": "stdout",
     "output_type": "stream",
     "text": [
      "train_loss: 2.193867558002472\n",
      "val_loss: 2.191644911766052\n"
     ]
    },
    {
     "name": "stderr",
     "output_type": "stream",
     "text": [
      " 29%|██▉       | 6006/20493 [03:46<20:34, 11.73it/s]"
     ]
    },
    {
     "name": "stdout",
     "output_type": "stream",
     "text": [
      "train_loss: 2.1928168419599534\n",
      "val_loss: 2.1935645723342896\n"
     ]
    },
    {
     "name": "stderr",
     "output_type": "stream",
     "text": [
      " 39%|███▉      | 8003/20493 [05:04<19:22, 10.75it/s]"
     ]
    },
    {
     "name": "stdout",
     "output_type": "stream",
     "text": [
      "train_loss: 2.1926731078624724\n",
      "val_loss: 2.1955717110633852\n"
     ]
    },
    {
     "name": "stderr",
     "output_type": "stream",
     "text": [
      " 49%|████▉     | 10005/20493 [06:19<14:54, 11.72it/s]"
     ]
    },
    {
     "name": "stdout",
     "output_type": "stream",
     "text": [
      "train_loss: 2.192929314851761\n",
      "val_loss: 2.193251006603241\n"
     ]
    },
    {
     "name": "stderr",
     "output_type": "stream",
     "text": [
      " 59%|█████▊    | 12007/20493 [07:35<07:58, 17.72it/s]"
     ]
    },
    {
     "name": "stdout",
     "output_type": "stream",
     "text": [
      "train_loss: 2.19350412607193\n",
      "val_loss: 2.191972255706787\n"
     ]
    },
    {
     "name": "stderr",
     "output_type": "stream",
     "text": [
      " 68%|██████▊   | 14003/20493 [08:38<06:56, 15.59it/s]"
     ]
    },
    {
     "name": "stdout",
     "output_type": "stream",
     "text": [
      "train_loss: 2.190965178489685\n",
      "val_loss: 2.1918479990959168\n"
     ]
    },
    {
     "name": "stderr",
     "output_type": "stream",
     "text": [
      " 78%|███████▊  | 16004/20493 [09:51<04:54, 15.24it/s]"
     ]
    },
    {
     "name": "stdout",
     "output_type": "stream",
     "text": [
      "train_loss: 2.1895946073532104\n",
      "val_loss: 2.191723635196686\n"
     ]
    },
    {
     "name": "stderr",
     "output_type": "stream",
     "text": [
      " 88%|████████▊ | 18005/20493 [11:06<03:35, 11.53it/s]"
     ]
    },
    {
     "name": "stdout",
     "output_type": "stream",
     "text": [
      "train_loss: 2.190283966302872\n",
      "val_loss: 2.1972763919830323\n"
     ]
    },
    {
     "name": "stderr",
     "output_type": "stream",
     "text": [
      " 98%|█████████▊| 20005/20493 [12:26<00:40, 11.91it/s]"
     ]
    },
    {
     "name": "stdout",
     "output_type": "stream",
     "text": [
      "train_loss: 2.1873245054483412\n",
      "val_loss: 2.1904100036621093\n"
     ]
    },
    {
     "name": "stderr",
     "output_type": "stream",
     "text": [
      "100%|██████████| 20493/20493 [12:45<00:00, 26.77it/s]\n"
     ]
    },
    {
     "name": "stdout",
     "output_type": "stream",
     "text": [
      "Epoch 15 completed.\n",
      "Beginning epoch #16\n"
     ]
    },
    {
     "name": "stderr",
     "output_type": "stream",
     "text": [
      "  7%|▋         | 1513/20493 [01:00<23:11, 13.64it/s]"
     ]
    },
    {
     "name": "stdout",
     "output_type": "stream",
     "text": [
      "train_loss: 2.19374981379509\n",
      "val_loss: 2.1909070014953613\n"
     ]
    },
    {
     "name": "stderr",
     "output_type": "stream",
     "text": [
      " 17%|█▋        | 3511/20493 [02:15<23:55, 11.83it/s]"
     ]
    },
    {
     "name": "stdout",
     "output_type": "stream",
     "text": [
      "train_loss: 2.1936404404640197\n",
      "val_loss: 2.1936247658729555\n"
     ]
    },
    {
     "name": "stderr",
     "output_type": "stream",
     "text": [
      " 27%|██▋       | 5514/20493 [03:34<17:49, 14.00it/s]"
     ]
    },
    {
     "name": "stdout",
     "output_type": "stream",
     "text": [
      "train_loss: 2.193095761060715\n",
      "val_loss: 2.195866730213165\n"
     ]
    },
    {
     "name": "stderr",
     "output_type": "stream",
     "text": [
      " 37%|███▋      | 7511/20493 [04:49<19:49, 10.91it/s]"
     ]
    },
    {
     "name": "stdout",
     "output_type": "stream",
     "text": [
      "train_loss: 2.1910754712820055\n",
      "val_loss: 2.19374050617218\n"
     ]
    },
    {
     "name": "stderr",
     "output_type": "stream",
     "text": [
      " 46%|████▋     | 9512/20493 [06:07<15:53, 11.52it/s]"
     ]
    },
    {
     "name": "stdout",
     "output_type": "stream",
     "text": [
      "train_loss: 2.1927129284143447\n",
      "val_loss: 2.19224524974823\n"
     ]
    },
    {
     "name": "stderr",
     "output_type": "stream",
     "text": [
      " 56%|█████▌    | 11511/20493 [07:23<14:02, 10.66it/s]"
     ]
    },
    {
     "name": "stdout",
     "output_type": "stream",
     "text": [
      "train_loss: 2.1908650587797167\n",
      "val_loss: 2.1910948872566225\n"
     ]
    },
    {
     "name": "stderr",
     "output_type": "stream",
     "text": [
      " 66%|██████▌   | 13511/20493 [08:39<10:14, 11.37it/s]"
     ]
    },
    {
     "name": "stdout",
     "output_type": "stream",
     "text": [
      "train_loss: 2.1905091733932496\n",
      "val_loss: 2.191846718788147\n"
     ]
    },
    {
     "name": "stderr",
     "output_type": "stream",
     "text": [
      " 76%|███████▌  | 15511/20493 [09:57<07:17, 11.40it/s]"
     ]
    },
    {
     "name": "stdout",
     "output_type": "stream",
     "text": [
      "train_loss: 2.188744994044304\n",
      "val_loss: 2.1894876623153685\n"
     ]
    },
    {
     "name": "stderr",
     "output_type": "stream",
     "text": [
      " 85%|████████▌ | 17511/20493 [11:14<04:25, 11.23it/s]"
     ]
    },
    {
     "name": "stdout",
     "output_type": "stream",
     "text": [
      "train_loss: 2.188084352374077\n",
      "val_loss: 2.190494120121002\n"
     ]
    },
    {
     "name": "stderr",
     "output_type": "stream",
     "text": [
      " 95%|█████████▌| 19512/20493 [12:29<01:14, 13.17it/s]"
     ]
    },
    {
     "name": "stdout",
     "output_type": "stream",
     "text": [
      "train_loss: 2.1875169882774355\n",
      "val_loss: 2.1923407459259034\n"
     ]
    },
    {
     "name": "stderr",
     "output_type": "stream",
     "text": [
      "100%|██████████| 20493/20493 [13:06<00:00, 26.06it/s]\n"
     ]
    },
    {
     "name": "stdout",
     "output_type": "stream",
     "text": [
      "Epoch 16 completed.\n",
      "Beginning epoch #17\n"
     ]
    },
    {
     "name": "stderr",
     "output_type": "stream",
     "text": [
      "  5%|▍         | 1020/20493 [00:40<21:45, 14.92it/s]"
     ]
    },
    {
     "name": "stdout",
     "output_type": "stream",
     "text": [
      "train_loss: 2.189970633506775\n",
      "val_loss: 2.199832348823547\n"
     ]
    },
    {
     "name": "stderr",
     "output_type": "stream",
     "text": [
      " 15%|█▍        | 3019/20493 [01:58<25:03, 11.62it/s]"
     ]
    },
    {
     "name": "stdout",
     "output_type": "stream",
     "text": [
      "train_loss: 2.1934098529815675\n",
      "val_loss: 2.1903545093536376\n"
     ]
    },
    {
     "name": "stderr",
     "output_type": "stream",
     "text": [
      " 24%|██▍       | 5018/20493 [03:18<22:33, 11.44it/s]"
     ]
    },
    {
     "name": "stdout",
     "output_type": "stream",
     "text": [
      "train_loss: 2.192183357715607\n",
      "val_loss: 2.1919377613067628\n"
     ]
    },
    {
     "name": "stderr",
     "output_type": "stream",
     "text": [
      " 34%|███▍      | 7020/20493 [04:38<19:15, 11.66it/s]"
     ]
    },
    {
     "name": "stdout",
     "output_type": "stream",
     "text": [
      "train_loss: 2.1913722079992293\n",
      "val_loss: 2.190926535129547\n"
     ]
    },
    {
     "name": "stderr",
     "output_type": "stream",
     "text": [
      " 44%|████▍     | 9019/20493 [05:51<13:39, 14.00it/s]"
     ]
    },
    {
     "name": "stdout",
     "output_type": "stream",
     "text": [
      "train_loss: 2.191055386185646\n",
      "val_loss: 2.190835361480713\n"
     ]
    },
    {
     "name": "stderr",
     "output_type": "stream",
     "text": [
      " 54%|█████▍    | 11018/20493 [07:06<14:15, 11.08it/s]"
     ]
    },
    {
     "name": "stdout",
     "output_type": "stream",
     "text": [
      "train_loss: 2.1913005677461626\n",
      "val_loss: 2.190334620475769\n"
     ]
    },
    {
     "name": "stderr",
     "output_type": "stream",
     "text": [
      " 64%|██████▎   | 13019/20493 [08:18<10:51, 11.47it/s]"
     ]
    },
    {
     "name": "stdout",
     "output_type": "stream",
     "text": [
      "train_loss: 2.1890442258119585\n",
      "val_loss: 2.1887946724891663\n"
     ]
    },
    {
     "name": "stderr",
     "output_type": "stream",
     "text": [
      " 73%|███████▎  | 15019/20493 [09:37<07:54, 11.53it/s]"
     ]
    },
    {
     "name": "stdout",
     "output_type": "stream",
     "text": [
      "train_loss: 2.1893102692365645\n",
      "val_loss: 2.190598268508911\n"
     ]
    },
    {
     "name": "stderr",
     "output_type": "stream",
     "text": [
      " 83%|████████▎ | 17019/20493 [10:57<04:51, 11.94it/s]"
     ]
    },
    {
     "name": "stdout",
     "output_type": "stream",
     "text": [
      "train_loss: 2.187828111052513\n",
      "val_loss: 2.1919691610336303\n"
     ]
    },
    {
     "name": "stderr",
     "output_type": "stream",
     "text": [
      " 93%|█████████▎| 19018/20493 [12:15<02:05, 11.76it/s]"
     ]
    },
    {
     "name": "stdout",
     "output_type": "stream",
     "text": [
      "train_loss: 2.187351277589798\n",
      "val_loss: 2.1893740916252136\n"
     ]
    },
    {
     "name": "stderr",
     "output_type": "stream",
     "text": [
      "100%|██████████| 20493/20493 [13:14<00:00, 25.80it/s]\n"
     ]
    },
    {
     "name": "stdout",
     "output_type": "stream",
     "text": [
      "Epoch 17 completed.\n",
      "Beginning epoch #18\n"
     ]
    },
    {
     "name": "stderr",
     "output_type": "stream",
     "text": [
      "  3%|▎         | 525/20493 [00:19<29:00, 11.47it/s]"
     ]
    },
    {
     "name": "stdout",
     "output_type": "stream",
     "text": [
      "train_loss: 2.189346904873848\n",
      "val_loss: 2.1894592690467833\n"
     ]
    },
    {
     "name": "stderr",
     "output_type": "stream",
     "text": [
      " 12%|█▏        | 2526/20493 [01:36<23:02, 13.00it/s]"
     ]
    },
    {
     "name": "stdout",
     "output_type": "stream",
     "text": [
      "train_loss: 2.194855757594109\n",
      "val_loss: 2.1900980186462404\n"
     ]
    },
    {
     "name": "stderr",
     "output_type": "stream",
     "text": [
      " 22%|██▏       | 4525/20493 [02:48<22:46, 11.69it/s]"
     ]
    },
    {
     "name": "stdout",
     "output_type": "stream",
     "text": [
      "train_loss: 2.1922214967012406\n",
      "val_loss: 2.1954549288749696\n"
     ]
    },
    {
     "name": "stderr",
     "output_type": "stream",
     "text": [
      " 32%|███▏      | 6526/20493 [04:04<16:11, 14.37it/s]"
     ]
    },
    {
     "name": "stdout",
     "output_type": "stream",
     "text": [
      "train_loss: 2.19062775015831\n",
      "val_loss: 2.1895874619483946\n"
     ]
    },
    {
     "name": "stderr",
     "output_type": "stream",
     "text": [
      " 42%|████▏     | 8524/20493 [05:10<12:30, 15.94it/s]"
     ]
    },
    {
     "name": "stdout",
     "output_type": "stream",
     "text": [
      "train_loss: 2.1922653847932816\n",
      "val_loss: 2.192186186313629\n"
     ]
    },
    {
     "name": "stderr",
     "output_type": "stream",
     "text": [
      " 51%|█████▏    | 10526/20493 [06:23<10:32, 15.76it/s]"
     ]
    },
    {
     "name": "stdout",
     "output_type": "stream",
     "text": [
      "train_loss: 2.1905602192878724\n",
      "val_loss: 2.192198960781097\n"
     ]
    },
    {
     "name": "stderr",
     "output_type": "stream",
     "text": [
      " 61%|██████    | 12526/20493 [07:39<12:02, 11.02it/s]"
     ]
    },
    {
     "name": "stdout",
     "output_type": "stream",
     "text": [
      "train_loss: 2.188944677233696\n",
      "val_loss: 2.189661934375763\n"
     ]
    },
    {
     "name": "stderr",
     "output_type": "stream",
     "text": [
      " 71%|███████   | 14528/20493 [08:57<06:49, 14.56it/s]"
     ]
    },
    {
     "name": "stdout",
     "output_type": "stream",
     "text": [
      "train_loss: 2.1886896623373033\n",
      "val_loss: 2.1884487295150756\n"
     ]
    },
    {
     "name": "stderr",
     "output_type": "stream",
     "text": [
      " 81%|████████  | 16527/20493 [10:12<04:15, 15.49it/s]"
     ]
    },
    {
     "name": "stdout",
     "output_type": "stream",
     "text": [
      "train_loss: 2.1871997190713883\n",
      "val_loss: 2.189088740348816\n"
     ]
    },
    {
     "name": "stderr",
     "output_type": "stream",
     "text": [
      " 90%|█████████ | 18525/20493 [11:20<03:01, 10.87it/s]"
     ]
    },
    {
     "name": "stdout",
     "output_type": "stream",
     "text": [
      "train_loss: 2.186543570399284\n",
      "val_loss: 2.1892227602005003\n"
     ]
    },
    {
     "name": "stderr",
     "output_type": "stream",
     "text": [
      "100%|██████████| 20493/20493 [12:38<00:00, 27.01it/s]\n"
     ]
    },
    {
     "name": "stdout",
     "output_type": "stream",
     "text": [
      "Epoch 18 completed.\n",
      "Beginning epoch #19\n"
     ]
    },
    {
     "name": "stderr",
     "output_type": "stream",
     "text": [
      "  0%|          | 33/20493 [00:02<31:27, 10.84it/s]"
     ]
    },
    {
     "name": "stdout",
     "output_type": "stream",
     "text": [
      "train_loss: 2.187178508400917\n",
      "val_loss: 2.188446111679077\n"
     ]
    },
    {
     "name": "stderr",
     "output_type": "stream",
     "text": [
      " 10%|▉         | 2032/20493 [01:13<23:59, 12.82it/s]"
     ]
    },
    {
     "name": "stdout",
     "output_type": "stream",
     "text": [
      "train_loss: 2.191410469174385\n",
      "val_loss: 2.188344027996063\n"
     ]
    },
    {
     "name": "stderr",
     "output_type": "stream",
     "text": [
      " 20%|█▉        | 4032/20493 [02:31<24:05, 11.38it/s]"
     ]
    },
    {
     "name": "stdout",
     "output_type": "stream",
     "text": [
      "train_loss: 2.19143832886219\n",
      "val_loss: 2.1915226340293885\n"
     ]
    },
    {
     "name": "stderr",
     "output_type": "stream",
     "text": [
      " 29%|██▉       | 6032/20493 [03:50<22:10, 10.87it/s]"
     ]
    },
    {
     "name": "stdout",
     "output_type": "stream",
     "text": [
      "train_loss: 2.1903169165849685\n",
      "val_loss: 2.1881788754463196\n"
     ]
    },
    {
     "name": "stderr",
     "output_type": "stream",
     "text": [
      " 39%|███▉      | 8033/20493 [05:09<17:31, 11.84it/s]"
     ]
    },
    {
     "name": "stdout",
     "output_type": "stream",
     "text": [
      "train_loss: 2.189873103141785\n",
      "val_loss: 2.1887954688072204\n"
     ]
    },
    {
     "name": "stderr",
     "output_type": "stream",
     "text": [
      " 49%|████▉     | 10033/20493 [06:29<16:15, 10.73it/s]"
     ]
    },
    {
     "name": "stdout",
     "output_type": "stream",
     "text": [
      "train_loss: 2.1896122198104857\n",
      "val_loss: 2.188054904937744\n"
     ]
    },
    {
     "name": "stderr",
     "output_type": "stream",
     "text": [
      " 59%|█████▊    | 12031/20493 [07:44<12:55, 10.92it/s]"
     ]
    },
    {
     "name": "stdout",
     "output_type": "stream",
     "text": [
      "train_loss: 2.1906039727926254\n",
      "val_loss: 2.1878948998451233\n"
     ]
    },
    {
     "name": "stderr",
     "output_type": "stream",
     "text": [
      " 68%|██████▊   | 14032/20493 [09:03<09:53, 10.89it/s]"
     ]
    },
    {
     "name": "stdout",
     "output_type": "stream",
     "text": [
      "train_loss: 2.1880340811014176\n",
      "val_loss: 2.1919769072532653\n"
     ]
    },
    {
     "name": "stderr",
     "output_type": "stream",
     "text": [
      " 78%|███████▊  | 16033/20493 [10:22<06:15, 11.86it/s]"
     ]
    },
    {
     "name": "stdout",
     "output_type": "stream",
     "text": [
      "train_loss: 2.1873128513097764\n",
      "val_loss: 2.187346351146698\n"
     ]
    },
    {
     "name": "stderr",
     "output_type": "stream",
     "text": [
      " 88%|████████▊ | 18032/20493 [11:40<03:45, 10.92it/s]"
     ]
    },
    {
     "name": "stdout",
     "output_type": "stream",
     "text": [
      "train_loss: 2.1866174833774568\n",
      "val_loss: 2.190211410522461\n"
     ]
    },
    {
     "name": "stderr",
     "output_type": "stream",
     "text": [
      " 98%|█████████▊| 20031/20493 [12:59<00:42, 10.81it/s]"
     ]
    },
    {
     "name": "stdout",
     "output_type": "stream",
     "text": [
      "train_loss: 2.1849475359916686\n",
      "val_loss: 2.1900528621673585\n"
     ]
    },
    {
     "name": "stderr",
     "output_type": "stream",
     "text": [
      "100%|██████████| 20493/20493 [13:15<00:00, 25.78it/s]\n"
     ]
    },
    {
     "name": "stdout",
     "output_type": "stream",
     "text": [
      "Epoch 19 completed.\n",
      "Beginning epoch #20\n"
     ]
    },
    {
     "name": "stderr",
     "output_type": "stream",
     "text": [
      "  8%|▊         | 1540/20493 [01:00<28:52, 10.94it/s]"
     ]
    },
    {
     "name": "stdout",
     "output_type": "stream",
     "text": [
      "train_loss: 2.1902381838560103\n",
      "val_loss: 2.1916765141487122\n"
     ]
    },
    {
     "name": "stderr",
     "output_type": "stream",
     "text": [
      " 17%|█▋        | 3539/20493 [02:17<26:04, 10.84it/s]"
     ]
    },
    {
     "name": "stdout",
     "output_type": "stream",
     "text": [
      "train_loss: 2.1912348576784133\n",
      "val_loss: 2.187561378479004\n"
     ]
    },
    {
     "name": "stderr",
     "output_type": "stream",
     "text": [
      " 27%|██▋       | 5541/20493 [03:37<21:21, 11.67it/s]"
     ]
    },
    {
     "name": "stdout",
     "output_type": "stream",
     "text": [
      "train_loss: 2.190926967740059\n",
      "val_loss: 2.1885266733169555\n"
     ]
    },
    {
     "name": "stderr",
     "output_type": "stream",
     "text": [
      " 37%|███▋      | 7539/20493 [04:56<18:52, 11.44it/s]"
     ]
    },
    {
     "name": "stdout",
     "output_type": "stream",
     "text": [
      "train_loss: 2.1908001424074173\n",
      "val_loss: 2.1893941926956177\n"
     ]
    },
    {
     "name": "stderr",
     "output_type": "stream",
     "text": [
      " 47%|████▋     | 9540/20493 [06:14<15:03, 12.13it/s]"
     ]
    },
    {
     "name": "stdout",
     "output_type": "stream",
     "text": [
      "train_loss: 2.1892707802057267\n",
      "val_loss: 2.188437342643738\n"
     ]
    },
    {
     "name": "stderr",
     "output_type": "stream",
     "text": [
      " 56%|█████▋    | 11540/20493 [07:27<12:37, 11.83it/s]"
     ]
    },
    {
     "name": "stdout",
     "output_type": "stream",
     "text": [
      "train_loss: 2.1887572383880616\n",
      "val_loss: 2.1881817197799682\n"
     ]
    },
    {
     "name": "stderr",
     "output_type": "stream",
     "text": [
      " 66%|██████▌   | 13539/20493 [08:46<10:04, 11.51it/s]"
     ]
    },
    {
     "name": "stdout",
     "output_type": "stream",
     "text": [
      "train_loss: 2.187965235590935\n",
      "val_loss: 2.1881053948402407\n"
     ]
    },
    {
     "name": "stderr",
     "output_type": "stream",
     "text": [
      " 76%|███████▌  | 15540/20493 [10:05<07:31, 10.97it/s]"
     ]
    },
    {
     "name": "stdout",
     "output_type": "stream",
     "text": [
      "train_loss: 2.186893783211708\n",
      "val_loss: 2.1875149703025816\n"
     ]
    },
    {
     "name": "stderr",
     "output_type": "stream",
     "text": [
      " 86%|████████▌ | 17540/20493 [11:23<04:07, 11.92it/s]"
     ]
    },
    {
     "name": "stdout",
     "output_type": "stream",
     "text": [
      "train_loss: 2.1860973875522616\n",
      "val_loss: 2.186979594230652\n"
     ]
    },
    {
     "name": "stderr",
     "output_type": "stream",
     "text": [
      " 95%|█████████▌| 19542/20493 [12:30<00:49, 19.12it/s]"
     ]
    },
    {
     "name": "stdout",
     "output_type": "stream",
     "text": [
      "train_loss: 2.185191873192787\n",
      "val_loss: 2.1894027042388915\n"
     ]
    },
    {
     "name": "stderr",
     "output_type": "stream",
     "text": [
      "100%|██████████| 20493/20493 [13:01<00:00, 26.21it/s]\n"
     ]
    },
    {
     "name": "stdout",
     "output_type": "stream",
     "text": [
      "Epoch 20 completed.\n",
      "Beginning epoch #21\n"
     ]
    },
    {
     "name": "stderr",
     "output_type": "stream",
     "text": [
      "  5%|▌         | 1048/20493 [00:39<27:16, 11.88it/s]"
     ]
    },
    {
     "name": "stdout",
     "output_type": "stream",
     "text": [
      "train_loss: 2.1883027893304825\n",
      "val_loss: 2.1875844860076903\n"
     ]
    },
    {
     "name": "stderr",
     "output_type": "stream",
     "text": [
      " 15%|█▍        | 3047/20493 [01:53<21:30, 13.52it/s]"
     ]
    },
    {
     "name": "stdout",
     "output_type": "stream",
     "text": [
      "train_loss: 2.190826354384422\n",
      "val_loss: 2.192391836643219\n"
     ]
    },
    {
     "name": "stderr",
     "output_type": "stream",
     "text": [
      " 25%|██▍       | 5047/20493 [03:12<22:23, 11.50it/s]"
     ]
    },
    {
     "name": "stdout",
     "output_type": "stream",
     "text": [
      "train_loss: 2.190344914793968\n",
      "val_loss: 2.1874796462059023\n"
     ]
    },
    {
     "name": "stderr",
     "output_type": "stream",
     "text": [
      " 34%|███▍      | 7049/20493 [04:31<17:01, 13.16it/s]"
     ]
    },
    {
     "name": "stdout",
     "output_type": "stream",
     "text": [
      "train_loss: 2.1898956005573273\n",
      "val_loss: 2.190831770896912\n"
     ]
    },
    {
     "name": "stderr",
     "output_type": "stream",
     "text": [
      " 44%|████▍     | 9047/20493 [05:45<16:13, 11.76it/s]"
     ]
    },
    {
     "name": "stdout",
     "output_type": "stream",
     "text": [
      "train_loss: 2.1893447424173353\n",
      "val_loss: 2.1930909037590025\n"
     ]
    },
    {
     "name": "stderr",
     "output_type": "stream",
     "text": [
      " 54%|█████▍    | 11048/20493 [07:01<10:23, 15.15it/s]"
     ]
    },
    {
     "name": "stdout",
     "output_type": "stream",
     "text": [
      "train_loss: 2.189047657489777\n",
      "val_loss: 2.188604772090912\n"
     ]
    },
    {
     "name": "stderr",
     "output_type": "stream",
     "text": [
      " 64%|██████▎   | 13045/20493 [08:19<11:36, 10.69it/s]"
     ]
    },
    {
     "name": "stdout",
     "output_type": "stream",
     "text": [
      "train_loss: 2.1872485637664796\n",
      "val_loss: 2.187715609073639\n"
     ]
    },
    {
     "name": "stderr",
     "output_type": "stream",
     "text": [
      " 73%|███████▎  | 15050/20493 [09:35<05:15, 17.26it/s]"
     ]
    },
    {
     "name": "stdout",
     "output_type": "stream",
     "text": [
      "train_loss: 2.1873543034791947\n",
      "val_loss: 2.1871604681015016\n"
     ]
    },
    {
     "name": "stderr",
     "output_type": "stream",
     "text": [
      " 83%|████████▎ | 17046/20493 [10:48<04:58, 11.54it/s]"
     ]
    },
    {
     "name": "stdout",
     "output_type": "stream",
     "text": [
      "train_loss: 2.1862089015245436\n",
      "val_loss: 2.1910585880279543\n"
     ]
    },
    {
     "name": "stderr",
     "output_type": "stream",
     "text": [
      " 93%|█████████▎| 19048/20493 [12:07<02:02, 11.76it/s]"
     ]
    },
    {
     "name": "stdout",
     "output_type": "stream",
     "text": [
      "train_loss: 2.1848556529283525\n",
      "val_loss: 2.189357194900513\n"
     ]
    },
    {
     "name": "stderr",
     "output_type": "stream",
     "text": [
      "100%|██████████| 20493/20493 [13:05<00:00, 26.09it/s]\n"
     ]
    },
    {
     "name": "stdout",
     "output_type": "stream",
     "text": [
      "Epoch 21 completed.\n",
      "Beginning epoch #22\n"
     ]
    },
    {
     "name": "stderr",
     "output_type": "stream",
     "text": [
      "  3%|▎         | 554/20493 [00:21<26:34, 12.51it/s]"
     ]
    },
    {
     "name": "stdout",
     "output_type": "stream",
     "text": [
      "train_loss: 2.1866152856349945\n",
      "val_loss: 2.187899549007416\n"
     ]
    },
    {
     "name": "stderr",
     "output_type": "stream",
     "text": [
      " 12%|█▏        | 2555/20493 [01:29<18:09, 16.46it/s]"
     ]
    },
    {
     "name": "stdout",
     "output_type": "stream",
     "text": [
      "train_loss: 2.190595321893692\n",
      "val_loss: 2.187350182533264\n"
     ]
    },
    {
     "name": "stderr",
     "output_type": "stream",
     "text": [
      " 22%|██▏       | 4554/20493 [02:46<22:28, 11.82it/s]"
     ]
    },
    {
     "name": "stdout",
     "output_type": "stream",
     "text": [
      "train_loss: 2.1899828904867173\n",
      "val_loss: 2.1886525750160217\n"
     ]
    },
    {
     "name": "stderr",
     "output_type": "stream",
     "text": [
      " 32%|███▏      | 6555/20493 [03:47<19:39, 11.81it/s]"
     ]
    },
    {
     "name": "stdout",
     "output_type": "stream",
     "text": [
      "train_loss: 2.188968802809715\n",
      "val_loss: 2.1878528094291685\n"
     ]
    },
    {
     "name": "stderr",
     "output_type": "stream",
     "text": [
      " 42%|████▏     | 8554/20493 [04:52<18:36, 10.69it/s]"
     ]
    },
    {
     "name": "stdout",
     "output_type": "stream",
     "text": [
      "train_loss: 2.1889483889341355\n",
      "val_loss: 2.1889624190330506\n"
     ]
    },
    {
     "name": "stderr",
     "output_type": "stream",
     "text": [
      " 52%|█████▏    | 10556/20493 [06:08<09:16, 17.87it/s]"
     ]
    },
    {
     "name": "stdout",
     "output_type": "stream",
     "text": [
      "train_loss: 2.1885888636112214\n",
      "val_loss: 2.187325830459595\n"
     ]
    },
    {
     "name": "stderr",
     "output_type": "stream",
     "text": [
      " 61%|██████▏   | 12552/20493 [07:22<12:28, 10.61it/s]"
     ]
    },
    {
     "name": "stdout",
     "output_type": "stream",
     "text": [
      "train_loss: 2.1872315357923506\n",
      "val_loss: 2.1938309550285338\n"
     ]
    },
    {
     "name": "stderr",
     "output_type": "stream",
     "text": [
      " 63%|██████▎   | 12969/20493 [07:38<05:01, 24.95it/s]"
     ]
    }
   ],
   "source": [
    "# Train model\n",
    "num_context = 4\n",
    "num_epochs = 25\n",
    "max_iter = int(np.floor(train_data.shape[0] / batch_size))\n",
    "train_loss_hist = np.array([])\n",
    "val_loss_hist = np.array([])\n",
    "optimizer = torch.optim.Adam(model.parameters(), lr=lr, weight_decay=1e-5)\n",
    "\n",
    "validation_frequency = 2000  # Perform validation every 100 training steps\n",
    "running_loss = 0\n",
    "global_step = 0\n",
    "for epoch in range(15,num_epochs):\n",
    "    print(f\"Beginning epoch #{epoch}\")\n",
    "    model.train()  # Set model to training mode\n",
    "    for it in tqdm(range(max_iter)):\n",
    "        optimizer.zero_grad()\n",
    "        # Get training samples\n",
    "        begin = it * batch_size\n",
    "        end = (it + 1) * batch_size\n",
    "        it_data = train_data[begin:end]\n",
    "        context = torch.empty(it_data.size()[0], 3)\n",
    "        context[:,0] = it_data[:,0]\n",
    "        context[:,1] = it_data[:,1]\n",
    "        context[:,2] = it_data[:,2]\n",
    "        context = context.to(device)\n",
    "        samples = (it_data[:,4] - it_data[:,3]).unsqueeze(1).to(device)\n",
    "        # Compute loss\n",
    "        loss = model.forward_kld(samples, context)\n",
    "        # Do backprop and optimizer step\n",
    "        if ~(torch.isnan(loss) | torch.isinf(loss)):\n",
    "            loss.backward()\n",
    "            optimizer.step()\n",
    "        # Log loss\n",
    "        train_loss_hist = np.append(train_loss_hist, loss.to('cpu').data.numpy())\n",
    "        running_loss += loss.to('cpu').data.numpy()\n",
    "        global_step += 1\n",
    "\n",
    "        # Validation step every 100 training steps\n",
    "        if global_step % validation_frequency == 0:\n",
    "            model.eval()  # Set model to evaluation mode\n",
    "            val_loss = 0\n",
    "            val_iter = min(100, int(np.floor(val_data.shape[0] / batch_size)))  # Limit validation to 100 batches\n",
    "            with torch.no_grad():\n",
    "                for val_it in range(val_iter):\n",
    "                    begin = val_it * batch_size\n",
    "                    end = (val_it + 1) * batch_size\n",
    "                    it_data = val_data[begin:end]\n",
    "                    context = torch.empty(it_data.size()[0], 3)\n",
    "                    context[:,0] = it_data[:,0]\n",
    "                    context[:,1] = it_data[:,1]\n",
    "                    context[:,2] = it_data[:,2]\n",
    "                    context = context.to(device)\n",
    "                    samples = (it_data[:,4] - it_data[:,3]).unsqueeze(1).to(device)\n",
    "                    loss = model.forward_kld(samples, context)\n",
    "                    val_loss += loss.item()\n",
    "            \n",
    "            avg_val_loss = val_loss / val_iter\n",
    "            print(f\"train_loss: {running_loss / validation_frequency}\\nval_loss: {avg_val_loss}\")\n",
    "            val_loss_hist = np.append(val_loss_hist, avg_val_loss)\n",
    "            \n",
    "#             print(f\"Step {global_step} - Train Loss: {train_loss_hist[-1]:.4f}, Val Loss: {avg_val_loss:.4f}\")\n",
    "            \n",
    "            model.train()  # Set model back to training mode\n",
    "            running_loss = 0\n",
    "    model.save(model_path + run_info + f\"_checkpoint_e{epoch}.pth\")\n",
    "    print(f\"Epoch {epoch} completed.\")"
   ]
  },
  {
   "cell_type": "code",
   "execution_count": null,
   "id": "d8593003-7f8c-48fe-a1cc-991b22a54415",
   "metadata": {},
   "outputs": [],
   "source": [
    "# model.save(\"models/context_3/July_18/run_\" + run_num_str+ \"_\" + K_str + \"flows_\" + hidden_layers_str + \"hl_\" + hidden_units_str + \"hu_\" + batch_size_str + \"bs.pth\")\n",
    "model.save(model_path + run_info + \".pth\")\n",
    "           \n",
    "# model.load(\"models/July_4/vary_p_uniform_12_flows_8hl_64hu_100bs.pth\")"
   ]
  },
  {
   "cell_type": "code",
   "execution_count": null,
   "id": "06c50930-0373-4aff-9cce-28020437753f",
   "metadata": {
    "tags": []
   },
   "outputs": [],
   "source": [
    "# Plot loss\n",
    "plot.figure(figsize=(5, 5))\n",
    "plot.scatter(range(len(train_loss_hist)),train_loss_hist, np.ones(len(train_loss_hist)) * 0.01, label='loss', alpha = 1)\n",
    "plot.scatter(np.linspace(0,len(train_loss_hist),len(val_loss_hist)),val_loss_hist, np.ones(len(val_loss_hist)) * 0.1, label='loss', alpha = 1)\n",
    "plot.savefig( loss_path + run_info + \".jpeg\")\n",
    "plot.legend()\n",
    "plot.show()"
   ]
  },
  {
   "cell_type": "code",
   "execution_count": null,
   "id": "56a8cf01-1c95-4038-a47e-856e2e6850cd",
   "metadata": {},
   "outputs": [],
   "source": [
    "torch.save(test_data, test_data_path + \"full_test_data_run_\" + run_num_str+ \"_\"+ K_str + \"flows_\" + hidden_layers_str + \"hl_\" + hidden_units_str + \"hu_\" + batch_size_str + \"bs.pt\")"
   ]
  },
  {
   "cell_type": "markdown",
   "id": "b6f99eb5",
   "metadata": {},
   "source": [
    "### Evaluation"
   ]
  },
  {
   "cell_type": "code",
   "execution_count": null,
   "id": "08a879b4-ff8c-4716-94ec-0d7f8335c22d",
   "metadata": {},
   "outputs": [],
   "source": [
    "min_time = min(inputs[:,4])\n",
    "skipped = np.array([])\n",
    "\n",
    "eval_batch_size = 1000\n",
    "eval_max_iter = test_data.shape[0] // eval_batch_size\n",
    "eval_test_data = test_data[:eval_max_iter * eval_batch_size]\n",
    "\n",
    "eval_test_data.to('cpu')\n",
    "model.to('cpu')\n",
    "model.eval()\n",
    "samples = torch.empty(eval_test_data.shape[0])\n",
    "for i in tqdm(range(eval_max_iter)):\n",
    "    begin = eval_batch_size * i\n",
    "    end = eval_batch_size * (i + 1)\n",
    "    samples[begin:end] = model.sample(num_samples = eval_batch_size, context = test_data[begin:end,:num_context])[0].cpu().detach().squeeze(1)\n",
    "    "
   ]
  },
  {
   "cell_type": "code",
   "execution_count": null,
   "id": "ecdfa056-3676-4632-81fd-9705efac37dd",
   "metadata": {},
   "outputs": [],
   "source": [
    "for i in range(len(samples)):\n",
    "    if(samples[i] < min_time):\n",
    "        skipped = np.append(skipped, i)\n",
    "for i in range(len(skipped) - 1):\n",
    "    samples = torch.cat((samples[:int(skipped[i])],samples[int(skipped[i] + 1):int(skipped[i + 1])]))\n",
    "model.train();"
   ]
  },
  {
   "cell_type": "markdown",
   "id": "23027cfc-7fdb-4246-a86b-515bfad8cd23",
   "metadata": {},
   "source": [
    "### Claude code no resampling, cut"
   ]
  },
  {
   "cell_type": "code",
   "execution_count": 30,
   "id": "e631ab7d-db5c-4b50-afee-2a74b6644682",
   "metadata": {},
   "outputs": [
    {
     "ename": "KeyboardInterrupt",
     "evalue": "",
     "output_type": "error",
     "traceback": [
      "\u001b[0;31m---------------------------------------------------------------------------\u001b[0m",
      "\u001b[0;31mKeyboardInterrupt\u001b[0m                         Traceback (most recent call last)",
      "Cell \u001b[0;32mIn[30], line 1\u001b[0m\n\u001b[0;32m----> 1\u001b[0m min_time \u001b[38;5;241m=\u001b[39m \u001b[38;5;28;43mmin\u001b[39;49m\u001b[43m(\u001b[49m\u001b[43minputs\u001b[49m\u001b[43m[\u001b[49m\u001b[43m:\u001b[49m\u001b[43m,\u001b[49m\u001b[43m \u001b[49m\u001b[38;5;241;43m4\u001b[39;49m\u001b[43m]\u001b[49m\u001b[43m)\u001b[49m\n\u001b[1;32m      2\u001b[0m eval_batch_size \u001b[38;5;241m=\u001b[39m \u001b[38;5;241m1000\u001b[39m\n\u001b[1;32m      3\u001b[0m eval_max_iter \u001b[38;5;241m=\u001b[39m test_data\u001b[38;5;241m.\u001b[39mshape[\u001b[38;5;241m0\u001b[39m] \u001b[38;5;241m/\u001b[39m\u001b[38;5;241m/\u001b[39m eval_batch_size\n",
      "\u001b[0;31mKeyboardInterrupt\u001b[0m: "
     ]
    }
   ],
   "source": [
    "min_time = min(inputs[:, 4])\n",
    "eval_batch_size = 1000\n",
    "eval_max_iter = test_data.shape[0] // eval_batch_size\n",
    "eval_test_data = test_data[:eval_max_iter * eval_batch_size].to('cpu')\n",
    "model.to('cpu')\n",
    "model.eval()\n",
    "\n",
    "samples = []\n",
    "total_samples = 0\n",
    "target_samples = eval_test_data.shape[0]\n",
    "\n",
    "with torch.no_grad():\n",
    "    pbar = tqdm(total=target_samples)\n",
    "    while total_samples < target_samples:\n",
    "        remaining = target_samples - total_samples\n",
    "        batch_size = min(eval_batch_size, remaining)\n",
    "        \n",
    "        batch_samples = model.sample(num_samples=batch_size, \n",
    "                                     context=eval_test_data[total_samples:total_samples+batch_size, :num_context])[0]\n",
    "        \n",
    "        valid_samples = batch_samples[batch_samples.squeeze(1) >= min_time]\n",
    "        samples.append(valid_samples)\n",
    "        \n",
    "        new_samples = valid_samples.shape[0]\n",
    "        total_samples += new_samples\n",
    "        pbar.update(new_samples)\n",
    "\n",
    "    pbar.close()\n",
    "\n",
    "samples = torch.cat(samples, dim=0)[:target_samples].squeeze(1)\n",
    "model.train();"
   ]
  },
  {
   "cell_type": "markdown",
   "id": "280fe779-6306-4f7f-bbc1-8b11915744fc",
   "metadata": {},
   "source": [
    "### Claude code resampling, cut"
   ]
  },
  {
   "cell_type": "code",
   "execution_count": null,
   "id": "385c3af9-8a31-4ec5-bc1c-dc9d12ab3ec0",
   "metadata": {},
   "outputs": [],
   "source": [
    "min_time = min(inputs[:, 4])\n",
    "eval_batch_size = 1000\n",
    "eval_max_iter = test_data.shape[0] // eval_batch_size\n",
    "eval_test_data = test_data[:eval_max_iter * eval_batch_size].to('cpu')\n",
    "model.to('cpu')\n",
    "model.eval()\n",
    "\n",
    "samples = torch.empty(eval_test_data.shape[0], 1)\n",
    "\n",
    "with torch.no_grad():\n",
    "    for i in tqdm(range(eval_max_iter)):\n",
    "        begin = eval_batch_size * i\n",
    "        end = eval_batch_size * (i + 1)\n",
    "        batch_context = eval_test_data[begin:end, :num_context]\n",
    "        \n",
    "        batch_samples = model.sample(num_samples=eval_batch_size, context=batch_context)[0]\n",
    "        valid_mask = batch_samples.squeeze(1) >= min_time\n",
    "        \n",
    "        while not valid_mask.all():\n",
    "            invalid_indices = torch.where(~valid_mask)[0]\n",
    "            resampled = model.sample(num_samples=len(invalid_indices), \n",
    "                                     context=batch_context[invalid_indices])[0]\n",
    "            batch_samples[invalid_indices] = resampled\n",
    "            valid_mask[invalid_indices] = resampled.squeeze(1) >= min_time\n",
    "        \n",
    "        samples[begin:end] = batch_samples\n",
    "samples = samples.squeeze(1)\n",
    "model.train();"
   ]
  },
  {
   "cell_type": "code",
   "execution_count": 3,
   "id": "452bfa17-4790-4cf2-997f-922bbb955f12",
   "metadata": {},
   "outputs": [],
   "source": [
    "# torch.save(samples,\"data/samples/vary_p_uniform_6_hl_100_bs.pt\")\n",
    "# torch.save(eval_test_data,\"data/test/vary_p_uniform_6_hl_100_bs.pt\")\n",
    "\n",
    "samples = torch.load(\"data/samples/vary_p_uniform_12_flows_8hl_64hu_100bs.pt\")\n",
    "eval_test_data = torch.load(\"data/test/vary_p_uniform_12_flows_8hl_64hu_100bs.pt\")"
   ]
  },
  {
   "cell_type": "code",
   "execution_count": 49,
   "id": "dd0b22d2-cf10-4ede-9ec5-d9bdea296ebb",
   "metadata": {},
   "outputs": [
    {
     "data": {
      "image/png": "[encoded data removed]",
      "text/plain": [
       "<Figure size 600x600 with 1 Axes>"
      ]
     },
     "metadata": {},
     "output_type": "display_data"
    }
   ],
   "source": [
    "sample_fig, sample_axs = plot.subplots(1,1,figsize=(6,6))\n",
    "sample_fig.suptitle(\"photon hit timing (p varied) 8 hidden layers, 12 flows, 64 units, bs = 100\")\n",
    "sample_axs.hist(samples,bins = 300, alpha = 0.5,color = 'b', label = 'learned', density = True)\n",
    "sample_axs.set_title(\"learned and true distributions\")\n",
    "sample_axs.set_xlabel(\"time (ns)\")\n",
    "sample_axs.set_ylabel(\"counts\")\n",
    "sample_axs.hist(eval_test_data[:,num_context],bins = 300, color = 'r', alpha = 0.5, label = 'true', density = True)\n",
    "sample_axs.legend(loc='upper right')\n",
    "sample_fig.show()"
   ]
  },
  {
   "cell_type": "code",
   "execution_count": 50,
   "id": "fdb69fa4-a2cd-4763-98a4-56aaf4ea1d63",
   "metadata": {},
   "outputs": [],
   "source": [
    "sample_fig.savefig(\"plots/test_distributions/vary_p_uniform_12_flows_8hl_64hu_100bs_normalized_resample.pdf\")"
   ]
  },
  {
   "cell_type": "code",
   "execution_count": null,
   "id": "55284851-fb69-4705-af3a-b159a2e00c5a",
   "metadata": {},
   "outputs": [],
   "source": []
  }
 ],
 "metadata": {
  "kernelspec": {
   "display_name": "ML_venv",
   "language": "python",
   "name": "ml_venv"
  },
  "language_info": {
   "codemirror_mode": {
    "name": "ipython",
    "version": 3
   },
   "file_extension": ".py",
   "mimetype": "text/x-python",
   "name": "python",
   "nbconvert_exporter": "python",
   "pygments_lexer": "ipython3",
   "version": "3.9.18"
  }
 },
 "nbformat": 4,
 "nbformat_minor": 5
}
