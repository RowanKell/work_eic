{
 "cells": [
  {
   "cell_type": "markdown",
   "id": "98300ae7",
   "metadata": {},
   "source": [
    "# Conditional Normalizing Flow Model"
   ]
  },
  {
   "cell_type": "markdown",
   "id": "4dcd74be",
   "metadata": {},
   "source": [
    "Here, we train a conditional normalizing flow model $q(x|c)$. Our target $p(x|c)$ is a simple 2D Gaussian $\\mathcal{N}(x|\\mu, \\sigma)$, where we condition on the mean $\\mu$ and standard deviation $\\sigma$, i.e. $c = (\\mu, \\sigma)$. We apply conditional autoregressive and coupling neural spline flows as well as a conditional masked autoregressive flow to the problem."
   ]
  },
  {
   "cell_type": "markdown",
   "id": "e55b7404-a921-49a7-93b0-950d39150c0e",
   "metadata": {},
   "source": [
    "## Workflow\n",
    "0. Before working in this notebook, you must first run simulations and the preprocess the data as it takes way too long to do interactively.\n",
    "    1. For simulating data, see work_eic/slurm/makeJobs*\n",
    "    1. for preprocessing the data see work_eic/macros/Time_estimation/slurm/\n",
    "    1. These use the slurm batch system to run on the dcc\n",
    "    1. Once you have run these, you should have a few .pt files that contain tensors that can be read into this notebook\n",
    "    1. These tensors should have 5 values, the first four being context and the last being the time value which is the feature\n",
    "1. Load in the data and shuffle it to ensure data is randomly distributed in dataset; then separate into train and test sets\n",
    "2. Define model\n",
    "    1. Right now the autoregressive neural spline model seems to work well\n",
    "    1. We have used masked affine coupling models before in the past but this doesn't seem like it would make sense here as we only have 1 feature and hence cannot mask it\n",
    "3. Train the model with the training loop (unless you already have a pretrained model)\n",
    "4. Save the model (or load)\n",
    "5. Generate samples based on the context of your test dataset\n",
    "6. Plot timing distribution\n",
    "    7. The test distribution should match the sampled distribution pretty well since the samples are drawn from the same context as the test data"
   ]
  },
  {
   "cell_type": "markdown",
   "id": "800ae93f",
   "metadata": {},
   "source": [
    "## Setup"
   ]
  },
  {
   "cell_type": "code",
   "execution_count": 1,
   "id": "7f293277",
   "metadata": {},
   "outputs": [
    {
     "name": "stdout",
     "output_type": "stream",
     "text": [
      "Using device cuda:0\n"
     ]
    }
   ],
   "source": [
    "# Import packages\n",
    "import torch\n",
    "import numpy as np\n",
    "import normflows as nf\n",
    "\n",
    "import uproot as up\n",
    "\n",
    "from matplotlib import pyplot as plot\n",
    "import math\n",
    "from tqdm import tqdm\n",
    "from util import PVect, theta_func, r_func\n",
    "from IPython.display import clear_output\n"
   ]
  },
  {
   "cell_type": "code",
   "execution_count": 2,
   "id": "a4a9687a-e7b2-465f-ad2d-10bcd3be67ce",
   "metadata": {},
   "outputs": [],
   "source": [
    "import os\n",
    "def checkdir(path):\n",
    "    if not os.path.exists(path): \n",
    "        os.makedirs(path)"
   ]
  },
  {
   "cell_type": "code",
   "execution_count": 3,
   "id": "f879b0d7",
   "metadata": {},
   "outputs": [],
   "source": [
    "# Get device to be used\n",
    "device = torch.device('cuda' if torch.cuda.is_available() else 'cpu')"
   ]
  },
  {
   "cell_type": "markdown",
   "id": "61a4f0ac-47f1-4421-aee8-d8545352763c",
   "metadata": {},
   "source": [
    "#### Data preparation\n",
    "Need 5 features:\n",
    "1. Four conditionals:\n",
    "    1. Hit z position (calculate from shoot position and angle)\n",
    "    2. mu incident time on scint (calculate from momentum and distance)\n",
    "    3. hit theta (calculate from momentum vector)\n",
    "    4. hit momenta (calculate from momentum vector)\n",
    "2. Feature\n",
    "    1. photon hit time on sensor"
   ]
  },
  {
   "cell_type": "markdown",
   "id": "bab1e0f2-93aa-4760-b97b-48ddc354b1a8",
   "metadata": {},
   "source": [
    "##### Status\n",
    "1. Hit z, hit theta, hit momenta and photon hit time are all good\n",
    "1. Just need to calculate hit time from momentum (velocity) and distance traveled (use pythogorean theorem with x and z)"
   ]
  },
  {
   "cell_type": "markdown",
   "id": "017b95a9-3fe8-4049-9b4a-fa6640254418",
   "metadata": {},
   "source": [
    "### Preprocess manually below if not loading data"
   ]
  },
  {
   "cell_type": "markdown",
   "id": "1b7b7b65-8624-4bc7-8a9d-527875d4df03",
   "metadata": {},
   "source": [
    "### Load data from .pt file (created by preprocess.py)"
   ]
  },
  {
   "cell_type": "code",
   "execution_count": 6,
   "id": "74533537-8f25-4685-96ed-6dc0db6b194c",
   "metadata": {
    "tags": []
   },
   "outputs": [],
   "source": [
    "# Timing_path = \"/cwork/rck32/eic/work_eic/macros/Timing_estimation/\"\n",
    "\n",
    "# inputs = torch.load(Timing_path + \"data/July_04/Run_0/Vary_p_2000events_file_0_w_cuts.pt\")\n",
    "# for i in range(1,18):\n",
    "#     inputs = torch.cat((inputs, torch.load(Timing_path + f\"data/July_04/Run_0/Vary_p_2000events_file_{i}_w_cuts.pt\")),0)"
   ]
  },
  {
   "cell_type": "markdown",
   "id": "3a6f887c-7dfb-4c64-8a9b-252ec3d58761",
   "metadata": {
    "tags": []
   },
   "source": [
    "July 5th 50 z pos set:"
   ]
  },
  {
   "cell_type": "code",
   "execution_count": 7,
   "id": "23998ee5-1229-4713-bf4b-c3b680ba1e06",
   "metadata": {
    "tags": []
   },
   "outputs": [],
   "source": [
    "# Timing_path = \"/cwork/rck32/eic/work_eic/macros/Timing_estimation/\"\n",
    "# inputs = torch.load(Timing_path + \"data/July_05/Run_0/Vary_p_2000events_file_0_July_5_50_z_pos.pt\")\n",
    "# for i in range(1,51):\n",
    "#     inputs = torch.cat((inputs, torch.load(Timing_path + f\"data/July_05/Run_0/Vary_p_2000events_file_{i}_July_5_50_z_pos.pt\")),0)"
   ]
  },
  {
   "cell_type": "markdown",
   "id": "303cd494-0d63-4730-8045-096a01d86385",
   "metadata": {
    "tags": []
   },
   "source": [
    "July 18th 200 z pos set: "
   ]
  },
  {
   "cell_type": "code",
   "execution_count": null,
   "id": "ca3841e9-e060-4528-a781-5dd41659a4b8",
   "metadata": {
    "tags": []
   },
   "outputs": [],
   "source": [
    "# Timing_path = \"/cwork/rck32/eic/work_eic/macros/Timing_estimation/\"\n",
    "\n",
    "# raw_inputs = torch.load(Timing_path + \"data/July_21/Run_1/Vary_p_events_file_0_July_19_200_z_pos.pt\")\n",
    "# for i in range(1,201):\n",
    "#     raw_inputs = torch.cat((raw_inputs, torch.load(Timing_path + f\"data/July_21/Run_1/Vary_p_events_file_{i}_July_19_200_z_pos.pt\")),0)"
   ]
  },
  {
   "cell_type": "markdown",
   "id": "039c0715-2586-4ce9-89b8-82e56b74ba6c",
   "metadata": {},
   "source": [
    "July 23rd 600 z pos set: "
   ]
  },
  {
   "cell_type": "code",
   "execution_count": 5,
   "id": "163560d2-30cf-40f5-b698-9de9287b5ede",
   "metadata": {},
   "outputs": [],
   "source": [
    "Timing_path = \"/cwork/rck32/eic/work_eic/macros/Timing_estimation/\""
   ]
  },
  {
   "cell_type": "code",
   "execution_count": 11,
   "id": "e1bdbe86-2790-446e-9cef-94755dd3fe63",
   "metadata": {},
   "outputs": [
    {
     "name": "stdout",
     "output_type": "stream",
     "text": [
      "loaded file #600 of 600\n"
     ]
    }
   ],
   "source": [
    "raw_inputs = torch.load(Timing_path + \"data/July_24/Run_1/Vary_p_events_file_0_July_23_600_z_pos.pt\")\n",
    "for i in range(600):\n",
    "    clear_output(wait=True)\n",
    "    print(f\"loaded file #{i+1} of 600\")\n",
    "    raw_inputs = torch.cat((raw_inputs, torch.load(Timing_path + f\"data/July_24/Run_1/Vary_p_events_file_{i+1}_July_23_600_z_pos.pt\")),0)"
   ]
  },
  {
   "cell_type": "code",
   "execution_count": 12,
   "id": "151786d4-0c80-40c0-b3a7-9672429b472e",
   "metadata": {},
   "outputs": [
    {
     "data": {
      "text/plain": [
       "torch.Size([513132162, 5])"
      ]
     },
     "execution_count": 12,
     "metadata": {},
     "output_type": "execute_result"
    }
   ],
   "source": [
    "raw_inputs.shape"
   ]
  },
  {
   "cell_type": "code",
   "execution_count": 13,
   "id": "b5479302-027d-436d-9412-b562c7fe1cda",
   "metadata": {},
   "outputs": [
    {
     "name": "stderr",
     "output_type": "stream",
     "text": [
      "/tmp/ipykernel_3728697/2075640514.py:1: UserWarning: indexing with dtype torch.uint8 is now deprecated, please use a dtype torch.bool instead. (Triggered internally at ../aten/src/ATen/native/IndexingUtils.h:27.)\n",
      "  inputs = raw_inputs[np.logical_and(raw_inputs[:,4] < 100,raw_inputs[:,3] < 0.06)]\n"
     ]
    }
   ],
   "source": [
    "inputs = raw_inputs[np.logical_and(raw_inputs[:,4] < 100,raw_inputs[:,3] < 0.06)]"
   ]
  },
  {
   "cell_type": "code",
   "execution_count": 14,
   "id": "158035dd-134e-4093-ad2d-fede7c2d2e7c",
   "metadata": {},
   "outputs": [],
   "source": [
    "indexes = torch.randperm(inputs.shape[0])\n",
    "dataset = inputs[indexes]\n",
    "train_frac = 0.008\n",
    "test_frac = 0.001\n",
    "val_frac = 0.001\n",
    "train_lim = int(np.floor(dataset.shape[0] * train_frac))\n",
    "test_lim = train_lim + int(np.floor(dataset.shape[0] * test_frac))\n",
    "val_lim = test_lim + int(np.floor(dataset.shape[0] * val_frac))\n",
    "train_data = dataset[:train_lim]\n",
    "test_data = dataset[train_lim:test_lim]\n",
    "val_data = dataset[test_lim:val_lim]"
   ]
  },
  {
   "cell_type": "code",
   "execution_count": 17,
   "id": "a2d42cdb-523c-4d22-9b55-0f8febdeb478",
   "metadata": {},
   "outputs": [
    {
     "data": {
      "text/plain": [
       "torch.Size([4098709, 5])"
      ]
     },
     "execution_count": 17,
     "metadata": {},
     "output_type": "execute_result"
    }
   ],
   "source": [
    "train_data.shape"
   ]
  },
  {
   "cell_type": "code",
   "execution_count": 22,
   "id": "23f9d03a-fb86-4f5d-a669-e53198b372d3",
   "metadata": {},
   "outputs": [],
   "source": [
    "train_data = torch.load(Timing_path + \"data/combined/July_23/tenth_600_z_pos_train.pt\")\n",
    "test_data = torch.load(Timing_path + \"data/combined/July_23/tenth_600_z_pos_test.pt\")\n",
    "val_data = torch.load(Timing_path + \"data/combined/July_23/tenth_600_z_pos_val.pt\")"
   ]
  },
  {
   "cell_type": "markdown",
   "id": "3c705cd9-1b1c-44f2-8721-a8fb0ed662a9",
   "metadata": {},
   "source": [
    "uncut: 110166 for 0.001 fraction\n",
    "\n",
    "sensor time cut: 110155\n",
    "\n",
    "both cuts: 110114\n",
    "\n",
    "tighter incident cut (0.06): 110022"
   ]
  },
  {
   "cell_type": "code",
   "execution_count": null,
   "id": "32243aee-1b90-4f99-8ade-7599212a7556",
   "metadata": {},
   "outputs": [],
   "source": [
    "fig, axs = plot.subplots(3,2,figsize = (9,14))\n",
    "fig.suptitle(\"test_data 200 z vals\")\n",
    "axs[0,0].hist(test_data[:,0],bins = 1000);\n",
    "axs[0,0].set_title(\"hit z pos\")\n",
    "axs[0,0].set_xlabel(\"mm\")\n",
    "\n",
    "axs[0,1].hist(test_data[:,1],bins = 500);\n",
    "axs[0,1].set_title(\"gun theta\")\n",
    "axs[0,1].set_xlabel(\"theta (degrees)\")\n",
    "\n",
    "\n",
    "axs[1,0].hist(test_data[:,2],bins = 500);\n",
    "axs[1,0].set_title(\"mu momentum\")\n",
    "axs[1,0].set_xlabel(\"(GeV/c)\")\n",
    "\n",
    "axs[1,1].hist(test_data[:,3],bins = 500)\n",
    "axs[1,1].set_title(\"mu hit incident time\")\n",
    "axs[1,1].set_xlabel(\"(ns)\")\n",
    "\n",
    "\n",
    "N, bins, patches = axs[2,1].hist(test_data[:,4],bins = 500)\n",
    "axs[2,1].set_title(\"sensor hit times\")\n",
    "axs[2,1].set_xlabel(\"(ns)\")"
   ]
  },
  {
   "cell_type": "code",
   "execution_count": 55,
   "id": "956dcfb9-de6a-43d7-8bb7-46eb29a0ce5d",
   "metadata": {},
   "outputs": [],
   "source": [
    "fig.savefig(\"plots/inputs/july_21_run_1_sensor_time_incident_time_cuts.pdf\")"
   ]
  },
  {
   "cell_type": "markdown",
   "id": "eb5fef3d",
   "metadata": {},
   "source": [
    "## Masked Autoregressive Flow"
   ]
  },
  {
   "cell_type": "markdown",
   "id": "7153ece3",
   "metadata": {},
   "source": [
    "### Model specification"
   ]
  },
  {
   "cell_type": "code",
   "execution_count": 13,
   "id": "1b7ee5fd",
   "metadata": {
    "tags": []
   },
   "outputs": [],
   "source": [
    "# # Define flows\n",
    "# K = 4\n",
    "\n",
    "# latent_size = 1\n",
    "# hidden_units = 128\n",
    "# num_blocks = 2\n",
    "# context_size = 4\n",
    "\n",
    "# flows = []\n",
    "# for i in range(K):\n",
    "#     flows += [nf.flows.MaskedAffineAutoregressive(latent_size, hidden_units, \n",
    "#                                                   context_features=context_size, \n",
    "#                                                   num_blocks=num_blocks)]\n",
    "#     flows += [nf.flows.LULinearPermute(latent_size)]\n",
    "\n",
    "# # Set base distribution\n",
    "# q0 = nf.distributions.DiagGaussian(1, trainable=False)\n",
    "    \n",
    "# # Construct flow model\n",
    "# model = nf.ConditionalNormalizingFlow(q0, flows)\n",
    "\n",
    "# # Move model on GPU if available\n",
    "# model = model.to(device)"
   ]
  },
  {
   "cell_type": "markdown",
   "id": "1b9c724c-ba39-4603-aed9-56e79406667a",
   "metadata": {},
   "source": [
    "## Neural Spline Flow"
   ]
  },
  {
   "cell_type": "code",
   "execution_count": 14,
   "id": "2f481479-a988-4f4d-9476-617f5bae68df",
   "metadata": {},
   "outputs": [],
   "source": [
    "# Define flows\n",
    "run_num = 11\n",
    "run_num_str = str(run_num)"
   ]
  },
  {
   "cell_type": "code",
   "execution_count": 25,
   "id": "6740b8db-8f4b-40c2-ab0d-9261f46c0be6",
   "metadata": {},
   "outputs": [],
   "source": [
    "K = 4\n",
    "\n",
    "latent_size = 1\n",
    "hidden_units = 128\n",
    "hidden_layers = 20\n",
    "context_size = 3\n",
    "num_context = 3\n",
    "batch_size= 2000\n",
    "lr = 1e-5\n",
    "\n",
    "lr_str = str(lr)\n",
    "K_str = str(K)\n",
    "hidden_units_str = str(hidden_units)\n",
    "hidden_layers_str = str(hidden_layers)\n",
    "batch_size_str = str(batch_size)\n",
    "num_context_str = str(num_context)\n",
    "flows = []\n",
    "for i in range(K):\n",
    "    flows += [nf.flows.AutoregressiveRationalQuadraticSpline(latent_size, hidden_layers, hidden_units, \n",
    "                                                             num_context_channels=context_size)]\n",
    "    flows += [nf.flows.LULinearPermute(latent_size)]\n",
    "\n",
    "# Set base distribution\n",
    "q0 = nf.distributions.DiagGaussian(1, trainable=False)\n",
    "    \n",
    "# Construct flow model\n",
    "model = nf.ConditionalNormalizingFlow(q0, flows)\n",
    "\n",
    "# Move model on GPU if available\n",
    "model = model.to(device)"
   ]
  },
  {
   "cell_type": "markdown",
   "id": "390c8586-665f-4921-a9bd-652f645db3ce",
   "metadata": {},
   "source": [
    "Create necessary directories"
   ]
  },
  {
   "cell_type": "code",
   "execution_count": 16,
   "id": "ff5ea36d-d25c-48e1-9ef7-9faab7c96d05",
   "metadata": {},
   "outputs": [],
   "source": [
    "import datetime\n",
    "\n",
    "x = datetime.datetime.now()\n",
    "today = x.strftime(\"%B_%d\")\n",
    "# model_path = \"models/context_3/\" + today + \"/\"\n",
    "# checkdir(model_path)\n",
    "\n",
    "model_path = \"models/\" + today + \"/\"\n",
    "checkdir(model_path)\n",
    "\n",
    "loss_path = \"plots/loss/\" + today + \"/\"\n",
    "checkdir(loss_path)\n",
    "\n",
    "test_data_path = \"data/test/\" + today + \"/\"\n",
    "checkdir(test_data_path)\n"
   ]
  },
  {
   "cell_type": "code",
   "execution_count": 17,
   "id": "69539b84-311c-450d-834f-bd78ee2ef772",
   "metadata": {},
   "outputs": [],
   "source": [
    "run_info = \"run_\" + run_num_str+\"_\"+num_context_str+ \"context_\"+ K_str + \"flows_\" + hidden_layers_str + \"hl_\" + hidden_units_str + \"hu_\" + batch_size_str + \"bs\""
   ]
  },
  {
   "cell_type": "markdown",
   "id": "09877bb6",
   "metadata": {},
   "source": [
    "### Training"
   ]
  },
  {
   "cell_type": "markdown",
   "id": "04e1c711-1804-45d8-8c79-8c7773690560",
   "metadata": {
    "jupyter": {
     "source_hidden": true
    },
    "tags": []
   },
   "source": [
    "#### Original loop with 4 context params"
   ]
  },
  {
   "cell_type": "code",
   "execution_count": 31,
   "id": "d6739256-5447-41ae-9711-1c0254ef6758",
   "metadata": {
    "jupyter": {
     "source_hidden": true
    },
    "tags": []
   },
   "outputs": [],
   "source": [
    "# # Train model\n",
    "\n",
    "# num_context = 4\n",
    "# num_epochs = 1\n",
    "# max_iter = int(np.floor(train_data.shape[0] / batch_size))\n",
    "\n",
    "# loss_hist = np.array([])\n",
    "\n",
    "# optimizer = torch.optim.Adam(model.parameters(), lr=5e-5, weight_decay=1e-5)\n",
    "# for epoch in range(num_epochs):\n",
    "#     print(f\"Beginning epoch #{epoch}\")\n",
    "#     for it in tqdm(range(max_iter)):\n",
    "#         optimizer.zero_grad()\n",
    "\n",
    "#         # Get training samples\n",
    "#         begin = it * batch_size\n",
    "#         end = (it + 1) * batch_size\n",
    "#         it_data = train_data[begin:end]\n",
    "#         context = it_data[:,:num_context].to(device)\n",
    "#         samples = it_data[:,num_context].unsqueeze(1).to(device)\n",
    "\n",
    "#         # Compute loss\n",
    "#         loss = model.forward_kld(samples, context)\n",
    "\n",
    "#         # Do backprop and optimizer step\n",
    "#         if ~(torch.isnan(loss) | torch.isinf(loss)):\n",
    "#             loss.backward()\n",
    "#             optimizer.step()\n",
    "\n",
    "#         # Log loss\n",
    "#         loss_hist = np.append(loss_hist, loss.to('cpu').data.numpy())"
   ]
  },
  {
   "cell_type": "markdown",
   "id": "28e8065f-ef90-4930-9a3e-936cfd53751a",
   "metadata": {
    "jupyter": {
     "source_hidden": true
    },
    "tags": []
   },
   "source": [
    "#### Loop with 3 context params"
   ]
  },
  {
   "cell_type": "code",
   "execution_count": 32,
   "id": "3250d313-e79e-4c65-b14e-f18b263f1c2d",
   "metadata": {
    "jupyter": {
     "source_hidden": true
    },
    "tags": []
   },
   "outputs": [],
   "source": [
    "# # Train model\n",
    "\n",
    "# num_context = 4\n",
    "# num_epochs = 1\n",
    "# max_iter = int(np.floor(train_data.shape[0] / batch_size))\n",
    "\n",
    "# loss_hist = np.array([])\n",
    "\n",
    "# optimizer = torch.optim.Adam(model.parameters(), lr=lr, weight_decay=1e-5)\n",
    "# for epoch in range(num_epochs):\n",
    "#     print(f\"Beginning epoch #{epoch}\")\n",
    "#     for it in tqdm(range(max_iter)):\n",
    "#         optimizer.zero_grad()\n",
    "\n",
    "#         # Get training samples\n",
    "#         begin = it * batch_size\n",
    "#         end = (it + 1) * batch_size\n",
    "#         it_data = train_data[begin:end]\n",
    "#         context = torch.empty(it_data.size()[0],3)\n",
    "#         context[:,0] = it_data[:,0]\n",
    "#         context[:,1] = it_data[:,1]\n",
    "#         context[:,2] = it_data[:,2]\n",
    "#         context = context.to(device)\n",
    "# #         context = it_data[:,:num_context].to(device)\n",
    "#         samples = (it_data[:,4] - it_data[:,3]).unsqueeze(1).to(device)\n",
    "\n",
    "#         # Compute loss\n",
    "#         loss = model.forward_kld(samples, context)\n",
    "\n",
    "#         # Do backprop and optimizer step\n",
    "#         if ~(torch.isnan(loss) | torch.isinf(loss)):\n",
    "#             loss.backward()\n",
    "#             optimizer.step()\n",
    "\n",
    "#         # Log loss\n",
    "#         loss_hist = np.append(loss_hist, loss.to('cpu').data.numpy())"
   ]
  },
  {
   "cell_type": "markdown",
   "id": "457773ca-fe97-40bd-bacf-b5d9a160a62c",
   "metadata": {},
   "source": [
    "#### Train with Validation"
   ]
  },
  {
   "cell_type": "code",
   "execution_count": null,
   "id": "49c2fbac-86ce-4919-a584-c9d9d1abd810",
   "metadata": {},
   "outputs": [
    {
     "name": "stdout",
     "output_type": "stream",
     "text": [
      "Beginning epoch #0\n"
     ]
    },
    {
     "name": "stderr",
     "output_type": "stream",
     "text": [
      " 10%|▉         | 2001/20461 [03:18<2:04:01,  2.48it/s]"
     ]
    },
    {
     "name": "stdout",
     "output_type": "stream",
     "text": [
      "train_loss: 588.2662257385253\n",
      "val_loss: 27.29391571044922\n"
     ]
    },
    {
     "name": "stderr",
     "output_type": "stream",
     "text": [
      " 20%|█▉        | 4001/20461 [06:48<3:00:03,  1.52it/s]"
     ]
    },
    {
     "name": "stdout",
     "output_type": "stream",
     "text": [
      "train_loss: 524.1111487388611\n",
      "val_loss: 24.389922122955323\n"
     ]
    },
    {
     "name": "stderr",
     "output_type": "stream",
     "text": [
      " 29%|██▉       | 6001/20461 [10:17<2:33:53,  1.57it/s]"
     ]
    },
    {
     "name": "stdout",
     "output_type": "stream",
     "text": [
      "train_loss: 467.1963185119629\n",
      "val_loss: 21.804510288238525\n"
     ]
    },
    {
     "name": "stderr",
     "output_type": "stream",
     "text": [
      " 39%|███▉      | 8001/20461 [13:40<1:23:58,  2.47it/s]"
     ]
    },
    {
     "name": "stdout",
     "output_type": "stream",
     "text": [
      "train_loss: 415.98923503875733\n",
      "val_loss: 19.469373302459715\n"
     ]
    },
    {
     "name": "stderr",
     "output_type": "stream",
     "text": [
      " 49%|████▉     | 10001/20461 [16:54<1:10:56,  2.46it/s]"
     ]
    },
    {
     "name": "stdout",
     "output_type": "stream",
     "text": [
      "train_loss: 369.9758038520813\n",
      "val_loss: 17.373091201782227\n"
     ]
    },
    {
     "name": "stderr",
     "output_type": "stream",
     "text": [
      " 59%|█████▊    | 12001/20461 [20:18<1:24:41,  1.66it/s]"
     ]
    },
    {
     "name": "stdout",
     "output_type": "stream",
     "text": [
      "train_loss: 328.1427126598358\n",
      "val_loss: 15.48888162612915\n"
     ]
    },
    {
     "name": "stderr",
     "output_type": "stream",
     "text": [
      " 68%|██████▊   | 14001/20461 [23:38<50:54,  2.11it/s]  "
     ]
    },
    {
     "name": "stdout",
     "output_type": "stream",
     "text": [
      "train_loss: 290.8952839374542\n",
      "val_loss: 13.808169431686402\n"
     ]
    },
    {
     "name": "stderr",
     "output_type": "stream",
     "text": [
      " 78%|███████▊  | 16001/20461 [26:53<34:04,  2.18it/s]"
     ]
    },
    {
     "name": "stdout",
     "output_type": "stream",
     "text": [
      "train_loss: 257.8267047786713\n",
      "val_loss: 12.314872436523437\n"
     ]
    },
    {
     "name": "stderr",
     "output_type": "stream",
     "text": [
      " 88%|████████▊ | 18001/20461 [30:10<18:33,  2.21it/s]"
     ]
    },
    {
     "name": "stdout",
     "output_type": "stream",
     "text": [
      "train_loss: 228.70584074020385\n",
      "val_loss: 10.95435486793518\n"
     ]
    },
    {
     "name": "stderr",
     "output_type": "stream",
     "text": [
      " 98%|█████████▊| 20001/20461 [33:15<03:27,  2.22it/s]"
     ]
    },
    {
     "name": "stdout",
     "output_type": "stream",
     "text": [
      "train_loss: 204.97397027969362\n",
      "val_loss: 9.73996332168579\n"
     ]
    },
    {
     "name": "stderr",
     "output_type": "stream",
     "text": [
      "100%|██████████| 20461/20461 [33:54<00:00, 10.06it/s]\n"
     ]
    },
    {
     "name": "stdout",
     "output_type": "stream",
     "text": [
      "Epoch 0 completed.\n",
      "Beginning epoch #1\n"
     ]
    },
    {
     "name": "stderr",
     "output_type": "stream",
     "text": [
      "  8%|▊         | 1540/20461 [02:15<1:58:01,  2.67it/s]"
     ]
    },
    {
     "name": "stdout",
     "output_type": "stream",
     "text": [
      "train_loss: 186.17056531906127\n",
      "val_loss: 8.65466576576233\n"
     ]
    },
    {
     "name": "stderr",
     "output_type": "stream",
     "text": [
      " 17%|█▋        | 3540/20461 [05:10<1:52:00,  2.52it/s]"
     ]
    },
    {
     "name": "stdout",
     "output_type": "stream",
     "text": [
      "train_loss: 165.68788954734802\n",
      "val_loss: 7.699469103813171\n"
     ]
    },
    {
     "name": "stderr",
     "output_type": "stream",
     "text": [
      " 27%|██▋       | 5540/20461 [08:05<1:51:02,  2.24it/s]"
     ]
    },
    {
     "name": "stdout",
     "output_type": "stream",
     "text": [
      "train_loss: 146.95375458717345\n",
      "val_loss: 6.86425518989563\n"
     ]
    },
    {
     "name": "stderr",
     "output_type": "stream",
     "text": [
      " 37%|███▋      | 7541/20461 [11:06<1:11:28,  3.01it/s]"
     ]
    },
    {
     "name": "stdout",
     "output_type": "stream",
     "text": [
      "train_loss: 130.6445038986206\n",
      "val_loss: 6.138702363967895\n"
     ]
    },
    {
     "name": "stderr",
     "output_type": "stream",
     "text": [
      " 47%|████▋     | 9541/20461 [14:06<1:01:13,  2.97it/s]"
     ]
    },
    {
     "name": "stdout",
     "output_type": "stream",
     "text": [
      "train_loss: 116.51909138202667\n",
      "val_loss: 5.4954609251022335\n"
     ]
    },
    {
     "name": "stderr",
     "output_type": "stream",
     "text": [
      " 56%|█████▋    | 11540/20461 [17:06<1:04:35,  2.30it/s]"
     ]
    },
    {
     "name": "stdout",
     "output_type": "stream",
     "text": [
      "train_loss: 104.34937509059905\n",
      "val_loss: 4.950885114669799\n"
     ]
    },
    {
     "name": "stderr",
     "output_type": "stream",
     "text": [
      " 66%|██████▌   | 13540/20461 [20:06<52:27,  2.20it/s]  "
     ]
    },
    {
     "name": "stdout",
     "output_type": "stream",
     "text": [
      "train_loss: 93.7064199590683\n",
      "val_loss: 4.473707232475281\n"
     ]
    },
    {
     "name": "stderr",
     "output_type": "stream",
     "text": [
      " 76%|███████▌  | 15540/20461 [23:09<46:52,  1.75it/s]"
     ]
    },
    {
     "name": "stdout",
     "output_type": "stream",
     "text": [
      "train_loss: 84.7548513674736\n",
      "val_loss: 4.064685595035553\n"
     ]
    },
    {
     "name": "stderr",
     "output_type": "stream",
     "text": [
      " 86%|████████▌ | 17540/20461 [26:04<22:21,  2.18it/s]"
     ]
    },
    {
     "name": "stdout",
     "output_type": "stream",
     "text": [
      "train_loss: 77.01318483352661\n",
      "val_loss: 3.7197865939140318\n"
     ]
    },
    {
     "name": "stderr",
     "output_type": "stream",
     "text": [
      " 95%|█████████▌| 19540/20461 [29:08<05:57,  2.58it/s]"
     ]
    },
    {
     "name": "stdout",
     "output_type": "stream",
     "text": [
      "train_loss: 71.07553532838821\n",
      "val_loss: 3.428473718166351\n"
     ]
    },
    {
     "name": "stderr",
     "output_type": "stream",
     "text": [
      "100%|██████████| 20461/20461 [30:31<00:00, 11.17it/s]\n"
     ]
    },
    {
     "name": "stdout",
     "output_type": "stream",
     "text": [
      "Epoch 1 completed.\n",
      "Beginning epoch #2\n"
     ]
    },
    {
     "name": "stderr",
     "output_type": "stream",
     "text": [
      "  5%|▌         | 1079/20461 [01:35<2:24:17,  2.24it/s]"
     ]
    },
    {
     "name": "stdout",
     "output_type": "stream",
     "text": [
      "train_loss: 66.40118921756745\n",
      "val_loss: 3.1841002702713013\n"
     ]
    },
    {
     "name": "stderr",
     "output_type": "stream",
     "text": [
      " 15%|█▌        | 3079/20461 [04:27<2:06:24,  2.29it/s]"
     ]
    },
    {
     "name": "stdout",
     "output_type": "stream",
     "text": [
      "train_loss: 62.252408220767975\n",
      "val_loss: 2.9944064950942995\n"
     ]
    },
    {
     "name": "stderr",
     "output_type": "stream",
     "text": [
      " 25%|██▍       | 5079/20461 [07:31<1:36:19,  2.66it/s]"
     ]
    },
    {
     "name": "stdout",
     "output_type": "stream",
     "text": [
      "train_loss: 58.590928411483766\n",
      "val_loss: 2.836214911937714\n"
     ]
    },
    {
     "name": "stderr",
     "output_type": "stream",
     "text": [
      " 35%|███▍      | 7079/20461 [10:29<1:37:12,  2.29it/s]"
     ]
    },
    {
     "name": "stdout",
     "output_type": "stream",
     "text": [
      "train_loss: 55.72104483366012\n",
      "val_loss: 2.717701210975647\n"
     ]
    },
    {
     "name": "stderr",
     "output_type": "stream",
     "text": [
      " 44%|████▍     | 9080/20461 [13:24<1:03:51,  2.97it/s]"
     ]
    },
    {
     "name": "stdout",
     "output_type": "stream",
     "text": [
      "train_loss: 53.307067148685455\n",
      "val_loss: 2.6042673063278197\n"
     ]
    },
    {
     "name": "stderr",
     "output_type": "stream",
     "text": [
      " 54%|█████▍    | 11079/20461 [16:19<59:55,  2.61it/s]  "
     ]
    },
    {
     "name": "stdout",
     "output_type": "stream",
     "text": [
      "train_loss: 51.28416574001312\n",
      "val_loss: 2.51684623003006\n"
     ]
    },
    {
     "name": "stderr",
     "output_type": "stream",
     "text": [
      " 64%|██████▍   | 13079/20461 [19:14<54:50,  2.24it/s]"
     ]
    },
    {
     "name": "stdout",
     "output_type": "stream",
     "text": [
      "train_loss: 49.771692070960995\n",
      "val_loss: 2.4557415294647216\n"
     ]
    },
    {
     "name": "stderr",
     "output_type": "stream",
     "text": [
      " 74%|███████▎  | 15079/20461 [22:10<35:00,  2.56it/s]"
     ]
    },
    {
     "name": "stdout",
     "output_type": "stream",
     "text": [
      "train_loss: 48.55177183628082\n",
      "val_loss: 2.400255880355835\n"
     ]
    },
    {
     "name": "stderr",
     "output_type": "stream",
     "text": [
      " 83%|████████▎ | 17079/20461 [25:07<21:18,  2.64it/s]"
     ]
    },
    {
     "name": "stdout",
     "output_type": "stream",
     "text": [
      "train_loss: 47.544215240478515\n",
      "val_loss: 2.3587447714805605\n"
     ]
    },
    {
     "name": "stderr",
     "output_type": "stream",
     "text": [
      " 93%|█████████▎| 19079/20461 [28:08<10:27,  2.20it/s]"
     ]
    },
    {
     "name": "stdout",
     "output_type": "stream",
     "text": [
      "train_loss: 46.898601655960086\n",
      "val_loss: 2.3263570713996886\n"
     ]
    },
    {
     "name": "stderr",
     "output_type": "stream",
     "text": [
      "100%|██████████| 20461/20461 [30:10<00:00, 11.30it/s]\n"
     ]
    },
    {
     "name": "stdout",
     "output_type": "stream",
     "text": [
      "Epoch 2 completed.\n",
      "Beginning epoch #3\n"
     ]
    },
    {
     "name": "stderr",
     "output_type": "stream",
     "text": [
      "  3%|▎         | 618/20461 [00:57<2:25:21,  2.28it/s]"
     ]
    },
    {
     "name": "stdout",
     "output_type": "stream",
     "text": [
      "train_loss: 46.33259487628937\n",
      "val_loss: 2.3043869495391847\n"
     ]
    },
    {
     "name": "stderr",
     "output_type": "stream",
     "text": [
      " 13%|█▎        | 2619/20461 [03:59<1:42:41,  2.90it/s]"
     ]
    },
    {
     "name": "stdout",
     "output_type": "stream",
     "text": [
      "train_loss: 46.0157259964943\n",
      "val_loss: 2.2823167514801024\n"
     ]
    },
    {
     "name": "stderr",
     "output_type": "stream",
     "text": [
      " 23%|██▎       | 4618/20461 [07:01<2:10:30,  2.02it/s]"
     ]
    },
    {
     "name": "stdout",
     "output_type": "stream",
     "text": [
      "train_loss: 45.550505871772764\n",
      "val_loss: 2.2665124797821044\n"
     ]
    },
    {
     "name": "stderr",
     "output_type": "stream",
     "text": [
      " 32%|███▏      | 6618/20461 [09:59<1:43:17,  2.23it/s]"
     ]
    },
    {
     "name": "stdout",
     "output_type": "stream",
     "text": [
      "train_loss: 45.287056062221524\n",
      "val_loss: 2.2562190246582032\n"
     ]
    },
    {
     "name": "stderr",
     "output_type": "stream",
     "text": [
      " 42%|████▏     | 8618/20461 [12:53<1:27:02,  2.27it/s]"
     ]
    },
    {
     "name": "stdout",
     "output_type": "stream",
     "text": [
      "train_loss: 44.95730283737183\n",
      "val_loss: 2.238454513549805\n"
     ]
    },
    {
     "name": "stderr",
     "output_type": "stream",
     "text": [
      " 52%|█████▏    | 10618/20461 [15:53<1:38:18,  1.67it/s]"
     ]
    },
    {
     "name": "stdout",
     "output_type": "stream",
     "text": [
      "train_loss: 44.74547464132309\n",
      "val_loss: 2.227397267818451\n"
     ]
    },
    {
     "name": "stderr",
     "output_type": "stream",
     "text": [
      " 62%|██████▏   | 12618/20461 [18:51<57:01,  2.29it/s]  "
     ]
    },
    {
     "name": "stdout",
     "output_type": "stream",
     "text": [
      "train_loss: 44.545075340271\n",
      "val_loss: 2.218651113510132\n"
     ]
    },
    {
     "name": "stderr",
     "output_type": "stream",
     "text": [
      " 71%|███████▏  | 14618/20461 [21:49<1:00:22,  1.61it/s]"
     ]
    },
    {
     "name": "stdout",
     "output_type": "stream",
     "text": [
      "train_loss: 44.43669801950455\n",
      "val_loss: 2.215964334011078\n"
     ]
    },
    {
     "name": "stderr",
     "output_type": "stream",
     "text": [
      " 81%|████████  | 16618/20461 [24:44<24:27,  2.62it/s]  "
     ]
    },
    {
     "name": "stdout",
     "output_type": "stream",
     "text": [
      "train_loss: 44.255585231781005\n",
      "val_loss: 2.211850938796997\n"
     ]
    },
    {
     "name": "stderr",
     "output_type": "stream",
     "text": [
      " 91%|█████████ | 18618/20461 [27:40<13:26,  2.28it/s]"
     ]
    },
    {
     "name": "stdout",
     "output_type": "stream",
     "text": [
      "train_loss: 44.17168122053146\n",
      "val_loss: 2.2223275017738344\n"
     ]
    },
    {
     "name": "stderr",
     "output_type": "stream",
     "text": [
      "100%|██████████| 20461/20461 [30:23<00:00, 11.22it/s]\n"
     ]
    },
    {
     "name": "stdout",
     "output_type": "stream",
     "text": [
      "Epoch 3 completed.\n",
      "Beginning epoch #4\n"
     ]
    },
    {
     "name": "stderr",
     "output_type": "stream",
     "text": [
      "  1%|          | 157/20461 [00:16<3:00:04,  1.88it/s]"
     ]
    },
    {
     "name": "stdout",
     "output_type": "stream",
     "text": [
      "train_loss: 44.1597367143631\n",
      "val_loss: 2.206465995311737\n"
     ]
    },
    {
     "name": "stderr",
     "output_type": "stream",
     "text": [
      " 11%|█         | 2157/20461 [03:11<1:55:05,  2.65it/s]"
     ]
    },
    {
     "name": "stdout",
     "output_type": "stream",
     "text": [
      "train_loss: 44.19886574983597\n",
      "val_loss: 2.2000826740264894\n"
     ]
    },
    {
     "name": "stderr",
     "output_type": "stream",
     "text": [
      " 20%|██        | 4157/20461 [06:08<2:00:34,  2.25it/s]"
     ]
    },
    {
     "name": "stdout",
     "output_type": "stream",
     "text": [
      "train_loss: 44.17277563810349\n",
      "val_loss: 2.200572459697723\n"
     ]
    },
    {
     "name": "stderr",
     "output_type": "stream",
     "text": [
      " 30%|███       | 6157/20461 [09:09<1:53:51,  2.09it/s]"
     ]
    },
    {
     "name": "stdout",
     "output_type": "stream",
     "text": [
      "train_loss: 44.081391835212706\n",
      "val_loss: 2.1996523213386534\n"
     ]
    },
    {
     "name": "stderr",
     "output_type": "stream",
     "text": [
      " 40%|███▉      | 8157/20461 [12:05<1:30:05,  2.28it/s]"
     ]
    },
    {
     "name": "stdout",
     "output_type": "stream",
     "text": [
      "train_loss: 44.03997158527374\n",
      "val_loss: 2.195691957473755\n"
     ]
    },
    {
     "name": "stderr",
     "output_type": "stream",
     "text": [
      " 50%|████▉     | 10157/20461 [15:03<1:16:16,  2.25it/s]"
     ]
    },
    {
     "name": "stdout",
     "output_type": "stream",
     "text": [
      "train_loss: 44.1029560136795\n",
      "val_loss: 2.1989102864265444\n"
     ]
    },
    {
     "name": "stderr",
     "output_type": "stream",
     "text": [
      " 59%|█████▉    | 12157/20461 [18:01<1:03:06,  2.19it/s]"
     ]
    },
    {
     "name": "stdout",
     "output_type": "stream",
     "text": [
      "train_loss: 43.97744254589081\n",
      "val_loss: 2.1942938327789308\n"
     ]
    },
    {
     "name": "stderr",
     "output_type": "stream",
     "text": [
      " 69%|██████▉   | 14157/20461 [21:02<40:55,  2.57it/s]  "
     ]
    },
    {
     "name": "stdout",
     "output_type": "stream",
     "text": [
      "train_loss: 43.9185772061348\n",
      "val_loss: 2.1920172905921937\n"
     ]
    },
    {
     "name": "stderr",
     "output_type": "stream",
     "text": [
      " 79%|███████▉  | 16157/20461 [23:57<32:33,  2.20it/s]"
     ]
    },
    {
     "name": "stdout",
     "output_type": "stream",
     "text": [
      "train_loss: 43.878264467716214\n",
      "val_loss: 2.1925814008712767\n"
     ]
    },
    {
     "name": "stderr",
     "output_type": "stream",
     "text": [
      " 89%|████████▊ | 18157/20461 [26:51<14:35,  2.63it/s]"
     ]
    },
    {
     "name": "stdout",
     "output_type": "stream",
     "text": [
      "train_loss: 43.847935106754306\n",
      "val_loss: 2.1931957983970642\n"
     ]
    },
    {
     "name": "stderr",
     "output_type": "stream",
     "text": [
      " 99%|█████████▊| 20157/20461 [29:52<02:53,  1.75it/s]"
     ]
    },
    {
     "name": "stdout",
     "output_type": "stream",
     "text": [
      "train_loss: 43.84932809591293\n",
      "val_loss: 2.1912795066833497\n"
     ]
    },
    {
     "name": "stderr",
     "output_type": "stream",
     "text": [
      "100%|██████████| 20461/20461 [30:19<00:00, 11.25it/s]\n"
     ]
    },
    {
     "name": "stdout",
     "output_type": "stream",
     "text": [
      "Epoch 4 completed.\n",
      "Beginning epoch #5\n"
     ]
    },
    {
     "name": "stderr",
     "output_type": "stream",
     "text": [
      "  8%|▊         | 1696/20461 [02:30<2:18:50,  2.25it/s]"
     ]
    },
    {
     "name": "stdout",
     "output_type": "stream",
     "text": [
      "train_loss: 44.17160398244858\n",
      "val_loss: 2.1953781914710997\n"
     ]
    },
    {
     "name": "stderr",
     "output_type": "stream",
     "text": [
      " 18%|█▊        | 3696/20461 [05:27<2:45:01,  1.69it/s]"
     ]
    },
    {
     "name": "stdout",
     "output_type": "stream",
     "text": [
      "train_loss: 44.04125742912292\n",
      "val_loss: 2.1925471091270445\n"
     ]
    },
    {
     "name": "stderr",
     "output_type": "stream",
     "text": [
      " 28%|██▊       | 5696/20461 [08:32<1:35:23,  2.58it/s]"
     ]
    },
    {
     "name": "stdout",
     "output_type": "stream",
     "text": [
      "train_loss: 43.94450345516205\n",
      "val_loss: 2.191093306541443\n"
     ]
    },
    {
     "name": "stderr",
     "output_type": "stream",
     "text": [
      " 38%|███▊      | 7696/20461 [11:34<1:20:47,  2.63it/s]"
     ]
    },
    {
     "name": "stdout",
     "output_type": "stream",
     "text": [
      "train_loss: 43.927258696556095\n",
      "val_loss: 2.188975691795349\n"
     ]
    },
    {
     "name": "stderr",
     "output_type": "stream",
     "text": [
      " 47%|████▋     | 9696/20461 [14:35<1:22:01,  2.19it/s]"
     ]
    },
    {
     "name": "stdout",
     "output_type": "stream",
     "text": [
      "train_loss: 43.90715441942215\n",
      "val_loss: 2.1881197094917297\n"
     ]
    },
    {
     "name": "stderr",
     "output_type": "stream",
     "text": [
      " 57%|█████▋    | 11696/20461 [17:37<1:16:03,  1.92it/s]"
     ]
    },
    {
     "name": "stdout",
     "output_type": "stream",
     "text": [
      "train_loss: 43.884040310382844\n",
      "val_loss: 2.1864812397956848\n"
     ]
    },
    {
     "name": "stderr",
     "output_type": "stream",
     "text": [
      " 67%|██████▋   | 13696/20461 [20:34<52:19,  2.15it/s]  "
     ]
    },
    {
     "name": "stdout",
     "output_type": "stream",
     "text": [
      "train_loss: 43.84103363513947\n",
      "val_loss: 2.186011061668396\n"
     ]
    },
    {
     "name": "stderr",
     "output_type": "stream",
     "text": [
      " 77%|███████▋  | 15696/20461 [23:27<31:01,  2.56it/s]"
     ]
    },
    {
     "name": "stdout",
     "output_type": "stream",
     "text": [
      "train_loss: 43.79845858335495\n",
      "val_loss: 2.1856180000305176\n"
     ]
    },
    {
     "name": "stderr",
     "output_type": "stream",
     "text": [
      " 86%|████████▋ | 17696/20461 [26:26<23:35,  1.95it/s]"
     ]
    },
    {
     "name": "stdout",
     "output_type": "stream",
     "text": [
      "train_loss: 43.75971998691559\n",
      "val_loss: 2.1920846128463745\n"
     ]
    },
    {
     "name": "stderr",
     "output_type": "stream",
     "text": [
      " 96%|█████████▋| 19696/20461 [29:25<07:52,  1.62it/s]"
     ]
    },
    {
     "name": "stdout",
     "output_type": "stream",
     "text": [
      "train_loss: 43.762699890136716\n",
      "val_loss: 2.1863624477386474\n"
     ]
    },
    {
     "name": "stderr",
     "output_type": "stream",
     "text": [
      "100%|██████████| 20461/20461 [30:31<00:00, 11.17it/s]\n"
     ]
    },
    {
     "name": "stdout",
     "output_type": "stream",
     "text": [
      "Epoch 5 completed.\n",
      "Beginning epoch #6\n"
     ]
    },
    {
     "name": "stderr",
     "output_type": "stream",
     "text": [
      "  6%|▌         | 1235/20461 [01:49<2:33:33,  2.09it/s]"
     ]
    },
    {
     "name": "stdout",
     "output_type": "stream",
     "text": [
      "train_loss: 43.822069873809816\n",
      "val_loss: 2.1876840829849242\n"
     ]
    },
    {
     "name": "stderr",
     "output_type": "stream",
     "text": [
      " 16%|█▌        | 3235/20461 [04:45<1:48:26,  2.65it/s]"
     ]
    },
    {
     "name": "stdout",
     "output_type": "stream",
     "text": [
      "train_loss: 43.84540619134903\n",
      "val_loss: 2.185874915122986\n"
     ]
    },
    {
     "name": "stderr",
     "output_type": "stream",
     "text": [
      " 26%|██▌       | 5235/20461 [07:45<1:35:20,  2.66it/s]"
     ]
    },
    {
     "name": "stdout",
     "output_type": "stream",
     "text": [
      "train_loss: 43.817838044166564\n",
      "val_loss: 2.185816080570221\n"
     ]
    },
    {
     "name": "stderr",
     "output_type": "stream",
     "text": [
      " 35%|███▌      | 7235/20461 [10:45<2:09:41,  1.70it/s]"
     ]
    },
    {
     "name": "stdout",
     "output_type": "stream",
     "text": [
      "train_loss: 43.836663863658906\n",
      "val_loss: 2.184476020336151\n"
     ]
    },
    {
     "name": "stderr",
     "output_type": "stream",
     "text": [
      " 45%|████▌     | 9235/20461 [13:48<1:39:02,  1.89it/s]"
     ]
    },
    {
     "name": "stdout",
     "output_type": "stream",
     "text": [
      "train_loss: 43.80885979652405\n",
      "val_loss: 2.1843528175354003\n"
     ]
    },
    {
     "name": "stderr",
     "output_type": "stream",
     "text": [
      " 55%|█████▍    | 11235/20461 [16:47<1:00:26,  2.54it/s]"
     ]
    },
    {
     "name": "stdout",
     "output_type": "stream",
     "text": [
      "train_loss: 43.80272631406784\n",
      "val_loss: 2.187436306476593\n"
     ]
    },
    {
     "name": "stderr",
     "output_type": "stream",
     "text": [
      " 65%|██████▍   | 13235/20461 [19:45<45:05,  2.67it/s]  "
     ]
    },
    {
     "name": "stdout",
     "output_type": "stream",
     "text": [
      "train_loss: 43.76063557863235\n",
      "val_loss: 2.1839705014228823\n"
     ]
    },
    {
     "name": "stderr",
     "output_type": "stream",
     "text": [
      " 74%|███████▍  | 15235/20461 [22:45<38:44,  2.25it/s]"
     ]
    },
    {
     "name": "stdout",
     "output_type": "stream",
     "text": [
      "train_loss: 43.76851680278778\n",
      "val_loss: 2.1861572265625\n"
     ]
    },
    {
     "name": "stderr",
     "output_type": "stream",
     "text": [
      " 84%|████████▍ | 17235/20461 [25:51<25:57,  2.07it/s]"
     ]
    },
    {
     "name": "stdout",
     "output_type": "stream",
     "text": [
      "train_loss: 43.705042684078215\n",
      "val_loss: 2.183034424781799\n"
     ]
    },
    {
     "name": "stderr",
     "output_type": "stream",
     "text": [
      " 94%|█████████▍| 19235/20461 [28:50<09:08,  2.23it/s]"
     ]
    },
    {
     "name": "stdout",
     "output_type": "stream",
     "text": [
      "train_loss: 43.74507107496262\n",
      "val_loss: 2.1842250657081603\n"
     ]
    },
    {
     "name": "stderr",
     "output_type": "stream",
     "text": [
      "100%|██████████| 20461/20461 [30:40<00:00, 11.12it/s]\n"
     ]
    },
    {
     "name": "stdout",
     "output_type": "stream",
     "text": [
      "Epoch 6 completed.\n",
      "Beginning epoch #7\n"
     ]
    },
    {
     "name": "stderr",
     "output_type": "stream",
     "text": [
      "  4%|▍         | 774/20461 [01:12<2:24:28,  2.27it/s]"
     ]
    },
    {
     "name": "stdout",
     "output_type": "stream",
     "text": [
      "train_loss: 43.76155806541443\n",
      "val_loss: 2.182265889644623\n"
     ]
    },
    {
     "name": "stderr",
     "output_type": "stream",
     "text": [
      " 14%|█▎        | 2774/20461 [04:12<1:57:39,  2.51it/s]"
     ]
    },
    {
     "name": "stdout",
     "output_type": "stream",
     "text": [
      "train_loss: 43.80074651479721\n",
      "val_loss: 2.182638304233551\n"
     ]
    },
    {
     "name": "stderr",
     "output_type": "stream",
     "text": [
      " 23%|██▎       | 4774/20461 [07:14<1:56:36,  2.24it/s]"
     ]
    },
    {
     "name": "stdout",
     "output_type": "stream",
     "text": [
      "train_loss: 43.769983475208285\n",
      "val_loss: 2.184675807952881\n"
     ]
    },
    {
     "name": "stderr",
     "output_type": "stream",
     "text": [
      " 33%|███▎      | 6774/20461 [10:19<1:39:39,  2.29it/s]"
     ]
    },
    {
     "name": "stdout",
     "output_type": "stream",
     "text": [
      "train_loss: 43.795226917266845\n",
      "val_loss: 2.1819715881347657\n"
     ]
    },
    {
     "name": "stderr",
     "output_type": "stream",
     "text": [
      " 43%|████▎     | 8774/20461 [13:19<1:28:07,  2.21it/s]"
     ]
    },
    {
     "name": "stdout",
     "output_type": "stream",
     "text": [
      "train_loss: 43.75613852977753\n",
      "val_loss: 2.1812800407409667\n"
     ]
    },
    {
     "name": "stderr",
     "output_type": "stream",
     "text": [
      " 53%|█████▎    | 10774/20461 [16:17<1:12:03,  2.24it/s]"
     ]
    },
    {
     "name": "stdout",
     "output_type": "stream",
     "text": [
      "train_loss: 43.75603983879089\n",
      "val_loss: 2.1828227615356446\n"
     ]
    },
    {
     "name": "stderr",
     "output_type": "stream",
     "text": [
      " 62%|██████▏   | 12774/20461 [19:21<51:13,  2.50it/s]  "
     ]
    },
    {
     "name": "stdout",
     "output_type": "stream",
     "text": [
      "train_loss: 43.73374497413635\n",
      "val_loss: 2.1836665511131286\n"
     ]
    },
    {
     "name": "stderr",
     "output_type": "stream",
     "text": [
      " 72%|███████▏  | 14774/20461 [22:25<44:10,  2.15it/s]"
     ]
    },
    {
     "name": "stdout",
     "output_type": "stream",
     "text": [
      "train_loss: 43.7223897767067\n",
      "val_loss: 2.180579872131348\n"
     ]
    },
    {
     "name": "stderr",
     "output_type": "stream",
     "text": [
      " 82%|████████▏ | 16774/20461 [25:25<39:22,  1.56it/s]"
     ]
    },
    {
     "name": "stdout",
     "output_type": "stream",
     "text": [
      "train_loss: 43.669469816684725\n",
      "val_loss: 2.1825572419166566\n"
     ]
    },
    {
     "name": "stderr",
     "output_type": "stream",
     "text": [
      " 92%|█████████▏| 18774/20461 [28:32<11:00,  2.56it/s]"
     ]
    },
    {
     "name": "stdout",
     "output_type": "stream",
     "text": [
      "train_loss: 43.66466430902481\n",
      "val_loss: 2.1818472862243654\n"
     ]
    },
    {
     "name": "stderr",
     "output_type": "stream",
     "text": [
      "100%|██████████| 20461/20461 [31:08<00:00, 10.95it/s]\n"
     ]
    },
    {
     "name": "stdout",
     "output_type": "stream",
     "text": [
      "Epoch 7 completed.\n",
      "Beginning epoch #8\n"
     ]
    },
    {
     "name": "stderr",
     "output_type": "stream",
     "text": [
      "  2%|▏         | 314/20461 [00:29<1:53:13,  2.97it/s]"
     ]
    },
    {
     "name": "stdout",
     "output_type": "stream",
     "text": [
      "train_loss: 43.698328466415404\n",
      "val_loss: 2.182987596988678\n"
     ]
    },
    {
     "name": "stderr",
     "output_type": "stream",
     "text": [
      " 11%|█▏        | 2313/20461 [03:33<1:57:00,  2.58it/s]"
     ]
    },
    {
     "name": "stdout",
     "output_type": "stream",
     "text": [
      "train_loss: 43.76513734340668\n",
      "val_loss: 2.1832815384864808\n"
     ]
    },
    {
     "name": "stderr",
     "output_type": "stream",
     "text": [
      " 21%|██        | 4313/20461 [06:40<2:01:43,  2.21it/s]"
     ]
    },
    {
     "name": "stdout",
     "output_type": "stream",
     "text": [
      "train_loss: 43.75467500925064\n",
      "val_loss: 2.1844673800468444\n"
     ]
    },
    {
     "name": "stderr",
     "output_type": "stream",
     "text": [
      " 27%|██▋       | 5431/20461 [08:16<24:59, 10.02it/s]  "
     ]
    }
   ],
   "source": [
    "# Train model\n",
    "num_context = 4\n",
    "num_epochs = 12\n",
    "max_iter = int(np.floor(train_data.shape[0] / batch_size))\n",
    "train_loss_hist = np.array([])\n",
    "val_loss_hist = np.array([])\n",
    "optimizer = torch.optim.Adam(model.parameters(), lr=lr, weight_decay=1e-5)\n",
    "\n",
    "validation_frequency = 2000  # Perform validation every 100 training steps\n",
    "running_loss = 0\n",
    "global_step = 0\n",
    "for epoch in range(num_epochs):\n",
    "    print(f\"Beginning epoch #{epoch}\")\n",
    "    model.train()  # Set model to training mode\n",
    "    for it in tqdm(range(max_iter)):\n",
    "        optimizer.zero_grad()\n",
    "        # Get training samples\n",
    "        begin = it * batch_size\n",
    "        end = (it + 1) * batch_size\n",
    "        it_data = train_data[begin:end]\n",
    "        context = torch.empty(it_data.size()[0], 3)\n",
    "        context[:,0] = it_data[:,0]\n",
    "        context[:,1] = it_data[:,1]\n",
    "        context[:,2] = it_data[:,2]\n",
    "        context = context.to(device)\n",
    "        samples = (it_data[:,4] - it_data[:,3]).unsqueeze(1).to(device)\n",
    "        # Compute loss\n",
    "        loss = model.forward_kld(samples, context)\n",
    "        # Do backprop and optimizer step\n",
    "        if ~(torch.isnan(loss) | torch.isinf(loss)):\n",
    "            loss.backward()\n",
    "            optimizer.step()\n",
    "        # Log loss\n",
    "        train_loss_hist = np.append(train_loss_hist, loss.to('cpu').data.numpy())\n",
    "        running_loss += loss.to('cpu').data.numpy()\n",
    "        global_step += 1\n",
    "\n",
    "        # Validation step every 100 training steps\n",
    "        if global_step % validation_frequency == 0:\n",
    "            model.eval()  # Set model to evaluation mode\n",
    "            val_loss = 0\n",
    "            val_iter = min(100, int(np.floor(val_data.shape[0] / batch_size)))  # Limit validation to 100 batches\n",
    "            with torch.no_grad():\n",
    "                for val_it in range(val_iter):\n",
    "                    begin = val_it * batch_size\n",
    "                    end = (val_it + 1) * batch_size\n",
    "                    it_data = val_data[begin:end]\n",
    "                    context = torch.empty(it_data.size()[0], 3)\n",
    "                    context[:,0] = it_data[:,0]\n",
    "                    context[:,1] = it_data[:,1]\n",
    "                    context[:,2] = it_data[:,2]\n",
    "                    context = context.to(device)\n",
    "                    samples = (it_data[:,4] - it_data[:,3]).unsqueeze(1).to(device)\n",
    "                    loss = model.forward_kld(samples, context)\n",
    "                    val_loss += loss.item()\n",
    "            \n",
    "            avg_val_loss = val_loss / val_iter\n",
    "            print(f\"train_loss: {running_loss / validation_frequency}\\nval_loss: {avg_val_loss}\")\n",
    "            val_loss_hist = np.append(val_loss_hist, avg_val_loss)\n",
    "            \n",
    "#             print(f\"Step {global_step} - Train Loss: {train_loss_hist[-1]:.4f}, Val Loss: {avg_val_loss:.4f}\")\n",
    "            \n",
    "            model.train()  # Set model back to training mode\n",
    "            running_loss = 0\n",
    "    model.save(model_path + run_info + f\"_checkpoint_e{epoch}.pth\")\n",
    "    print(f\"Epoch {epoch} completed.\")"
   ]
  },
  {
   "cell_type": "code",
   "execution_count": 46,
   "id": "d8593003-7f8c-48fe-a1cc-991b22a54415",
   "metadata": {},
   "outputs": [],
   "source": [
    "# model.save(\"models/context_3/July_18/run_\" + run_num_str+ \"_\" + K_str + \"flows_\" + hidden_layers_str + \"hl_\" + hidden_units_str + \"hu_\" + batch_size_str + \"bs.pth\")\n",
    "model.save(model_path + run_info + \".pth\")\n",
    "           \n",
    "# model.load(\"models/July_4/vary_p_uniform_12_flows_8hl_64hu_100bs.pth\")"
   ]
  },
  {
   "cell_type": "code",
   "execution_count": 47,
   "id": "06c50930-0373-4aff-9cce-28020437753f",
   "metadata": {
    "tags": []
   },
   "outputs": [
    {
     "data": {
      "image/png": "[encoded data removed]",
      "text/plain": [
       "<Figure size 500x500 with 1 Axes>"
      ]
     },
     "metadata": {},
     "output_type": "display_data"
    }
   ],
   "source": [
    "# Plot loss\n",
    "plot.figure(figsize=(5, 5))\n",
    "plot.scatter(range(len(train_loss_hist)),train_loss_hist, np.ones(len(train_loss_hist)) * 0.01, label='loss', alpha = 1)\n",
    "plot.scatter(np.linspace(0,len(train_loss_hist),len(val_loss_hist)),val_loss_hist, np.ones(len(val_loss_hist)) * 0.1, label='loss', alpha = 1)\n",
    "plot.savefig( loss_path + run_info + \".jpeg\")\n",
    "plot.legend()\n",
    "plot.show()"
   ]
  },
  {
   "cell_type": "code",
   "execution_count": null,
   "id": "56a8cf01-1c95-4038-a47e-856e2e6850cd",
   "metadata": {},
   "outputs": [],
   "source": [
    "torch.save(test_data, test_data_path + \"full_test_data_run_\" + run_num_str+ \"_\"+ K_str + \"flows_\" + hidden_layers_str + \"hl_\" + hidden_units_str + \"hu_\" + batch_size_str + \"bs.pt\")"
   ]
  },
  {
   "cell_type": "markdown",
   "id": "b6f99eb5",
   "metadata": {},
   "source": [
    "### Evaluation"
   ]
  },
  {
   "cell_type": "code",
   "execution_count": null,
   "id": "08a879b4-ff8c-4716-94ec-0d7f8335c22d",
   "metadata": {},
   "outputs": [],
   "source": [
    "min_time = min(inputs[:,4])\n",
    "skipped = np.array([])\n",
    "\n",
    "eval_batch_size = 1000\n",
    "eval_max_iter = test_data.shape[0] // eval_batch_size\n",
    "eval_test_data = test_data[:eval_max_iter * eval_batch_size]\n",
    "\n",
    "eval_test_data.to('cpu')\n",
    "model.to('cpu')\n",
    "model.eval()\n",
    "samples = torch.empty(eval_test_data.shape[0])\n",
    "for i in tqdm(range(eval_max_iter)):\n",
    "    begin = eval_batch_size * i\n",
    "    end = eval_batch_size * (i + 1)\n",
    "    samples[begin:end] = model.sample(num_samples = eval_batch_size, context = test_data[begin:end,:num_context])[0].cpu().detach().squeeze(1)\n",
    "    "
   ]
  },
  {
   "cell_type": "code",
   "execution_count": null,
   "id": "ecdfa056-3676-4632-81fd-9705efac37dd",
   "metadata": {},
   "outputs": [],
   "source": [
    "for i in range(len(samples)):\n",
    "    if(samples[i] < min_time):\n",
    "        skipped = np.append(skipped, i)\n",
    "for i in range(len(skipped) - 1):\n",
    "    samples = torch.cat((samples[:int(skipped[i])],samples[int(skipped[i] + 1):int(skipped[i + 1])]))\n",
    "model.train();"
   ]
  },
  {
   "cell_type": "markdown",
   "id": "23027cfc-7fdb-4246-a86b-515bfad8cd23",
   "metadata": {},
   "source": [
    "### Claude code no resampling, cut"
   ]
  },
  {
   "cell_type": "code",
   "execution_count": 30,
   "id": "e631ab7d-db5c-4b50-afee-2a74b6644682",
   "metadata": {},
   "outputs": [
    {
     "ename": "KeyboardInterrupt",
     "evalue": "",
     "output_type": "error",
     "traceback": [
      "\u001b[0;31m---------------------------------------------------------------------------\u001b[0m",
      "\u001b[0;31mKeyboardInterrupt\u001b[0m                         Traceback (most recent call last)",
      "Cell \u001b[0;32mIn[30], line 1\u001b[0m\n\u001b[0;32m----> 1\u001b[0m min_time \u001b[38;5;241m=\u001b[39m \u001b[38;5;28;43mmin\u001b[39;49m\u001b[43m(\u001b[49m\u001b[43minputs\u001b[49m\u001b[43m[\u001b[49m\u001b[43m:\u001b[49m\u001b[43m,\u001b[49m\u001b[43m \u001b[49m\u001b[38;5;241;43m4\u001b[39;49m\u001b[43m]\u001b[49m\u001b[43m)\u001b[49m\n\u001b[1;32m      2\u001b[0m eval_batch_size \u001b[38;5;241m=\u001b[39m \u001b[38;5;241m1000\u001b[39m\n\u001b[1;32m      3\u001b[0m eval_max_iter \u001b[38;5;241m=\u001b[39m test_data\u001b[38;5;241m.\u001b[39mshape[\u001b[38;5;241m0\u001b[39m] \u001b[38;5;241m/\u001b[39m\u001b[38;5;241m/\u001b[39m eval_batch_size\n",
      "\u001b[0;31mKeyboardInterrupt\u001b[0m: "
     ]
    }
   ],
   "source": [
    "min_time = min(inputs[:, 4])\n",
    "eval_batch_size = 1000\n",
    "eval_max_iter = test_data.shape[0] // eval_batch_size\n",
    "eval_test_data = test_data[:eval_max_iter * eval_batch_size].to('cpu')\n",
    "model.to('cpu')\n",
    "model.eval()\n",
    "\n",
    "samples = []\n",
    "total_samples = 0\n",
    "target_samples = eval_test_data.shape[0]\n",
    "\n",
    "with torch.no_grad():\n",
    "    pbar = tqdm(total=target_samples)\n",
    "    while total_samples < target_samples:\n",
    "        remaining = target_samples - total_samples\n",
    "        batch_size = min(eval_batch_size, remaining)\n",
    "        \n",
    "        batch_samples = model.sample(num_samples=batch_size, \n",
    "                                     context=eval_test_data[total_samples:total_samples+batch_size, :num_context])[0]\n",
    "        \n",
    "        valid_samples = batch_samples[batch_samples.squeeze(1) >= min_time]\n",
    "        samples.append(valid_samples)\n",
    "        \n",
    "        new_samples = valid_samples.shape[0]\n",
    "        total_samples += new_samples\n",
    "        pbar.update(new_samples)\n",
    "\n",
    "    pbar.close()\n",
    "\n",
    "samples = torch.cat(samples, dim=0)[:target_samples].squeeze(1)\n",
    "model.train();"
   ]
  },
  {
   "cell_type": "markdown",
   "id": "280fe779-6306-4f7f-bbc1-8b11915744fc",
   "metadata": {},
   "source": [
    "### Claude code resampling, cut"
   ]
  },
  {
   "cell_type": "code",
   "execution_count": null,
   "id": "385c3af9-8a31-4ec5-bc1c-dc9d12ab3ec0",
   "metadata": {},
   "outputs": [],
   "source": [
    "min_time = min(inputs[:, 4])\n",
    "eval_batch_size = 1000\n",
    "eval_max_iter = test_data.shape[0] // eval_batch_size\n",
    "eval_test_data = test_data[:eval_max_iter * eval_batch_size].to('cpu')\n",
    "model.to('cpu')\n",
    "model.eval()\n",
    "\n",
    "samples = torch.empty(eval_test_data.shape[0], 1)\n",
    "\n",
    "with torch.no_grad():\n",
    "    for i in tqdm(range(eval_max_iter)):\n",
    "        begin = eval_batch_size * i\n",
    "        end = eval_batch_size * (i + 1)\n",
    "        batch_context = eval_test_data[begin:end, :num_context]\n",
    "        \n",
    "        batch_samples = model.sample(num_samples=eval_batch_size, context=batch_context)[0]\n",
    "        valid_mask = batch_samples.squeeze(1) >= min_time\n",
    "        \n",
    "        while not valid_mask.all():\n",
    "            invalid_indices = torch.where(~valid_mask)[0]\n",
    "            resampled = model.sample(num_samples=len(invalid_indices), \n",
    "                                     context=batch_context[invalid_indices])[0]\n",
    "            batch_samples[invalid_indices] = resampled\n",
    "            valid_mask[invalid_indices] = resampled.squeeze(1) >= min_time\n",
    "        \n",
    "        samples[begin:end] = batch_samples\n",
    "samples = samples.squeeze(1)\n",
    "model.train();"
   ]
  },
  {
   "cell_type": "code",
   "execution_count": 3,
   "id": "452bfa17-4790-4cf2-997f-922bbb955f12",
   "metadata": {},
   "outputs": [],
   "source": [
    "# torch.save(samples,\"data/samples/vary_p_uniform_6_hl_100_bs.pt\")\n",
    "# torch.save(eval_test_data,\"data/test/vary_p_uniform_6_hl_100_bs.pt\")\n",
    "\n",
    "samples = torch.load(\"data/samples/vary_p_uniform_12_flows_8hl_64hu_100bs.pt\")\n",
    "eval_test_data = torch.load(\"data/test/vary_p_uniform_12_flows_8hl_64hu_100bs.pt\")"
   ]
  },
  {
   "cell_type": "code",
   "execution_count": 49,
   "id": "dd0b22d2-cf10-4ede-9ec5-d9bdea296ebb",
   "metadata": {},
   "outputs": [
    {
     "data": {
      "image/png": "[encoded data removed]",
      "text/plain": [
       "<Figure size 600x600 with 1 Axes>"
      ]
     },
     "metadata": {},
     "output_type": "display_data"
    }
   ],
   "source": [
    "sample_fig, sample_axs = plot.subplots(1,1,figsize=(6,6))\n",
    "sample_fig.suptitle(\"photon hit timing (p varied) 8 hidden layers, 12 flows, 64 units, bs = 100\")\n",
    "sample_axs.hist(samples,bins = 300, alpha = 0.5,color = 'b', label = 'learned', density = True)\n",
    "sample_axs.set_title(\"learned and true distributions\")\n",
    "sample_axs.set_xlabel(\"time (ns)\")\n",
    "sample_axs.set_ylabel(\"counts\")\n",
    "sample_axs.hist(eval_test_data[:,num_context],bins = 300, color = 'r', alpha = 0.5, label = 'true', density = True)\n",
    "sample_axs.legend(loc='upper right')\n",
    "sample_fig.show()"
   ]
  },
  {
   "cell_type": "code",
   "execution_count": 50,
   "id": "fdb69fa4-a2cd-4763-98a4-56aaf4ea1d63",
   "metadata": {},
   "outputs": [],
   "source": [
    "sample_fig.savefig(\"plots/test_distributions/vary_p_uniform_12_flows_8hl_64hu_100bs_normalized_resample.pdf\")"
   ]
  },
  {
   "cell_type": "code",
   "execution_count": null,
   "id": "55284851-fb69-4705-af3a-b159a2e00c5a",
   "metadata": {},
   "outputs": [],
   "source": []
  }
 ],
 "metadata": {
  "kernelspec": {
   "display_name": "ML_venv",
   "language": "python",
   "name": "ml_venv"
  },
  "language_info": {
   "codemirror_mode": {
    "name": "ipython",
    "version": 3
   },
   "file_extension": ".py",
   "mimetype": "text/x-python",
   "name": "python",
   "nbconvert_exporter": "python",
   "pygments_lexer": "ipython3",
   "version": "3.9.18"
  }
 },
 "nbformat": 4,
 "nbformat_minor": 5
}
