{
 "cells": [
  {
   "cell_type": "markdown",
   "id": "98300ae7",
   "metadata": {},
   "source": [
    "# Conditional Normalizing Flow Model"
   ]
  },
  {
   "cell_type": "markdown",
   "id": "4dcd74be",
   "metadata": {},
   "source": [
    "Here, we train a conditional normalizing flow model $q(x|c)$. Our target $p(x|c)$ is a simple 2D Gaussian $\\mathcal{N}(x|\\mu, \\sigma)$, where we condition on the mean $\\mu$ and standard deviation $\\sigma$, i.e. $c = (\\mu, \\sigma)$. We apply conditional autoregressive and coupling neural spline flows as well as a conditional masked autoregressive flow to the problem."
   ]
  },
  {
   "cell_type": "markdown",
   "id": "e55b7404-a921-49a7-93b0-950d39150c0e",
   "metadata": {},
   "source": [
    "## Workflow\n",
    "0. Before working in this notebook, you must first run simulations and the preprocess the data as it takes way too long to do interactively.\n",
    "    1. For simulating data, see work_eic/slurm/makeJobs*\n",
    "    1. for preprocessing the data see work_eic/macros/Time_estimation/slurm/\n",
    "    1. These use the slurm batch system to run on the dcc\n",
    "    1. Once you have run these, you should have a few .pt files that contain tensors that can be read into this notebook\n",
    "    1. These tensors should have 5 values, the first four being context and the last being the time value which is the feature\n",
    "1. Load in the data and shuffle it to ensure data is randomly distributed in dataset; then separate into train and test sets\n",
    "2. Define model\n",
    "    1. Right now the autoregressive neural spline model seems to work well\n",
    "    1. We have used masked affine coupling models before in the past but this doesn't seem like it would make sense here as we only have 1 feature and hence cannot mask it\n",
    "3. Train the model with the training loop (unless you already have a pretrained model)\n",
    "4. Save the model (or load)\n",
    "5. Generate samples based on the context of your test dataset\n",
    "6. Plot timing distribution\n",
    "    7. The test distribution should match the sampled distribution pretty well since the samples are drawn from the same context as the test data"
   ]
  },
  {
   "cell_type": "markdown",
   "id": "800ae93f",
   "metadata": {},
   "source": [
    "## Setup"
   ]
  },
  {
   "cell_type": "code",
   "execution_count": 1,
   "id": "7f293277",
   "metadata": {},
   "outputs": [
    {
     "name": "stdout",
     "output_type": "stream",
     "text": [
      "Using device cuda:0\n"
     ]
    }
   ],
   "source": [
    "# Import packages\n",
    "import torch\n",
    "import numpy as np\n",
    "import normflows as nf\n",
    "\n",
    "import uproot as up\n",
    "\n",
    "from matplotlib import pyplot as plot\n",
    "import math\n",
    "from tqdm import tqdm\n",
    "from util import PVect, theta_func, r_func\n",
    "from IPython.display import clear_output\n"
   ]
  },
  {
   "cell_type": "code",
   "execution_count": 2,
   "id": "f879b0d7",
   "metadata": {},
   "outputs": [],
   "source": [
    "# Get device to be used\n",
    "device = torch.device('cuda' if torch.cuda.is_available() else 'cpu')"
   ]
  },
  {
   "cell_type": "markdown",
   "id": "61a4f0ac-47f1-4421-aee8-d8545352763c",
   "metadata": {},
   "source": [
    "#### Data preparation\n",
    "Need 5 features:\n",
    "1. Four conditionals:\n",
    "    1. Hit z position (calculate from shoot position and angle)\n",
    "    2. mu incident time on scint (calculate from momentum and distance)\n",
    "    3. hit theta (calculate from momentum vector)\n",
    "    4. hit momenta (calculate from momentum vector)\n",
    "2. Feature\n",
    "    1. photon hit time on sensor"
   ]
  },
  {
   "cell_type": "markdown",
   "id": "bab1e0f2-93aa-4760-b97b-48ddc354b1a8",
   "metadata": {},
   "source": [
    "##### Status\n",
    "1. Hit z, hit theta, hit momenta and photon hit time are all good\n",
    "1. Just need to calculate hit time from momentum (velocity) and distance traveled (use pythogorean theorem with x and z)"
   ]
  },
  {
   "cell_type": "markdown",
   "id": "017b95a9-3fe8-4049-9b4a-fa6640254418",
   "metadata": {},
   "source": [
    "### Preprocess manually below if not loading data"
   ]
  },
  {
   "cell_type": "markdown",
   "id": "1b7b7b65-8624-4bc7-8a9d-527875d4df03",
   "metadata": {},
   "source": [
    "### Load data from .pt file (created by preprocess.py)"
   ]
  },
  {
   "cell_type": "code",
   "execution_count": 21,
   "id": "74533537-8f25-4685-96ed-6dc0db6b194c",
   "metadata": {},
   "outputs": [],
   "source": [
    "# Timing_path = \"/cwork/rck32/eic/work_eic/macros/Timing_estimation/\"\n",
    "\n",
    "# inputs = torch.load(Timing_path + \"data/July_04/Run_0/Vary_p_2000events_file_0_w_cuts.pt\")\n",
    "# for i in range(1,18):\n",
    "#     inputs = torch.cat((inputs, torch.load(Timing_path + f\"data/July_04/Run_0/Vary_p_2000events_file_{i}_w_cuts.pt\")),0)"
   ]
  },
  {
   "cell_type": "code",
   "execution_count": 3,
   "id": "23998ee5-1229-4713-bf4b-c3b680ba1e06",
   "metadata": {},
   "outputs": [],
   "source": [
    "Timing_path = \"/cwork/rck32/eic/work_eic/macros/Timing_estimation/\"\n",
    "\n",
    "inputs = torch.load(Timing_path + \"data/July_05/Run_0/Vary_p_2000events_file_0_July_5_50_z_pos.pt\")\n",
    "for i in range(1,51):\n",
    "    inputs = torch.cat((inputs, torch.load(Timing_path + f\"data/July_05/Run_0/Vary_p_2000events_file_{i}_July_5_50_z_pos.pt\")),0)"
   ]
  },
  {
   "cell_type": "code",
   "execution_count": 4,
   "id": "f637fc3f-d858-470e-8c7e-fe3b0fecc490",
   "metadata": {},
   "outputs": [
    {
     "data": {
      "text/plain": [
       "torch.Size([78946521, 5])"
      ]
     },
     "execution_count": 4,
     "metadata": {},
     "output_type": "execute_result"
    }
   ],
   "source": [
    "inputs.shape"
   ]
  },
  {
   "cell_type": "code",
   "execution_count": 14,
   "id": "fb2ae58c-2fed-4f12-a28e-a8d604bfa544",
   "metadata": {},
   "outputs": [],
   "source": [
    "# '''\n",
    "# Constant p\n",
    "# '''\n",
    "\n",
    "# inputs = torch.load(\"data/July_03/Run_0/Full_4000events_file_0_w_cuts.pt\")\n",
    "# for i in range(1,16):\n",
    "#     inputs = torch.cat((inputs, torch.load(f\"data/July_03/Run_0/Full_4000events_file_{i}_w_cuts.pt\")),0)"
   ]
  },
  {
   "cell_type": "code",
   "execution_count": null,
   "id": "feb82459-9f69-4345-930b-36fddf360643",
   "metadata": {},
   "outputs": [],
   "source": [
    "fig, axs = plot.subplots(4,2,figsize = (12,20))\n",
    "fig.suptitle(\"inputs 50 z vals\")\n",
    "axs[0,0].hist(inputs[:,0],bins = 500);\n",
    "axs[0,0].set_title(\"hit z pos\")\n",
    "axs[0,0].set_xlabel(\"mm\")\n",
    "axs[0,1].hist(inputs[:,1],bins = 100)\n",
    "axs[0,1].set_title(\"mu hit incident time\")\n",
    "axs[0,1].set_xlabel(\"(ns)\")\n",
    "\n",
    "axs[1,0].hist(inputs[:,2],bins = 500);\n",
    "axs[1,0].set_title(\"gun theta\")\n",
    "axs[1,0].set_xlabel(\"theta (degrees)\")\n",
    "axs[1,1].hist(inputs[:,4],bins = 500);\n",
    "axs[1,1].set_title(\"photon hit time on sensor\")\n",
    "axs[1,1].set_xlabel(\"(ns)\")\n",
    "\n",
    "axs[2,0].hist2d(inputs[:,2],inputs[:,1],bins = 500);\n",
    "axs[2,0].set_title(\"theta vs mu hit incident time\")\n",
    "axs[2,0].set_xlabel(\"theta\")\n",
    "axs[2,0].set_ylabel(\"mu hit incident time\")\n",
    "axs[2,1].hist2d(inputs[:,0], inputs[:,4],bins = 500);\n",
    "axs[2,1].set_title(\"photon hit time on sensor vs z hit position\")\n",
    "axs[2,1].set_xlabel(\"z hit pos (mm)\")\n",
    "axs[2,1].set_ylabel(\"photon hit time on sensor (ns)\")\n",
    "\n",
    "axs[3,0].hist(inputs[:,3],bins = 500);\n",
    "axs[3,0].set_title(\"mu momentum\")\n",
    "axs[3,0].set_xlabel(\"momentum (GeV/c)\")"
   ]
  },
  {
   "cell_type": "code",
   "execution_count": null,
   "id": "cd2e7b0b-f751-4cd4-8a04-b33590b980d8",
   "metadata": {},
   "outputs": [],
   "source": [
    "fig.savefig(\"plots/inputs/inputs_vary_p_50_z_vals.pdf\")"
   ]
  },
  {
   "cell_type": "code",
   "execution_count": 22,
   "id": "158035dd-134e-4093-ad2d-fede7c2d2e7c",
   "metadata": {},
   "outputs": [],
   "source": [
    "indexes = torch.randperm(inputs.shape[0])\n",
    "dataset = inputs[indexes]\n",
    "train_frac = 0.9\n",
    "train_lim = int(np.floor(dataset.shape[0] * train_frac))\n",
    "train_data = dataset[:train_lim]\n",
    "test_data = dataset[train_lim:]"
   ]
  },
  {
   "cell_type": "code",
   "execution_count": 24,
   "id": "a2d42cdb-523c-4d22-9b55-0f8febdeb478",
   "metadata": {},
   "outputs": [
    {
     "data": {
      "text/plain": [
       "torch.Size([1311116, 5])"
      ]
     },
     "execution_count": 24,
     "metadata": {},
     "output_type": "execute_result"
    }
   ],
   "source": [
    "test_data.shape"
   ]
  },
  {
   "cell_type": "markdown",
   "id": "eb5fef3d",
   "metadata": {},
   "source": [
    "## Masked Autoregressive Flow"
   ]
  },
  {
   "cell_type": "markdown",
   "id": "7153ece3",
   "metadata": {},
   "source": [
    "### Model specification"
   ]
  },
  {
   "cell_type": "code",
   "execution_count": 72,
   "id": "1b7ee5fd",
   "metadata": {},
   "outputs": [],
   "source": [
    "# # Define flows\n",
    "# K = 4\n",
    "\n",
    "# latent_size = 1\n",
    "# hidden_units = 128\n",
    "# num_blocks = 2\n",
    "# context_size = 4\n",
    "\n",
    "# flows = []\n",
    "# for i in range(K):\n",
    "#     flows += [nf.flows.MaskedAffineAutoregressive(latent_size, hidden_units, \n",
    "#                                                   context_features=context_size, \n",
    "#                                                   num_blocks=num_blocks)]\n",
    "#     flows += [nf.flows.LULinearPermute(latent_size)]\n",
    "\n",
    "# # Set base distribution\n",
    "# q0 = nf.distributions.DiagGaussian(1, trainable=False)\n",
    "    \n",
    "# # Construct flow model\n",
    "# model = nf.ConditionalNormalizingFlow(q0, flows)\n",
    "\n",
    "# # Move model on GPU if available\n",
    "# model = model.to(device)"
   ]
  },
  {
   "cell_type": "markdown",
   "id": "1b9c724c-ba39-4603-aed9-56e79406667a",
   "metadata": {},
   "source": [
    "## Neural Spline Flow"
   ]
  },
  {
   "cell_type": "code",
   "execution_count": 19,
   "id": "203342a6-a0f9-4abf-8644-a3f062841372",
   "metadata": {},
   "outputs": [],
   "source": [
    "# Define flows\n",
    "K = 12\n",
    "\n",
    "latent_size = 1\n",
    "hidden_units = 64\n",
    "hidden_layers = 8\n",
    "context_size = 4\n",
    "num_context = 4\n",
    "\n",
    "flows = []\n",
    "for i in range(K):\n",
    "    flows += [nf.flows.AutoregressiveRationalQuadraticSpline(latent_size, hidden_layers, hidden_units, \n",
    "                                                             num_context_channels=context_size)]\n",
    "    flows += [nf.flows.LULinearPermute(latent_size)]\n",
    "\n",
    "# Set base distribution\n",
    "q0 = nf.distributions.DiagGaussian(1, trainable=False)\n",
    "    \n",
    "# Construct flow model\n",
    "model = nf.ConditionalNormalizingFlow(q0, flows)\n",
    "\n",
    "# Move model on GPU if available\n",
    "model = model.to(device)\n"
   ]
  },
  {
   "cell_type": "markdown",
   "id": "09877bb6",
   "metadata": {},
   "source": [
    "### Training"
   ]
  },
  {
   "cell_type": "code",
   "execution_count": null,
   "id": "3250d313-e79e-4c65-b14e-f18b263f1c2d",
   "metadata": {},
   "outputs": [
    {
     "name": "stderr",
     "output_type": "stream",
     "text": [
      " 17%|█▋        | 16771/100223 [38:32<3:05:51,  7.48it/s]"
     ]
    }
   ],
   "source": [
    "# Train model\n",
    "\n",
    "num_context = 4\n",
    "\n",
    "batch_size= 100\n",
    "max_iter = int(np.floor(train_data.shape[0] / batch_size))\n",
    "\n",
    "loss_hist = np.array([])\n",
    "\n",
    "optimizer = torch.optim.Adam(model.parameters(), lr=1e-3, weight_decay=1e-5)\n",
    "for it in tqdm(range(max_iter)):\n",
    "    optimizer.zero_grad()\n",
    "    \n",
    "    # Get training samples\n",
    "    begin = it * batch_size\n",
    "    end = (it + 1) * batch_size\n",
    "    it_data = train_data[begin:end]\n",
    "    context = it_data[:,:num_context].to(device)\n",
    "    samples = it_data[:,num_context].unsqueeze(1).to(device)\n",
    "    \n",
    "    # Compute loss\n",
    "    loss = model.forward_kld(samples, context)\n",
    "    \n",
    "    # Do backprop and optimizer step\n",
    "    if ~(torch.isnan(loss) | torch.isinf(loss)):\n",
    "        loss.backward()\n",
    "        optimizer.step()\n",
    "    \n",
    "    # Log loss\n",
    "    loss_hist = np.append(loss_hist, loss.to('cpu').data.numpy())"
   ]
  },
  {
   "cell_type": "code",
   "execution_count": 24,
   "id": "06c50930-0373-4aff-9cce-28020437753f",
   "metadata": {},
   "outputs": [
    {
     "data": {
      "image/png": "[encoded data removed]",
      "text/plain": [
       "<Figure size 500x500 with 1 Axes>"
      ]
     },
     "metadata": {},
     "output_type": "display_data"
    }
   ],
   "source": [
    "# Plot loss\n",
    "plot.figure(figsize=(5, 5))\n",
    "plot.plot(loss_hist, label='loss')\n",
    "plot.legend()\n",
    "plot.show()"
   ]
  },
  {
   "cell_type": "code",
   "execution_count": 38,
   "id": "d8593003-7f8c-48fe-a1cc-991b22a54415",
   "metadata": {},
   "outputs": [],
   "source": [
    "# model.save(\"models/July_4/vary_p_uniform_6_hl_100_bs.pth\")\n",
    "\n",
    "model.load(\"models/July_4/vary_p_uniform_12_flows_8hl_64hu_100bs.pth\")"
   ]
  },
  {
   "cell_type": "markdown",
   "id": "b6f99eb5",
   "metadata": {},
   "source": [
    "### Evaluation"
   ]
  },
  {
   "cell_type": "code",
   "execution_count": 33,
   "id": "08a879b4-ff8c-4716-94ec-0d7f8335c22d",
   "metadata": {},
   "outputs": [
    {
     "name": "stderr",
     "output_type": "stream",
     "text": [
      "100%|██████████| 1113/1113 [01:17<00:00, 14.35it/s]\n"
     ]
    }
   ],
   "source": [
    "min_time = min(inputs[:,4])\n",
    "skipped = np.array([])\n",
    "\n",
    "eval_batch_size = 1000\n",
    "eval_max_iter = test_data.shape[0] // eval_batch_size\n",
    "eval_test_data = test_data[:eval_max_iter * eval_batch_size]\n",
    "\n",
    "eval_test_data.to('cpu')\n",
    "model.to('cpu')\n",
    "model.eval()\n",
    "samples = torch.empty(eval_test_data.shape[0])\n",
    "for i in tqdm(range(eval_max_iter)):\n",
    "    begin = eval_batch_size * i\n",
    "    end = eval_batch_size * (i + 1)\n",
    "    samples[begin:end] = model.sample(num_samples = eval_batch_size, context = test_data[begin:end,:num_context])[0].cpu().detach().squeeze(1)\n",
    "    "
   ]
  },
  {
   "cell_type": "code",
   "execution_count": null,
   "id": "ecdfa056-3676-4632-81fd-9705efac37dd",
   "metadata": {},
   "outputs": [],
   "source": [
    "for i in range(len(samples)):\n",
    "    if(samples[i] < min_time):\n",
    "        skipped = np.append(skipped, i)\n",
    "for i in range(len(skipped) - 1):\n",
    "    samples = torch.cat((samples[:int(skipped[i])],samples[int(skipped[i] + 1):int(skipped[i + 1])]))\n",
    "model.train();"
   ]
  },
  {
   "cell_type": "markdown",
   "id": "23027cfc-7fdb-4246-a86b-515bfad8cd23",
   "metadata": {},
   "source": [
    "### Claude code no resampling, cut"
   ]
  },
  {
   "cell_type": "code",
   "execution_count": 39,
   "id": "e631ab7d-db5c-4b50-afee-2a74b6644682",
   "metadata": {},
   "outputs": [
    {
     "name": "stderr",
     "output_type": "stream",
     "text": [
      "100%|██████████| 1113000/1113000 [03:34<00:00, 5189.03it/s]\n"
     ]
    }
   ],
   "source": [
    "min_time = min(inputs[:, 4])\n",
    "eval_batch_size = 1000\n",
    "eval_max_iter = test_data.shape[0] // eval_batch_size\n",
    "eval_test_data = test_data[:eval_max_iter * eval_batch_size].to('cpu')\n",
    "model.to('cpu')\n",
    "model.eval()\n",
    "\n",
    "samples = []\n",
    "total_samples = 0\n",
    "target_samples = eval_test_data.shape[0]\n",
    "\n",
    "with torch.no_grad():\n",
    "    pbar = tqdm(total=target_samples)\n",
    "    while total_samples < target_samples:\n",
    "        remaining = target_samples - total_samples\n",
    "        batch_size = min(eval_batch_size, remaining)\n",
    "        \n",
    "        batch_samples = model.sample(num_samples=batch_size, \n",
    "                                     context=eval_test_data[total_samples:total_samples+batch_size, :num_context])[0]\n",
    "        \n",
    "        valid_samples = batch_samples[batch_samples.squeeze(1) >= min_time]\n",
    "        samples.append(valid_samples)\n",
    "        \n",
    "        new_samples = valid_samples.shape[0]\n",
    "        total_samples += new_samples\n",
    "        pbar.update(new_samples)\n",
    "\n",
    "    pbar.close()\n",
    "\n",
    "samples = torch.cat(samples, dim=0)[:target_samples].squeeze(1)\n",
    "model.train();"
   ]
  },
  {
   "cell_type": "markdown",
   "id": "280fe779-6306-4f7f-bbc1-8b11915744fc",
   "metadata": {},
   "source": [
    "### Claude code resampling, cut"
   ]
  },
  {
   "cell_type": "code",
   "execution_count": null,
   "id": "385c3af9-8a31-4ec5-bc1c-dc9d12ab3ec0",
   "metadata": {},
   "outputs": [],
   "source": [
    "min_time = min(inputs[:, 4])\n",
    "eval_batch_size = 1000\n",
    "eval_max_iter = test_data.shape[0] // eval_batch_size\n",
    "eval_test_data = test_data[:eval_max_iter * eval_batch_size].to('cpu')\n",
    "model.to('cpu')\n",
    "model.eval()\n",
    "\n",
    "samples = torch.empty(eval_test_data.shape[0], 1)\n",
    "\n",
    "with torch.no_grad():\n",
    "    for i in tqdm(range(eval_max_iter)):\n",
    "        begin = eval_batch_size * i\n",
    "        end = eval_batch_size * (i + 1)\n",
    "        batch_context = eval_test_data[begin:end, :num_context]\n",
    "        \n",
    "        batch_samples = model.sample(num_samples=eval_batch_size, context=batch_context)[0]\n",
    "        valid_mask = batch_samples.squeeze(1) >= min_time\n",
    "        \n",
    "        while not valid_mask.all():\n",
    "            invalid_indices = torch.where(~valid_mask)[0]\n",
    "            resampled = model.sample(num_samples=len(invalid_indices), \n",
    "                                     context=batch_context[invalid_indices])[0]\n",
    "            batch_samples[invalid_indices] = resampled\n",
    "            valid_mask[invalid_indices] = resampled.squeeze(1) >= min_time\n",
    "        \n",
    "        samples[begin:end] = batch_samples\n",
    "samples = samples.squeeze(1)\n",
    "model.train();"
   ]
  },
  {
   "cell_type": "code",
   "execution_count": 3,
   "id": "452bfa17-4790-4cf2-997f-922bbb955f12",
   "metadata": {},
   "outputs": [],
   "source": [
    "# torch.save(samples,\"data/samples/vary_p_uniform_6_hl_100_bs.pt\")\n",
    "# torch.save(eval_test_data,\"data/test/vary_p_uniform_6_hl_100_bs.pt\")\n",
    "\n",
    "samples = torch.load(\"data/samples/vary_p_uniform_12_flows_8hl_64hu_100bs.pt\")\n",
    "eval_test_data = torch.load(\"data/test/vary_p_uniform_12_flows_8hl_64hu_100bs.pt\")"
   ]
  },
  {
   "cell_type": "code",
   "execution_count": 49,
   "id": "dd0b22d2-cf10-4ede-9ec5-d9bdea296ebb",
   "metadata": {},
   "outputs": [
    {
     "data": {
      "image/png": "[encoded data removed]",
      "text/plain": [
       "<Figure size 600x600 with 1 Axes>"
      ]
     },
     "metadata": {},
     "output_type": "display_data"
    }
   ],
   "source": [
    "sample_fig, sample_axs = plot.subplots(1,1,figsize=(6,6))\n",
    "sample_fig.suptitle(\"photon hit timing (p varied) 8 hidden layers, 12 flows, 64 units, bs = 100\")\n",
    "sample_axs.hist(samples,bins = 300, alpha = 0.5,color = 'b', label = 'learned', density = True)\n",
    "sample_axs.set_title(\"learned and true distributions\")\n",
    "sample_axs.set_xlabel(\"time (ns)\")\n",
    "sample_axs.set_ylabel(\"counts\")\n",
    "sample_axs.hist(eval_test_data[:,num_context],bins = 300, color = 'r', alpha = 0.5, label = 'true', density = True)\n",
    "sample_axs.legend(loc='upper right')\n",
    "sample_fig.show()"
   ]
  },
  {
   "cell_type": "code",
   "execution_count": 50,
   "id": "fdb69fa4-a2cd-4763-98a4-56aaf4ea1d63",
   "metadata": {},
   "outputs": [],
   "source": [
    "sample_fig.savefig(\"plots/test_distributions/vary_p_uniform_12_flows_8hl_64hu_100bs_normalized_resample.pdf\")"
   ]
  },
  {
   "cell_type": "code",
   "execution_count": null,
   "id": "55284851-fb69-4705-af3a-b159a2e00c5a",
   "metadata": {},
   "outputs": [],
   "source": []
  }
 ],
 "metadata": {
  "kernelspec": {
   "display_name": "ML_venv",
   "language": "python",
   "name": "ml_venv"
  },
  "language_info": {
   "codemirror_mode": {
    "name": "ipython",
    "version": 3
   },
   "file_extension": ".py",
   "mimetype": "text/x-python",
   "name": "python",
   "nbconvert_exporter": "python",
   "pygments_lexer": "ipython3",
   "version": "3.9.18"
  }
 },
 "nbformat": 4,
 "nbformat_minor": 5
}
