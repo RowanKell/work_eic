{
 "cells": [
  {
   "cell_type": "code",
   "execution_count": 1,
   "id": "5148ea46-17f0-411f-ac13-ab32c942dd29",
   "metadata": {},
   "outputs": [
    {
     "name": "stdout",
     "output_type": "stream",
     "text": [
      "Using device cuda:0\n"
     ]
    }
   ],
   "source": [
    "import numpy as np\n",
    "from util import PVect, time_func, z_func\n",
    "import torch\n",
    "import matplotlib.pyplot as plot\n",
    "from reco import process_data,prepare_data_for_nn"
   ]
  },
  {
   "cell_type": "code",
   "execution_count": 6,
   "id": "13b76fc8-f3c1-440f-ad8c-bc8ea87507e8",
   "metadata": {},
   "outputs": [
    {
     "ename": "FileNotFoundError",
     "evalue": "[Errno 2] No such file or directory: '/cwork/rck32/eic/work_eic/OutputFiles/July_25/sector_scint/run_1_mu_5GeV_full_theta_sector_scint_100events.edm4hep.pt'",
     "output_type": "error",
     "traceback": [
      "\u001b[0;31m---------------------------------------------------------------------------\u001b[0m",
      "\u001b[0;31mFileNotFoundError\u001b[0m                         Traceback (most recent call last)",
      "\u001b[0;32m<ipython-input-6-8114270bd509>\u001b[0m in \u001b[0;36m<module>\u001b[0;34m\u001b[0m\n\u001b[0;32m----> 1\u001b[0;31m \u001b[0msample_tensor\u001b[0m \u001b[0;34m=\u001b[0m \u001b[0mtorch\u001b[0m\u001b[0;34m.\u001b[0m\u001b[0mload\u001b[0m\u001b[0;34m(\u001b[0m\u001b[0;34m\"/cwork/rck32/eic/work_eic/OutputFiles/July_25/sector_scint/run_1_mu_5GeV_full_theta_sector_scint_100events.edm4hep.pt\"\u001b[0m\u001b[0;34m)\u001b[0m\u001b[0;34m\u001b[0m\u001b[0;34m\u001b[0m\u001b[0m\n\u001b[0m",
      "\u001b[0;32m~/.local/lib/python3.8/site-packages/torch/serialization.py\u001b[0m in \u001b[0;36mload\u001b[0;34m(f, map_location, pickle_module, weights_only, **pickle_load_args)\u001b[0m\n\u001b[1;32m    789\u001b[0m         \u001b[0mpickle_load_args\u001b[0m\u001b[0;34m[\u001b[0m\u001b[0;34m'encoding'\u001b[0m\u001b[0;34m]\u001b[0m \u001b[0;34m=\u001b[0m \u001b[0;34m'utf-8'\u001b[0m\u001b[0;34m\u001b[0m\u001b[0;34m\u001b[0m\u001b[0m\n\u001b[1;32m    790\u001b[0m \u001b[0;34m\u001b[0m\u001b[0m\n\u001b[0;32m--> 791\u001b[0;31m     \u001b[0;32mwith\u001b[0m \u001b[0m_open_file_like\u001b[0m\u001b[0;34m(\u001b[0m\u001b[0mf\u001b[0m\u001b[0;34m,\u001b[0m \u001b[0;34m'rb'\u001b[0m\u001b[0;34m)\u001b[0m \u001b[0;32mas\u001b[0m \u001b[0mopened_file\u001b[0m\u001b[0;34m:\u001b[0m\u001b[0;34m\u001b[0m\u001b[0;34m\u001b[0m\u001b[0m\n\u001b[0m\u001b[1;32m    792\u001b[0m         \u001b[0;32mif\u001b[0m \u001b[0m_is_zipfile\u001b[0m\u001b[0;34m(\u001b[0m\u001b[0mopened_file\u001b[0m\u001b[0;34m)\u001b[0m\u001b[0;34m:\u001b[0m\u001b[0;34m\u001b[0m\u001b[0;34m\u001b[0m\u001b[0m\n\u001b[1;32m    793\u001b[0m             \u001b[0;31m# The zipfile reader is going to advance the current file position.\u001b[0m\u001b[0;34m\u001b[0m\u001b[0;34m\u001b[0m\u001b[0;34m\u001b[0m\u001b[0m\n",
      "\u001b[0;32m~/.local/lib/python3.8/site-packages/torch/serialization.py\u001b[0m in \u001b[0;36m_open_file_like\u001b[0;34m(name_or_buffer, mode)\u001b[0m\n\u001b[1;32m    269\u001b[0m \u001b[0;32mdef\u001b[0m \u001b[0m_open_file_like\u001b[0m\u001b[0;34m(\u001b[0m\u001b[0mname_or_buffer\u001b[0m\u001b[0;34m,\u001b[0m \u001b[0mmode\u001b[0m\u001b[0;34m)\u001b[0m\u001b[0;34m:\u001b[0m\u001b[0;34m\u001b[0m\u001b[0;34m\u001b[0m\u001b[0m\n\u001b[1;32m    270\u001b[0m     \u001b[0;32mif\u001b[0m \u001b[0m_is_path\u001b[0m\u001b[0;34m(\u001b[0m\u001b[0mname_or_buffer\u001b[0m\u001b[0;34m)\u001b[0m\u001b[0;34m:\u001b[0m\u001b[0;34m\u001b[0m\u001b[0;34m\u001b[0m\u001b[0m\n\u001b[0;32m--> 271\u001b[0;31m         \u001b[0;32mreturn\u001b[0m \u001b[0m_open_file\u001b[0m\u001b[0;34m(\u001b[0m\u001b[0mname_or_buffer\u001b[0m\u001b[0;34m,\u001b[0m \u001b[0mmode\u001b[0m\u001b[0;34m)\u001b[0m\u001b[0;34m\u001b[0m\u001b[0;34m\u001b[0m\u001b[0m\n\u001b[0m\u001b[1;32m    272\u001b[0m     \u001b[0;32melse\u001b[0m\u001b[0;34m:\u001b[0m\u001b[0;34m\u001b[0m\u001b[0;34m\u001b[0m\u001b[0m\n\u001b[1;32m    273\u001b[0m         \u001b[0;32mif\u001b[0m \u001b[0;34m'w'\u001b[0m \u001b[0;32min\u001b[0m \u001b[0mmode\u001b[0m\u001b[0;34m:\u001b[0m\u001b[0;34m\u001b[0m\u001b[0;34m\u001b[0m\u001b[0m\n",
      "\u001b[0;32m~/.local/lib/python3.8/site-packages/torch/serialization.py\u001b[0m in \u001b[0;36m__init__\u001b[0;34m(self, name, mode)\u001b[0m\n\u001b[1;32m    250\u001b[0m \u001b[0;32mclass\u001b[0m \u001b[0m_open_file\u001b[0m\u001b[0;34m(\u001b[0m\u001b[0m_opener\u001b[0m\u001b[0;34m)\u001b[0m\u001b[0;34m:\u001b[0m\u001b[0;34m\u001b[0m\u001b[0;34m\u001b[0m\u001b[0m\n\u001b[1;32m    251\u001b[0m     \u001b[0;32mdef\u001b[0m \u001b[0m__init__\u001b[0m\u001b[0;34m(\u001b[0m\u001b[0mself\u001b[0m\u001b[0;34m,\u001b[0m \u001b[0mname\u001b[0m\u001b[0;34m,\u001b[0m \u001b[0mmode\u001b[0m\u001b[0;34m)\u001b[0m\u001b[0;34m:\u001b[0m\u001b[0;34m\u001b[0m\u001b[0;34m\u001b[0m\u001b[0m\n\u001b[0;32m--> 252\u001b[0;31m         \u001b[0msuper\u001b[0m\u001b[0;34m(\u001b[0m\u001b[0;34m)\u001b[0m\u001b[0;34m.\u001b[0m\u001b[0m__init__\u001b[0m\u001b[0;34m(\u001b[0m\u001b[0mopen\u001b[0m\u001b[0;34m(\u001b[0m\u001b[0mname\u001b[0m\u001b[0;34m,\u001b[0m \u001b[0mmode\u001b[0m\u001b[0;34m)\u001b[0m\u001b[0;34m)\u001b[0m\u001b[0;34m\u001b[0m\u001b[0;34m\u001b[0m\u001b[0m\n\u001b[0m\u001b[1;32m    253\u001b[0m \u001b[0;34m\u001b[0m\u001b[0m\n\u001b[1;32m    254\u001b[0m     \u001b[0;32mdef\u001b[0m \u001b[0m__exit__\u001b[0m\u001b[0;34m(\u001b[0m\u001b[0mself\u001b[0m\u001b[0;34m,\u001b[0m \u001b[0;34m*\u001b[0m\u001b[0margs\u001b[0m\u001b[0;34m)\u001b[0m\u001b[0;34m:\u001b[0m\u001b[0;34m\u001b[0m\u001b[0;34m\u001b[0m\u001b[0m\n",
      "\u001b[0;31mFileNotFoundError\u001b[0m: [Errno 2] No such file or directory: '/cwork/rck32/eic/work_eic/OutputFiles/July_25/sector_scint/run_1_mu_5GeV_full_theta_sector_scint_100events.edm4hep.pt'"
     ]
    }
   ],
   "source": [
    "sample_tensor = torch.load(\"/cwork/rck32/eic/work_eic/OutputFiles/July_25/sector_scint/run_1_mu_5GeV_full_theta_sector_scint_100events.edm4hep.pt\")"
   ]
  },
  {
   "cell_type": "code",
   "execution_count": 5,
   "id": "3b2e9fdd-1c90-4049-b4bd-41ae839077e6",
   "metadata": {},
   "outputs": [
    {
     "data": {
      "image/png": "[encoded data removed]",
      "text/plain": [
       "<Figure size 432x288 with 1 Axes>"
      ]
     },
     "metadata": {
      "needs_background": "light"
     },
     "output_type": "display_data"
    }
   ],
   "source": [
    "plot.hist(sample_tensor[:500000],bins = 100);"
   ]
  },
  {
   "cell_type": "markdown",
   "id": "fd3e5f5a-f1a9-4868-a59c-595bb88645f9",
   "metadata": {},
   "source": [
    "July 5th data (50 z pos)"
   ]
  },
  {
   "cell_type": "code",
   "execution_count": 4,
   "id": "1f30b2d6-489c-464c-a48c-19d2aa1a5f2b",
   "metadata": {},
   "outputs": [],
   "source": [
    "# Timing_path = \"/cwork/rck32/eic/work_eic/macros/Timing_estimation/\"\n",
    "\n",
    "# inputs = torch.load(Timing_path + \"data/July_05/Run_0/Vary_p_2000events_file_0_July_5_50_z_pos.pt\")\n",
    "# for i in range(1,51):\n",
    "#     inputs = torch.cat((inputs, torch.load(Timing_path + f\"data/July_05/Run_0/Vary_p_2000events_file_{i}_July_5_50_z_pos.pt\")),0)"
   ]
  },
  {
   "cell_type": "markdown",
   "id": "cc9f0f3c-afd1-480d-a275-c03a51169d97",
   "metadata": {},
   "source": [
    "July 18th data (200 z pos)"
   ]
  },
  {
   "cell_type": "code",
   "execution_count": 4,
   "id": "068a1447-54fe-4f3e-8f44-bcb9ef36b773",
   "metadata": {},
   "outputs": [],
   "source": [
    "Timing_path = \"/cwork/rck32/eic/work_eic/macros/Timing_estimation/\"\n",
    "\n",
    "inputs = torch.load(Timing_path + \"data/July_18/Run_0/Vary_p_1000events_file_0_July_18_200_z_pos.pt\")\n",
    "for i in range(1,201):\n",
    "    inputs = torch.cat((inputs, torch.load(Timing_path + f\"data/July_18/Run_0/Vary_p_1000events_file_{i}_July_18_200_z_pos.pt\")),0)"
   ]
  },
  {
   "cell_type": "code",
   "execution_count": 5,
   "id": "f5e8bd69-f17a-4085-a528-269ea7fc3f5d",
   "metadata": {},
   "outputs": [],
   "source": [
    "indexes = torch.randperm(inputs.shape[0])\n",
    "dataset = inputs[indexes]\n",
    "train_frac = 0.8\n",
    "train_lim = int(np.floor(dataset.shape[0] * train_frac))\n",
    "train_data = dataset[:train_lim]\n",
    "test_data = dataset[train_lim:]"
   ]
  },
  {
   "cell_type": "code",
   "execution_count": 6,
   "id": "d9c87d90-c55f-4219-95ee-428b76bbf6ec",
   "metadata": {},
   "outputs": [
    {
     "data": {
      "text/plain": [
       "torch.Size([65065148, 5])"
      ]
     },
     "execution_count": 6,
     "metadata": {},
     "output_type": "execute_result"
    }
   ],
   "source": [
    "train_data.shape"
   ]
  },
  {
   "cell_type": "code",
   "execution_count": 61,
   "id": "65e138ba-c5a4-4812-8167-4adbbc2bbf88",
   "metadata": {},
   "outputs": [
    {
     "data": {
      "text/plain": [
       "Text(0.5, 0, 'momentum (GeV/c)')"
      ]
     },
     "execution_count": 61,
     "metadata": {},
     "output_type": "execute_result"
    },
    {
     "data": {
      "image/png": "[encoded data removed]",
      "text/plain": [
       "<Figure size 864x1440 with 8 Axes>"
      ]
     },
     "metadata": {
      "needs_background": "light"
     },
     "output_type": "display_data"
    }
   ],
   "source": [
    "fig, axs = plot.subplots(4,2,figsize = (12,20))\n",
    "fig.suptitle(\"inputs 50 z vals\")\n",
    "axs[0,0].hist(test_data[:,0],bins = 500);\n",
    "axs[0,0].set_title(\"hit z pos\")\n",
    "axs[0,0].set_xlabel(\"mm\")\n",
    "axs[0,1].hist(test_data[:,1],bins = 100)\n",
    "axs[0,1].set_title(\"mu hit incident time\")\n",
    "axs[0,1].set_xlabel(\"(ns)\")\n",
    "\n",
    "axs[1,0].hist(test_data[:,2],bins = 500);\n",
    "axs[1,0].set_title(\"gun theta\")\n",
    "axs[1,0].set_xlabel(\"theta (degrees)\")\n",
    "axs[1,1].hist(test_data[:,4],bins = 500);\n",
    "axs[1,1].set_title(\"photon hit time on sensor\")\n",
    "axs[1,1].set_xlabel(\"(ns)\")\n",
    "\n",
    "# axs[2,0].hist2d(test_data[:,2],test_data[:,1],bins = 500);\n",
    "# axs[2,0].set_title(\"theta vs mu hit incident time\")\n",
    "# axs[2,0].set_xlabel(\"theta\")\n",
    "# axs[2,0].set_ylabel(\"mu hit incident time\")\n",
    "# axs[2,1].hist2d(test_data[:,0], test_data[:,4],bins = 500);\n",
    "# axs[2,1].set_title(\"photon hit time on sensor vs z hit position\")\n",
    "# axs[2,1].set_xlabel(\"z hit pos (mm)\")\n",
    "# axs[2,1].set_ylabel(\"photon hit time on sensor (ns)\")\n",
    "\n",
    "axs[2,0].hist(test_data[:,3],bins = 500);\n",
    "axs[2,0].set_title(\"mu momentum\")\n",
    "axs[2,0].set_xlabel(\"momentum (GeV/c)\")"
   ]
  },
  {
   "cell_type": "code",
   "execution_count": 62,
   "id": "d888b66a-bfc5-49ee-977b-398128fc1846",
   "metadata": {},
   "outputs": [],
   "source": [
    "fig.savefig(\"plots/inputs/July_18/test_set_200_z_pos_data.pdf\")"
   ]
  },
  {
   "cell_type": "code",
   "execution_count": 2,
   "id": "992c9b95-b8c6-4fdf-8cf6-faaa0c2da057",
   "metadata": {},
   "outputs": [],
   "source": [
    "import uproot as up\n",
    "from reco import create_unique_mapping\n",
    "num_layers = 28\n",
    "from util import get_layer, create_layer_map,calculate_num_pixels_z_dependence\n",
    "layer_map, super_layer_map = create_layer_map()"
   ]
  },
  {
   "cell_type": "code",
   "execution_count": 39,
   "id": "dc7722c3-d28f-4c36-bcfe-380050480614",
   "metadata": {},
   "outputs": [],
   "source": [
    "def process_data(uproot_path, file_num=0, particle=\"pion\"):\n",
    "    data = []\n",
    "    events = up.open(uproot_path)\n",
    "    \n",
    "    x_pos_branch = events[\"HcalBarrelHits/HcalBarrelHits.position.x\"].array(library='np')\n",
    "    z_pos_branch = events[\"HcalBarrelHits/HcalBarrelHits.position.z\"].array(library='np')\n",
    "    EDep_branch = events[\"HcalBarrelHits.EDep\"].array(library='np')\n",
    "    PDG_branch = events[\"MCParticles.PDG\"].array(library='np')\n",
    "    x_momentum_branch = events[\"HcalBarrelHits/HcalBarrelHits.momentum.x\"].array(library='np')\n",
    "    y_momentum_branch = events[\"HcalBarrelHits/HcalBarrelHits.momentum.y\"].array(library='np')\n",
    "    z_momentum_branch = events[\"HcalBarrelHits/HcalBarrelHits.momentum.z\"].array(library='np')\n",
    "    Hits_MC_idx_branch = events[\"_HcalBarrelHits_MCParticle.index\"].array(library='np')\n",
    "    time_branch = events[\"HcalBarrelHits.time\"].array(library='np')   \n",
    "    num_events = len(x_pos_branch)\n",
    "    for event_idx in range(num_events):\n",
    "        Hits_MC_idx_event = Hits_MC_idx_branch[event_idx]\n",
    "        PDG_event = PDG_branch[event_idx]\n",
    "        n_unique_parts, idx_dict = create_unique_mapping(Hits_MC_idx_event)\n",
    "        \n",
    "        p_layer_list = np.ones((n_unique_parts,num_layers)) * -1\n",
    "        z_hit_layer_list = np.ones((n_unique_parts,num_layers)) * -1\n",
    "        theta_layer_list = np.ones((n_unique_parts,num_layers)) * -1\n",
    "        hit_time_layer_list = np.ones((n_unique_parts,num_layers)) * -1\n",
    "        edep_event = np.ones((n_unique_parts,num_layers)) * -1\n",
    "        PDG_list = np.ones((n_unique_parts,num_layers)) * -1\n",
    "        \n",
    "        x_pos_event = x_pos_branch[event_idx]\n",
    "        px_event = x_momentum_branch[event_idx]\n",
    "        py_event = y_momentum_branch[event_idx]\n",
    "        pz_event = z_momentum_branch[event_idx]\n",
    "        z_event = z_pos_branch[event_idx]\n",
    "        time_event = time_branch[event_idx]\n",
    "        EDep_event = EDep_branch[event_idx]\n",
    "        for hit_idx in range(len(x_pos_event)):\n",
    "            idx = Hits_MC_idx_branch[event_idx][hit_idx]\n",
    "            part_idx = idx_dict[idx]\n",
    "            layer_idx = get_layer(x_pos_event[hit_idx], super_layer_map)\n",
    "            if layer_idx == -1: #error handling for get_layer\n",
    "                continue\n",
    "            elif p_layer_list[part_idx,layer_idx] == -1:\n",
    "                p_layer_list[part_idx,layer_idx] = np.sqrt(px_event[hit_idx]**2 + py_event[hit_idx]**2 + pz_event[hit_idx]**2)\n",
    "                z_hit_layer_list[part_idx,layer_idx] = z_event[hit_idx]\n",
    "                theta_layer_list[part_idx,layer_idx] = np.arctan2(np.sqrt(px_event[hit_idx]**2 + py_event[hit_idx]**2), pz_event[hit_idx])\n",
    "                hit_time_layer_list[part_idx,layer_idx] = time_event[hit_idx]\n",
    "                edep_event[part_idx,layer_idx] = EDep_event[hit_idx]\n",
    "                PDG_list[part_idx,layer_idx] = PDG_event[part_idx]\n",
    "            else:\n",
    "                edep_event[part_idx,layer_idx] += EDep_event[hit_idx]\n",
    "        data.append(np.stack([z_hit_layer_list,hit_time_layer_list,theta_layer_list,p_layer_list,PDG_list,(np.floor(calculate_num_pixels_z_dependence(edep_event,z_hit_layer_list)).astype(int))],axis = -1))\n",
    "\n",
    "\n",
    "    \n",
    "    return data #returns list: each entry is a diff event array; each event array has shape: (#unique particles, #layers, #features)\n",
    "                #features: z hit, hit time, theta, p, energy dep\n",
    "    \n",
    "\n",
    "from torch.utils.data import TensorDataset, DataLoader\n",
    "\n",
    "def prepare_data_for_nn(processed_data):\n",
    "    all_features = []\n",
    "    all_metadata = []\n",
    "    \n",
    "    for event_idx, event_data in enumerate(processed_data):\n",
    "        if(event_idx > 1000):\n",
    "            break\n",
    "        for particle_idx in range(event_data.shape[0]):\n",
    "            for layer_idx in range(event_data.shape[1]):\n",
    "                features = event_data[particle_idx, layer_idx, :5]  # Get first 4 features\n",
    "                repeat_count = int(event_data[particle_idx, layer_idx, 5])  # Get 5th feature as repeat count\n",
    "                \n",
    "                #cuts\n",
    "                if(features[1] > 50):\n",
    "                    continue\n",
    "                \n",
    "                \n",
    "                if not np.any(features == -1) and repeat_count > 0:  # Check if all features are -1 and repeat_count is valid\n",
    "                    # Repeat the features and metadata by repeat_count\n",
    "                    all_features.extend([features] * repeat_count)\n",
    "                    all_metadata.extend([(event_idx, particle_idx, layer_idx)] * repeat_count)\n",
    "    \n",
    "    # Convert to numpy arrays\n",
    "    features_array = np.array(all_features)\n",
    "    metadata_array = np.array(all_metadata)\n",
    "    \n",
    "    return features_array, metadata_array"
   ]
  },
  {
   "cell_type": "code",
   "execution_count": 40,
   "id": "2149b777-28f2-434c-9b30-7f2f914e50b1",
   "metadata": {},
   "outputs": [],
   "source": [
    "up_path = f\"/cwork/rck32/eic/work_eic/root_files/July_18/mu_5GeV_10k_vary_th_phi_p.edm4hep.root:events\"\n",
    "data = process_data(up_path)\n",
    "\n",
    "nn_data = prepare_data_for_nn(data)"
   ]
  },
  {
   "cell_type": "code",
   "execution_count": 41,
   "id": "89c879a4-8d94-4ef4-9c2f-6ffd1ee46346",
   "metadata": {},
   "outputs": [
    {
     "data": {
      "text/plain": [
       "(309017514, 5)"
      ]
     },
     "execution_count": 41,
     "metadata": {},
     "output_type": "execute_result"
    }
   ],
   "source": [
    "nn_data[0].shape"
   ]
  },
  {
   "cell_type": "code",
   "execution_count": 42,
   "id": "9a7dd36a-f122-4271-a3b8-689017e67df0",
   "metadata": {},
   "outputs": [
    {
     "data": {
      "text/plain": [
       "Text(0.5, 0, '(GeV/c)')"
      ]
     },
     "execution_count": 42,
     "metadata": {},
     "output_type": "execute_result"
    },
    {
     "data": {
      "image/png": "[encoded data removed]",
      "text/plain": [
       "<Figure size 864x720 with 4 Axes>"
      ]
     },
     "metadata": {
      "needs_background": "light"
     },
     "output_type": "display_data"
    }
   ],
   "source": [
    "fig, axs = plot.subplots(2,2,figsize = (12,10))\n",
    "fig.suptitle(\"inputs 50 z vals\")\n",
    "axs[0,0].hist(nn_data[0][:,0],bins = 500);\n",
    "axs[0,0].set_title(\"hit z pos\")\n",
    "axs[0,0].set_xlabel(\"mm\")\n",
    "axs[0,1].hist(nn_data[0][:,1],bins = 100)\n",
    "axs[0,1].set_title(\"mu hit incident time\")\n",
    "axs[0,1].set_xlabel(\"(ns)\")\n",
    "\n",
    "axs[1,0].hist(nn_data[0][:,2],bins = 500);\n",
    "axs[1,0].set_title(\"gun theta\")\n",
    "axs[1,0].set_xlabel(\"theta (degrees)\")\n",
    "axs[1,1].hist(nn_data[0][:,3],bins = 500);\n",
    "axs[1,1].set_title(\"mu momentum\")\n",
    "axs[1,1].set_xlabel(\"(GeV/c)\")\n",
    "\n",
    "# axs[2,0].hist2d(data[:,2],data[:,1],bins = 500);\n",
    "# axs[2,0].set_title(\"theta vs mu hit incident time\")\n",
    "# axs[2,0].set_xlabel(\"theta\")\n",
    "# axs[2,0].set_ylabel(\"mu hit incident time\")\n",
    "# axs[2,1].hist2d(data[:,0], data[:,4],bins = 500);\n",
    "# axs[2,1].set_title(\"photon hit time on sensor vs z hit position\")\n",
    "# axs[2,1].set_xlabel(\"z hit pos (mm)\")\n",
    "# axs[2,1].set_ylabel(\"photon hit time on sensor (ns)\")\n",
    "\n",
    "# axs[2,0].hist(data[:,3],bins = 500);\n",
    "# axs[2,0].set_title(\"mu momentum\")\n",
    "# axs[2,0].set_xlabel(\"momentum (GeV/c)\")"
   ]
  },
  {
   "cell_type": "code",
   "execution_count": 27,
   "id": "7345b609-f02a-4640-8603-9599a64129c9",
   "metadata": {},
   "outputs": [],
   "source": [
    "e_data = nn_data[0][nn_data[0][:,4] == 11]\n",
    "e_data_small_p = e_data[e_data[:,3] < 0.01]"
   ]
  },
  {
   "cell_type": "code",
   "execution_count": 28,
   "id": "e06240f2-a44c-4e78-92d0-12d141668983",
   "metadata": {},
   "outputs": [],
   "source": [
    "mu_data = nn_data[0][nn_data[0][:,4] == 13]\n",
    "mu_data_small_p = mu_data[mu_data[:,3] < 0.01]"
   ]
  },
  {
   "cell_type": "code",
   "execution_count": 29,
   "id": "9abfb42d-7a28-45e3-b774-9e4d59983d49",
   "metadata": {},
   "outputs": [
    {
     "data": {
      "text/plain": [
       "1.5982505228655164e-05"
      ]
     },
     "execution_count": 29,
     "metadata": {},
     "output_type": "execute_result"
    }
   ],
   "source": [
    "len(mu_data_small_p) / len(mu_data)"
   ]
  },
  {
   "cell_type": "code",
   "execution_count": 30,
   "id": "e86588cf-fd05-469d-a4af-63f949850f49",
   "metadata": {},
   "outputs": [
    {
     "data": {
      "text/plain": [
       "0.802375146032678"
      ]
     },
     "execution_count": 30,
     "metadata": {},
     "output_type": "execute_result"
    }
   ],
   "source": [
    "len(e_data_small_p) / len(e_data)"
   ]
  },
  {
   "cell_type": "code",
   "execution_count": 31,
   "id": "41987359-e9f8-4398-b431-3c6b1c4b272f",
   "metadata": {},
   "outputs": [],
   "source": [
    "pdg_set = set(nn_data[0][:,4])"
   ]
  },
  {
   "cell_type": "code",
   "execution_count": 32,
   "id": "9b76cb36-3505-43a4-bb40-2068c5879dd9",
   "metadata": {},
   "outputs": [
    {
     "data": {
      "text/plain": [
       "{-11.0, 11.0, 13.0, 22.0, 1000260560.0}"
      ]
     },
     "execution_count": 32,
     "metadata": {},
     "output_type": "execute_result"
    }
   ],
   "source": [
    "pdg_set"
   ]
  },
  {
   "cell_type": "code",
   "execution_count": 37,
   "id": "485a62ba-8768-4148-8243-c4b9a77c9558",
   "metadata": {},
   "outputs": [
    {
     "data": {
      "text/plain": [
       "0.0004232762323169865"
      ]
     },
     "execution_count": 37,
     "metadata": {},
     "output_type": "execute_result"
    }
   ],
   "source": [
    "ph_data = nn_data[0][nn_data[0][:,4] == 1000260560]\n",
    "len(ph_data) / len(nn_data[0])"
   ]
  },
  {
   "cell_type": "code",
   "execution_count": 43,
   "id": "5553c673-be8d-4489-96cf-e11260287d79",
   "metadata": {},
   "outputs": [
    {
     "name": "stdout",
     "output_type": "stream",
     "text": [
      "percent of photons making it to sensor in full sim: 2880.0\n"
     ]
    }
   ],
   "source": []
  },
  {
   "cell_type": "code",
   "execution_count": 45,
   "id": "8c25e514-fe43-4be6-b876-6d5f8b5dec59",
   "metadata": {},
   "outputs": [],
   "source": [
    "num_optph_per_event = 9000 * 10 ** 3 / 15"
   ]
  },
  {
   "cell_type": "code",
   "execution_count": 46,
   "id": "e475e274-6322-45d2-9972-cbb41be34b06",
   "metadata": {},
   "outputs": [
    {
     "name": "stdout",
     "output_type": "stream",
     "text": [
      "percent of photons making it to sensor in full sim: 0.4166666666666667\n"
     ]
    }
   ],
   "source": [
    "print(f\"percent of photons making it to sensor in full sim: {2500 / num_optph_per_event * 100}\")"
   ]
  },
  {
   "cell_type": "code",
   "execution_count": 48,
   "id": "1c4836ed-3609-4ef9-a101-ffbb975fed69",
   "metadata": {},
   "outputs": [
    {
     "name": "stdout",
     "output_type": "stream",
     "text": [
      "rate of sim: 833.3333333333334 optph/second | rate of NF: 86000 optph/second | speedup: 103.19999999999999\n"
     ]
    }
   ],
   "source": [
    "opt_ph_per_sec_sim = 5000 / 6\n",
    "opt_ph_per_sec_NF = 86000\n",
    "print(f\"rate of sim: {opt_ph_per_sec_sim} optph/second | rate of NF: {opt_ph_per_sec_NF} optph/second | speedup: {opt_ph_per_sec_NF / opt_ph_per_sec_sim}\")"
   ]
  },
  {
   "cell_type": "markdown",
   "id": "1d342439-952a-4a77-a326-7e762c1ef164",
   "metadata": {},
   "source": []
  },
  {
   "cell_type": "code",
   "execution_count": 4,
   "id": "5eefe938-852c-453b-b1d5-82dfc86e3b25",
   "metadata": {},
   "outputs": [],
   "source": [
    "import uproot as up"
   ]
  },
  {
   "cell_type": "code",
   "execution_count": null,
   "id": "0b723df4-9f04-47b2-8943-80b14887963d",
   "metadata": {},
   "outputs": [],
   "source": [
    "events = up.concatenate(\"/cwork/rck32/eic/work_eic/root_files/July_19/full_sector_optph/*.root:events\")"
   ]
  },
  {
   "cell_type": "code",
   "execution_count": 6,
   "id": "29fbc1ea-56a8-4045-b6dd-db67d36e708c",
   "metadata": {},
   "outputs": [],
   "source": [
    "events = up.open(\"/cwork/rck32/eic/work_eic/root_files/July_19/full_sector_optph/optph_200events_no_keep_all_file_0.edm4hep.root:events\")"
   ]
  },
  {
   "cell_type": "code",
   "execution_count": 8,
   "id": "c66ab6bf-5d73-4e54-bb83-e844ea432503",
   "metadata": {},
   "outputs": [],
   "source": [
    "timing = events[\"HcalBarrelHits.time\"].array(library = \"numpy\")"
   ]
  },
  {
   "cell_type": "code",
   "execution_count": 9,
   "id": "0c68d05b-8129-4190-a943-a2a018f65ab4",
   "metadata": {},
   "outputs": [
    {
     "data": {
      "text/plain": [
       "(200,)"
      ]
     },
     "execution_count": 9,
     "metadata": {},
     "output_type": "execute_result"
    }
   ],
   "source": [
    "timing.shape"
   ]
  },
  {
   "cell_type": "code",
   "execution_count": 16,
   "id": "f0bdfe93-6dd9-48c6-8b33-09d016517fb1",
   "metadata": {},
   "outputs": [],
   "source": [
    "times = []\n",
    "thres = 30\n",
    "for i in range(timing.shape[0]):\n",
    "    event_times = timing[i]\n",
    "    for j in range(event_times.shape[0]):\n",
    "        hit_time = event_times[j]\n",
    "        if(hit_time < thres):\n",
    "            times.append(hit_time)"
   ]
  },
  {
   "cell_type": "code",
   "execution_count": 17,
   "id": "e8609e8f-6e53-4e12-b404-298d9943e514",
   "metadata": {},
   "outputs": [
    {
     "data": {
      "image/png": "[encoded data removed]",
      "text/plain": [
       "<Figure size 432x288 with 1 Axes>"
      ]
     },
     "metadata": {
      "needs_background": "light"
     },
     "output_type": "display_data"
    }
   ],
   "source": [
    "plot.hist(times,bins = 100);"
   ]
  },
  {
   "cell_type": "code",
   "execution_count": null,
   "id": "49871842-323e-4abb-85fe-4babb174a822",
   "metadata": {},
   "outputs": [],
   "source": []
  }
 ],
 "metadata": {
  "kernelspec": {
   "display_name": "Python 3",
   "language": "python",
   "name": "python3"
  },
  "language_info": {
   "codemirror_mode": {
    "name": "ipython",
    "version": 3
   },
   "file_extension": ".py",
   "mimetype": "text/x-python",
   "name": "python",
   "nbconvert_exporter": "python",
   "pygments_lexer": "ipython3",
   "version": "3.8.8"
  }
 },
 "nbformat": 4,
 "nbformat_minor": 5
}
