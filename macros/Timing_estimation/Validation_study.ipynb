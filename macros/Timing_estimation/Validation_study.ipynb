{
 "cells": [
  {
   "cell_type": "code",
   "execution_count": 1,
   "id": "690475ca-970a-4943-bc95-d347b9479f2e",
   "metadata": {},
   "outputs": [
    {
     "name": "stderr",
     "output_type": "stream",
     "text": [
      "/hpc/group/vossenlab/rck32/ML_venv/lib64/python3.9/site-packages/networkx/utils/backends.py:135: RuntimeWarning: networkx backend defined more than once: nx-loopback\n",
      "  backends.update(_get_backends(\"networkx.backends\"))\n"
     ]
    }
   ],
   "source": [
    "import matplotlib.pyplot as plot\n",
    "import pandas as pd\n",
    "import os\n",
    "os.environ[\"DGLBACKEND\"] = \"pytorch\"\n",
    "import dgl\n",
    "import torch\n",
    "from dgl.data import DGLDataset\n",
    "import matplotlib.pyplot as plot\n",
    "import numpy as np\n",
    "import torch.nn as nn\n",
    "import torch\n",
    "import itertools\n",
    "import dgl.data\n",
    "import torch.nn.functional as F\n",
    "from dgl.dataloading import GraphDataLoader\n",
    "from dgl.nn import GraphConv,SumPooling,GINConv,AvgPooling\n",
    "from tqdm import tqdm\n",
    "import matplotlib.pyplot as plot\n",
    "from datetime import datetime as datetime\n",
    "current_date = datetime.now().strftime(\"%B_%d\")\n",
    "from torch.utils.data.sampler import SubsetRandomSampler\n",
    "from scipy.spatial import ConvexHull\n",
    "from GNN_util import process_df_vectorized,create_directory,HitDataset,create_fast_edge_lists,visualize_detector_graph,GIN,train_GNN,test_GNN,calculate_bin_rmse,delete_files_in_dir\n",
    "import argparse\n",
    "from scipy.optimize import curve_fit\n",
    "from PIL import Image\n",
    "import imageio\n",
    "import optuna\n",
    "import optuna.visualization as vis\n",
    "from plotly.io import show"
   ]
  },
  {
   "cell_type": "code",
   "execution_count": 2,
   "id": "426f7d36-49a6-4af5-ba42-97132df8a598",
   "metadata": {},
   "outputs": [
    {
     "name": "stdout",
     "output_type": "stream",
     "text": [
      "skipping file #35...\n",
      "skipping file #56...\n",
      "skipping file #60...\n",
      "skipping file #83...\n",
      "skipping file #92...\n",
      "skipping file #111...\n",
      "skipping file #121...\n",
      "skipping file #144...\n",
      "skipping file #158...\n",
      "skipping file #180...\n",
      "skipping file #194...\n"
     ]
    }
   ],
   "source": [
    "num_dfs = 200\n",
    "inputDataPref =  \"/hpc/group/vossenlab/rck32/eic/work_eic/macros/Timing_estimation/data/df/naive_CFD_Feb_10_50events_run_1_\"\n",
    "dfs = []\n",
    "for i in range(num_dfs):\n",
    "    try:\n",
    "        new_df = pd.read_csv(f\"{inputDataPref}{i}.csv\")\n",
    "    except FileNotFoundError as e:\n",
    "        # Skip files that failed for some reason...\n",
    "        # I think these files fail due to DCC issues?\n",
    "        print(f\"skipping file #{i}...\")\n",
    "        continue\n",
    "    new_df[\"file_idx\"] = i\n",
    "    dfs.append(new_df)\n",
    "if(len(dfs) > 1):\n",
    "    data = pd.concat(dfs)\n",
    "else:\n",
    "    data = dfs[0]"
   ]
  },
  {
   "cell_type": "code",
   "execution_count": 3,
   "id": "7c67a7cf-9144-4282-a974-07b6ec931ea1",
   "metadata": {},
   "outputs": [
    {
     "name": "stdout",
     "output_type": "stream",
     "text": [
      "Finished Creating HitDataset\n"
     ]
    }
   ],
   "source": [
    "coneAngle = 40\n",
    "kNN_k = 6\n",
    "training_batch_size = 20\n",
    "model_path = \"/hpc/group/vossenlab/rck32/eic/work_eic/macros/Timing_estimation/models/validation_study/study_2/\"\n",
    "\n",
    "modified_df = process_df_vectorized(data, cone_angle_deg = coneAngle)    \n",
    "\n",
    "filter_events_flag = True\n",
    "connection_mode = \"kNN\"\n",
    "dataset = HitDataset(modified_df,filter_events_flag,connection_mode = connection_mode,k = kNN_k)\n",
    "print(\"Finished Creating HitDataset\")\n",
    "\n",
    "train_frac = 0.7\n",
    "val_frac = 0.15\n",
    "num_train = int(np.floor(len(dataset) * train_frac))\n",
    "num_val = int(np.floor(len(dataset) * val_frac))\n",
    "num_examples = len(dataset)\n",
    "\n",
    "train_sampler = SubsetRandomSampler(torch.arange(num_train))\n",
    "val_sampler = SubsetRandomSampler(torch.arange(num_train, num_val + num_train))\n",
    "test_sampler = SubsetRandomSampler(torch.arange(num_val + num_train, num_examples))\n",
    "\n",
    "train_dataloader = GraphDataLoader(\n",
    "    dataset, sampler=train_sampler, batch_size=training_batch_size, drop_last=False\n",
    ")\n",
    "\n",
    "val_dataloader = GraphDataLoader(\n",
    "    dataset, sampler=val_sampler, batch_size=training_batch_size, drop_last=False\n",
    ")\n",
    "\n",
    "test_dataloader = GraphDataLoader(\n",
    "    dataset, sampler=test_sampler, batch_size=training_batch_size, drop_last=False\n",
    ")"
   ]
  },
  {
   "cell_type": "code",
   "execution_count": 4,
   "id": "d9e949a0-38aa-4143-a68f-5a050b090680",
   "metadata": {},
   "outputs": [],
   "source": [
    "def objective(trial) -> float:\n",
    "    #get suggestions for each hyperparameter\n",
    "    MLP_hidden_dim = trial.suggest_int(\"MLP_hidden_dim\",16,100)\n",
    "    linear_capacity = trial.suggest_int(\"linear_capacity\",3,8)\n",
    "    n_linear_layers = trial.suggest_int(\"n_linear_layers\",4,12)\n",
    "    n_conv_layers = trial.suggest_int(\"n_conv_layers\",1,6)\n",
    "    lr = trial.suggest_float(\"lr\",1e-4,5e-2,log = True)\n",
    "    n_epochs = 300\n",
    "    early_stopping_limit = 3\n",
    "    model = GIN(\n",
    "        dataset.dim_nfeats,\n",
    "        MLP_hidden_dim,\n",
    "        dataset.dim_event_feats,\n",
    "        n_conv_layers = n_conv_layers, \n",
    "        n_linear_layers = n_linear_layers,\n",
    "        linear_capacity = linear_capacity)\n",
    "    optimizer = torch.optim.Adam(model.parameters(), lr=lr)\n",
    "    criterion = nn.MSELoss()\n",
    "    trained_model, train_losses, val_losses, optimizer,best_epoch = train_GNN(\n",
    "        model,\n",
    "        optimizer,\n",
    "        criterion, \n",
    "        train_dataloader, \n",
    "        val_dataloader, \n",
    "        n_epochs, \n",
    "        early_stopping_limit,\n",
    "        frame_plot_path =  \"\",\n",
    "        model_path = model_path,\n",
    "        log_status = False)\n",
    "    return min(val_losses).item()"
   ]
  },
  {
   "cell_type": "code",
   "execution_count": 5,
   "id": "6baae70b-491a-434e-809a-91571a65e54b",
   "metadata": {},
   "outputs": [
    {
     "name": "stderr",
     "output_type": "stream",
     "text": [
      "[I 2025-02-12 11:43:46,147] A new study created in memory with name: Study_2\n",
      "/hpc/group/vossenlab/rck32/eic/work_eic/macros/Timing_estimation/GNN_util.py:490: FutureWarning:\n",
      "\n",
      "You are using `torch.load` with `weights_only=False` (the current default value), which uses the default pickle module implicitly. It is possible to construct malicious pickle data which will execute arbitrary code during unpickling (See https://github.com/pytorch/pytorch/blob/main/SECURITY.md#untrusted-models for more details). In a future release, the default value for `weights_only` will be flipped to `True`. This limits the functions that could be executed during unpickling. Arbitrary objects will no longer be allowed to be loaded via this mode unless they are explicitly allowlisted by the user via `torch.serialization.add_safe_globals`. We recommend you start setting `weights_only=True` for any use case where you don't have full control of the loaded file. Please open an issue on GitHub for any issues related to this experimental feature.\n",
      "\n",
      "[I 2025-02-12 11:44:34,461] Trial 0 finished with value: 0.10463366657495499 and parameters: {'MLP_hidden_dim': 89, 'linear_capacity': 4, 'n_linear_layers': 12, 'n_conv_layers': 1, 'lr': 0.0013566372068892919}. Best is trial 0 with value: 0.10463366657495499.\n",
      "[I 2025-02-12 11:45:32,829] Trial 1 finished with value: 283286339584.0 and parameters: {'MLP_hidden_dim': 67, 'linear_capacity': 5, 'n_linear_layers': 12, 'n_conv_layers': 4, 'lr': 0.04269683379262294}. Best is trial 0 with value: 0.10463366657495499.\n",
      "[I 2025-02-12 11:46:13,702] Trial 2 finished with value: 0.11119699478149414 and parameters: {'MLP_hidden_dim': 47, 'linear_capacity': 5, 'n_linear_layers': 8, 'n_conv_layers': 3, 'lr': 0.0009645277500168198}. Best is trial 0 with value: 0.10463366657495499.\n",
      "[I 2025-02-12 11:47:16,919] Trial 3 finished with value: 0.10866445302963257 and parameters: {'MLP_hidden_dim': 73, 'linear_capacity': 4, 'n_linear_layers': 12, 'n_conv_layers': 3, 'lr': 0.0024259014995054637}. Best is trial 0 with value: 0.10463366657495499.\n",
      "[I 2025-02-12 11:47:31,376] Trial 4 finished with value: 0.30896174907684326 and parameters: {'MLP_hidden_dim': 19, 'linear_capacity': 5, 'n_linear_layers': 8, 'n_conv_layers': 5, 'lr': 0.017740167266936266}. Best is trial 0 with value: 0.10463366657495499.\n",
      "[I 2025-02-12 11:48:32,856] Trial 5 finished with value: 0.12303195148706436 and parameters: {'MLP_hidden_dim': 83, 'linear_capacity': 3, 'n_linear_layers': 7, 'n_conv_layers': 6, 'lr': 0.0028469206407158608}. Best is trial 0 with value: 0.10463366657495499.\n",
      "[I 2025-02-12 11:50:08,084] Trial 6 finished with value: 0.30880701541900635 and parameters: {'MLP_hidden_dim': 32, 'linear_capacity': 5, 'n_linear_layers': 12, 'n_conv_layers': 3, 'lr': 0.015475883977854486}. Best is trial 0 with value: 0.10463366657495499.\n",
      "[I 2025-02-12 11:51:28,748] Trial 7 finished with value: 0.10236045718193054 and parameters: {'MLP_hidden_dim': 39, 'linear_capacity': 5, 'n_linear_layers': 8, 'n_conv_layers': 4, 'lr': 0.002175711988142033}. Best is trial 7 with value: 0.10236045718193054.\n",
      "[I 2025-02-12 11:51:52,667] Trial 8 finished with value: 0.12160512804985046 and parameters: {'MLP_hidden_dim': 30, 'linear_capacity': 5, 'n_linear_layers': 7, 'n_conv_layers': 4, 'lr': 0.014336850386976798}. Best is trial 7 with value: 0.10236045718193054.\n",
      "[I 2025-02-12 11:52:37,245] Trial 9 finished with value: 2.2461583796120223e+22 and parameters: {'MLP_hidden_dim': 72, 'linear_capacity': 6, 'n_linear_layers': 10, 'n_conv_layers': 4, 'lr': 0.04045522121583906}. Best is trial 7 with value: 0.10236045718193054.\n",
      "[I 2025-02-12 11:53:17,158] Trial 10 finished with value: 0.1405845731496811 and parameters: {'MLP_hidden_dim': 47, 'linear_capacity': 8, 'n_linear_layers': 4, 'n_conv_layers': 1, 'lr': 0.00041032445255974456}. Best is trial 7 with value: 0.10236045718193054.\n",
      "[I 2025-02-12 11:53:51,171] Trial 11 finished with value: 0.10425686836242676 and parameters: {'MLP_hidden_dim': 99, 'linear_capacity': 3, 'n_linear_layers': 10, 'n_conv_layers': 1, 'lr': 0.00016281024876721272}. Best is trial 7 with value: 0.10236045718193054.\n",
      "[I 2025-02-12 12:00:00,646] Trial 12 finished with value: 0.10592179745435715 and parameters: {'MLP_hidden_dim': 100, 'linear_capacity': 7, 'n_linear_layers': 10, 'n_conv_layers': 2, 'lr': 0.00010328868439172471}. Best is trial 7 with value: 0.10236045718193054.\n",
      "[I 2025-02-12 12:00:25,347] Trial 13 finished with value: 0.13367150723934174 and parameters: {'MLP_hidden_dim': 53, 'linear_capacity': 3, 'n_linear_layers': 10, 'n_conv_layers': 2, 'lr': 0.00015390278563697738}. Best is trial 7 with value: 0.10236045718193054.\n",
      "[I 2025-02-12 12:00:50,623] Trial 14 finished with value: 0.5968260169029236 and parameters: {'MLP_hidden_dim': 41, 'linear_capacity': 3, 'n_linear_layers': 5, 'n_conv_layers': 5, 'lr': 0.0003397985573878019}. Best is trial 7 with value: 0.10236045718193054.\n",
      "[I 2025-02-12 12:02:31,677] Trial 15 finished with value: 0.13619960844516754 and parameters: {'MLP_hidden_dim': 57, 'linear_capacity': 7, 'n_linear_layers': 9, 'n_conv_layers': 2, 'lr': 0.005965572180496686}. Best is trial 7 with value: 0.10236045718193054.\n",
      "[I 2025-02-12 12:03:04,727] Trial 16 finished with value: 0.1387532651424408 and parameters: {'MLP_hidden_dim': 17, 'linear_capacity': 4, 'n_linear_layers': 7, 'n_conv_layers': 5, 'lr': 0.00043360505618900613}. Best is trial 7 with value: 0.10236045718193054.\n",
      "[I 2025-02-12 12:03:55,043] Trial 17 finished with value: 0.13524587452411652 and parameters: {'MLP_hidden_dim': 100, 'linear_capacity': 6, 'n_linear_layers': 9, 'n_conv_layers': 6, 'lr': 0.00545700685108093}. Best is trial 7 with value: 0.10236045718193054.\n",
      "[I 2025-02-12 12:04:14,743] Trial 18 finished with value: 0.11318190395832062 and parameters: {'MLP_hidden_dim': 64, 'linear_capacity': 4, 'n_linear_layers': 6, 'n_conv_layers': 1, 'lr': 0.00020479785422962833}. Best is trial 7 with value: 0.10236045718193054.\n",
      "[I 2025-02-12 12:07:37,355] Trial 19 finished with value: 0.11288464814424515 and parameters: {'MLP_hidden_dim': 34, 'linear_capacity': 7, 'n_linear_layers': 11, 'n_conv_layers': 2, 'lr': 0.0007786175315240773}. Best is trial 7 with value: 0.10236045718193054.\n"
     ]
    },
    {
     "name": "stdout",
     "output_type": "stream",
     "text": [
      "Best trial:\n",
      "FrozenTrial(number=7, state=TrialState.COMPLETE, values=[0.10236045718193054], datetime_start=datetime.datetime(2025, 2, 12, 11, 50, 8, 85772), datetime_complete=datetime.datetime(2025, 2, 12, 11, 51, 28, 747191), params={'MLP_hidden_dim': 39, 'linear_capacity': 5, 'n_linear_layers': 8, 'n_conv_layers': 4, 'lr': 0.002175711988142033}, user_attrs={}, system_attrs={}, intermediate_values={}, distributions={'MLP_hidden_dim': IntDistribution(high=100, log=False, low=16, step=1), 'linear_capacity': IntDistribution(high=8, log=False, low=3, step=1), 'n_linear_layers': IntDistribution(high=12, log=False, low=4, step=1), 'n_conv_layers': IntDistribution(high=6, log=False, low=1, step=1), 'lr': FloatDistribution(high=0.05, log=True, low=0.0001, step=None)}, trial_id=7, value=None)\n"
     ]
    }
   ],
   "source": [
    "study_num = 2\n",
    "# Step 2: Run the optimization\n",
    "study = optuna.create_study(direction=\"minimize\",study_name = f\"Study_{study_num}\",pruner=optuna.pruners.MedianPruner())  # Minimize MSE\n",
    "study.optimize(objective, n_trials=20) \n",
    "\n",
    "# Step 3: Print results\n",
    "print(\"Best trial:\")\n",
    "print(study.best_trial)\n",
    "\n"
   ]
  },
  {
   "cell_type": "code",
   "execution_count": 7,
   "id": "c09f6bd5-7399-42e3-9005-5680c981ed7a",
   "metadata": {},
   "outputs": [],
   "source": [
    "\n",
    "# Create a report string\n",
    "report = f\"Study Name: {study.study_name}\\n\"\n",
    "report += f\"Number of Trials: {len(study.trials)}\\n\\n\"\n",
    "\n",
    "# Best trial information\n",
    "best_trial = study.best_trial\n",
    "report += f\"Best Trial ID: {best_trial.number}\\n\"\n",
    "report += f\"Best Value: {best_trial.value}\\n\"\n",
    "report += \"Best Parameters:\\n\"\n",
    "for key, value in best_trial.params.items():\n",
    "    report += f\"  {key}: {value}\\n\"\n",
    "report += \"\\n\"\n",
    "\n",
    "# Save all trials\n",
    "report += \"All Trials:\\n\"\n",
    "for trial in study.trials:\n",
    "    report += f\"Trial {trial.number}: Value={trial.value}, Params={trial.params}\\n\"\n",
    "\n",
    "# Save to a text file\n",
    "with open(f\"/hpc/group/vossenlab/rck32/eic/work_eic/macros/Timing_estimation/optimization/study_{study_num}optuna_results.txt\", \"w\") as f:\n",
    "    f.write(report)"
   ]
  },
  {
   "cell_type": "code",
   "execution_count": 26,
   "id": "3a05222d-3475-43d2-b031-62a68eca69e9",
   "metadata": {},
   "outputs": [],
   "source": [
    "import optuna\n",
    "import plotly\n",
    "import numpy as np\n",
    "from optuna.visualization import plot_parallel_coordinate\n",
    "from optuna.visualization import plot_slice\n",
    "from optuna.visualization import plot_contour\n",
    "from optuna.visualization import plot_param_importances\n",
    "\n",
    "\n",
    "def visualize_optuna_study(filtered_study, exclude_trial_ids=None, objective_percentile=None):\n",
    "    # Create a new study object with filtered trials\n",
    "    figures = {}\n",
    "    \n",
    "    # Generate plots using filtered study\n",
    "    figures['slice'] = plot_slice(filtered_study)\n",
    "    figures['parallel_coordinate'] = plot_parallel_coordinate(filtered_study)\n",
    "    figures['importance'] = plot_param_importances(filtered_study)\n",
    "    figures['contour'] = plot_contour(filtered_study)\n",
    "    \n",
    "    return figures\n",
    "\n",
    "def save_visualization(figure, filename):\n",
    "    \"\"\"\n",
    "    Save a plotly figure to an HTML file.\n",
    "    \n",
    "    Parameters:\n",
    "    figure (plotly.graph_objects.Figure): The plotly figure to save\n",
    "    filename (str): Output filename (should end with .html)\n",
    "    \"\"\"\n",
    "    figure.write_html(filename)"
   ]
  },
  {
   "cell_type": "code",
   "execution_count": 30,
   "id": "b8734ad8-77e3-41a5-b226-ea5abb2418c2",
   "metadata": {},
   "outputs": [],
   "source": [
    "import plotly.io as pio\n",
    "pio.renderers.default = \"notebook\"\n",
    "figures = visualize_optuna_study(filtered_study)\n",
    "\n",
    "for plot_type, figure in figures.items():\n",
    "    save_visualization(figure, f\"optuna_{plot_type}_plot.html\")\n",
    "#     figure.show()"
   ]
  },
  {
   "cell_type": "code",
   "execution_count": 29,
   "id": "8948307b-0448-4f11-96a4-f8cecf7fa37f",
   "metadata": {},
   "outputs": [
    {
     "name": "stderr",
     "output_type": "stream",
     "text": [
      "[I 2025-02-12 12:41:26,164] A new study created in memory with name: no-name-f8955dd9-a472-4dfb-b6b7-0139543a4cab\n"
     ]
    }
   ],
   "source": [
    "filtered_study = optuna.create_study()\n",
    "for i in range(len(study.trials)):\n",
    "    if(i == 9 or i == 1):\n",
    "        continue\n",
    "    filtered_study.add_trial(study.trials[i])"
   ]
  },
  {
   "cell_type": "code",
   "execution_count": null,
   "id": "7fc2ecfb-b2ea-4c34-892a-b66827626aad",
   "metadata": {},
   "outputs": [],
   "source": []
  }
 ],
 "metadata": {
  "kernelspec": {
   "display_name": "ML_venv",
   "language": "python",
   "name": "ml_venv"
  },
  "language_info": {
   "codemirror_mode": {
    "name": "ipython",
    "version": 3
   },
   "file_extension": ".py",
   "mimetype": "text/x-python",
   "name": "python",
   "nbconvert_exporter": "python",
   "pygments_lexer": "ipython3",
   "version": "3.9.19"
  }
 },
 "nbformat": 4,
 "nbformat_minor": 5
}
