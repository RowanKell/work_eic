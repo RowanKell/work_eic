{
 "cells": [
  {
   "cell_type": "markdown",
   "id": "98300ae7",
   "metadata": {},
   "source": [
    "# Timing Resolution"
   ]
  },
  {
   "cell_type": "markdown",
   "id": "e32554c7-4360-4d91-a4af-631976d52050",
   "metadata": {},
   "source": [
    "* Utilize pre-trained NF model to sample timings\n",
    "* Calculate timing resolution of sampled timings\n",
    "* Calculate timing resolution of optical photon hit times\n",
    "* Compare std and mean of first hit timing distribution"
   ]
  },
  {
   "cell_type": "markdown",
   "id": "800ae93f",
   "metadata": {},
   "source": [
    "## Setup\n",
    "**Package imports:**"
   ]
  },
  {
   "cell_type": "code",
   "execution_count": 1,
   "id": "7f293277",
   "metadata": {},
   "outputs": [],
   "source": [
    "# Import packages\n",
    "import torch\n",
    "import numpy as np\n",
    "import normflows as nf\n",
    "\n",
    "import uproot as up\n",
    "\n",
    "from matplotlib import pyplot as plot\n",
    "import math\n",
    "from tqdm import tqdm\n",
    "from IPython.display import clear_output\n",
    "import time\n",
    "from concurrent.futures import ThreadPoolExecutor\n",
    "import matplotlib.ticker as plticker\n",
    "import os\n",
    "from typing import Union, List\n",
    "from scipy.stats import norm"
   ]
  },
  {
   "cell_type": "markdown",
   "id": "2d81b439-a383-4563-bfca-2da10cc0b5f8",
   "metadata": {},
   "source": [
    "**local imports (written by me):**"
   ]
  },
  {
   "cell_type": "code",
   "execution_count": 2,
   "id": "267038d1-ad70-4a44-8269-2530f368a2ca",
   "metadata": {},
   "outputs": [
    {
     "name": "stdout",
     "output_type": "stream",
     "text": [
      "Using device cuda:0\n"
     ]
    }
   ],
   "source": [
    "from reco import process_data, create_dataloader, prepare_data_for_nn, create_dataloader,\\\n",
    "    create_unique_mapping,process_data_one_segment,\\\n",
    "    prepare_data_for_nn_one_segment\n",
    "from util import PVect, calculate_num_pixels_z_dependence,theta_func, r_func,get_layer, create_layer_map,load_real_data\n",
    "\n",
    "from time_res_util import process_times,get_all_times,checkdir"
   ]
  },
  {
   "cell_type": "code",
   "execution_count": 3,
   "id": "f879b0d7",
   "metadata": {},
   "outputs": [],
   "source": [
    "# Get device to be used\n",
    "device = torch.device('cuda' if torch.cuda.is_available() else 'cpu')"
   ]
  },
  {
   "cell_type": "markdown",
   "id": "1b7b7b65-8624-4bc7-8a9d-527875d4df03",
   "metadata": {},
   "source": [
    "### Set parameters of model and data"
   ]
  },
  {
   "cell_type": "code",
   "execution_count": 4,
   "id": "5a9a7267-f24e-4bec-bc8d-8b66393e79af",
   "metadata": {},
   "outputs": [],
   "source": [
    "import datetime\n",
    "x = datetime.datetime.now()\n",
    "today = x.strftime(\"%B_%d\")"
   ]
  },
  {
   "cell_type": "code",
   "execution_count": 5,
   "id": "2841f88a-8cbe-48d2-b66a-044c35ea6d68",
   "metadata": {},
   "outputs": [],
   "source": [
    "# This data will be used for storing plots - today above works if you actually want today\n",
    "today = \"August_07\"\n",
    "\n",
    "run_num = 7\n",
    "run_num_str = str(run_num)\n",
    "\n",
    "#NF Stuff\n",
    "\n",
    "K = 8 #num flows\n",
    "\n",
    "latent_size = 1 #dimension of PDF\n",
    "hidden_units = 256 #nodes in hidden layers\n",
    "hidden_layers = 26\n",
    "context_size = 3 #conditional variables for PDF\n",
    "num_context = 3\n",
    "batch_size= 2000\n",
    "\n",
    "K_str = str(K)\n",
    "hidden_units_str = str(hidden_units)\n",
    "hidden_layers_str = str(hidden_layers)\n",
    "batch_size_str = str(batch_size)"
   ]
  },
  {
   "cell_type": "markdown",
   "id": "1b9c724c-ba39-4603-aed9-56e79406667a",
   "metadata": {},
   "source": [
    "## Neural Spline Flow\n",
    "model definition:"
   ]
  },
  {
   "cell_type": "code",
   "execution_count": 6,
   "id": "203342a6-a0f9-4abf-8644-a3f062841372",
   "metadata": {},
   "outputs": [],
   "source": [
    "flows = []\n",
    "for i in range(K):\n",
    "    flows += [nf.flows.AutoregressiveRationalQuadraticSpline(latent_size, hidden_layers, hidden_units, \n",
    "                                                             num_context_channels=context_size)]\n",
    "    flows += [nf.flows.LULinearPermute(latent_size)]\n",
    "\n",
    "# Set base distribution\n",
    "q0 = nf.distributions.DiagGaussian(1, trainable=False)\n",
    "    \n",
    "# Construct flow model\n",
    "model = nf.ConditionalNormalizingFlow(q0, flows)\n",
    "\n",
    "# Move model on GPU if available\n",
    "model = model.to(device)\n"
   ]
  },
  {
   "cell_type": "markdown",
   "id": "60ddaee0-9d73-40c9-8fbd-b1e30236bf51",
   "metadata": {},
   "source": [
    "Create directories / pick where to pull from"
   ]
  },
  {
   "cell_type": "code",
   "execution_count": 7,
   "id": "1a5eea3c-da00-4d48-ab46-c1e6c0492d66",
   "metadata": {},
   "outputs": [],
   "source": [
    "# model_date = \"July_22\"\n",
    "model_date = \"August_07\"\n",
    "\n",
    "model_path = \"models/\" + model_date + \"/\"\n",
    "checkdir(model_path)\n",
    "\n",
    "samples_path = \"data/samples/\" + today + \"/\"\n",
    "checkdir(samples_path)\n",
    "\n",
    "test_data_path = \"data/test/\" + today + \"/\"\n",
    "checkdir(test_data_path)\n",
    "\n",
    "test_dist_path = \"plots/test_distributions/\" + today + \"/\"\n",
    "checkdir(test_dist_path)"
   ]
  },
  {
   "cell_type": "markdown",
   "id": "df336186-512a-4576-bd34-f57dd2f4e73c",
   "metadata": {},
   "source": [
    "Load model accoring to params above"
   ]
  },
  {
   "cell_type": "code",
   "execution_count": 8,
   "id": "72cbd411-4c69-48bf-ba0a-82f984693b4b",
   "metadata": {},
   "outputs": [
    {
     "name": "stderr",
     "output_type": "stream",
     "text": [
      "/hpc/group/vossenlab/rck32/ML_venv/lib64/python3.9/site-packages/normflows/core.py:213: FutureWarning: You are using `torch.load` with `weights_only=False` (the current default value), which uses the default pickle module implicitly. It is possible to construct malicious pickle data which will execute arbitrary code during unpickling (See https://github.com/pytorch/pytorch/blob/main/SECURITY.md#untrusted-models for more details). In a future release, the default value for `weights_only` will be flipped to `True`. This limits the functions that could be executed during unpickling. Arbitrary objects will no longer be allowed to be loaded via this mode unless they are explicitly allowlisted by the user via `torch.serialization.add_safe_globals`. We recommend you start setting `weights_only=True` for any use case where you don't have full control of the loaded file. Please open an issue on GitHub for any issues related to this experimental feature.\n",
      "  self.load_state_dict(torch.load(path))\n"
     ]
    }
   ],
   "source": [
    "# model.load(model_path + \"run_\" + run_num_str + \"_\" + str(num_context)+ \"context_\" +K_str +  \"flows_\"\\\n",
    "#            + hidden_layers_str+\"hl_\" + hidden_units_str+\"hu_\" + batch_size_str+\"bs.pth\")\n",
    "perm_model_dir = \"/hpc/group/vossenlab/rck32/NF_time_res_models/\"\n",
    "model.load(perm_model_dir+ \"run_7_3context_8flows_26hl_256hu_2000bs.pth\")\n",
    "model = model.to(device)\n",
    "\n",
    "model_compile = torch.compile(model,mode = \"reduce-overhead\")\n",
    "model_compile = model_compile.to(device)"
   ]
  },
  {
   "cell_type": "markdown",
   "id": "b6f99eb5",
   "metadata": {
    "tags": []
   },
   "source": [
    "### Evaluation\n",
    "load sector_scint root files with uproot"
   ]
  },
  {
   "cell_type": "code",
   "execution_count": 27,
   "id": "6a1b980e-74e4-40db-be53-d4a0e1cb6d36",
   "metadata": {},
   "outputs": [],
   "source": [
    "'''muon z pos vary'''\n",
    "\n",
    "# Specify the directory path\n",
    "# directory = f\"/hpc/group/vossenlab/rck32/eic/work_eic/root_files/time_res_one_segment_scint/September_12/\"\n",
    "# filename = \"run_1_mum_0_8_10GeV_theta_90_5kevents.edm4hep.root\"\n",
    "\n",
    "# directory = f\"/hpc/group/vossenlab/rck32/eic/work_eic/root_files/time_res_one_segment_scint/October_24/run_1_w_QE\"\n",
    "# filename = \"mu_5GeV_5k_time_res.edm4hep.root\"\n",
    "\n",
    "# directory = f\"/hpc/group/vossenlab/rck32/eic/work_eic/root_files/time_res_one_segment_scint/October_24/run_2_w_QE_2cm\"\n",
    "# filename = \"mu_5GeV_5k_time_res.edm4hep.root\"\n",
    "\n",
    "directory = f\"/hpc/group/vossenlab/rck32/eic/work_eic/root_files/time_res_one_segment_scint/October_24/run_3_w_QE_5cm\"\n",
    "filename = \"mu_5GeV_5k_time_res.edm4hep.root\"\n",
    "\n",
    "file_path = os.path.join(directory, filename)\n",
    "data = process_data_one_segment(file_path + \":events\")\n",
    "\n",
    "features, metadata= prepare_data_for_nn_one_segment(data)"
   ]
  },
  {
   "cell_type": "code",
   "execution_count": 28,
   "id": "7a99259f-bbbe-4667-9dd5-e9c930415b69",
   "metadata": {},
   "outputs": [
    {
     "name": "stdout",
     "output_type": "stream",
     "text": [
      "(1008135, 4)\n"
     ]
    }
   ],
   "source": [
    "# Create DataLoader\n",
    "batch_size_inference = 1000000\n",
    "dataloader = create_dataloader(features, metadata, batch_size_inference,shuffle_bool=False)\n",
    "\n",
    "# with torch.profiler.profile(activities=[torch.profiler.ProfilerActivity.CPU, torch.profiler.ProfilerActivity.CUDA]) as prof:\n",
    "min_time = 0\n",
    "samples = torch.empty(features.shape[0],device = device)\n",
    "context = torch.empty((features.shape[0],3),device = device)\n",
    "event_idxs = torch.empty(features.shape[0],device = device)\n",
    "it = 0\n",
    "with torch.no_grad():\n",
    "    for batch_features, batch_metadata in dataloader:\n",
    "        context_features = batch_features[:, :3].clone().to(device)\n",
    "        samples[batch_size_inference * it:(batch_size_inference * it) + len(batch_features)] = abs(model_compile.sample(num_samples=context_features.shape[0], context=context_features)[0]).squeeze(1)\n",
    "        samples[it*batch_size_inference:(batch_size_inference * it) + len(batch_features)].add_(batch_features[:, 3].to(device))\n",
    "        context[batch_size_inference * it:(batch_size_inference * it) + len(batch_features)] = context_features\n",
    "        event_idxs[batch_size_inference * it:(batch_size_inference * it) + len(batch_features)] = batch_metadata\n",
    "        \n",
    "        del batch_features\n",
    "        it += 1\n",
    "context = context.cpu().detach()\n",
    "samples = samples.cpu().detach()\n",
    "event_idxs = event_idxs.cpu().detach()"
   ]
  },
  {
   "cell_type": "markdown",
   "id": "4337bcb6-cd79-48b4-b302-54a1a60b5f97",
   "metadata": {},
   "source": [
    "## Timing Resolution\n",
    "Need distribution of time of first photons"
   ]
  },
  {
   "cell_type": "markdown",
   "id": "fc4f975c-eb12-4cab-93f5-fd0c62e94bc2",
   "metadata": {},
   "source": [
    "#### NF: Calculate first pixel times for events that pass threshold"
   ]
  },
  {
   "cell_type": "code",
   "execution_count": 29,
   "id": "1e4d95e1-30e7-46bb-9ba6-4219386f5410",
   "metadata": {},
   "outputs": [],
   "source": [
    "threshold = 10\n",
    "first_times = []\n",
    "# Get unique event indices and their counts\n",
    "unique_events, counts = torch.unique(event_idxs, return_counts=True)\n",
    "\n",
    "# Find events that meet the threshold\n",
    "valid_events = unique_events[counts > threshold]\n",
    "\n",
    "# If there are valid events, process them\n",
    "if valid_events.numel() > 0:\n",
    "    # Create a mask for valid events\n",
    "    mask = torch.isin(event_idxs, valid_events)\n",
    "\n",
    "    # Get samples and events for valid events\n",
    "    valid_samples = samples[mask]\n",
    "    valid_event_indices = event_idxs[mask]\n",
    "\n",
    "    # Sort samples and event indices\n",
    "    sorted_indices = torch.argsort(valid_event_indices)\n",
    "    sorted_samples = valid_samples[sorted_indices]\n",
    "    sorted_events = valid_event_indices[sorted_indices]\n",
    "\n",
    "    # Find the minimum sample for each event\n",
    "    unique_events = torch.unique(sorted_events)\n",
    "    min_samples = torch.tensor([sorted_samples[sorted_events == event].min() for event in unique_events])\n",
    "\n",
    "    # Append to the corresponding sublist in the result list\n",
    "    first_times.append(min_samples.tolist())"
   ]
  },
  {
   "cell_type": "markdown",
   "id": "58943615-94ba-48e0-a90f-117e47e8aca4",
   "metadata": {},
   "source": [
    "#### Optph: process times and get distribution"
   ]
  },
  {
   "cell_type": "code",
   "execution_count": 30,
   "id": "f9f213ed-3810-42a1-9361-e972341597a6",
   "metadata": {},
   "outputs": [
    {
     "name": "stdout",
     "output_type": "stream",
     "text": [
      "total: 1129847 | duplicates: 181380 | ratio: 0.16053501049257113 | num unique cells hit: 5974 | skipped: 2\n"
     ]
    }
   ],
   "source": [
    "#Minimum number of pixels to be hit for us to accept event\n",
    "threshold = 4\n",
    "\n",
    "\n",
    "# uproot_path = f\"/hpc/group/vossenlab/rck32/eic/work_eic/root_files/time_res_one_segment_sensor/September_12/run_1\"\n",
    "\n",
    "# uproot_path = f\"/hpc/group/vossenlab/rck32/eic/work_eic/root_files/time_res_one_segment_sensor/October_24/run_1_w_QE\"\n",
    "# uproot_path = f\"/hpc/group/vossenlab/rck32/eic/work_eic/root_files/time_res_one_segment_sensor/October_24/run_2_w_QE_2cm_thickness\"\n",
    "uproot_path = f\"/hpc/group/vossenlab/rck32/eic/work_eic/root_files/time_res_one_segment_sensor/October_24/run_3_w_QE_5cm_thickness\"\n",
    "\n",
    "accepted_times, second_lowest_list, avg_accepted_times = process_times(uproot_path, threshold,True)"
   ]
  },
  {
   "cell_type": "markdown",
   "id": "58af3845-c067-43f0-b807-526bf3c5c4a9",
   "metadata": {},
   "source": [
    "#### Compare all photon times"
   ]
  },
  {
   "cell_type": "code",
   "execution_count": 31,
   "id": "f329a1df-6cf4-4d53-bd72-2d052ca0661e",
   "metadata": {
    "tags": []
   },
   "outputs": [],
   "source": [
    "# fig_all_times, axs_all_times = plot.subplots(1,1)\n",
    "# axs_all_times.hist(samples,bins = 100,alpha = 0.5, color = \"blue\",density = True,label = \"Learned\");\n",
    "# axs_all_times.hist(flattened_times,bins = 100,alpha = 0.4, color = \"red\",density = True,label = \"Real\");\n",
    "# axs_all_times.legend()\n",
    "# axs_all_times.set_ylabel(\"Normalized Counts\")\n",
    "# axs_all_times.set_xlabel(\"Arrival Time (ns)\")\n",
    "# axs_all_times.set_xlim(9.5,30)\n",
    "# fig_all_times.suptitle(\"All Photon Arrival Times\")\n",
    "# # fig_all_times.savefig(\"plots/APSDNP/time_res/Sept_12/real_vs_learned_all_times_good.pdf\")"
   ]
  },
  {
   "cell_type": "markdown",
   "id": "ab61a27c-98e7-4080-99dd-8c4d595c7711",
   "metadata": {},
   "source": [
    "### Compare first photon distributions"
   ]
  },
  {
   "cell_type": "code",
   "execution_count": 34,
   "id": "014b3f82-4d29-47dd-aae5-55cbce091ef6",
   "metadata": {},
   "outputs": [],
   "source": [
    "np_first_times = np.array(first_times)\n",
    "\n",
    "np_accepted_times = np.array(accepted_times)\n",
    "ub = 10.8\n",
    "lb = 10.2\n",
    "cut_first_times = np_first_times[np_first_times < ub]\n",
    "cut_first_times = cut_first_times[cut_first_times > lb]\n",
    "\n",
    "cut_accepted_times = np_accepted_times[np_accepted_times < ub]\n",
    "cut_accepted_times = cut_accepted_times[cut_accepted_times > lb]"
   ]
  },
  {
   "cell_type": "code",
   "execution_count": 36,
   "id": "bf819cda-9ad9-4124-9d75-00852cf573b8",
   "metadata": {},
   "outputs": [
    {
     "data": {
      "image/png": "[encoded data removed]",
      "text/plain": [
       "<Figure size 640x480 with 1 Axes>"
      ]
     },
     "metadata": {},
     "output_type": "display_data"
    }
   ],
   "source": [
    "(mu, sigma) = norm.fit(cut_accepted_times)\n",
    "\n",
    "fig_first_times, axs_first_times = plot.subplots(1,1)\n",
    "axs_first_times.hist(first_times,bins = 100,alpha = 0.5, color = \"blue\",density = True,label = \"Learned\");\n",
    "axs_first_times.hist(accepted_times,bins = 100,alpha = 0.4, color = \"red\",density = True,label = \"Real\");\n",
    "axs_first_times.legend()\n",
    "axs_first_times.set_ylabel(\"Normalized Counts\")\n",
    "axs_first_times.set_xlabel(\"Arrival Time (ns)\")\n",
    "fig_first_times.suptitle(\"First Photon Arrival Time, 5cm Scintillator\")\n",
    "fig_first_times.text(0.3,0.5,r\"$\\sigma$ = %.1f ps\"%(sigma * 1000))\n",
    "fig_first_times.tight_layout()\n",
    "fig_first_times.savefig(\"plots/time_res/October_24_5cm/both_times_w_sigma_5cm_cut_tails.pdf\")"
   ]
  },
  {
   "cell_type": "markdown",
   "id": "483e9ad4-9928-4104-8c45-9bdefa6ab88a",
   "metadata": {},
   "source": [
    "## Cutting off tails"
   ]
  },
  {
   "cell_type": "code",
   "execution_count": 64,
   "id": "545d7db6-aefb-48cb-8ab0-f0b8e1fe9d37",
   "metadata": {},
   "outputs": [],
   "source": [
    "np_first_times = np.array(first_times)\n",
    "\n",
    "np_accepted_times = np.array(accepted_times)\n",
    "\n",
    "cut_first_times = np_first_times[np_first_times < 10.8]\n",
    "cut_first_times = cut_first_times[cut_first_times > 10]\n",
    "\n",
    "cut_accepted_times = np_accepted_times[np_accepted_times < 10.8]\n",
    "cut_accepted_times = cut_accepted_times[cut_accepted_times > 10]"
   ]
  },
  {
   "cell_type": "code",
   "execution_count": 65,
   "id": "b24dcd0f-4b86-41ef-b794-80db2c6a6927",
   "metadata": {},
   "outputs": [
    {
     "name": "stdout",
     "output_type": "stream",
     "text": [
      "\tsigma:\t\t| mean:\t\t\n",
      "Real:\t\t  0.092 |\t 10.39\n",
      "Learned:\t  0.077 |\t 10.38\n"
     ]
    }
   ],
   "source": [
    "#timing resolution:\n",
    "(mu_real, sigma_real) = norm.fit(cut_accepted_times)\n",
    "(mu_learned, sigma_learned) = norm.fit(cut_first_times)\n",
    "print(\"\\tsigma:\\t\\t| mean:\\t\\t\")\n",
    "print(\"Real:\\t\\t  %4.3f |\\t %4.2f\" %(sigma_real,mu_real))\n",
    "print(\"Learned:\\t  %4.3f |\\t %4.2f\" %(sigma_learned,mu_learned))"
   ]
  },
  {
   "cell_type": "code",
   "execution_count": 34,
   "id": "3331b8f2-e526-4110-aec9-77b835932f33",
   "metadata": {},
   "outputs": [
    {
     "name": "stdout",
     "output_type": "stream",
     "text": [
      "\tsigma:\t\t| mean:\t\t\n",
      "Real:\t\t  0.123 |\t 10.43\n",
      "Real cut:\t\t  0.118 |\t 10.43\n"
     ]
    }
   ],
   "source": [
    "#timing resolution:\n",
    "accepted_times = np.array(accepted_times)\n",
    "\n",
    "cut_accepted_times = accepted_times[accepted_times < 10.9]\n",
    "cut_accepted_times = cut_accepted_times[cut_accepted_times > 10]\n",
    "\n",
    "\n",
    "(mu_real, sigma_real) = norm.fit(accepted_times)\n",
    "(mu_real_cut, sigma_real_cut) = norm.fit(cut_accepted_times)\n",
    "print(\"\\tsigma:\\t\\t| mean:\\t\\t\")\n",
    "print(\"Real:\\t\\t  %4.3f |\\t %4.2f\" %(sigma_real,mu_real))\n",
    "print(\"Real cut:\\t\\t  %4.3f |\\t %4.2f\" %(sigma_real_cut,mu_real_cut))"
   ]
  },
  {
   "cell_type": "code",
   "execution_count": 32,
   "id": "92907db6-cad2-4f3b-8a6f-dfc58af7c020",
   "metadata": {},
   "outputs": [
    {
     "data": {
      "image/png": "[encoded data removed]",
      "text/plain": [
       "<Figure size 640x480 with 1 Axes>"
      ]
     },
     "metadata": {},
     "output_type": "display_data"
    }
   ],
   "source": [
    "fig_first_times, axs_first_times = plot.subplots(1,1)\n",
    "axs_first_times.hist(accepted_times,bins = 100,alpha = 1, color = \"red\",density = True);\n",
    "# axs_first_times.legend()\n",
    "axs_first_times.set_ylabel(\"Normalized Counts\")\n",
    "axs_first_times.set_xlabel(\"Arrival Time (ns)\")\n",
    "axs_first_times.text(9.8,2.1,r\"$\\sigma$ = %.3f ns\" % (sigma_real))\n",
    "axs_first_times.text(9.8,1.6,r\"# events: %d\" % (len(accepted_times)))\n",
    "axs_first_times.grid(alpha = 0.3)\n",
    "fig_first_times.suptitle(\"First Photon Arrival Time\")\n",
    "fig_first_times.tight_layout()\n",
    "plot.show()\n",
    "fig_first_times.savefig(\"plots/sept_29/time_res_0_8_10GeV_mu_5250.pdf\")"
   ]
  },
  {
   "cell_type": "code",
   "execution_count": null,
   "id": "a19eb908-8559-4984-87f2-624cf61f3176",
   "metadata": {},
   "outputs": [],
   "source": []
  }
 ],
 "metadata": {
  "kernelspec": {
   "display_name": "ML_venv",
   "language": "python",
   "name": "ml_venv"
  },
  "language_info": {
   "codemirror_mode": {
    "name": "ipython",
    "version": 3
   },
   "file_extension": ".py",
   "mimetype": "text/x-python",
   "name": "python",
   "nbconvert_exporter": "python",
   "pygments_lexer": "ipython3",
   "version": "3.9.18"
  }
 },
 "nbformat": 4,
 "nbformat_minor": 5
}
