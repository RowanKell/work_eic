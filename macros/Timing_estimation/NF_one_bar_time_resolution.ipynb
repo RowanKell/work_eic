{
 "cells": [
  {
   "cell_type": "markdown",
   "id": "98300ae7",
   "metadata": {},
   "source": [
    "# Inference on \"Data\""
   ]
  },
  {
   "cell_type": "markdown",
   "id": "e32554c7-4360-4d91-a4af-631976d52050",
   "metadata": {},
   "source": [
    "* The purpose of this notebook is to allow for evaluation/sampling with a trained NF model on sector_scint data  \n",
    "* We also compare the samples to real data (sector_sensor)"
   ]
  },
  {
   "cell_type": "markdown",
   "id": "800ae93f",
   "metadata": {},
   "source": [
    "## Setup\n",
    "**Package imports:**"
   ]
  },
  {
   "cell_type": "code",
   "execution_count": 1,
   "id": "7f293277",
   "metadata": {},
   "outputs": [],
   "source": [
    "# Import packages\n",
    "import torch\n",
    "import numpy as np\n",
    "import normflows as nf\n",
    "\n",
    "import uproot as up\n",
    "\n",
    "from matplotlib import pyplot as plot\n",
    "import math\n",
    "from tqdm import tqdm\n",
    "from IPython.display import clear_output\n",
    "import time\n",
    "from concurrent.futures import ThreadPoolExecutor\n",
    "import matplotlib.ticker as plticker\n",
    "import os\n",
    "from typing import Union, List\n",
    "from scipy.stats import norm"
   ]
  },
  {
   "cell_type": "markdown",
   "id": "2d81b439-a383-4563-bfca-2da10cc0b5f8",
   "metadata": {},
   "source": [
    "**local imports (written by me):**"
   ]
  },
  {
   "cell_type": "code",
   "execution_count": 2,
   "id": "bf78bc93-d3e4-485b-8ab8-33ad7d5f3e2f",
   "metadata": {},
   "outputs": [
    {
     "name": "stdout",
     "output_type": "stream",
     "text": [
      "Using device cuda:0\n"
     ]
    }
   ],
   "source": [
    "from reco import process_data, create_dataloader, prepare_data_for_nn, create_dataloader,create_unique_mapping,calculate_num_pixels_z_dependence,process_data_one_segment,prepare_data_for_nn_one_segment\n",
    "from util import PVect, theta_func, r_func,get_layer, create_layer_map,load_real_data"
   ]
  },
  {
   "cell_type": "code",
   "execution_count": 3,
   "id": "e5a371e9-e6ad-4b98-9f7a-4b2764a7eb1a",
   "metadata": {},
   "outputs": [],
   "source": [
    "from time_res_util import process_times,get_all_times,checkdir"
   ]
  },
  {
   "cell_type": "code",
   "execution_count": 4,
   "id": "174eb3c1-610f-4392-aeb3-138ed3387643",
   "metadata": {
    "tags": []
   },
   "outputs": [],
   "source": [
    "# Timing_path = \"/cwork/rck32/eic/work_eic/macros/Timing_estimation/\"\n",
    "\n",
    "# #training data produced by preprocess\n",
    "# raw_inputs = torch.load(Timing_path + \"data/July_24/Run_1/Vary_p_events_file_0_July_23_600_z_pos.pt\")\n",
    "# for i in range(1,600):\n",
    "#     clear_output(wait=True)\n",
    "#     print(f\"processed file #{i} or 600\")\n",
    "#     raw_inputs = torch.cat((raw_inputs, torch.load(Timing_path + f\"data/July_24/Run_1/Vary_p_events_file_{i + 1}_July_23_600_z_pos.pt\")),0)\n",
    "    \n",
    "# inputs = raw_inputs[np.logical_and(raw_inputs[:,4] < 100,raw_inputs[:,3] < 0.06)]\n",
    "\n",
    "# indexes = torch.randperm(inputs.shape[0])\n",
    "# dataset = inputs[indexes]\n",
    "# train_frac = 0.08\n",
    "# test_frac = 0.01\n",
    "# val_frac = 0.01\n",
    "# train_lim = int(np.floor(dataset.shape[0] * train_frac))\n",
    "# test_lim = train_lim + int(np.floor(dataset.shape[0] * test_frac))\n",
    "# val_lim = test_lim + int(np.floor(dataset.shape[0] * val_frac))\n",
    "# train_data = dataset[:train_lim]\n",
    "# test_data = dataset[train_lim:test_lim]\n",
    "# val_data = dataset[test_lim:val_lim]"
   ]
  },
  {
   "cell_type": "code",
   "execution_count": 5,
   "id": "f879b0d7",
   "metadata": {},
   "outputs": [],
   "source": [
    "# Get device to be used\n",
    "device = torch.device('cuda' if torch.cuda.is_available() else 'cpu')"
   ]
  },
  {
   "cell_type": "markdown",
   "id": "1b7b7b65-8624-4bc7-8a9d-527875d4df03",
   "metadata": {},
   "source": [
    "### Set parameters of model and data"
   ]
  },
  {
   "cell_type": "code",
   "execution_count": 6,
   "id": "5a9a7267-f24e-4bec-bc8d-8b66393e79af",
   "metadata": {},
   "outputs": [],
   "source": [
    "import datetime\n",
    "x = datetime.datetime.now()\n",
    "today = x.strftime(\"%B_%d\")"
   ]
  },
  {
   "cell_type": "code",
   "execution_count": 7,
   "id": "2841f88a-8cbe-48d2-b66a-044c35ea6d68",
   "metadata": {},
   "outputs": [],
   "source": [
    "particle = \"pi\"\n",
    "# particle = \"mu\"\n",
    "\n",
    "# This data will be used for storing plots - today above works if you actually want today\n",
    "today = \"August_07\"\n",
    "\n",
    "run_num = 7\n",
    "run_num_str = str(run_num)\n",
    "\n",
    "#NF Stuff\n",
    "\n",
    "K = 8 #num flows\n",
    "\n",
    "latent_size = 1 #dimension of PDF\n",
    "hidden_units = 256 #nodes in hidden layers\n",
    "hidden_layers = 26\n",
    "context_size = 3 #conditional variables for PDF\n",
    "num_context = 3\n",
    "\n",
    "K_str = str(K)\n",
    "batch_size= 2000\n",
    "hidden_units_str = str(hidden_units)\n",
    "hidden_layers_str = str(hidden_layers)\n",
    "batch_size_str = str(batch_size)"
   ]
  },
  {
   "cell_type": "markdown",
   "id": "1b9c724c-ba39-4603-aed9-56e79406667a",
   "metadata": {},
   "source": [
    "## Neural Spline Flow\n",
    "model definition:"
   ]
  },
  {
   "cell_type": "code",
   "execution_count": 8,
   "id": "203342a6-a0f9-4abf-8644-a3f062841372",
   "metadata": {},
   "outputs": [],
   "source": [
    "flows = []\n",
    "for i in range(K):\n",
    "    flows += [nf.flows.AutoregressiveRationalQuadraticSpline(latent_size, hidden_layers, hidden_units, \n",
    "                                                             num_context_channels=context_size)]\n",
    "    flows += [nf.flows.LULinearPermute(latent_size)]\n",
    "\n",
    "# Set base distribution\n",
    "q0 = nf.distributions.DiagGaussian(1, trainable=False)\n",
    "    \n",
    "# Construct flow model\n",
    "model = nf.ConditionalNormalizingFlow(q0, flows)\n",
    "\n",
    "# Move model on GPU if available\n",
    "model = model.to(device)\n"
   ]
  },
  {
   "cell_type": "markdown",
   "id": "60ddaee0-9d73-40c9-8fbd-b1e30236bf51",
   "metadata": {},
   "source": [
    "Create directories / pick where to pull from"
   ]
  },
  {
   "cell_type": "code",
   "execution_count": 9,
   "id": "1a5eea3c-da00-4d48-ab46-c1e6c0492d66",
   "metadata": {},
   "outputs": [],
   "source": [
    "# model_date = \"July_22\"\n",
    "model_date = \"August_07\"\n",
    "\n",
    "model_path = \"models/\" + model_date + \"/\"\n",
    "checkdir(model_path)\n",
    "\n",
    "samples_path = \"data/samples/\" + today + \"/\"\n",
    "checkdir(samples_path)\n",
    "\n",
    "test_data_path = \"data/test/\" + today + \"/\"\n",
    "checkdir(test_data_path)\n",
    "\n",
    "test_dist_path = \"plots/test_distributions/\" + today + \"/\"\n",
    "checkdir(test_dist_path)"
   ]
  },
  {
   "cell_type": "markdown",
   "id": "df336186-512a-4576-bd34-f57dd2f4e73c",
   "metadata": {},
   "source": [
    "Load model accoring to params above"
   ]
  },
  {
   "cell_type": "code",
   "execution_count": 10,
   "id": "72cbd411-4c69-48bf-ba0a-82f984693b4b",
   "metadata": {},
   "outputs": [],
   "source": [
    "model.load(model_path + \"run_\" + run_num_str + \"_\" + str(num_context)+ \"context_\" +K_str +  \"flows_\" + hidden_layers_str+\"hl_\" + hidden_units_str+\"hu_\" + batch_size_str+\"bs.pth\")\n",
    "model = model.to(device)\n",
    "\n",
    "model_compile = torch.compile(model,mode = \"reduce-overhead\")\n",
    "model_compile = model_compile.to(device)"
   ]
  },
  {
   "cell_type": "markdown",
   "id": "b6f99eb5",
   "metadata": {
    "tags": []
   },
   "source": [
    "### Evaluation\n",
    "load sector_scint root files with uproot"
   ]
  },
  {
   "cell_type": "code",
   "execution_count": 11,
   "id": "6a1b980e-74e4-40db-be53-d4a0e1cb6d36",
   "metadata": {},
   "outputs": [],
   "source": [
    "'''muon z pos vary'''\n",
    "\n",
    "# Specify the directory path\n",
    "directory = f\"/cwork/rck32/eic/work_eic/root_files/August_2/segment_scint/\"\n",
    "filename = \"run_1/mu_5GeV_5k_time_res.edm4hep.root\"\n",
    "\n",
    "file_path = os.path.join(directory, filename)\n",
    "data = process_data_one_segment(file_path + \":events\")\n",
    "\n",
    "features, metadata= prepare_data_for_nn_one_segment(data)"
   ]
  },
  {
   "cell_type": "code",
   "execution_count": 12,
   "id": "f69674a0-5292-4206-b6c1-495c92c0527b",
   "metadata": {
    "tags": []
   },
   "outputs": [],
   "source": [
    "# input_fig, input_axs = plot.subplots(1,3,figsize=(18,8))\n",
    "# input_axs[0].hist(features[:,0],bins = 100)\n",
    "# input_axs[1].hist(features[:,1],bins = 100)\n",
    "# input_axs[2].hist(features[:,2],bins = 100)\n",
    "# input_fig.show()"
   ]
  },
  {
   "cell_type": "code",
   "execution_count": 13,
   "id": "7a99259f-bbbe-4667-9dd5-e9c930415b69",
   "metadata": {},
   "outputs": [
    {
     "name": "stdout",
     "output_type": "stream",
     "text": [
      "(402385, 4)\n"
     ]
    }
   ],
   "source": [
    "# Create DataLoader\n",
    "batch_size_inference = 1000000\n",
    "dataloader = create_dataloader(features, metadata, batch_size_inference,shuffle_bool=False)\n",
    "\n",
    "# with torch.profiler.profile(activities=[torch.profiler.ProfilerActivity.CPU, torch.profiler.ProfilerActivity.CUDA]) as prof:\n",
    "min_time = 0\n",
    "samples = torch.empty(features.shape[0],device = device)\n",
    "context = torch.empty((features.shape[0],3),device = device)\n",
    "event_idxs = torch.empty(features.shape[0],device = device)\n",
    "it = 0\n",
    "with torch.no_grad():\n",
    "    for batch_features, batch_metadata in dataloader:\n",
    "        context_features = batch_features[:, :3].clone().to(device)\n",
    "        samples[batch_size_inference * it:(batch_size_inference * it) + len(batch_features)] = abs(model_compile.sample(num_samples=context_features.shape[0], context=context_features)[0]).squeeze(1)\n",
    "        samples[it*batch_size_inference:(batch_size_inference * it) + len(batch_features)].add_(batch_features[:, 3].to(device))\n",
    "        context[batch_size_inference * it:(batch_size_inference * it) + len(batch_features)] = context_features\n",
    "        event_idxs[batch_size_inference * it:(batch_size_inference * it) + len(batch_features)] = batch_metadata\n",
    "        \n",
    "        del batch_features\n",
    "        it += 1\n",
    "context = context.cpu().detach()\n",
    "samples = samples.cpu().detach()\n",
    "event_idxs = event_idxs.cpu().detach()"
   ]
  },
  {
   "cell_type": "markdown",
   "id": "acf0683e-c1af-4e3c-a7d8-7c2d07d173ea",
   "metadata": {},
   "source": [
    "#### Open and merge all times from optph sims"
   ]
  },
  {
   "cell_type": "code",
   "execution_count": 14,
   "id": "cfed3896-bfb0-4631-b3bc-4f75c321fa44",
   "metadata": {},
   "outputs": [],
   "source": [
    "uproot_path = f\"/cwork/rck32/eic/work_eic/root_files/August_1/run_1cm_optph/\"\n",
    "flattened_times = get_all_times(uproot_path,multipleFiles = True)"
   ]
  },
  {
   "cell_type": "markdown",
   "id": "15e6d66c-2002-4d10-bffa-1f73cefe82bb",
   "metadata": {},
   "source": [
    "### Compare total distributions"
   ]
  },
  {
   "cell_type": "code",
   "execution_count": 15,
   "id": "2bf93127-0865-4b95-8fdc-51f6257d2b64",
   "metadata": {},
   "outputs": [],
   "source": [
    "data_w_context = torch.cat((context,samples.unsqueeze(1)),dim=1)"
   ]
  },
  {
   "cell_type": "code",
   "execution_count": 16,
   "id": "f329a1df-6cf4-4d53-bd72-2d052ca0661e",
   "metadata": {},
   "outputs": [
    {
     "data": {
      "image/png": "[encoded data removed]",
      "text/plain": [
       "<Figure size 800x1200 with 6 Axes>"
      ]
     },
     "metadata": {},
     "output_type": "display_data"
    }
   ],
   "source": [
    "fig_all_times, axs_all_times = plot.subplots(3,2,figsize = (8,12))\n",
    "axs_all_times[0,0].hist(samples,bins = 100,alpha = 0.5, color = \"blue\",density = True,label = \"learned\");\n",
    "axs_all_times[0,0].hist(flattened_times,bins = 100,alpha = 0.4, color = \"red\",density = True,label = \"real\");\n",
    "axs_all_times[0,0].legend()\n",
    "samples_cut_indices = samples < 4.6\n",
    "real_cut_indices = flattened_times < 4.6\n",
    "\n",
    "axs_all_times[0,1].hist(samples[samples < 4.6],bins = 100,alpha = 0.5, color = \"blue\",density = True,label = \"learned\");\n",
    "axs_all_times[0,1].hist(flattened_times[flattened_times < 4.6],bins = 100,alpha = 0.4, color = \"red\",density = True,label = \"real\");\n",
    "axs_all_times[0,1].legend()\n",
    "\n",
    "axs_all_times[1,0].hist2d(samples[samples_cut_indices],data_w_context[samples_cut_indices,0],bins = 100);\n",
    "axs_all_times[1,0].set_xlabel(\"times\")\n",
    "axs_all_times[1,0].set_ylabel(\"hit z pos\")\n",
    "axs_all_times[1,1].hist2d(samples[samples_cut_indices],data_w_context[samples_cut_indices,1],bins = 100);\n",
    "axs_all_times[1,1].set_xlabel(\"times\")\n",
    "axs_all_times[1,1].set_ylabel(\"theta\")\n",
    "axs_all_times[2,0].hist2d(samples,data_w_context[:,0],bins = 100);\n",
    "axs_all_times[2,0].set_xlabel(\"times\")\n",
    "axs_all_times[2,0].set_ylabel(\"hit z pos\")\n",
    "axs_all_times[2,1].hist2d(samples,data_w_context[:,1],bins = 100);\n",
    "axs_all_times[2,1].set_xlabel(\"times\")\n",
    "axs_all_times[2,1].set_ylabel(\"theta\")\n",
    "# axs_all_times[1,1].hist2D(flattened_times[real_cut_indices],data_w_context[samples_cut_indices,0],bins = 100);\n",
    "fig_all_times.suptitle(\"learned and real all times overlayed\")\n",
    "fig_all_times.savefig(\"plots/time_res/August_7/real_vs_learned_all_times_run_7.jpeg\")"
   ]
  },
  {
   "cell_type": "markdown",
   "id": "4337bcb6-cd79-48b4-b302-54a1a60b5f97",
   "metadata": {},
   "source": [
    "## Timing Resolution\n",
    "Need distribution of time of first photons"
   ]
  },
  {
   "cell_type": "markdown",
   "id": "fc4f975c-eb12-4cab-93f5-fd0c62e94bc2",
   "metadata": {},
   "source": [
    "#### NF: Calculate first pixel times for events that pass threshold"
   ]
  },
  {
   "cell_type": "code",
   "execution_count": 17,
   "id": "1e4d95e1-30e7-46bb-9ba6-4219386f5410",
   "metadata": {},
   "outputs": [],
   "source": [
    "threshold = 10\n",
    "first_times = []\n",
    "# Get unique event indices and their counts\n",
    "unique_events, counts = torch.unique(event_idxs, return_counts=True)\n",
    "\n",
    "# Find events that meet the threshold\n",
    "valid_events = unique_events[counts > threshold]\n",
    "\n",
    "# If there are valid events, process them\n",
    "if valid_events.numel() > 0:\n",
    "    # Create a mask for valid events\n",
    "    mask = torch.isin(event_idxs, valid_events)\n",
    "\n",
    "    # Get samples and events for valid events\n",
    "    valid_samples = samples[mask]\n",
    "    valid_event_indices = event_idxs[mask]\n",
    "\n",
    "    # Sort samples and event indices\n",
    "    sorted_indices = torch.argsort(valid_event_indices)\n",
    "    sorted_samples = valid_samples[sorted_indices]\n",
    "    sorted_events = valid_event_indices[sorted_indices]\n",
    "\n",
    "    # Find the minimum sample for each event\n",
    "    unique_events = torch.unique(sorted_events)\n",
    "    min_samples = torch.tensor([sorted_samples[sorted_events == event].min() for event in unique_events])\n",
    "\n",
    "    # Append to the corresponding sublist in the result list\n",
    "    first_times.append(min_samples.tolist())"
   ]
  },
  {
   "cell_type": "markdown",
   "id": "58943615-94ba-48e0-a90f-117e47e8aca4",
   "metadata": {},
   "source": [
    "#### Optph: process times and get distribution"
   ]
  },
  {
   "cell_type": "code",
   "execution_count": 18,
   "id": "f9f213ed-3810-42a1-9361-e972341597a6",
   "metadata": {},
   "outputs": [
    {
     "name": "stdout",
     "output_type": "stream",
     "text": [
      "total: 420414 | duplicates: 26316 | ratio: 0.06259544163610156 | num unique cells hit: 6507 | skipped: 0\n"
     ]
    }
   ],
   "source": [
    "#Minimum number of pixels to be hit for us to accept event\n",
    "threshold = 10\n",
    "\n",
    "# uproot_path = f\"/cwork/rck32/eic/work_eic/root_files/August_1/run_1cm_optph/mu_5GeV_500_0.edm4hep.root:events\"\n",
    "uproot_path = f\"/cwork/rck32/eic/work_eic/root_files/August_1/run_1cm_optph/\"\n",
    "accepted_times, second_lowest_list, avg_accepted_times = process_times(uproot_path, threshold,True)"
   ]
  },
  {
   "cell_type": "markdown",
   "id": "ab61a27c-98e7-4080-99dd-8c4d595c7711",
   "metadata": {},
   "source": [
    "### Compare first photon distributions"
   ]
  },
  {
   "cell_type": "code",
   "execution_count": 19,
   "id": "bf819cda-9ad9-4124-9d75-00852cf573b8",
   "metadata": {},
   "outputs": [
    {
     "data": {
      "image/png": "[encoded data removed]",
      "text/plain": [
       "<Figure size 640x480 with 1 Axes>"
      ]
     },
     "metadata": {},
     "output_type": "display_data"
    }
   ],
   "source": [
    "fig_first_times, axs_first_times = plot.subplots(1,1)\n",
    "axs_first_times.hist(first_times,bins = 100,alpha = 0.5, color = \"blue\",density = True,label = \"learned\");\n",
    "axs_first_times.hist(accepted_times,bins = 100,alpha = 0.4, color = \"red\",density = True,label = \"real\");\n",
    "axs_first_times.legend()\n",
    "fig_first_times.suptitle(\"learned and real FIRST times overlayed\")\n",
    "fig_first_times.savefig(\"plots/time_res/August_7/real_vs_learned_first_times_run_7.jpeg\")"
   ]
  },
  {
   "cell_type": "code",
   "execution_count": 20,
   "id": "e54b90d6-39d5-4c09-a946-fe354ed61ffe",
   "metadata": {},
   "outputs": [
    {
     "name": "stdout",
     "output_type": "stream",
     "text": [
      "\tsigma:\t\t| mean:\t\t\n",
      "Real:\t\t  0.120 |\t 4.52\n",
      "Learned:\t  0.107 |\t 4.52\n"
     ]
    }
   ],
   "source": [
    "#timing resolution:\n",
    "(mu_real, sigma_real) = norm.fit(accepted_times)\n",
    "(mu_learned, sigma_learned) = norm.fit(first_times)\n",
    "print(\"\\tsigma:\\t\\t| mean:\\t\\t\")\n",
    "print(\"Real:\\t\\t  %4.3f |\\t %4.2f\" %(sigma_real,mu_real))\n",
    "print(\"Learned:\\t  %4.3f |\\t %4.2f\" %(sigma_learned,mu_learned))"
   ]
  },
  {
   "cell_type": "markdown",
   "id": "483e9ad4-9928-4104-8c45-9bdefa6ab88a",
   "metadata": {},
   "source": [
    "#### Cutting off tails"
   ]
  },
  {
   "cell_type": "code",
   "execution_count": 40,
   "id": "545d7db6-aefb-48cb-8ab0-f0b8e1fe9d37",
   "metadata": {},
   "outputs": [],
   "source": [
    "first_times = np.array(first_times)\n",
    "\n",
    "accepted_times = np.array(accepted_times)\n",
    "\n",
    "cut_first_times = first_times[first_times < 4.8]\n",
    "cut_first_times = cut_first_times[cut_first_times > 4.3]\n",
    "\n",
    "cut_accepted_times = accepted_times[accepted_times < 4.8]\n",
    "cut_accepted_times = cut_accepted_times[cut_accepted_times > 4.3]"
   ]
  },
  {
   "cell_type": "code",
   "execution_count": 41,
   "id": "b24dcd0f-4b86-41ef-b794-80db2c6a6927",
   "metadata": {},
   "outputs": [
    {
     "name": "stdout",
     "output_type": "stream",
     "text": [
      "\tsigma:\t\t| mean:\t\t\n",
      "Real:\t\t  0.100 |\t 4.52\n",
      "Learned:\t  0.097 |\t 4.52\n"
     ]
    }
   ],
   "source": [
    "#timing resolution:\n",
    "(mu_real, sigma_real) = norm.fit(cut_accepted_times)\n",
    "(mu_learned, sigma_learned) = norm.fit(cut_first_times)\n",
    "print(\"\\tsigma:\\t\\t| mean:\\t\\t\")\n",
    "print(\"Real:\\t\\t  %4.3f |\\t %4.2f\" %(sigma_real,mu_real))\n",
    "print(\"Learned:\\t  %4.3f |\\t %4.2f\" %(sigma_learned,mu_learned))"
   ]
  }
 ],
 "metadata": {
  "kernelspec": {
   "display_name": "ML_venv",
   "language": "python",
   "name": "ml_venv"
  },
  "language_info": {
   "codemirror_mode": {
    "name": "ipython",
    "version": 3
   },
   "file_extension": ".py",
   "mimetype": "text/x-python",
   "name": "python",
   "nbconvert_exporter": "python",
   "pygments_lexer": "ipython3",
   "version": "3.9.18"
  }
 },
 "nbformat": 4,
 "nbformat_minor": 5
}
