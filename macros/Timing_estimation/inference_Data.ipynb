{
 "cells": [
  {
   "cell_type": "markdown",
   "id": "98300ae7",
   "metadata": {},
   "source": [
    "# Inference"
   ]
  },
  {
   "cell_type": "markdown",
   "id": "e32554c7-4360-4d91-a4af-631976d52050",
   "metadata": {},
   "source": [
    "The purpose of this notebook is to allow for evaluation/sampling with a trained NF model"
   ]
  },
  {
   "cell_type": "markdown",
   "id": "800ae93f",
   "metadata": {},
   "source": [
    "## Setup"
   ]
  },
  {
   "cell_type": "code",
   "execution_count": 1,
   "id": "7f293277",
   "metadata": {},
   "outputs": [
    {
     "name": "stdout",
     "output_type": "stream",
     "text": [
      "Using device cuda:0\n"
     ]
    }
   ],
   "source": [
    "# Import packages\n",
    "import torch\n",
    "import numpy as np\n",
    "import normflows as nf\n",
    "\n",
    "import uproot as up\n",
    "\n",
    "from matplotlib import pyplot as plot\n",
    "import math\n",
    "from tqdm import tqdm\n",
    "from util import PVect, theta_func, r_func\n",
    "from IPython.display import clear_output\n",
    "import time"
   ]
  },
  {
   "cell_type": "code",
   "execution_count": 2,
   "id": "bf78bc93-d3e4-485b-8ab8-33ad7d5f3e2f",
   "metadata": {},
   "outputs": [],
   "source": [
    "from reco import process_data, create_dataloader, prepare_data_for_nn, create_dataloader"
   ]
  },
  {
   "cell_type": "code",
   "execution_count": 3,
   "id": "f879b0d7",
   "metadata": {},
   "outputs": [],
   "source": [
    "# Get device to be used\n",
    "device = torch.device('cuda' if torch.cuda.is_available() else 'cpu')"
   ]
  },
  {
   "cell_type": "code",
   "execution_count": 4,
   "id": "0a228570-8ef1-42d6-b440-16ee317970ec",
   "metadata": {},
   "outputs": [],
   "source": [
    "import os\n",
    "def checkdir(path):\n",
    "    if not os.path.exists(path): \n",
    "        os.makedirs(path)"
   ]
  },
  {
   "cell_type": "markdown",
   "id": "1b7b7b65-8624-4bc7-8a9d-527875d4df03",
   "metadata": {},
   "source": [
    "### Load data from .pt file (created by preprocess.py)"
   ]
  },
  {
   "cell_type": "markdown",
   "id": "1b9c724c-ba39-4603-aed9-56e79406667a",
   "metadata": {},
   "source": [
    "## Neural Spline Flow"
   ]
  },
  {
   "cell_type": "code",
   "execution_count": 5,
   "id": "203342a6-a0f9-4abf-8644-a3f062841372",
   "metadata": {},
   "outputs": [],
   "source": [
    "# Define flows\n",
    "run_num = 2\n",
    "run_num_str = str(run_num)\n",
    "\n",
    "K = 1\n",
    "\n",
    "latent_size = 1\n",
    "hidden_units = 100\n",
    "hidden_layers = 6\n",
    "context_size = 3\n",
    "num_context = 3\n",
    "K_str = str(K)\n",
    "batch_size= 2000\n",
    "hidden_units_str = str(hidden_units)\n",
    "hidden_layers_str = str(hidden_layers)\n",
    "batch_size_str = str(batch_size)\n",
    "\n",
    "flows = []\n",
    "for i in range(K):\n",
    "    flows += [nf.flows.AutoregressiveRationalQuadraticSpline(latent_size, hidden_layers, hidden_units, \n",
    "                                                             num_context_channels=context_size)]\n",
    "    flows += [nf.flows.LULinearPermute(latent_size)]\n",
    "\n",
    "# Set base distribution\n",
    "q0 = nf.distributions.DiagGaussian(1, trainable=False)\n",
    "    \n",
    "# Construct flow model\n",
    "model = nf.ConditionalNormalizingFlow(q0, flows)\n",
    "\n",
    "# Move model on GPU if available\n",
    "model = model.to(device)\n"
   ]
  },
  {
   "cell_type": "code",
   "execution_count": 6,
   "id": "1a5eea3c-da00-4d48-ab46-c1e6c0492d66",
   "metadata": {},
   "outputs": [],
   "source": [
    "import datetime\n",
    "\n",
    "x = datetime.datetime.now()\n",
    "today = x.strftime(\"%B_%d\")\n",
    "# model_path = \"models/context_3/\" + today + \"/\"\n",
    "# checkdir(model_path)\n",
    "model_path = \"models/\" + today + \"/\"\n",
    "checkdir(model_path)\n",
    "\n",
    "samples_path = \"data/samples/\" + today + \"/\"\n",
    "checkdir(samples_path)\n",
    "\n",
    "test_data_path = \"data/test/\" + today + \"/\"\n",
    "checkdir(test_data_path)\n",
    "\n",
    "test_dist_path = \"plots/test_distributions/\" + today + \"/\"\n",
    "checkdir(test_dist_path)"
   ]
  },
  {
   "cell_type": "code",
   "execution_count": 7,
   "id": "d8593003-7f8c-48fe-a1cc-991b22a54415",
   "metadata": {},
   "outputs": [],
   "source": [
    "model.load(model_path + \"run_\" + run_num_str + \"_\" + str(num_context)+ \"context_\" +K_str +  \"flows_\" + hidden_layers_str+\"hl_\" + hidden_units_str+\"hu_\" + batch_size_str+\"bs.pth\")"
   ]
  },
  {
   "cell_type": "code",
   "execution_count": 8,
   "id": "e5f17f69-8410-4923-86d4-8baaa727fb2a",
   "metadata": {},
   "outputs": [],
   "source": [
    "# test_data = torch.load(\"data/test/July_12/full_test_data_run_1_8flows_4hl_100hu_4000bs.pt\")"
   ]
  },
  {
   "cell_type": "markdown",
   "id": "b6f99eb5",
   "metadata": {
    "tags": []
   },
   "source": [
    "### Evaluation"
   ]
  },
  {
   "cell_type": "code",
   "execution_count": 9,
   "id": "bf5fc94b-dd63-46b5-9a32-126b162413f4",
   "metadata": {},
   "outputs": [],
   "source": [
    "# device = 'cpu'"
   ]
  },
  {
   "cell_type": "code",
   "execution_count": 10,
   "id": "0d635a34-184d-432d-80f6-98d76695a937",
   "metadata": {},
   "outputs": [],
   "source": [
    "model = model.to(device)"
   ]
  },
  {
   "cell_type": "code",
   "execution_count": 11,
   "id": "855414ec-97b3-4ae4-b903-d6fe01f8b7be",
   "metadata": {
    "tags": []
   },
   "outputs": [],
   "source": [
    "up_path = f\"/cwork/rck32/eic/work_eic/root_files/June_18/variation_sector_scint_uniform/mu/variation_10kevents_file_11.edm4hep.root:events\"\n",
    "data = process_data(up_path)"
   ]
  },
  {
   "cell_type": "code",
   "execution_count": 12,
   "id": "ea4f2d77-ccad-44fc-a396-f5c4016b9c95",
   "metadata": {},
   "outputs": [
    {
     "name": "stdout",
     "output_type": "stream",
     "text": [
      "Features shape: (7286862, 4)\n",
      "Metadata shape: (7286862, 3)\n"
     ]
    }
   ],
   "source": [
    "features, metadata = prepare_data_for_nn(data)\n",
    "print(\"Features shape:\", features.shape)\n",
    "print(\"Metadata shape:\", metadata.shape)\n",
    "\n",
    "# Create DataLoader\n",
    "batch_size = 100000\n",
    "dataloader = create_dataloader(features, metadata, batch_size)"
   ]
  },
  {
   "cell_type": "markdown",
   "id": "cb0c6d41-56e7-4368-a9f6-6172e7bb4997",
   "metadata": {},
   "source": [
    "### Resampling inference with dataloader"
   ]
  },
  {
   "cell_type": "code",
   "execution_count": 12,
   "id": "33342786-7965-401a-b801-2653ccec9b08",
   "metadata": {},
   "outputs": [],
   "source": [
    "\n",
    "# min_time = 0\n",
    "# samples = torch.empty(features.shape[0],device = device)\n",
    "# it = 0\n",
    "# begin_time = time.time()\n",
    "# for batch_features, batch_metadata in dataloader:\n",
    "#     begin = batch_size * it\n",
    "#     end = batch_size * (it + 1)\n",
    "#     # Initialize a mask for valid samples\n",
    "#     batch_features = batch_features.to(device)\n",
    "#     valid_samples = torch.zeros(batch_features.shape[0], dtype=torch.bool,device = device)\n",
    "#     batch_samples = torch.empty(batch_features.shape[0],device = device)\n",
    "    \n",
    "#     while not valid_samples.all():\n",
    "#         # Generate samples for the invalid positions\n",
    "#         new_samples = model.sample(num_samples=(~valid_samples).sum(), context=batch_features[~valid_samples])[0].squeeze(1)\n",
    "        \n",
    "#         # Update the samples and the valid_samples mask\n",
    "#         batch_samples[~valid_samples] = new_samples\n",
    "#         valid_samples = batch_samples >= min_time\n",
    "    \n",
    "#     samples[begin:end] = batch_samples\n",
    "#     it += 1\n",
    "#     if(it >= 0):\n",
    "#         break\n",
    "# end_time = time.time()\n",
    "# samples_cpu = samples.cpu()"
   ]
  },
  {
   "cell_type": "code",
   "execution_count": 33,
   "id": "30ba0d9f-13e0-496a-b259-a9b7ecd853b4",
   "metadata": {},
   "outputs": [
    {
     "data": {
      "text/plain": [
       "tensor([[7.3989],\n",
       "        [7.5337],\n",
       "        [9.8007],\n",
       "        ...,\n",
       "        [9.6476],\n",
       "        [8.1664],\n",
       "        [9.7466]])"
      ]
     },
     "execution_count": 33,
     "metadata": {},
     "output_type": "execute_result"
    }
   ],
   "source": [
    "batch_features[:,1].unsqueeze(1)"
   ]
  },
  {
   "cell_type": "markdown",
   "id": "eca975fe-c7d3-485f-96d3-4995e5724eb5",
   "metadata": {},
   "source": [
    "### No resampling"
   ]
  },
  {
   "cell_type": "code",
   "execution_count": 13,
   "id": "0a898271-d550-40c3-93bb-9b5231ff99d8",
   "metadata": {},
   "outputs": [
    {
     "name": "stdout",
     "output_type": "stream",
     "text": [
      "Starting batch #0 out of 724 | 1.444072961807251 seconds elapsed\n"
     ]
    }
   ],
   "source": [
    "\n",
    "min_time = 0\n",
    "samples = torch.empty(features.shape[0],device = 'cpu')\n",
    "it = 0\n",
    "begin_time = time.time()\n",
    "for batch_features, batch_metadata in dataloader:\n",
    "    clear_output(wait=True)\n",
    "    print(f\"Starting batch #{it} out of {72494710 // batch_size} | {(time.time() - begin_time)} seconds elapsed\")\n",
    "    begin = batch_size * it\n",
    "    end = batch_size * (it + 1)\n",
    "    # Initialize a mask for valid samples\n",
    "    context_features = torch.empty(batch_features.shape[0],3)\n",
    "    context_features[:,0] = batch_features[:,0]\n",
    "    context_features[:,1] = batch_features[:,2]\n",
    "    context_features[:,2] = batch_features[:,3]\n",
    "    context_features = context_features.to(device)\n",
    "#     batch_samples = model.sample(num_samples=context_features.shape[0], context=context_features)[0].cpu().detach()\n",
    "#     samples[begin:end] = (batch_samples + batch_features[:,1].unsqueeze(1)).squeeze(1)\n",
    "    samples[begin:end] = model.sample(num_samples=context_features.shape[0], context=context_features)[0].cpu().detach().squeeze(1)\n",
    "#     del batch_samples\n",
    "    del batch_features\n",
    "    it += 1\n",
    "    break\n",
    "end_time = time.time()\n",
    "samples_cpu = samples.cpu()"
   ]
  },
  {
   "cell_type": "code",
   "execution_count": 14,
   "id": "ab9d7e22-02a3-4b07-9ace-0a13fbd06922",
   "metadata": {},
   "outputs": [],
   "source": [
    "# delta_t = 1209\n",
    "delta_t = end_time - begin_time"
   ]
  },
  {
   "cell_type": "code",
   "execution_count": 15,
   "id": "fbffd705-34bd-4006-87c4-a6d220907fb5",
   "metadata": {},
   "outputs": [
    {
     "name": "stdout",
     "output_type": "stream",
     "text": [
      "Sampling 100000 times took 2.276956796646118 seconds\n",
      " rate: 43918.26851844387 samples/second\n"
     ]
    }
   ],
   "source": [
    "print(f\"Sampling {end} times took {(delta_t)} seconds\\n rate: {end / (delta_t)} samples/second\")"
   ]
  },
  {
   "cell_type": "markdown",
   "id": "6719b480-046d-4993-9c90-7ccda2011607",
   "metadata": {},
   "source": [
    "\n",
    "on gpu - 3500 samples/second with no resampling w/20k batch size\n",
    "\n",
    "on cpu - 1400 samples/second no resampling w/20k batch size \n",
    "\n",
    "on cpu - 1136 samples/second no resampling w/10k batch size\n",
    "\n",
    "on cpu - 2179 samples/second no resampling w/40k batch size\n",
    "\n",
    "on gpu - 212 samples/second w resampling\n",
    "\n",
    "on gpu - 3200 samples/second no resampling w/40k batch size\n",
    "\n",
    "on gpu - 12000 samples/second no resampling w/80k batch size\n",
    "\n",
    "on gpu - 5000 samples/second no resampling w/40k batch size\n",
    "\n",
    "on gpu - 40k samples/second no resampling w/500k batch size\n",
    "\n",
    "on gpu - 40k samples/second no resampling w/700k batch size\n",
    "\n",
    "on gpu - 2 flow model - 73k samples/second no resampling w/500k batch size\n",
    "\n",
    "on gpu - 2 flow model - 74k samples/second no resampling w/1m batch size\n",
    "\n",
    "on gpu - 1 flow model - 100k samples/second w 2m batch size (july 16 run 1)"
   ]
  },
  {
   "cell_type": "markdown",
   "id": "24a2a750-af3e-4ae7-abe8-f88222554eef",
   "metadata": {},
   "source": [
    "##### Below is the histogram of samples (no adding)"
   ]
  },
  {
   "cell_type": "code",
   "execution_count": 16,
   "id": "adad7346-c195-4b0e-8911-6d3d097d0791",
   "metadata": {},
   "outputs": [
    {
     "data": {
      "image/png": "[encoded data removed]",
      "text/plain": [
       "<Figure size 640x480 with 1 Axes>"
      ]
     },
     "metadata": {},
     "output_type": "display_data"
    }
   ],
   "source": [
    "plot.hist(samples_cpu[:end].detach().numpy(),bins = 1000);"
   ]
  },
  {
   "cell_type": "markdown",
   "id": "afa83764-509d-4302-90b8-542acefab1aa",
   "metadata": {},
   "source": [
    "##### Below is the histogram of samples when mu hit time added back"
   ]
  },
  {
   "cell_type": "code",
   "execution_count": 37,
   "id": "55190e31-0362-4ddf-87e5-ac570255ff32",
   "metadata": {},
   "outputs": [
    {
     "data": {
      "image/png": "[encoded data removed]",
      "text/plain": [
       "<Figure size 640x480 with 1 Axes>"
      ]
     },
     "metadata": {},
     "output_type": "display_data"
    }
   ],
   "source": [
    "plot.hist(samples_cpu[:end].detach().numpy(),bins = 1000);"
   ]
  },
  {
   "cell_type": "code",
   "execution_count": 20,
   "id": "07792e51-8f87-4112-8ffb-e6df7b876cf6",
   "metadata": {},
   "outputs": [
    {
     "name": "stdout",
     "output_type": "stream",
     "text": [
      "# photons per event: 547000.0\n",
      "# photons simulated per second: 42076.92307692308\n"
     ]
    }
   ],
   "source": [
    "num_sim_per_event = 5.47 * 10 ** 7 / 100\n",
    "dt_sim_per_event = 13\n",
    "print(f\"# photons per event: {num_sim_per_event}\")\n",
    "print(f\"# photons simulated per second: {num_sim_per_event / dt_sim_per_event}\")"
   ]
  },
  {
   "cell_type": "code",
   "execution_count": 7,
   "id": "452bfa17-4790-4cf2-997f-922bbb955f12",
   "metadata": {},
   "outputs": [],
   "source": [
    "torch.save(samples,\"data/samples/July_15/Data/run_5_6_flows_4hl_100hu_4000_bs.pt\")\n",
    "# torch.save(eval_test_data,\"data/test/July_12/run_1_8_flows_4hl_100hu_5000_bs.pt\")\n",
    "\n",
    "# samples = torch.load(\"data/samples/July_11/run_5_6_flows_4hl_100hu_5000_bs.pt\")\n",
    "# eval_test_data = torch.load(\"data/test/July_11/run_5_6_flows_4hl_100hu_5000_bs.pt\")"
   ]
  },
  {
   "cell_type": "markdown",
   "id": "26835edd-3039-472f-9c99-62b563d58317",
   "metadata": {},
   "source": [
    "## Load in and compare to real data"
   ]
  },
  {
   "cell_type": "code",
   "execution_count": null,
   "id": "d02c02ea-05b7-4bcd-b759-bbfe51c4b494",
   "metadata": {},
   "outputs": [],
   "source": [
    "branch_list = [\"HcalBarrelHits.EDep\",\"HcalBarrelHits.pathLength\",\"_HcalBarrelHits_MCParticle.index\",\"_MCParticles_parents.index\",\"MCParticles.daughters_end\",\"MCParticles.PDG\",\"MCParticles.endpoint.x\"]\n",
    "file_dir = f\"/cwork/rck32/eic/work_eic/root_files/July_16/\"\n",
    "num_files = len([name for name in os.listdir(file_dir) if not os.path.isdir(name)])\n",
    "file_names = [name for name in os.listdir(file_dir) if not os.path.isdir(name)]\n",
    "tree_ext = \":events\"\n",
    "for i in range(num_files):\n",
    "    if(i == 0):\n",
    "#             print(f\"file_name: {file_names[i]}\")\n",
    "        events = up.open(file_dir + file_names[i] + tree_ext).arrays(branch_list,library=\"pd\")\n",
    "    else:\n",
    "        if(not highAff):\n",
    "            if(i > 6):\n",
    "                break\n",
    "        events = pd.concat([events,up.open(file_dir + file_names[i] + tree_ext).arrays(branch_list,library=\"pd\")],ignore_index = True)\n"
   ]
  }
 ],
 "metadata": {
  "kernelspec": {
   "display_name": "ML_venv",
   "language": "python",
   "name": "ml_venv"
  },
  "language_info": {
   "codemirror_mode": {
    "name": "ipython",
    "version": 3
   },
   "file_extension": ".py",
   "mimetype": "text/x-python",
   "name": "python",
   "nbconvert_exporter": "python",
   "pygments_lexer": "ipython3",
   "version": "3.9.18"
  }
 },
 "nbformat": 4,
 "nbformat_minor": 5
}
