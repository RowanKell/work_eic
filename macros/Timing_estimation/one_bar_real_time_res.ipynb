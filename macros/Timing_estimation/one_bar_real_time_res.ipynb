{
 "cells": [
  {
   "cell_type": "markdown",
   "id": "98300ae7",
   "metadata": {},
   "source": [
    "# Timing Resolution"
   ]
  },
  {
   "cell_type": "markdown",
   "id": "e32554c7-4360-4d91-a4af-631976d52050",
   "metadata": {},
   "source": [
    "* Utilize pre-trained NF model to sample timings\n",
    "* Calculate timing resolution of sampled timings\n",
    "* Calculate timing resolution of optical photon hit times\n",
    "* Compare std and mean of first hit timing distribution"
   ]
  },
  {
   "cell_type": "markdown",
   "id": "800ae93f",
   "metadata": {},
   "source": [
    "## Setup\n",
    "**Package imports:**"
   ]
  },
  {
   "cell_type": "code",
   "execution_count": 1,
   "id": "7f293277",
   "metadata": {},
   "outputs": [],
   "source": [
    "# Import packages\n",
    "import torch\n",
    "import numpy as np\n",
    "import normflows as nf\n",
    "\n",
    "import uproot as up\n",
    "\n",
    "from matplotlib import pyplot as plot\n",
    "import math\n",
    "from tqdm import tqdm\n",
    "from IPython.display import clear_output\n",
    "import time\n",
    "from concurrent.futures import ThreadPoolExecutor\n",
    "import matplotlib.ticker as plticker\n",
    "import os\n",
    "from typing import Union, List\n",
    "from scipy.stats import norm"
   ]
  },
  {
   "cell_type": "markdown",
   "id": "2d81b439-a383-4563-bfca-2da10cc0b5f8",
   "metadata": {},
   "source": [
    "**local imports (written by me):**"
   ]
  },
  {
   "cell_type": "code",
   "execution_count": 2,
   "id": "267038d1-ad70-4a44-8269-2530f368a2ca",
   "metadata": {},
   "outputs": [
    {
     "name": "stdout",
     "output_type": "stream",
     "text": [
      "Using device cuda:0\n"
     ]
    }
   ],
   "source": [
    "from reco import process_data, create_dataloader, prepare_data_for_nn, create_dataloader,\\\n",
    "    create_unique_mapping,calculate_num_pixels_z_dependence,process_data_one_segment,\\\n",
    "    prepare_data_for_nn_one_segment\n",
    "from util import PVect, theta_func, r_func,get_layer, create_layer_map,load_real_data,time_func,p_func\n",
    "\n",
    "from time_res_util import process_times,get_all_times,checkdir"
   ]
  },
  {
   "cell_type": "markdown",
   "id": "1b7b7b65-8624-4bc7-8a9d-527875d4df03",
   "metadata": {},
   "source": [
    "### Set parameters of model and data"
   ]
  },
  {
   "cell_type": "code",
   "execution_count": 3,
   "id": "5a9a7267-f24e-4bec-bc8d-8b66393e79af",
   "metadata": {},
   "outputs": [],
   "source": [
    "import datetime\n",
    "x = datetime.datetime.now()\n",
    "today = x.strftime(\"%B_%d\")"
   ]
  },
  {
   "cell_type": "markdown",
   "id": "1b9c724c-ba39-4603-aed9-56e79406667a",
   "metadata": {},
   "source": [
    "## Neural Spline Flow\n",
    "model definition:"
   ]
  },
  {
   "cell_type": "markdown",
   "id": "60ddaee0-9d73-40c9-8fbd-b1e30236bf51",
   "metadata": {},
   "source": [
    "Create directories / pick where to pull from"
   ]
  },
  {
   "cell_type": "markdown",
   "id": "58943615-94ba-48e0-a90f-117e47e8aca4",
   "metadata": {},
   "source": [
    "#### Optph: process times and get distribution"
   ]
  },
  {
   "cell_type": "code",
   "execution_count": 4,
   "id": "aedfe86b-532c-4013-bdfb-26a8a80bec3b",
   "metadata": {},
   "outputs": [],
   "source": [
    "from time_res_util import avg_time\n",
    "def process_times(uproot_path,threshold = 10, multipleFiles = False):\n",
    "    if(multipleFiles):\n",
    "        times_arrays_list = []\n",
    "        cells_arrays_list = []\n",
    "        x_pos_arrays_list = []\n",
    "        y_pos_arrays_list = []\n",
    "        z_pos_arrays_list = []\n",
    "        px_arrays_list = []\n",
    "        py_arrays_list = []\n",
    "        pz_arrays_list = []\n",
    "        m_arrays_list = []\n",
    "\n",
    "        # Loop through all files in the directory\n",
    "        for file_name in os.listdir(uproot_path):\n",
    "            if file_name.endswith(\".root\"):  # Ensure we're only processing ROOT files\n",
    "                file_path = os.path.join(uproot_path, file_name)\n",
    "\n",
    "                # Open the ROOT file\n",
    "                with up.open(file_path) as file:\n",
    "                    # Open tree\n",
    "                    tree = file[\"events\"]\n",
    "\n",
    "                    times_arrays_list.append(tree[\"HcalBarrelHits/HcalBarrelHits.time\"].array(library=\"np\"))\n",
    "                    cells_arrays_list.append(tree[\"HcalBarrelHits/HcalBarrelHits.cellID\"].array(library=\"np\"))\n",
    "                    x_pos_arrays_list.append(tree[\"HcalBarrelHits/HcalBarrelHits.position.x\"].array(library=\"np\"))\n",
    "                    y_pos_arrays_list.append(tree[\"HcalBarrelHits/HcalBarrelHits.position.y\"].array(library=\"np\"))\n",
    "                    z_pos_arrays_list.append(tree[\"HcalBarrelHits/HcalBarrelHits.position.z\"].array(library=\"np\"))\n",
    "                    \n",
    "                    px_arrays_list.append(tree[\"MCParticles/MCParticles.momentum.x\"].array(library=\"np\"))\n",
    "                    py_arrays_list.append(tree[\"MCParticles/MCParticles.momentum.y\"].array(library=\"np\"))\n",
    "                    pz_arrays_list.append(tree[\"MCParticles/MCParticles.momentum.z\"].array(library=\"np\"))\n",
    "                    \n",
    "                    m_arrays_list.append(tree[\"MCParticles/MCParticles.mass\"].array(library=\"np\"))\n",
    "\n",
    "        # Combine arrays for each branch\n",
    "        times = np.concatenate(times_arrays_list)\n",
    "        cells = np.concatenate(cells_arrays_list)\n",
    "        x_pos_branch = np.concatenate(x_pos_arrays_list)\n",
    "        y_pos_branch = np.concatenate(y_pos_arrays_list)\n",
    "        z_paugust_7_theta_90_pos_0_0_middle_z_calos_branch = np.concatenate(z_pos_arrays_list)\n",
    "        \n",
    "        px_branch = np.concatenate(px_arrays_list)\n",
    "        py_branch = np.concatenate(py_arrays_list)\n",
    "        pz_branch = np.concatenate(pz_arrays_list)\n",
    "        \n",
    "        m_branch = np.concatenate(m_arrays_list)\n",
    "\n",
    "        # Now combined_arrays contains the concatenated arrays for each branch across all files\n",
    "    else:\n",
    "        events = up.open(uproot_path)\n",
    "\n",
    "        times = events[\"HcalBarrelHits/HcalBarrelHits.time\"].array(library='np')\n",
    "        cells = events[\"HcalBarrelHits/HcalBarrelHits.cellID\"].array(library='np')\n",
    "        x_pos_branch = events[\"HcalBarrelHits/HcalBarrelHits.position.x\"].array(library='np')\n",
    "        y_pos_branch = events[\"HcalBarrelHits/HcalBarrelHits.position.y\"].array(library='np')\n",
    "        z_pos_branch = events[\"HcalBarrelHits/HcalBarrelHits.position.z\"].array(library='np')\n",
    "        \n",
    "        px_branch = events[\"MCParticles/MCParticles.momentum.x\"].array(library='np')\n",
    "        py_branch = events[\"MCParticles/MCParticles.momentum.y\"].array(library='np')\n",
    "        pz_branch = events[\"MCParticles/MCParticles.momentum.z\"].array(library='np')\n",
    "        \n",
    "        m_branch = events[\"MCParticles/MCParticles.mass\"].array(library='np')\n",
    "        \n",
    "    accepted_times = []\n",
    "    second_lowest_list = []\n",
    "    avg_accepted_times = []\n",
    "    rel_accepted_times = []\n",
    "\n",
    "    duplicates = 0\n",
    "    total = 0\n",
    "    total_cells = []\n",
    "\n",
    "    skipped = 0\n",
    "    num_list = []\n",
    "    \n",
    "    \n",
    "    #First loop over events\n",
    "    for event_num in range(len(cells)):\n",
    "\n",
    "        #skip events with less than 2 photons\n",
    "    #     if(times[event_num].shape[0] < threshold): continue\n",
    "\n",
    "        #Keep track of which cell IDs are hit\n",
    "        curr_list = []\n",
    "        for photon_num in range(len(cells[event_num])):\n",
    "            if(cells[event_num][photon_num] in curr_list):\n",
    "                duplicates += 1\n",
    "            else:\n",
    "                curr_list.append(cells[event_num][photon_num])\n",
    "            if(cells[event_num][photon_num] not in total_cells):\n",
    "                total_cells.append(cells[event_num][photon_num])\n",
    "            total += 1\n",
    "            \n",
    "        curr_p = p_func(px_branch[event_num][0],py_branch[event_num][0],pz_branch[event_num][0])#muon momentum\n",
    "        curr_travel_time = time_func(curr_p,m_branch[event_num][0],1769.3) #maybe 1770.3\n",
    "        event_adjusted_times = times[event_num] - curr_travel_time\n",
    "        \n",
    "        num_list.append(len(curr_list))\n",
    "        #check if 2 unique pixels are hit\n",
    "        if(len(curr_list) < threshold): \n",
    "            skipped += 1\n",
    "            continue\n",
    "        curr_min = min(event_adjusted_times)\n",
    "        accepted_times.append(curr_min)\n",
    "        second_lowest_list.append(min([x for x in event_adjusted_times if x != curr_min]))\n",
    "        avg_accepted_times.append(avg_time(threshold,event_adjusted_times))\n",
    "    #     if(len(curr_list) == 15):\n",
    "    #         print(f\"event #{event_num}\")\n",
    "    print(f\"total: {total} | duplicates: {duplicates} | ratio: {duplicates / total} | num unique cells hit: {len(total_cells)} | skipped: {skipped}\")\n",
    "    return accepted_times, second_lowest_list, avg_accepted_times"
   ]
  },
  {
   "cell_type": "code",
   "execution_count": 8,
   "id": "f9f213ed-3810-42a1-9361-e972341597a6",
   "metadata": {},
   "outputs": [
    {
     "name": "stdout",
     "output_type": "stream",
     "text": [
      "total: 876688 | duplicates: 57574 | ratio: 0.06567216615261073 | num unique cells hit: 6532 | skipped: 1\n"
     ]
    }
   ],
   "source": [
    "#Minimum number of pixels to be hit for us to accept event\n",
    "threshold = 10\n",
    "\n",
    "\n",
    "# uproot_path = f\"/hpc/group/vossenlab/rck32/eic/work_eic/root_files/time_res_one_segment_sensor/September_12/run_1\"\n",
    "\n",
    "# Most up-to-date data from 1cm thick w QE\n",
    "# uproot_path = f\"/hpc/group/vossenlab/rck32/eic/work_eic/root_files/time_res_one_segment_sensor/January_25/\"\n",
    "\n",
    "# Most up-to-date data from 1cm thick without QE\n",
    "#uproot_path = f\"/hpc/group/vossenlab/rck32/eic/work_eic/root_files/time_res_one_segment_sensor/January_25/no_QE\"\n",
    "\n",
    "# Most up-to-date data from 2cm thick without QE\n",
    "# uproot_path = f\"/hpc/group/vossenlab/rck32/eic/work_eic/root_files/time_res_one_segment_sensor/January_27/run_1_without_QE_2cm_thickness/\"\n",
    "\n",
    "# Most up-to-date data from 2cm thick w QE\n",
    "uproot_path = f\"/hpc/group/vossenlab/rck32/eic/work_eic/root_files/time_res_one_segment_sensor/January_27/run_1_w_QE_2cm_thickness/\"\n",
    "\n",
    "accepted_times, second_lowest_list, avg_accepted_times = process_times(uproot_path, threshold,True)"
   ]
  },
  {
   "cell_type": "code",
   "execution_count": 9,
   "id": "3331b8f2-e526-4110-aec9-77b835932f33",
   "metadata": {},
   "outputs": [
    {
     "name": "stdout",
     "output_type": "stream",
     "text": [
      "\tsigma:\t\t| mean:\t\t\n",
      "Real:\t\t  0.125 |\t 4.53\n",
      "Real cut:\t\t  0.110 |\t 4.54\n"
     ]
    }
   ],
   "source": [
    "#timing resolution:\n",
    "accepted_times = np.array(accepted_times)\n",
    "\n",
    "cut_accepted_times = accepted_times[accepted_times < 4.9]\n",
    "cut_accepted_times = cut_accepted_times[cut_accepted_times > 4.2]\n",
    "\n",
    "\n",
    "(mu_real, sigma_real) = norm.fit(accepted_times)\n",
    "(mu_real_cut, sigma_real_cut) = norm.fit(cut_accepted_times)\n",
    "print(\"\\tsigma:\\t\\t| mean:\\t\\t\")\n",
    "print(\"Real:\\t\\t  %4.3f |\\t %4.2f\" %(sigma_real,mu_real))\n",
    "print(\"Real cut:\\t\\t  %4.3f |\\t %4.2f\" %(sigma_real_cut,mu_real_cut))"
   ]
  },
  {
   "cell_type": "code",
   "execution_count": 10,
   "id": "92907db6-cad2-4f3b-8a6f-dfc58af7c020",
   "metadata": {},
   "outputs": [
    {
     "data": {
      "image/png": "[encoded data removed]",
      "text/plain": [
       "<Figure size 640x480 with 1 Axes>"
      ]
     },
     "metadata": {},
     "output_type": "display_data"
    }
   ],
   "source": [
    "fig_first_times, axs_first_times = plot.subplots(1,1)\n",
    "axs_first_times.hist(accepted_times,bins = 100,alpha = 1, color = \"red\",density = True);\n",
    "# axs_first_times.legend()\n",
    "axs_first_times.set_ylabel(\"Normalized Counts\")\n",
    "axs_first_times.set_xlabel(\"Arrival Time (ns)\")\n",
    "axs_first_times.text(3.8,2.1,r\"$\\sigma$ = %.3f ns\" % (sigma_real))\n",
    "axs_first_times.text(3.8,1.6,r\"# events: %d\" % (len(accepted_times)))\n",
    "axs_first_times.grid(alpha = 0.3)\n",
    "fig_first_times.suptitle(\"First Photon Arrival Time (2cm thick bar, w QE)\")\n",
    "fig_first_times.tight_layout()\n",
    "plot.show()\n",
    "fig_first_times.savefig(\"plots/time_res/January_25/time_res_10GeV_mu_w_QE_2cm.pdf\")"
   ]
  },
  {
   "cell_type": "code",
   "execution_count": null,
   "id": "a19eb908-8559-4984-87f2-624cf61f3176",
   "metadata": {},
   "outputs": [],
   "source": []
  }
 ],
 "metadata": {
  "kernelspec": {
   "display_name": "ML_venv",
   "language": "python",
   "name": "ml_venv"
  },
  "language_info": {
   "codemirror_mode": {
    "name": "ipython",
    "version": 3
   },
   "file_extension": ".py",
   "mimetype": "text/x-python",
   "name": "python",
   "nbconvert_exporter": "python",
   "pygments_lexer": "ipython3",
   "version": "3.9.19"
  }
 },
 "nbformat": 4,
 "nbformat_minor": 5
}
