{
 "cells": [
  {
   "cell_type": "code",
   "execution_count": 13,
   "id": "721cb7a1-4bb3-40a2-8cd2-3e7c2aeb7674",
   "metadata": {},
   "outputs": [],
   "source": [
    "import matplotlib.pyplot as plot\n",
    "import pandas as pd\n",
    "import os\n",
    "os.environ[\"DGLBACKEND\"] = \"pytorch\"\n",
    "import dgl\n",
    "import torch\n",
    "from dgl.data import DGLDataset\n",
    "import numpy as np\n",
    "import torch.nn as nn\n",
    "import torch\n",
    "import itertools\n",
    "import dgl.data\n",
    "import torch.nn.functional as F\n",
    "from dgl.dataloading import GraphDataLoader\n",
    "from tqdm import tqdm"
   ]
  },
  {
   "cell_type": "code",
   "execution_count": 41,
   "id": "2b1a8a09-7733-463a-9f48-31835f68388a",
   "metadata": {},
   "outputs": [],
   "source": [
    "data = pd.read_csv(\"/hpc/group/vossenlab/rck32/eic/work_eic/macros/Timing_estimation/data/df/old_500events_cluster.csv\")"
   ]
  },
  {
   "cell_type": "code",
   "execution_count": 89,
   "id": "b2e755eb-8261-41d6-995c-049257a81cfc",
   "metadata": {},
   "outputs": [],
   "source": [
    "def process_df(df, cone_angle_deg=45):\n",
    "    modified_df = df.copy()\n",
    "    event_references = modified_df.groupby('event_idx').last()[['first hit x', 'first hit y']]\n",
    "    modified_df['ModifiedTrueID'] = modified_df['trueID']\n",
    "    \n",
    "    for event_id in modified_df['event_idx'].unique():\n",
    "        event_mask = modified_df['event_idx'] == event_id\n",
    "        event_data = modified_df[event_mask]\n",
    "        \n",
    "        ref_x = event_references.loc[event_id, 'first hit x']\n",
    "        ref_y = event_references.loc[event_id, 'first hit y']\n",
    "        reference_angle = np.degrees(np.arctan2(ref_x, ref_y))\n",
    "        hit_angles = np.degrees(np.arctan2(event_data['strip_x']*10, event_data['strip_y']*10))\n",
    "        # Get the angular distance from the reference direction\n",
    "        angles = np.abs(hit_angles - reference_angle)\n",
    "        # Handle the wraparound at ±180 degrees\n",
    "        angles = np.minimum(angles, 360 - angles)\n",
    "        \n",
    "        # Modify TrueID for points outside cone\n",
    "        modified_df.loc[event_mask & (angles > cone_angle_deg), 'ModifiedTrueID'] = -1\n",
    "    return modified_df\n",
    "\n",
    "# Plot the data\n",
    "modified_df = process_df(data, cone_angle_deg = 22)"
   ]
  },
  {
   "cell_type": "code",
   "execution_count": 106,
   "id": "462c58f1-5900-4ccb-bbd6-0ded05ba3064",
   "metadata": {},
   "outputs": [],
   "source": [
    "class HitDataset(DGLDataset):\n",
    "    def __init__(self, data, filter_events):\n",
    "        self.data = data\n",
    "        self.filter_events = filter_events\n",
    "        super().__init__(name = \"KLM_reco\")\n",
    "    def process(self):\n",
    "        events_group = self.data.groupby(\"event_idx\")\n",
    "        self.labels = torch.empty(len(events_group))\n",
    "        self.graphs = []\n",
    "        it_idx = 0\n",
    "        for event_idx in events_group.groups:\n",
    "            curr_event = events_group.get_group(event_idx)\n",
    "            nhits = len(curr_event)\n",
    "            '''FIRST FILTER FOR EVENTS'''\n",
    "            if(self.filter_events):\n",
    "                ModifiedTrueID_unique = np.array(curr_event['ModifiedTrueID'].unique())\n",
    "                valid_ModifiedTrueID_unique = ModifiedTrueID_unique[ModifiedTrueID_unique != -1]\n",
    "                #skip events with multiple valid trueIDs\n",
    "                if(len(valid_ModifiedTrueID_unique) > 1):\n",
    "                    continue\n",
    "            \n",
    "                #skip events with no valid ModififiedTrueIDs\n",
    "                if(len(valid_ModifiedTrueID_unique) == 0):\n",
    "                    continue\n",
    "            #Fully connected network of hits\n",
    "            if(nhits <2):\n",
    "                sources, destinations = [],[]\n",
    "            else:\n",
    "                sources, destinations = zip(*[\n",
    "                        (i, j) for i, j in itertools.product(range(nhits), range(nhits))\n",
    "                        if i != j\n",
    "                ])\n",
    "            g = dgl.graph((sources, destinations), num_nodes=nhits)\n",
    "\n",
    "            if(nhits < 2):\n",
    "                g = dgl.add_self_loop(g)\n",
    "            #Want to predict momentum/energy\n",
    "            label = torch.tensor(curr_event[\"P\"].to_numpy()[0])\n",
    "            self.labels[it_idx] = label\n",
    "\n",
    "            #Node features: strip position and SiPM output\n",
    "\n",
    "            \n",
    "            '''TO RETAIN STRUCTURE OF FEATURES:'''\n",
    "            \n",
    "            #strip_pos has shape nhits x 2\n",
    "            strip_pos = torch.tensor(np.stack((curr_event[\"strip_x\"].to_numpy(),curr_event[\"strip_y\"].to_numpy()),axis = 1))\n",
    "            #SiPM_timing has shape nhits x 2 (SiPMs are together in one tensor)\n",
    "            SiPM_timing = torch.tensor(np.stack((curr_event[\"Time1\"].to_numpy(),curr_event[\"Time2\"].to_numpy()),axis = 1))\n",
    "            SiPM_charge = torch.tensor(np.stack((curr_event[\"Charge1\"].to_numpy(),curr_event[\"Charge2\"].to_numpy()),axis = 1))\n",
    "           \n",
    "            g.ndata[\"features\"] = torch.stack((strip_pos,SiPM_timing,SiPM_charge),dim=1)\n",
    "            \n",
    "            '''FLATTENED VERSION'''\n",
    "            #THIS VERSION KEEPS FEATURES IN ONE DIMENSION\n",
    "            feats = np.stack((\n",
    "                curr_event[\"strip_x\"].to_numpy(),curr_event[\"strip_y\"].to_numpy(),\n",
    "                curr_event[\"Time1\"].to_numpy(),curr_event[\"Time2\"].to_numpy(),\n",
    "                curr_event[\"Charge1\"].to_numpy(),curr_event[\"Charge2\"].to_numpy()\n",
    "            ),axis = -1)\n",
    "            g.ndata[\"features\"] = torch.tensor(feats)\n",
    "    \n",
    "\n",
    "            #add graph to dataset\n",
    "            self.graphs.append(g)\n",
    "            it_idx += 1\n",
    "        self.dim_nfeats = self.graphs[0].ndata[\"features\"].shape[1]\n",
    "\n",
    "    def __getitem__(self, i):\n",
    "        return self.graphs[i], self.labels[i]\n",
    "\n",
    "    def __len__(self):\n",
    "        return len(self.graphs)\n",
    "\n",
    "dataset = HitDataset(modified_df,True)"
   ]
  },
  {
   "cell_type": "code",
   "execution_count": 108,
   "id": "e9c2f973-b0a5-4879-a472-cc703c94a723",
   "metadata": {},
   "outputs": [],
   "source": [
    "from dgl.nn import GraphConv\n",
    "\n",
    "\n",
    "class GCN(nn.Module):\n",
    "    def __init__(self, in_feats, h_feats, num_classes = 1):\n",
    "        super(GCN, self).__init__()\n",
    "        self.conv1 = GraphConv(in_feats, h_feats)\n",
    "        self.conv2 = GraphConv(h_feats, num_classes)\n",
    "\n",
    "    def forward(self, g, in_feat):\n",
    "        h = self.conv1(g, in_feat)\n",
    "        h = F.relu(h)\n",
    "        h = self.conv2(g, h)\n",
    "        g.ndata[\"h\"] = h\n",
    "        return dgl.mean_nodes(g, \"h\")"
   ]
  },
  {
   "cell_type": "code",
   "execution_count": 109,
   "id": "c9ba4067-d115-4477-b952-66ad5d5d1d4f",
   "metadata": {},
   "outputs": [
    {
     "data": {
      "text/plain": [
       "Graph(num_nodes=24, num_edges=552,\n",
       "      ndata_schemes={'features': Scheme(shape=(6,), dtype=torch.float64)}\n",
       "      edata_schemes={})"
      ]
     },
     "execution_count": 109,
     "metadata": {},
     "output_type": "execute_result"
    }
   ],
   "source": [
    "dataset[0][0]"
   ]
  },
  {
   "cell_type": "code",
   "execution_count": 110,
   "id": "35b4e634-ec44-445a-bfdb-2c46c0d0bd5e",
   "metadata": {},
   "outputs": [],
   "source": [
    "# Create the model with given dimensions\n",
    "model = GCN(dataset.dim_nfeats, 16)\n",
    "optimizer = torch.optim.Adam(model.parameters(), lr=0.01)"
   ]
  },
  {
   "cell_type": "code",
   "execution_count": 111,
   "id": "0f47e55f-2fd5-4474-b8e7-987a9eb06880",
   "metadata": {},
   "outputs": [],
   "source": [
    "test_frac = 0.8\n",
    "test_start = int(np.floor(len(dataset) * 0.8))\n",
    "train_dataset = dataset[0:test_start]\n",
    "test_dataset = dataset[test_start:]"
   ]
  },
  {
   "cell_type": "code",
   "execution_count": 117,
   "id": "d5974aaf-feef-4394-8910-e0ef4727cf7f",
   "metadata": {},
   "outputs": [
    {
     "name": "stderr",
     "output_type": "stream",
     "text": [
      "100%|██████████| 30/30 [00:02<00:00, 10.27it/s]\n"
     ]
    }
   ],
   "source": [
    "criterion = nn.MSELoss()\n",
    "n_epochs = 30\n",
    "losses = []\n",
    "for epoch in tqdm(range(n_epochs)):\n",
    "    epoch_losses = []\n",
    "    for graph_idx in range(len(train_dataset[0])):\n",
    "        try:\n",
    "            graph = train_dataset[0][graph_idx]\n",
    "            label = train_dataset[1][graph_idx]\n",
    "            pred = model(graph, graph.ndata[\"features\"].float())\n",
    "            loss = criterion(pred.squeeze(0), label.unsqueeze(-1))\n",
    "            epoch_losses.append(loss.item())\n",
    "            optimizer.zero_grad()\n",
    "            loss.backward()\n",
    "            optimizer.step()\n",
    "        except:\n",
    "            print(graph)\n",
    "    losses.append(np.mean(epoch_losses))"
   ]
  },
  {
   "cell_type": "code",
   "execution_count": 118,
   "id": "0f78386f-9ca1-40fa-9ead-e78e708e426a",
   "metadata": {},
   "outputs": [
    {
     "data": {
      "text/plain": [
       "[<matplotlib.lines.Line2D at 0x7f87914367f0>]"
      ]
     },
     "execution_count": 118,
     "metadata": {},
     "output_type": "execute_result"
    },
    {
     "data": {
      "image/png": "[encoded data removed]",
      "text/plain": [
       "<Figure size 640x480 with 1 Axes>"
      ]
     },
     "metadata": {},
     "output_type": "display_data"
    }
   ],
   "source": [
    "plot.plot(losses)"
   ]
  },
  {
   "cell_type": "code",
   "execution_count": 119,
   "id": "c79253f7-4239-4e7d-84ea-4d71add950ad",
   "metadata": {},
   "outputs": [],
   "source": [
    "truths = []\n",
    "preds = []\n",
    "sqerrors = []\n",
    "for graph_idx in range(len(test_dataset[0])):\n",
    "    graph = test_dataset[0][graph_idx]\n",
    "    truth = test_dataset[1][graph_idx].detach()\n",
    "    pred = model(graph, graph.ndata[\"features\"].float()).detach()\n",
    "    truths.append(truth)\n",
    "    preds.append(pred)\n",
    "    sqerrors = pow(truth - pred,2)\n",
    "sqerrors = np.array(sqerrors)\n",
    "rmse = np.sqrt(np.mean(sqerrors))"
   ]
  },
  {
   "cell_type": "code",
   "execution_count": 120,
   "id": "51207b16-51a4-43a3-9efd-a9db350ca573",
   "metadata": {},
   "outputs": [
    {
     "data": {
      "text/plain": [
       "np.float32(0.602939)"
      ]
     },
     "execution_count": 120,
     "metadata": {},
     "output_type": "execute_result"
    }
   ],
   "source": [
    "rmse"
   ]
  },
  {
   "cell_type": "code",
   "execution_count": 121,
   "id": "c280763f-982a-4c9c-8024-b770fb9266f7",
   "metadata": {},
   "outputs": [
    {
     "data": {
      "text/plain": [
       "[<matplotlib.lines.Line2D at 0x7f8791c76d00>]"
      ]
     },
     "execution_count": 121,
     "metadata": {},
     "output_type": "execute_result"
    },
    {
     "data": {
      "image/png": "[encoded data removed]",
      "text/plain": [
       "<Figure size 640x480 with 1 Axes>"
      ]
     },
     "metadata": {},
     "output_type": "display_data"
    }
   ],
   "source": [
    "plot.scatter(truths,preds)\n",
    "plot.plot([0,10],[0,10])"
   ]
  },
  {
   "cell_type": "code",
   "execution_count": null,
   "id": "178976be-5eb7-46e8-86f0-c56dd01a1769",
   "metadata": {},
   "outputs": [],
   "source": []
  }
 ],
 "metadata": {
  "kernelspec": {
   "display_name": "ML_venv",
   "language": "python",
   "name": "ml_venv"
  },
  "language_info": {
   "codemirror_mode": {
    "name": "ipython",
    "version": 3
   },
   "file_extension": ".py",
   "mimetype": "text/x-python",
   "name": "python",
   "nbconvert_exporter": "python",
   "pygments_lexer": "ipython3",
   "version": "3.9.18"
  }
 },
 "nbformat": 4,
 "nbformat_minor": 5
}
