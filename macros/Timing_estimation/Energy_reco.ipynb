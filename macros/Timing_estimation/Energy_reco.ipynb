{
 "cells": [
  {
   "cell_type": "markdown",
   "id": "115bfe6d-13fb-438f-b4a4-3ce016d7a5a6",
   "metadata": {},
   "source": [
    "# Notebook for training NN to reconstruct energy"
   ]
  },
  {
   "cell_type": "code",
   "execution_count": null,
   "id": "a5cecd31-837c-4f3e-9ba1-4ba5973a8005",
   "metadata": {},
   "outputs": [],
   "source": [
    "import torch\n",
    "import numpy as np\n",
    "import pandas as pd\n",
    "import uproot as up\n",
    "from reco import process_data"
   ]
  },
  {
   "cell_type": "code",
   "execution_count": 3,
   "id": "50f585c7-e33c-48ca-bda9-1e58fe551577",
   "metadata": {},
   "outputs": [],
   "source": [
    "in_dim = 28\n",
    "out_dim = 1\n",
    "num_epochs = 1\n",
    "batch_size = 100"
   ]
  },
  {
   "cell_type": "code",
   "execution_count": null,
   "id": "1c2ae10a-cbac-49bf-b9ce-6ca416496cdc",
   "metadata": {},
   "outputs": [],
   "source": [
    "data_path = \"/cwork/rck32/eic/work_eic/root_files/July_25/sector_scint/run_1_mu_5GeV_theta_vary_10kevents.edm4hep.root\"\n",
    "data = process_data(data_path)\n",
    "data_size = len(data)\n",
    "\n",
    "num_its = int(np.floor(data_size / batch_size))"
   ]
  },
  {
   "cell_type": "code",
   "execution_count": 4,
   "id": "d0ba8097-2b8a-45f0-9684-3506ee1f92d1",
   "metadata": {},
   "outputs": [],
   "source": [
    "import torch.nn as nn\n",
    "import torch.nn.functional as F\n",
    "\n",
    "\n",
    "class Net(nn.Module):\n",
    "    def __init__(self):\n",
    "        super().__init__()\n",
    "        self.fc1 = nn.Linear(in_dim, 120)\n",
    "        self.fc2 = nn.Linear(120, 84)\n",
    "        self.fc2 = nn.Linear(84, 42)\n",
    "        self.fc3 = nn.Linear(42, out_dim)\n",
    "\n",
    "    def forward(self, x):\n",
    "        x = F.relu(self.fc1(x))\n",
    "        x = F.relu(self.fc2(x))\n",
    "        x = self.fc3(x)\n",
    "        return x\n",
    "\n",
    "\n",
    "model = Net()"
   ]
  },
  {
   "cell_type": "code",
   "execution_count": null,
   "id": "ac8b4cf5-3ac5-45c8-9414-de2d0faab380",
   "metadata": {},
   "outputs": [],
   "source": [
    "print(\"beginning training\")\n",
    "for epoch in range(num_epochs):  # loop over the dataset multiple times\n",
    "\n",
    "    running_loss = 0.0\n",
    "    for i, data in enumerate(trainloader, 0):\n",
    "        # get the inputs; data is a list of [inputs, labels]\n",
    "        inputs, labels = data\n",
    "\n",
    "        # zero the parameter gradients\n",
    "        optimizer.zero_grad()\n",
    "\n",
    "        # forward + backward + optimize\n",
    "        outputs = net(inputs)\n",
    "        loss = criterion(outputs, labels)\n",
    "        loss.backward()\n",
    "        optimizer.step()\n",
    "\n",
    "        # print statistics\n",
    "        running_loss += loss.item()\n",
    "        if i % 2000 == 1999:    # print every 2000 mini-batches\n",
    "            print(f'[{epoch + 1}, {i + 1:5d}] loss: {running_loss / 2000:.3f}')\n",
    "            running_loss = 0.0\n",
    "\n",
    "print('Finished Training')\n",
    "\n"
   ]
  }
 ],
 "metadata": {
  "kernelspec": {
   "display_name": "ML_venv",
   "language": "python",
   "name": "ml_venv"
  },
  "language_info": {
   "codemirror_mode": {
    "name": "ipython",
    "version": 3
   },
   "file_extension": ".py",
   "mimetype": "text/x-python",
   "name": "python",
   "nbconvert_exporter": "python",
   "pygments_lexer": "ipython3",
   "version": "3.9.18"
  }
 },
 "nbformat": 4,
 "nbformat_minor": 5
}
