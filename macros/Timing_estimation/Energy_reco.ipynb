{
 "cells": [
  {
   "cell_type": "markdown",
   "id": "115bfe6d-13fb-438f-b4a4-3ce016d7a5a6",
   "metadata": {},
   "source": [
    "# Notebook for training NN to reconstruct energy"
   ]
  },
  {
   "cell_type": "code",
   "execution_count": 1,
   "id": "a5cecd31-837c-4f3e-9ba1-4ba5973a8005",
   "metadata": {},
   "outputs": [
    {
     "name": "stdout",
     "output_type": "stream",
     "text": [
      "Using device cuda:0\n"
     ]
    }
   ],
   "source": [
    "import torch\n",
    "import numpy as np\n",
    "import pandas as pd\n",
    "import uproot as up\n",
    "from reco import process_data_energy_reco,Predictor,train,plot_predictions,evaluate_model,shuffle_segment_data,plot_loss_predictions\n",
    "from IPython.display import clear_output\n",
    "import matplotlib.pyplot as plot"
   ]
  },
  {
   "cell_type": "code",
   "execution_count": 2,
   "id": "3ec0ddbf-dd24-4df0-aefc-3a3cce2168ed",
   "metadata": {},
   "outputs": [],
   "source": [
    "# Get device to be used\n",
    "device = torch.device('cuda' if torch.cuda.is_available() else 'cpu')"
   ]
  },
  {
   "cell_type": "code",
   "execution_count": null,
   "id": "5e9b2f37-024e-4fd3-8989-713aa5ffefea",
   "metadata": {},
   "outputs": [
    {
     "name": "stdout",
     "output_type": "stream",
     "text": [
      "Event #468218\n"
     ]
    }
   ],
   "source": [
    "in_dim = 28\n",
    "out_dim = 1\n",
    "num_epochs = 1\n",
    "batch_size = 100\n",
    "\n",
    "data_path = \"/cwork/rck32/eic/work_eic/root_files/August_7/sector_scint/run_1_n_0_8_10GeV_theta_90_500kevents.edm4hep.root:events\"\n",
    "inputs = process_data_energy_reco(data_path)\n",
    "\n",
    "train_data, test_data, val_data = shuffle_segment_data(inputs)"
   ]
  },
  {
   "cell_type": "code",
   "execution_count": null,
   "id": "d0ba8097-2b8a-45f0-9684-3506ee1f92d1",
   "metadata": {},
   "outputs": [],
   "source": [
    "model = Predictor(input_size=56, num_classes=1, hidden_dim = 512, num_layers = 20)\n",
    "model = model.to(device)\n",
    "optimizer = torch.optim.Adam(model.parameters(), lr=1e-5, weight_decay=1e-5)"
   ]
  },
  {
   "cell_type": "code",
   "execution_count": null,
   "id": "bbeb4575-1506-4700-a477-dbcb1ab154fe",
   "metadata": {},
   "outputs": [],
   "source": [
    "loss_hist = train(model, train_data,optimizer,device, num_epochs = 4, batch_size = 50, show_progress = True)"
   ]
  },
  {
   "cell_type": "code",
   "execution_count": null,
   "id": "5899327c-35a2-4691-b3dc-4e4b5d90279e",
   "metadata": {},
   "outputs": [],
   "source": [
    "plot_loss_predictions(loss_hist)"
   ]
  },
  {
   "cell_type": "code",
   "execution_count": null,
   "id": "0e3bcdf6-900a-4cde-a57d-07c9b7a03862",
   "metadata": {},
   "outputs": [],
   "source": [
    "len(test_data)"
   ]
  },
  {
   "cell_type": "code",
   "execution_count": null,
   "id": "f26d1acc-5678-4d02-88e9-608bc36486cd",
   "metadata": {},
   "outputs": [],
   "source": [
    "mae, mse, rmse, r2 = evaluate_model(model, test_data, device)"
   ]
  },
  {
   "cell_type": "code",
   "execution_count": null,
   "id": "b7723340-2263-4940-8099-a33ea1da767f",
   "metadata": {},
   "outputs": [],
   "source": []
  }
 ],
 "metadata": {
  "kernelspec": {
   "display_name": "ML_venv",
   "language": "python",
   "name": "ml_venv"
  },
  "language_info": {
   "codemirror_mode": {
    "name": "ipython",
    "version": 3
   },
   "file_extension": ".py",
   "mimetype": "text/x-python",
   "name": "python",
   "nbconvert_exporter": "python",
   "pygments_lexer": "ipython3",
   "version": "3.9.18"
  }
 },
 "nbformat": 4,
 "nbformat_minor": 5
}
