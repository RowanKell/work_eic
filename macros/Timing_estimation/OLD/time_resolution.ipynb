{
 "cells": [
  {
   "cell_type": "code",
   "execution_count": 1,
   "id": "1467505e-0624-473a-a89f-9ddf6b0718f7",
   "metadata": {},
   "outputs": [],
   "source": [
    "import numpy as np\n",
    "import uproot as up\n",
    "import pandas as pd\n",
    "import matplotlib.pyplot as plot\n",
    "import matplotlib.mlab as mlab\n",
    "from scipy.stats import norm\n",
    "import pylandau\n",
    "from time_res_util import process_times,get_all_times\n",
    "import os\n",
    "import time"
   ]
  },
  {
   "cell_type": "markdown",
   "id": "247e9bd8-c460-4d31-9325-cc950c11e817",
   "metadata": {},
   "source": [
    "#### Set any parameters here to select the root file and prepare the plots"
   ]
  },
  {
   "cell_type": "code",
   "execution_count": 2,
   "id": "4c3d70e7-af8b-4112-9aeb-7df92b69aaf9",
   "metadata": {},
   "outputs": [],
   "source": [
    "# particle = \"pi\"\n",
    "particle = \"mu\"\n",
    "length = \"1.5\"\n",
    "length_dict = {\n",
    "    \"2.5\" : \"2_5\",\n",
    "    \"2\" : \"2\",\n",
    "    \"1.5\" : \"1_5\"\n",
    "}\n",
    "color_dict = {\n",
    "    \"pi\" : \"green\",\n",
    "    \"mu\" : \"blue\"\n",
    "}"
   ]
  },
  {
   "cell_type": "markdown",
   "id": "c230aca6-3389-4332-b8d1-ee52d200c0fd",
   "metadata": {},
   "source": [
    "#### Next, open the root file with uproot and save the times to a Numpy Array and call the process function"
   ]
  },
  {
   "cell_type": "code",
   "execution_count": 13,
   "id": "4fff2bdb-007e-462b-b42c-b0a955217475",
   "metadata": {},
   "outputs": [
    {
     "name": "stdout",
     "output_type": "stream",
     "text": [
      "total: 41974 | duplicates: 2695 | ratio: 0.06420641349406776 | num unique cells hit: 2621 | skipped: 0\n"
     ]
    }
   ],
   "source": [
    "#Minimum number of pixels to be hit for us to accept event\n",
    "threshold = 10\n",
    "\n",
    "uproot_path = f\"/cwork/rck32/eic/work_eic/root_files/August_1/run_1cm_optph/mu_5GeV_500_0.edm4hep.root:events\"\n",
    "# uproot_path = f\"/cwork/rck32/eic/work_eic/root_files/August_1/run_1cm_optph/\"\n",
    "accepted_times, second_lowest_list, avg_accepted_times = process_times(uproot_path, threshold,False)"
   ]
  },
  {
   "cell_type": "code",
   "execution_count": 14,
   "id": "43107a38-0ac3-448a-a7f0-78e24ead988e",
   "metadata": {},
   "outputs": [],
   "source": [
    "flattened_times = get_all_times(uproot_path,multipleFiles = False)"
   ]
  },
  {
   "cell_type": "markdown",
   "id": "41449764-d926-4e9b-85ad-558499616bb0",
   "metadata": {},
   "source": [
    "#### We can plot the times in a histogram to visualize the result"
   ]
  },
  {
   "cell_type": "markdown",
   "id": "225becb2-d6f8-4129-a9a8-9a1b8d79470f",
   "metadata": {},
   "source": [
    "#### Now we need to calculate the standard deviation and mean of this distribution"
   ]
  },
  {
   "cell_type": "code",
   "execution_count": 16,
   "id": "5e66ab63-10ec-44fc-bb00-7561659473c7",
   "metadata": {},
   "outputs": [],
   "source": [
    "use_avg = False"
   ]
  },
  {
   "cell_type": "code",
   "execution_count": 17,
   "id": "618dfc3a-70fb-4fc0-b395-d1d6270aa50d",
   "metadata": {},
   "outputs": [
    {
     "name": "stdout",
     "output_type": "stream",
     "text": [
      "resolution (sigma): 0.130 | mean: 4.63 | FWHM: 0.305\n"
     ]
    },
    {
     "data": {
      "image/png": "[encoded data removed]",
      "text/plain": [
       "<Figure size 432x288 with 1 Axes>"
      ]
     },
     "metadata": {
      "needs_background": "light"
     },
     "output_type": "display_data"
    }
   ],
   "source": [
    "# plot_times = avg_accepted_times if use_avg else accepted_times\n",
    "plot_times = second_lowest_list\n",
    "\n",
    "fig, axs = plot.subplots(1, 1)\n",
    "\n",
    "(mu, sigma) = norm.fit(plot_times)\n",
    "n, bins, patches = plot.hist(plot_times, 100, facecolor=color_dict[particle], alpha=0.75,density=True)\n",
    "fig.suptitle(f\"5GeV {particle}-, {length}m length, thresh={threshold}\")\n",
    "\n",
    "y = norm.pdf( bins, mu, sigma)\n",
    "l = axs.plot(bins, y, 'r--', linewidth=2)\n",
    "axs.set_xlabel('Time (ns)')\n",
    "axs.set_ylabel('Counts (normalized)')\n",
    "axs.grid(True)\n",
    "axs.text(4.9,1.6,r'$\\mu=%4.2f,\\ \\sigma=%4.3f$'%(mu,sigma),fontsize=14)\n",
    "\n",
    "fig.show()\n",
    "extra_str = \"_avg\" if use_avg else \"\"\n",
    "# fig.savefig(f\"plots/time_res/July_31/one_bar_optph_1cm_time_res.jpeg\")\n",
    "print(\"resolution (sigma): %4.3f | mean: %4.2f | FWHM: %4.3f\" %(sigma,mu,(2.35 * sigma)))"
   ]
  },
  {
   "cell_type": "code",
   "execution_count": null,
   "id": "230c8d0e-7c4f-4d3d-9ce2-a5517f5e3634",
   "metadata": {},
   "outputs": [],
   "source": []
  }
 ],
 "metadata": {
  "kernelspec": {
   "display_name": "Python 3",
   "language": "python",
   "name": "python3"
  },
  "language_info": {
   "codemirror_mode": {
    "name": "ipython",
    "version": 3
   },
   "file_extension": ".py",
   "mimetype": "text/x-python",
   "name": "python",
   "nbconvert_exporter": "python",
   "pygments_lexer": "ipython3",
   "version": "3.8.8"
  }
 },
 "nbformat": 4,
 "nbformat_minor": 5
}
