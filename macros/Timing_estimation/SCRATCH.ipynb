{
 "cells": [
  {
   "cell_type": "code",
   "execution_count": 4,
   "id": "ed8a20f6-e328-4b87-b950-aec97555bdc2",
   "metadata": {},
   "outputs": [],
   "source": [
    "import numpy as np\n",
    "import pandas as pd"
   ]
  },
  {
   "cell_type": "code",
   "execution_count": 5,
   "id": "dd2da6b1-038a-4928-8b02-98256176c84e",
   "metadata": {},
   "outputs": [],
   "source": [
    "df = pd.read_csv(\"test.csv\")"
   ]
  },
  {
   "cell_type": "code",
   "execution_count": 2,
   "id": "79023733-1a6b-4edd-ba44-74404a8275e8",
   "metadata": {},
   "outputs": [],
   "source": [
    "def get_knn_edges(x, y, k):\n",
    "    \"\"\" \n",
    "    Given x and y coordinates of nodes, compute edges for a k-NN graph.\n",
    "\n",
    "    Args:\n",
    "        x (numpy array): x-coordinates of nodes.\n",
    "        y (numpy array): y-coordinates of nodes.\n",
    "        k (int): Number of nearest neighbors.\n",
    "\n",
    "    Returns:\n",
    "        sources (numpy array): List of source nodes.\n",
    "        destinations (numpy array): List of destination nodes.\n",
    "    \"\"\"\n",
    "    n = len(x)\n",
    "\n",
    "    # Compute pairwise distances\n",
    "    x_diff = x[:, np.newaxis] - x[np.newaxis, :]\n",
    "    y_diff = y[:, np.newaxis] - y[np.newaxis, :]\n",
    "    distances = np.sqrt(x_diff**2 + y_diff**2)\n",
    "\n",
    "    # Get the indices of the k nearest neighbors for each node (excluding self-connections)\n",
    "    knn_indices = np.argsort(distances, axis=1)[:, 1:k+1]\n",
    "\n",
    "    # Create source and destination lists\n",
    "    sources = np.repeat(np.arange(n), k)\n",
    "    destinations = knn_indices.flatten()\n",
    "\n",
    "    return sources, destinations"
   ]
  },
  {
   "cell_type": "code",
   "execution_count": 6,
   "id": "d51cc459-e54c-4f85-996c-ddb723ffd361",
   "metadata": {},
   "outputs": [],
   "source": [
    "x = df[\"cog_x\"].values\n",
    "y = df[\"cog_y\"].values\n",
    "x_diff = x[:, np.newaxis] - x[np.newaxis, :]\n",
    "y_diff = y[:, np.newaxis] - y[np.newaxis, :]\n",
    "\n"
   ]
  },
  {
   "cell_type": "code",
   "execution_count": 18,
   "id": "432b8866-c65d-4b38-b49e-312158f08f73",
   "metadata": {},
   "outputs": [
    {
     "data": {
      "text/plain": [
       "array([-8.58187309e+01,  7.02230800e+01, -5.68355437e+01,  7.24089550e+01,\n",
       "        2.65573817e+00,  3.78364394e+01, -7.08096574e+01, -7.27117507e+01,\n",
       "        5.04267427e+01, -7.26570653e+01, -7.58302070e+01,  6.24189235e+01,\n",
       "       -9.56646895e+00, -8.38682669e+01, -3.04900489e+00,  1.15912797e+01,\n",
       "        1.30738802e+01,  8.53280631e+00, -3.28605771e+01,  2.68112586e+01,\n",
       "        6.52904090e+01, -4.49160887e+00,  1.89974009e+00,  1.56160417e+01,\n",
       "        1.03343153e+02, -7.33643319e+00, -1.14885639e+02, -2.44773732e+01,\n",
       "        4.36918448e+01,  7.47863894e+00,  2.70725361e+01, -6.87568879e+00,\n",
       "       -2.85716725e+01,  3.69891453e+01, -3.00487059e+01, -2.06829516e+01,\n",
       "        5.67769958e+01,  2.34611572e+01, -1.89208490e+01, -6.51843586e+01,\n",
       "        4.09961451e+01, -1.27488273e+01,  5.29106431e+01,  4.30794532e-01,\n",
       "        3.68519679e+01,  1.46292565e+01, -9.23545512e+00,  2.15982122e+01,\n",
       "       -8.26865012e-02,  2.72256206e+00])"
      ]
     },
     "execution_count": 18,
     "metadata": {},
     "output_type": "execute_result"
    }
   ],
   "source": [
    "x"
   ]
  },
  {
   "cell_type": "code",
   "execution_count": 19,
   "id": "65d5c8d0-a548-463a-8bb2-62c0579248c4",
   "metadata": {},
   "outputs": [
    {
     "data": {
      "text/plain": [
       "array([[-8.58187309e+01,  7.02230800e+01, -5.68355437e+01,\n",
       "         7.24089550e+01,  2.65573817e+00,  3.78364394e+01,\n",
       "        -7.08096574e+01, -7.27117507e+01,  5.04267427e+01,\n",
       "        -7.26570653e+01, -7.58302070e+01,  6.24189235e+01,\n",
       "        -9.56646895e+00, -8.38682669e+01, -3.04900489e+00,\n",
       "         1.15912797e+01,  1.30738802e+01,  8.53280631e+00,\n",
       "        -3.28605771e+01,  2.68112586e+01,  6.52904090e+01,\n",
       "        -4.49160887e+00,  1.89974009e+00,  1.56160417e+01,\n",
       "         1.03343153e+02, -7.33643319e+00, -1.14885639e+02,\n",
       "        -2.44773732e+01,  4.36918448e+01,  7.47863894e+00,\n",
       "         2.70725361e+01, -6.87568879e+00, -2.85716725e+01,\n",
       "         3.69891453e+01, -3.00487059e+01, -2.06829516e+01,\n",
       "         5.67769958e+01,  2.34611572e+01, -1.89208490e+01,\n",
       "        -6.51843586e+01,  4.09961451e+01, -1.27488273e+01,\n",
       "         5.29106431e+01,  4.30794532e-01,  3.68519679e+01,\n",
       "         1.46292565e+01, -9.23545512e+00,  2.15982122e+01,\n",
       "        -8.26865012e-02,  2.72256206e+00]])"
      ]
     },
     "execution_count": 19,
     "metadata": {},
     "output_type": "execute_result"
    }
   ],
   "source": [
    "x[np.newaxis,:]"
   ]
  },
  {
   "cell_type": "code",
   "execution_count": 20,
   "id": "79f68a15-f943-4ce5-b6b7-6c89f3aa066d",
   "metadata": {},
   "outputs": [],
   "source": [
    "\n",
    "distances = np.sqrt(x_diff**2 + y_diff**2)"
   ]
  },
  {
   "cell_type": "code",
   "execution_count": 23,
   "id": "c249ac04-3db3-4ab2-975f-9a4190ea287b",
   "metadata": {},
   "outputs": [],
   "source": [
    "k = 5\n",
    "knn_indices = np.argsort(distances, axis=1)[:, 1:k+1]"
   ]
  },
  {
   "cell_type": "code",
   "execution_count": 35,
   "id": "4a2000b0-caa1-4c1a-97f4-d0453ebd1b5d",
   "metadata": {},
   "outputs": [
    {
     "data": {
      "text/plain": [
       "array([ 6,  9, 39, 13, 10, 24, 42, 19, 20,  4, 27, 43, 18, 13, 29, 36, 40,\n",
       "        5,  8, 33, 14, 46, 41, 19, 21, 40, 36, 33, 45, 28,  9, 39,  0, 13,\n",
       "       10, 10,  0, 26, 32,  6, 44, 33, 11, 40, 37,  6, 39, 13,  0, 18,  7,\n",
       "        0, 26,  6, 39, 20,  8, 44, 42, 33, 25, 41,  4, 46, 14,  9,  6, 39,\n",
       "        0, 18, 46,  4, 21, 41, 32, 22, 17, 37, 29, 49, 23, 47, 48, 49, 17,\n",
       "       49, 23, 15, 22, 48, 27, 38, 31, 35, 34,  4, 30, 14, 42, 46, 11, 42,\n",
       "        8, 44, 30, 14, 46, 35, 38, 34, 15, 17, 49, 29, 31, 16, 17, 49, 37,\n",
       "       48,  1, 20, 42, 11, 19, 12, 41,  4, 46, 14,  0, 10,  7,  6,  9, 18,\n",
       "       31, 22, 38, 49,  5, 36, 40, 45,  3, 45, 15, 22, 43, 17, 47, 16, 44,\n",
       "       23, 42, 48, 49, 17, 22, 38, 34, 46, 41, 14, 35, 40, 37, 44,  8,  5,\n",
       "       35, 32, 38, 21, 46, 38, 34, 21, 32, 18,  3, 40,  5, 33,  8, 15, 23,\n",
       "       33, 17, 44, 35, 18, 31, 34, 48,  6,  9, 13,  0, 18,  5, 33, 36, 37,\n",
       "        8,  4, 46, 14, 32, 25, 20, 11, 30, 19, 47, 45, 29, 22, 15,  5,  8,\n",
       "       37, 33, 23, 47, 29, 43, 15,  5, 22, 14,  4, 41, 21, 32, 30, 16, 23,\n",
       "       44, 48, 49, 31, 17, 16, 23, 48, 17, 31, 23, 22])"
      ]
     },
     "execution_count": 35,
     "metadata": {},
     "output_type": "execute_result"
    }
   ],
   "source": [
    "knn_indices.flatten()"
   ]
  },
  {
   "cell_type": "code",
   "execution_count": 29,
   "id": "95b2a6f3-afa9-4d71-901e-70f131a4c0ec",
   "metadata": {},
   "outputs": [],
   "source": [
    "n = len(x)"
   ]
  },
  {
   "cell_type": "code",
   "execution_count": 30,
   "id": "3ef2bafa-d5f3-4377-91df-c4ea49c0f2cd",
   "metadata": {},
   "outputs": [],
   "source": [
    "sources = np.repeat(np.arange(n), k)\n",
    "destinations = knn_indices.flatten()\n"
   ]
  },
  {
   "cell_type": "code",
   "execution_count": 31,
   "id": "c0ac9828-45f5-418e-b7fe-79e70a09eec3",
   "metadata": {},
   "outputs": [
    {
     "data": {
      "text/plain": [
       "array([ 0,  0,  0,  0,  0,  1,  1,  1,  1,  1,  2,  2,  2,  2,  2,  3,  3,\n",
       "        3,  3,  3,  4,  4,  4,  4,  4,  5,  5,  5,  5,  5,  6,  6,  6,  6,\n",
       "        6,  7,  7,  7,  7,  7,  8,  8,  8,  8,  8,  9,  9,  9,  9,  9, 10,\n",
       "       10, 10, 10, 10, 11, 11, 11, 11, 11, 12, 12, 12, 12, 12, 13, 13, 13,\n",
       "       13, 13, 14, 14, 14, 14, 14, 15, 15, 15, 15, 15, 16, 16, 16, 16, 16,\n",
       "       17, 17, 17, 17, 17, 18, 18, 18, 18, 18, 19, 19, 19, 19, 19, 20, 20,\n",
       "       20, 20, 20, 21, 21, 21, 21, 21, 22, 22, 22, 22, 22, 23, 23, 23, 23,\n",
       "       23, 24, 24, 24, 24, 24, 25, 25, 25, 25, 25, 26, 26, 26, 26, 26, 27,\n",
       "       27, 27, 27, 27, 28, 28, 28, 28, 28, 29, 29, 29, 29, 29, 30, 30, 30,\n",
       "       30, 30, 31, 31, 31, 31, 31, 32, 32, 32, 32, 32, 33, 33, 33, 33, 33,\n",
       "       34, 34, 34, 34, 34, 35, 35, 35, 35, 35, 36, 36, 36, 36, 36, 37, 37,\n",
       "       37, 37, 37, 38, 38, 38, 38, 38, 39, 39, 39, 39, 39, 40, 40, 40, 40,\n",
       "       40, 41, 41, 41, 41, 41, 42, 42, 42, 42, 42, 43, 43, 43, 43, 43, 44,\n",
       "       44, 44, 44, 44, 45, 45, 45, 45, 45, 46, 46, 46, 46, 46, 47, 47, 47,\n",
       "       47, 47, 48, 48, 48, 48, 48, 49, 49, 49, 49, 49])"
      ]
     },
     "execution_count": 31,
     "metadata": {},
     "output_type": "execute_result"
    }
   ],
   "source": [
    "sources"
   ]
  },
  {
   "cell_type": "code",
   "execution_count": 36,
   "id": "6afa369a-4cc6-45b1-8905-98f35af35ed5",
   "metadata": {},
   "outputs": [],
   "source": [
    "a = np.arange(n)"
   ]
  },
  {
   "cell_type": "code",
   "execution_count": 37,
   "id": "51e11744-6b97-4ac7-b79b-7b7e334f7274",
   "metadata": {},
   "outputs": [
    {
     "data": {
      "text/plain": [
       "array([ 0,  1,  2,  3,  4,  5,  6,  7,  8,  9, 10, 11, 12, 13, 14, 15, 16,\n",
       "       17, 18, 19, 20, 21, 22, 23, 24, 25, 26, 27, 28, 29, 30, 31, 32, 33,\n",
       "       34, 35, 36, 37, 38, 39, 40, 41, 42, 43, 44, 45, 46, 47, 48, 49])"
      ]
     },
     "execution_count": 37,
     "metadata": {},
     "output_type": "execute_result"
    }
   ],
   "source": [
    "a"
   ]
  },
  {
   "cell_type": "code",
   "execution_count": null,
   "id": "4895f5cd-5b44-4e63-a1fc-b75148c63512",
   "metadata": {},
   "outputs": [],
   "source": []
  },
  {
   "cell_type": "code",
   "execution_count": 49,
   "id": "d2c927f7-02d9-4acb-a839-dcf4076c4046",
   "metadata": {},
   "outputs": [
    {
     "data": {
      "text/plain": [
       "array([ 0,  1,  2,  3,  4,  5,  6,  7,  8,  9, 10, 11, 12, 13, 14, 15, 16,\n",
       "       17, 18, 19, 20, 21, 22, 23, 24, 25, 26, 27, 28, 29, 30, 31, 32, 33,\n",
       "       34, 35, 36, 37, 38, 39, 40, 41, 42, 43, 44, 45, 46, 47, 48, 49,  0,\n",
       "        1,  2,  3,  4,  5,  6,  7,  8,  9, 10, 11, 12, 13, 14, 15, 16, 17,\n",
       "       18, 19, 20, 21, 22, 23, 24, 25, 26, 27, 28, 29, 30, 31, 32, 33, 34,\n",
       "       35, 36, 37, 38, 39, 40, 41, 42, 43, 44, 45, 46, 47, 48, 49])"
      ]
     },
     "execution_count": 49,
     "metadata": {},
     "output_type": "execute_result"
    }
   ],
   "source": [
    "np.tile(a,2)"
   ]
  },
  {
   "cell_type": "code",
   "execution_count": null,
   "id": "fb2856b4-050d-45fb-b969-ce406c9689a4",
   "metadata": {},
   "outputs": [],
   "source": []
  }
 ],
 "metadata": {
  "kernelspec": {
   "display_name": "ML_venv",
   "language": "python",
   "name": "ml_venv"
  },
  "language_info": {
   "codemirror_mode": {
    "name": "ipython",
    "version": 3
   },
   "file_extension": ".py",
   "mimetype": "text/x-python",
   "name": "python",
   "nbconvert_exporter": "python",
   "pygments_lexer": "ipython3",
   "version": "3.9.19"
  }
 },
 "nbformat": 4,
 "nbformat_minor": 5
}
