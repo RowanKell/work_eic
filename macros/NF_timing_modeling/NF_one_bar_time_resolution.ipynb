{
 "cells": [
  {
   "cell_type": "markdown",
   "id": "98300ae7",
   "metadata": {},
   "source": [
    "# NF Modeled Timing Resolution\n",
    "### Plot the learned distribution against the true optical photon simulation distribution"
   ]
  },
  {
   "cell_type": "markdown",
   "id": "e32554c7-4360-4d91-a4af-631976d52050",
   "metadata": {},
   "source": [
    "* Utilize pre-trained NF model to sample timings\n",
    "* Calculate timing resolution of sampled timings\n",
    "* Calculate timing resolution of optical photon hit times\n",
    "* Compare std and mean of first hit timing distribution"
   ]
  },
  {
   "cell_type": "markdown",
   "id": "800ae93f",
   "metadata": {},
   "source": [
    "## Setup\n",
    "**Package imports:**"
   ]
  },
  {
   "cell_type": "code",
   "execution_count": 1,
   "id": "c09ee351-f997-464f-8d3d-8b7bbd340837",
   "metadata": {},
   "outputs": [],
   "source": [
    "# Import packages\n",
    "import torch\n",
    "import numpy as np\n",
    "import normflows as nf\n",
    "\n",
    "import uproot as up\n",
    "\n",
    "from matplotlib import pyplot as plot\n",
    "import math\n",
    "from tqdm import tqdm\n",
    "from IPython.display import clear_output\n",
    "import time\n",
    "from concurrent.futures import ThreadPoolExecutor\n",
    "import matplotlib.ticker as plticker\n",
    "import os\n",
    "from typing import Union, List\n",
    "from scipy.stats import norm\n",
    "import os\n",
    "\n",
    "import datetime\n",
    "today = datetime.datetime.now().strftime(\"%B_%d\")"
   ]
  },
  {
   "cell_type": "markdown",
   "id": "2d81b439-a383-4563-bfca-2da10cc0b5f8",
   "metadata": {},
   "source": [
    "**local imports (written by me):**"
   ]
  },
  {
   "cell_type": "code",
   "execution_count": 2,
   "id": "267038d1-ad70-4a44-8269-2530f368a2ca",
   "metadata": {},
   "outputs": [],
   "source": [
    "from NF_util import process_data, create_dataloader, prepare_data_for_nn,\\\n",
    "    create_unique_mapping,process_data_one_segment,\\\n",
    "    prepare_data_for_nn_one_segment, PVect, calculate_num_pixels_z_dependence,theta_func, r_func,load_real_data, process_times,get_all_times,checkdir"
   ]
  },
  {
   "cell_type": "code",
   "execution_count": 3,
   "id": "f879b0d7",
   "metadata": {
    "tags": []
   },
   "outputs": [],
   "source": [
    "# Get device to be used\n",
    "device = torch.device('cuda' if torch.cuda.is_available() else 'cpu')"
   ]
  },
  {
   "cell_type": "code",
   "execution_count": 4,
   "id": "91ad330b-e57f-4e10-9f42-9ecc2561ea37",
   "metadata": {},
   "outputs": [],
   "source": [
    "def get_compiled_NF_model(thickness = \"2cm\", useGPU = True):\n",
    "    if(thickness == \"1cm\"):\n",
    "        run_num = 7\n",
    "        run_num_str = str(run_num)\n",
    "\n",
    "        #NF Stuff\n",
    "\n",
    "        K = 8 #num flows\n",
    "\n",
    "        latent_size = 1 #dimension of PDF\n",
    "        hidden_units = 256 #nodes in hidden layers\n",
    "        hidden_layers = 26\n",
    "        context_size = 3 #conditional variables for PDF\n",
    "        num_context = 3\n",
    "\n",
    "        K_str = str(K)\n",
    "        batch_size= 2000\n",
    "        hidden_units_str = str(hidden_units)\n",
    "        hidden_layers_str = str(hidden_layers)\n",
    "        batch_size_str = str(batch_size)\n",
    "        flows = []\n",
    "        for i in range(K):\n",
    "            flows += [nf.flows.AutoregressiveRationalQuadraticSpline(latent_size, hidden_layers, hidden_units, \n",
    "                                                                     num_context_channels=context_size)]\n",
    "            flows += [nf.flows.LULinearPermute(latent_size)]\n",
    "\n",
    "        # Set base distribution\n",
    "        q0 = nf.distributions.DiagGaussian(1, trainable=False)\n",
    "\n",
    "        # Construct flow model\n",
    "        model = nf.ConditionalNormalizingFlow(q0, flows)\n",
    "\n",
    "        model_path = \"/hpc/group/vossenlab/rck32/NF_time_res_models/\"\n",
    "        if(useGPU):\n",
    "            model.load(model_path + \"run_\" + run_num_str + \"_\" + str(num_context)+ \"context_\" +K_str +  \"flows_\" + hidden_layers_str+\"hl_\" + hidden_units_str+\"hu_\" + batch_size_str+\"bs.pth\")\n",
    "        else:\n",
    "            state_dict = torch.load(model_path + \"run_\" + run_num_str + \"_\" + str(num_context)+ \"context_\" +K_str +  \"flows_\" + hidden_layers_str+\"hl_\" + hidden_units_str+\"hu_\" + batch_size_str+\"bs.pth\",  map_location=torch.device('cpu'))\n",
    "            model.load_state_dict(state_dict)\n",
    "            model.to(torch.device('cpu'))\n",
    "        model_compiled = torch.compile(model,mode = \"reduce-overhead\").to(device)\n",
    "    elif(thickness == \"2cm\"):\n",
    "        run_num = 1\n",
    "        run_num_str = str(run_num)\n",
    "\n",
    "        #NF Stuff\n",
    "\n",
    "        K = 8 #num flows\n",
    "\n",
    "        latent_size = 1 #dimension of PDF\n",
    "        hidden_layers = 26\n",
    "        hidden_units = 256 #nodes in hidden layers\n",
    "        context_size = 3 #conditional variables for PDF\n",
    "        num_context = 3\n",
    "        batch_size= 20000\n",
    "        K_str = str(K)\n",
    "        hidden_units_str = str(hidden_units)\n",
    "        hidden_layers_str = str(hidden_layers)\n",
    "        batch_size_str = str(batch_size)\n",
    "        flows = []\n",
    "        for i in range(K):\n",
    "            flows += [nf.flows.AutoregressiveRationalQuadraticSpline(latent_size, hidden_layers, hidden_units, \n",
    "                                                                     num_context_channels=context_size)]\n",
    "            flows += [nf.flows.LULinearPermute(latent_size)]\n",
    "\n",
    "        # Set base distribution\n",
    "        q0 = nf.distributions.DiagGaussian(1, trainable=False)\n",
    "\n",
    "        # Construct flow model\n",
    "        model = nf.ConditionalNormalizingFlow(q0, flows)\n",
    "\n",
    "        model_path = \"/hpc/group/vossenlab/rck32/NF_time_res_models/thicker_2cm/\"\n",
    "        if(useGPU):\n",
    "            model.load(model_path + \"run_\" + run_num_str + \"_\" + str(num_context)+ \"context_\" +K_str +  \"flows_\" + hidden_layers_str+\"hl_\" + hidden_units_str+\"hu_\" + batch_size_str+\"bs_checkpoint_e13.pth\")\n",
    "        else:\n",
    "            state_dict = torch.load(model_path + \"run_\" + run_num_str + \"_\" + str(num_context)+ \"context_\" +K_str +  \"flows_\" + hidden_layers_str+\"hl_\" + hidden_units_str+\"hu_\" + batch_size_str+\"bs_checkpoint_e13.pth\", map_location=torch.device('cpu'))\n",
    "            model.load_state_dict(state_dict)\n",
    "            model.to(torch.device('cpu'))\n",
    "        model_compiled = torch.compile(model,mode = \"reduce-overhead\").to(device)\n",
    "    elif(thickness == \"5.55cm\"):\n",
    "        run_num = 1\n",
    "        run_num_str = str(run_num)\n",
    "\n",
    "        #NF Stuff\n",
    "\n",
    "        K = 8 #num flows\n",
    "\n",
    "        latent_size = 1 #dimension of PDF\n",
    "        hidden_layers = 26\n",
    "        hidden_units = 256 #nodes in hidden layers\n",
    "        context_size = 3 #conditional variables for PDF\n",
    "        num_context = 3\n",
    "        batch_size= 20000\n",
    "        K_str = str(K)\n",
    "        hidden_units_str = str(hidden_units)\n",
    "        hidden_layers_str = str(hidden_layers)\n",
    "        batch_size_str = str(batch_size)\n",
    "        flows = []\n",
    "        for i in range(K):\n",
    "            flows += [nf.flows.AutoregressiveRationalQuadraticSpline(latent_size, hidden_layers, hidden_units, \n",
    "                                                                     num_context_channels=context_size)]\n",
    "            flows += [nf.flows.LULinearPermute(latent_size)]\n",
    "\n",
    "        # Set base distribution\n",
    "        q0 = nf.distributions.DiagGaussian(1, trainable=False)\n",
    "\n",
    "        # Construct flow model\n",
    "        model = nf.ConditionalNormalizingFlow(q0, flows)\n",
    "\n",
    "        model_path = \"/hpc/group/vossenlab/rck32/NF_time_res_models/thicker_5.55cm/\"\n",
    "        if(useGPU):\n",
    "            model.load(model_path + \"run_\" + run_num_str + \"_\" + str(num_context)+ \"context_\" +K_str +  \"flows_\" + hidden_layers_str+\"hl_\" + hidden_units_str+\"hu_\" + batch_size_str+\"bs.pth\")\n",
    "        else:\n",
    "            state_dict = torch.load(model_path + \"run_\" + run_num_str + \"_\" + str(num_context)+ \"context_\" +K_str +  \"flows_\" + hidden_layers_str+\"hl_\" + hidden_units_str+\"hu_\" + batch_size_str+\"bs.pth\", map_location=torch.device('cpu'))\n",
    "            model.load_state_dict(state_dict)\n",
    "            model.to(torch.device('cpu'))\n",
    "        model_compiled = torch.compile(model,mode = \"reduce-overhead\").to(device)\n",
    "    else:\n",
    "        print(\"model not found\")\n",
    "    return model_compiled"
   ]
  },
  {
   "cell_type": "code",
   "execution_count": 9,
   "id": "5cf3a0eb-be18-48bf-96d9-42b12019e982",
   "metadata": {},
   "outputs": [],
   "source": [
    "model_compile = get_compiled_NF_model(thickness = \"2cm\", useGPU = True)"
   ]
  },
  {
   "cell_type": "code",
   "execution_count": null,
   "id": "01d8f51e-bd4d-452b-b0bb-1cd7f4a4df1f",
   "metadata": {},
   "outputs": [],
   "source": []
  },
  {
   "cell_type": "markdown",
   "id": "df336186-512a-4576-bd34-f57dd2f4e73c",
   "metadata": {},
   "source": [
    "Load model accoring to params above"
   ]
  },
  {
   "cell_type": "markdown",
   "id": "b6f99eb5",
   "metadata": {
    "tags": []
   },
   "source": [
    "### Evaluation\n",
    "load one bar scint root files with uproot"
   ]
  },
  {
   "cell_type": "code",
   "execution_count": 10,
   "id": "ef985c27-51c1-473d-b2dc-42cd5400466f",
   "metadata": {},
   "outputs": [],
   "source": [
    "'''muon z pos vary'''\n",
    "\n",
    "# 2cm thick bar scint data for sampling:\n",
    "directory = f\"/hpc/group/vossenlab/rck32/eic/work_eic/root_files/time_res_one_segment_scint/January_28/\"\n",
    "filename = \"run_1_mum_10GeV_theta_90_5kevents.edm4hep.root\""
   ]
  },
  {
   "cell_type": "code",
   "execution_count": 11,
   "id": "2d7e2659-7d44-442f-9843-38d7de2b4701",
   "metadata": {},
   "outputs": [],
   "source": [
    "def process_scint_data_for_comparison(file_path =f\"/hpc/group/vossenlab/rck32/eic/work_eic/root_files/time_res_one_segment_scint/January_28/run_1_mum_10GeV_theta_90_5kevents.edm4hep.root\"):\n",
    "    data = process_data_one_segment(file_path + \":events\")\n",
    "\n",
    "    features, metadata= prepare_data_for_nn_one_segment(data)\n",
    "    # Create DataLoader\n",
    "    batch_size_inference = 20000\n",
    "    dataloader = create_dataloader(features, metadata, batch_size_inference,shuffle_bool=False)\n",
    "\n",
    "    min_time = 0\n",
    "    samples = torch.empty(features.shape[0],device = device)\n",
    "    context = torch.empty((features.shape[0],3),device = device)\n",
    "    event_idxs = torch.empty(features.shape[0],device = device)\n",
    "    it = 0\n",
    "    with torch.no_grad():\n",
    "        for batch_features, batch_metadata in dataloader:\n",
    "            context_features = batch_features[:, :3].clone().to(device)\n",
    "            samples[batch_size_inference * it:(batch_size_inference * it) + len(batch_features)] = abs(model_compile.sample(num_samples=context_features.shape[0], context=context_features)[0]).squeeze(1)\n",
    "            samples[it*batch_size_inference:(batch_size_inference * it) + len(batch_features)].add_(batch_features[:, 3].to(device))\n",
    "            context[batch_size_inference * it:(batch_size_inference * it) + len(batch_features)] = context_features\n",
    "            event_idxs[batch_size_inference * it:(batch_size_inference * it) + len(batch_features)] = batch_metadata\n",
    "\n",
    "            del batch_features\n",
    "            it += 1\n",
    "    context = context.cpu().detach()\n",
    "    samples = samples.cpu().detach()\n",
    "    event_idxs = event_idxs.cpu().detach()\n",
    "    \n",
    "    threshold = 10\n",
    "    first_times = []\n",
    "    second_times = []\n",
    "    # Get unique event indices and their counts\n",
    "    unique_events, counts = torch.unique(event_idxs, return_counts=True)\n",
    "\n",
    "    # Find events that meet the threshold\n",
    "    valid_events = unique_events[counts > threshold]\n",
    "\n",
    "    # If there are valid events, process them\n",
    "    if valid_events.numel() > 0:\n",
    "        # Create a mask for valid events\n",
    "        mask = torch.isin(event_idxs, valid_events)\n",
    "\n",
    "        # Get samples and events for valid events\n",
    "        valid_samples = samples[mask]\n",
    "        valid_event_indices = event_idxs[mask]\n",
    "\n",
    "        # Sort samples and event indices\n",
    "        sorted_indices = torch.argsort(valid_event_indices)\n",
    "        sorted_samples = valid_samples[sorted_indices]\n",
    "        sorted_events = valid_event_indices[sorted_indices]\n",
    "\n",
    "        # Find the minimum sample for each event\n",
    "        unique_events = torch.unique(sorted_events)\n",
    "        min_samples = torch.tensor([sorted_samples[sorted_events == event].min() for event in unique_events])\n",
    "        second_min_samples = torch.tensor([sorted_samples[sorted_events == event].kthvalue(2)[0] for event in unique_events])\n",
    "\n",
    "        # Append to the corresponding sublist in the result list\n",
    "        first_times.append(min_samples.tolist())\n",
    "#         second_times.append(second_min_samples.tolist())\n",
    "    return first_times,second_min_samples,samples"
   ]
  },
  {
   "cell_type": "code",
   "execution_count": 12,
   "id": "7d65ab82-829c-47e5-b729-6b43914bdad2",
   "metadata": {},
   "outputs": [
    {
     "name": "stdout",
     "output_type": "stream",
     "text": [
      "(402019, 4)\n"
     ]
    }
   ],
   "source": [
    "first_times, second_times, samples = process_scint_data_for_comparison()"
   ]
  },
  {
   "cell_type": "markdown",
   "id": "4337bcb6-cd79-48b4-b302-54a1a60b5f97",
   "metadata": {},
   "source": [
    "## Timing Resolution\n",
    "Need distribution of time of first photons"
   ]
  },
  {
   "cell_type": "markdown",
   "id": "58943615-94ba-48e0-a90f-117e47e8aca4",
   "metadata": {},
   "source": [
    "#### Optph: process times and get distribution"
   ]
  },
  {
   "cell_type": "code",
   "execution_count": 14,
   "id": "f9f213ed-3810-42a1-9361-e972341597a6",
   "metadata": {},
   "outputs": [
    {
     "name": "stdout",
     "output_type": "stream",
     "text": [
      "total: 203158 | duplicates: 6308 | ratio: 0.031049724844702153 | num unique cells hit: 5726 | skipped: 0\n"
     ]
    }
   ],
   "source": [
    "#Minimum number of pixels to be hit for us to accept event\n",
    "threshold = 10\n",
    "uproot_path = f\"/hpc/group/vossenlab/rck32/eic/work_eic/root_files/time_res_one_segment_sensor/May_5/run_1_mum_10GeV_theta_90_5kevents.edm4hep.root:events\"\n",
    "# uproot_path = f\"/hpc/group/vossenlab/rck32/eic/work_eic/root_files/time_res_one_segment_sensor/January_27/run_1_w_QE_2cm_thickness\"\n",
    "accepted_times, second_lowest_list, avg_accepted_times, times = process_times(uproot_path, threshold,multipleFiles=False)"
   ]
  },
  {
   "cell_type": "code",
   "execution_count": 15,
   "id": "ea631c97-8262-428d-8c6a-c8dfc6d3a4b7",
   "metadata": {},
   "outputs": [],
   "source": [
    "all_times_optph = []\n",
    "for event_idx in range(len(times)):\n",
    "    for time in times[event_idx]:\n",
    "        all_times_optph.append(time)"
   ]
  },
  {
   "cell_type": "markdown",
   "id": "ab61a27c-98e7-4080-99dd-8c4d595c7711",
   "metadata": {},
   "source": [
    "### Compare first photon distributions"
   ]
  },
  {
   "cell_type": "code",
   "execution_count": 16,
   "id": "014b3f82-4d29-47dd-aae5-55cbce091ef6",
   "metadata": {},
   "outputs": [],
   "source": [
    "np_first_times = np.array(first_times)\n",
    "\n",
    "np_accepted_times = np.array(accepted_times)\n",
    "ub = 10.8\n",
    "lb = 10.2\n",
    "cut_first_times = np_first_times[np_first_times < ub]\n",
    "cut_first_times = cut_first_times[cut_first_times > lb]\n",
    "\n",
    "cut_accepted_times = np_accepted_times[np_accepted_times < ub]\n",
    "cut_accepted_times = cut_accepted_times[cut_accepted_times > lb]"
   ]
  },
  {
   "cell_type": "code",
   "execution_count": 17,
   "id": "bf819cda-9ad9-4124-9d75-00852cf573b8",
   "metadata": {},
   "outputs": [
    {
     "data": {
      "image/png": "[encoded data removed]",
      "text/plain": [
       "<Figure size 1500x500 with 3 Axes>"
      ]
     },
     "metadata": {},
     "output_type": "display_data"
    }
   ],
   "source": [
    "# import matplotlib as mpl\n",
    "# mpl.rcParams['figure.dpi'] = 600\n",
    "(mu, sigma) = norm.fit(cut_accepted_times)\n",
    "\n",
    "fig_first_times, axs_first_times = plot.subplots(1,3,figsize=(15,5))\n",
    "axs_first_times[0].hist(first_times,bins = 100,alpha = 0.5, color = \"blue\",density = True,label = \"Neural Network\");\n",
    "axs_first_times[0].hist(accepted_times,bins = 100,alpha = 0.4, color = \"red\",density = True,label = \"Simulation\");\n",
    "axs_first_times[0].legend()\n",
    "axs_first_times[0].set_ylabel(\"Normalized Counts\")\n",
    "axs_first_times[0].set_title(\"First Photon Arrival Time\")\n",
    "axs_first_times[0].set_xlabel(\"Arrival Time of first optical photon (ns)\")\n",
    "\n",
    "axs_first_times[1].hist(second_times,bins = 100,alpha = 0.5, color = \"blue\",density = True,label = \"Neural Network\");\n",
    "axs_first_times[1].hist(second_lowest_list,bins = 100,alpha = 0.4, color = \"red\",density = True,label = \"Simulation\");\n",
    "axs_first_times[1].legend()\n",
    "axs_first_times[1].set_ylabel(\"Normalized Counts\")\n",
    "axs_first_times[1].set_title(\"Second Photon Arrival Time\")\n",
    "axs_first_times[1].set_xlabel(\"Arrival Time of second optical photon (ns)\")\n",
    "\n",
    "axs_first_times[2].hist(samples,bins = 100,alpha = 0.5, color = \"blue\",density = True,label = \"Neural Network\");\n",
    "axs_first_times[2].hist(all_times_optph,bins = 100,alpha = 0.4, color = \"red\",density = True,label = \"Simulation\");\n",
    "axs_first_times[2].legend()\n",
    "axs_first_times[2].set_ylabel(\"Normalized Counts\")\n",
    "axs_first_times[2].set_title(\"All Photon Arrival Times\")\n",
    "axs_first_times[2].set_xlabel(\"Arrival Time of all optical photons (ns)\")\n",
    "fig_first_times.suptitle(\"Arrival Time of First/Second Optical Photon\")\n",
    "# fig_first_times.text(0.3,0.5,r\"$\\sigma$ = %.1f ps\"%(sigma * 1000))\n",
    "fig_first_times.tight_layout()\n",
    "# fig_first_times.savefig(\"plots/time_res/both_times_1cm_new_labels.jpeg\")"
   ]
  },
  {
   "cell_type": "markdown",
   "id": "483e9ad4-9928-4104-8c45-9bdefa6ab88a",
   "metadata": {},
   "source": [
    "## Cutting off tails"
   ]
  },
  {
   "cell_type": "code",
   "execution_count": 18,
   "id": "545d7db6-aefb-48cb-8ab0-f0b8e1fe9d37",
   "metadata": {},
   "outputs": [],
   "source": [
    "np_first_times = np.array(first_times)\n",
    "\n",
    "np_accepted_times = np.array(accepted_times)\n",
    "\n",
    "cut_first_times = np_first_times[np_first_times < 10.8]\n",
    "cut_first_times = cut_first_times[cut_first_times > 10]\n",
    "\n",
    "cut_accepted_times = np_accepted_times[np_accepted_times < 10.8]\n",
    "cut_accepted_times = cut_accepted_times[cut_accepted_times > 10]"
   ]
  },
  {
   "cell_type": "code",
   "execution_count": 19,
   "id": "b24dcd0f-4b86-41ef-b794-80db2c6a6927",
   "metadata": {},
   "outputs": [
    {
     "name": "stdout",
     "output_type": "stream",
     "text": [
      "\tsigma:\t\t| mean:\t\t\n",
      "Real:\t\t  0.133 |\t 10.49\n",
      "Learned:\t  0.118 |\t 10.42\n"
     ]
    }
   ],
   "source": [
    "#timing resolution:\n",
    "(mu_real, sigma_real) = norm.fit(cut_accepted_times)\n",
    "(mu_learned, sigma_learned) = norm.fit(cut_first_times)\n",
    "print(\"\\tsigma:\\t\\t| mean:\\t\\t\")\n",
    "print(\"Real:\\t\\t  %4.3f |\\t %4.2f\" %(sigma_real,mu_real))\n",
    "print(\"Learned:\\t  %4.3f |\\t %4.2f\" %(sigma_learned,mu_learned))"
   ]
  },
  {
   "cell_type": "code",
   "execution_count": 97,
   "id": "3331b8f2-e526-4110-aec9-77b835932f33",
   "metadata": {},
   "outputs": [
    {
     "name": "stdout",
     "output_type": "stream",
     "text": [
      "\tsigma:\t\t| mean:\t\t\n",
      "Real:\t\t  0.125 |\t 10.44\n",
      "Real cut:\t\t  0.117 |\t 10.44\n"
     ]
    }
   ],
   "source": [
    "#timing resolution:\n",
    "accepted_times = np.array(accepted_times)\n",
    "\n",
    "cut_accepted_times = accepted_times[accepted_times < 10.9]\n",
    "cut_accepted_times = cut_accepted_times[cut_accepted_times > 10]\n",
    "\n",
    "\n",
    "(mu_real, sigma_real) = norm.fit(accepted_times)\n",
    "(mu_real_cut, sigma_real_cut) = norm.fit(cut_accepted_times)\n",
    "print(\"\\tsigma:\\t\\t| mean:\\t\\t\")\n",
    "print(\"Real:\\t\\t  %4.3f |\\t %4.2f\" %(sigma_real,mu_real))\n",
    "print(\"Real cut:\\t\\t  %4.3f |\\t %4.2f\" %(sigma_real_cut,mu_real_cut))"
   ]
  },
  {
   "cell_type": "code",
   "execution_count": 98,
   "id": "92907db6-cad2-4f3b-8a6f-dfc58af7c020",
   "metadata": {},
   "outputs": [
    {
     "data": {
      "image/png": "[encoded data removed]",
      "text/plain": [
       "<Figure size 640x480 with 1 Axes>"
      ]
     },
     "metadata": {},
     "output_type": "display_data"
    }
   ],
   "source": [
    "fig_first_times, axs_first_times = plot.subplots(1,1)\n",
    "axs_first_times.hist(accepted_times,bins = 100,alpha = 1, color = \"red\",density = True);\n",
    "# axs_first_times.legend()\n",
    "axs_first_times.set_ylabel(\"Normalized Counts\")\n",
    "axs_first_times.set_xlabel(\"Arrival Time (ns)\")\n",
    "axs_first_times.text(9.8,2.1,r\"$\\sigma$ = %.3f ns\" % (sigma_real))\n",
    "axs_first_times.text(9.8,1.6,r\"# events: %d\" % (len(accepted_times)))\n",
    "axs_first_times.grid(alpha = 0.3)\n",
    "fig_first_times.suptitle(\"First Photon Arrival Time\")\n",
    "fig_first_times.tight_layout()\n",
    "plot.show()\n",
    "# fig_first_times.savefig(\"plots/sept_29/time_res_0_8_10GeV_mu_5250.pdf\")"
   ]
  },
  {
   "cell_type": "code",
   "execution_count": null,
   "id": "a19eb908-8559-4984-87f2-624cf61f3176",
   "metadata": {},
   "outputs": [],
   "source": []
  }
 ],
 "metadata": {
  "kernelspec": {
   "display_name": "ML_venv",
   "language": "python",
   "name": "ml_venv"
  },
  "language_info": {
   "codemirror_mode": {
    "name": "ipython",
    "version": 3
   },
   "file_extension": ".py",
   "mimetype": "text/x-python",
   "name": "python",
   "nbconvert_exporter": "python",
   "pygments_lexer": "ipython3",
   "version": "3.9.19"
  }
 },
 "nbformat": 4,
 "nbformat_minor": 5
}
