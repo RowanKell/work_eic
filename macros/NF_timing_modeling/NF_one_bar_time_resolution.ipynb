{
 "cells": [
  {
   "cell_type": "markdown",
   "id": "98300ae7",
   "metadata": {},
   "source": [
    "# Timing Resolution"
   ]
  },
  {
   "cell_type": "markdown",
   "id": "e32554c7-4360-4d91-a4af-631976d52050",
   "metadata": {},
   "source": [
    "* Utilize pre-trained NF model to sample timings\n",
    "* Calculate timing resolution of sampled timings\n",
    "* Calculate timing resolution of optical photon hit times\n",
    "* Compare std and mean of first hit timing distribution"
   ]
  },
  {
   "cell_type": "markdown",
   "id": "800ae93f",
   "metadata": {},
   "source": [
    "## Setup\n",
    "**Package imports:**"
   ]
  },
  {
   "cell_type": "code",
   "execution_count": 1,
   "id": "7f293277",
   "metadata": {},
   "outputs": [],
   "source": [
    "# Import packages\n",
    "import torch\n",
    "import numpy as np\n",
    "import normflows as nf\n",
    "\n",
    "import uproot as up\n",
    "\n",
    "from matplotlib import pyplot as plot\n",
    "import math\n",
    "from tqdm import tqdm\n",
    "from IPython.display import clear_output\n",
    "import time\n",
    "from concurrent.futures import ThreadPoolExecutor\n",
    "import matplotlib.ticker as plticker\n",
    "import os\n",
    "from typing import Union, List\n",
    "from scipy.stats import norm\n",
    "import os"
   ]
  },
  {
   "cell_type": "markdown",
   "id": "2d81b439-a383-4563-bfca-2da10cc0b5f8",
   "metadata": {},
   "source": [
    "**local imports (written by me):**"
   ]
  },
  {
   "cell_type": "code",
   "execution_count": 2,
   "id": "267038d1-ad70-4a44-8269-2530f368a2ca",
   "metadata": {},
   "outputs": [],
   "source": [
    "from NF_util import process_data, create_dataloader, prepare_data_for_nn,\\\n",
    "    create_unique_mapping,process_data_one_segment,\\\n",
    "    prepare_data_for_nn_one_segment, PVect, calculate_num_pixels_z_dependence,theta_func, r_func,load_real_data, process_times,get_all_times,checkdir"
   ]
  },
  {
   "cell_type": "code",
   "execution_count": 3,
   "id": "f879b0d7",
   "metadata": {
    "tags": []
   },
   "outputs": [],
   "source": [
    "# Get device to be used\n",
    "device = torch.device('cuda' if torch.cuda.is_available() else 'cpu')"
   ]
  },
  {
   "cell_type": "markdown",
   "id": "1b7b7b65-8624-4bc7-8a9d-527875d4df03",
   "metadata": {},
   "source": [
    "### Set parameters of model and data"
   ]
  },
  {
   "cell_type": "code",
   "execution_count": 4,
   "id": "5a9a7267-f24e-4bec-bc8d-8b66393e79af",
   "metadata": {},
   "outputs": [],
   "source": [
    "import datetime\n",
    "today = datetime.datetime.now().strftime(\"%B_%d\")"
   ]
  },
  {
   "cell_type": "code",
   "execution_count": 19,
   "id": "2841f88a-8cbe-48d2-b66a-044c35ea6d68",
   "metadata": {},
   "outputs": [],
   "source": [
    "# This data will be used for storing plots - today above works if you actually want today\n",
    "# today = \"August_07\"\n",
    "\n",
    "run_num = 14\n",
    "run_num_str = str(run_num)\n",
    "\n",
    "#NF Stuff\n",
    "\n",
    "K = 4 #num flows\n",
    "\n",
    "latent_size = 1 #dimension of PDF\n",
    "hidden_layers = 10\n",
    "hidden_units = 56 #nodes in hidden layers\n",
    "context_size = 3 #conditional variables for PDF\n",
    "num_context = 3\n",
    "batch_size= 20000\n",
    "\n",
    "K_str = str(K)\n",
    "hidden_units_str = str(hidden_units)\n",
    "hidden_layers_str = str(hidden_layers)\n",
    "batch_size_str = str(batch_size)"
   ]
  },
  {
   "cell_type": "markdown",
   "id": "1b9c724c-ba39-4603-aed9-56e79406667a",
   "metadata": {},
   "source": [
    "## Neural Spline Flow\n",
    "model definition:"
   ]
  },
  {
   "cell_type": "code",
   "execution_count": 22,
   "id": "c640813d-36f5-4cce-bf64-5488cb1d074f",
   "metadata": {},
   "outputs": [],
   "source": [
    "# Set base distribution\n",
    "from normflows.distributions import BaseDistribution\n",
    "class DiagGaussian(BaseDistribution):\n",
    "    \"\"\"\n",
    "    Multivariate Gaussian distribution with diagonal covariance matrix\n",
    "    \"\"\"\n",
    "\n",
    "    def __init__(self, shape, trainable=True):\n",
    "        \"\"\"Constructor\n",
    "\n",
    "        Args:\n",
    "          shape: Tuple with shape of data, if int shape has one dimension\n",
    "          trainable: Flag whether to use trainable or fixed parameters\n",
    "        \"\"\"\n",
    "        super().__init__()\n",
    "        if isinstance(shape, int):\n",
    "            shape = (shape,)\n",
    "        if isinstance(shape, list):\n",
    "            shape = tuple(shape)\n",
    "        self.shape = shape\n",
    "        self.n_dim = len(shape)\n",
    "        self.d = np.prod(shape)\n",
    "        if trainable:\n",
    "            self.loc = nn.Parameter(torch.zeros(1, *self.shape))\n",
    "            self.log_scale = nn.Parameter(torch.zeros(1, *self.shape))\n",
    "        else:\n",
    "            self.register_buffer(\"loc\", 4.5 * torch.ones(1, *self.shape))\n",
    "            self.register_buffer(\"log_scale\", torch.zeros(1, *self.shape))\n",
    "        self.temperature = None  # Temperature parameter for annealed sampling\n",
    "\n",
    "    def forward(self, num_samples=1, context=None):\n",
    "        eps = torch.randn(\n",
    "            (num_samples,) + self.shape, dtype=self.loc.dtype, device=self.loc.device\n",
    "        )\n",
    "        if self.temperature is None:\n",
    "            log_scale = self.log_scale\n",
    "        else:\n",
    "            log_scale = self.log_scale + np.log(self.temperature)\n",
    "        z = self.loc + torch.exp(log_scale) * eps\n",
    "        log_p = -0.5 * self.d * np.log(2 * np.pi) - torch.sum(\n",
    "            log_scale + 0.5 * torch.pow(eps, 2), list(range(1, self.n_dim + 1))\n",
    "        )\n",
    "        return z, log_p\n",
    "\n",
    "    def log_prob(self, z, context=None):\n",
    "        if self.temperature is None:\n",
    "            log_scale = self.log_scale\n",
    "        else:\n",
    "            log_scale = self.log_scale + np.log(self.temperature)\n",
    "        log_p = -0.5 * self.d * np.log(2 * np.pi) - torch.sum(\n",
    "            log_scale + 0.5 * torch.pow((z - self.loc) / torch.exp(log_scale), 2),\n",
    "            list(range(1, self.n_dim + 1)),\n",
    "        )\n",
    "        return log_p\n",
    "q0 = DiagGaussian(1, trainable=False) #Typical use"
   ]
  },
  {
   "cell_type": "code",
   "execution_count": 23,
   "id": "203342a6-a0f9-4abf-8644-a3f062841372",
   "metadata": {},
   "outputs": [],
   "source": [
    "flows = []\n",
    "for i in range(K):\n",
    "    flows += [nf.flows.AutoregressiveRationalQuadraticSpline(latent_size, hidden_layers, hidden_units, \n",
    "                                                             num_context_channels=context_size)]\n",
    "    flows += [nf.flows.LULinearPermute(latent_size)]\n",
    "\n",
    "# Set base distribution\n",
    "# q0 = nf.distributions.DiagGaussian(1, trainable=False)\n",
    "    \n",
    "# Construct flow model\n",
    "model = nf.ConditionalNormalizingFlow(q0, flows)\n",
    "\n",
    "# Move model on GPU if available\n",
    "model = model.to(device)\n"
   ]
  },
  {
   "cell_type": "markdown",
   "id": "60ddaee0-9d73-40c9-8fbd-b1e30236bf51",
   "metadata": {},
   "source": [
    "Create directories / pick where to pull from"
   ]
  },
  {
   "cell_type": "code",
   "execution_count": 25,
   "id": "1a5eea3c-da00-4d48-ab46-c1e6c0492d66",
   "metadata": {},
   "outputs": [],
   "source": [
    "# model_date = \"July_22\"\n",
    "# model_date = \"Jan_28\"\n",
    "# model_date = \"January_30\" #Run 1\n",
    "# model_date = \"January_31\" #Runs 3-8\n",
    "# model_date = \"February_01\" #Runs 9\n",
    "# model_date = \"February_02\" #Run 10-13\n",
    "model_date = \"February_03\" #Run 14\n",
    "\n",
    "model_path = \"models/\" + model_date + \"/\"\n",
    "checkdir(model_path)\n",
    "\n",
    "samples_path = \"data/samples/\" + today + \"/\"\n",
    "checkdir(samples_path)\n",
    "\n",
    "test_data_path = \"data/test/\" + today + \"/\"\n",
    "checkdir(test_data_path)\n",
    "\n",
    "test_dist_path = \"plots/test_distributions/\" + today + \"/\"\n",
    "checkdir(test_dist_path)"
   ]
  },
  {
   "cell_type": "markdown",
   "id": "df336186-512a-4576-bd34-f57dd2f4e73c",
   "metadata": {},
   "source": [
    "Load model accoring to params above"
   ]
  },
  {
   "cell_type": "code",
   "execution_count": 26,
   "id": "72cbd411-4c69-48bf-ba0a-82f984693b4b",
   "metadata": {},
   "outputs": [
    {
     "name": "stderr",
     "output_type": "stream",
     "text": [
      "/hpc/group/vossenlab/rck32/ML_venv/lib64/python3.9/site-packages/normflows/core.py:213: FutureWarning: You are using `torch.load` with `weights_only=False` (the current default value), which uses the default pickle module implicitly. It is possible to construct malicious pickle data which will execute arbitrary code during unpickling (See https://github.com/pytorch/pytorch/blob/main/SECURITY.md#untrusted-models for more details). In a future release, the default value for `weights_only` will be flipped to `True`. This limits the functions that could be executed during unpickling. Arbitrary objects will no longer be allowed to be loaded via this mode unless they are explicitly allowlisted by the user via `torch.serialization.add_safe_globals`. We recommend you start setting `weights_only=True` for any use case where you don't have full control of the loaded file. Please open an issue on GitHub for any issues related to this experimental feature.\n",
      "  self.load_state_dict(torch.load(path))\n"
     ]
    }
   ],
   "source": [
    "# model.load(model_path + \"run_\" + run_num_str + \"_\" + str(num_context)+ \"context_\" +K_str +  \"flows_\"\\\n",
    "#            + hidden_layers_str+\"hl_\" + hidden_units_str+\"hu_\" + batch_size_str+\"bs_checkpoint_e8.pth\")\n",
    "model.load(model_path + \"run_\" + run_num_str + \"_\" + str(num_context)+ \"context_\" +K_str +  \"flows_\"\\\n",
    "           + hidden_layers_str+\"hl_\" + hidden_units_str+\"hu_\" + batch_size_str+\"bs_epoch9_step8765.pth\")\n",
    "# perm_model_dir = \"/hpc/group/vossenlab/rck32/NF_time_res_models/\"\n",
    "# model.load(perm_model_dir+ \"run_7_3context_8flows_26hl_256hu_2000bs.pth\")\n",
    "model = model.to(device)\n",
    "\n",
    "model_compile = torch.compile(model,mode = \"reduce-overhead\")\n",
    "model_compile = model_compile.to(device)"
   ]
  },
  {
   "cell_type": "markdown",
   "id": "b6f99eb5",
   "metadata": {
    "tags": []
   },
   "source": [
    "### Evaluation\n",
    "load one bar scint root files with uproot"
   ]
  },
  {
   "cell_type": "code",
   "execution_count": 27,
   "id": "6a1b980e-74e4-40db-be53-d4a0e1cb6d36",
   "metadata": {},
   "outputs": [],
   "source": [
    "'''muon z pos vary'''\n",
    "\n",
    "# Specify the directory path\n",
    "directory = f\"/hpc/group/vossenlab/rck32/eic/work_eic/root_files/time_res_one_segment_scint/January_28/\"\n",
    "filename = \"run_1_mum_10GeV_theta_90_5kevents.edm4hep.root\"\n",
    "\n",
    "\n",
    "file_path = os.path.join(directory, filename)\n",
    "data = process_data_one_segment(file_path + \":events\")\n",
    "\n",
    "features, metadata= prepare_data_for_nn_one_segment(data)"
   ]
  },
  {
   "cell_type": "code",
   "execution_count": 28,
   "id": "7a99259f-bbbe-4667-9dd5-e9c930415b69",
   "metadata": {},
   "outputs": [
    {
     "name": "stdout",
     "output_type": "stream",
     "text": [
      "(402019, 4)\n"
     ]
    }
   ],
   "source": [
    "# Create DataLoader\n",
    "batch_size_inference = 20000\n",
    "dataloader = create_dataloader(features, metadata, batch_size_inference,shuffle_bool=False)\n",
    "\n",
    "min_time = 0\n",
    "samples = torch.empty(features.shape[0],device = device)\n",
    "context = torch.empty((features.shape[0],3),device = device)\n",
    "event_idxs = torch.empty(features.shape[0],device = device)\n",
    "it = 0\n",
    "with torch.no_grad():\n",
    "    for batch_features, batch_metadata in dataloader:\n",
    "        context_features = batch_features[:, :3].clone().to(device)\n",
    "        samples[batch_size_inference * it:(batch_size_inference * it) + len(batch_features)] = abs(model_compile.sample(num_samples=context_features.shape[0], context=context_features)[0]).squeeze(1)\n",
    "        samples[it*batch_size_inference:(batch_size_inference * it) + len(batch_features)].add_(batch_features[:, 3].to(device))\n",
    "        context[batch_size_inference * it:(batch_size_inference * it) + len(batch_features)] = context_features\n",
    "        event_idxs[batch_size_inference * it:(batch_size_inference * it) + len(batch_features)] = batch_metadata\n",
    "        \n",
    "        del batch_features\n",
    "        it += 1\n",
    "context = context.cpu().detach()\n",
    "samples = samples.cpu().detach()\n",
    "event_idxs = event_idxs.cpu().detach()"
   ]
  },
  {
   "cell_type": "markdown",
   "id": "4337bcb6-cd79-48b4-b302-54a1a60b5f97",
   "metadata": {},
   "source": [
    "## Timing Resolution\n",
    "Need distribution of time of first photons"
   ]
  },
  {
   "cell_type": "markdown",
   "id": "fc4f975c-eb12-4cab-93f5-fd0c62e94bc2",
   "metadata": {},
   "source": [
    "#### NF: Calculate first pixel times for events that pass threshold"
   ]
  },
  {
   "cell_type": "code",
   "execution_count": 29,
   "id": "1e4d95e1-30e7-46bb-9ba6-4219386f5410",
   "metadata": {},
   "outputs": [],
   "source": [
    "threshold = 10\n",
    "first_times = []\n",
    "# Get unique event indices and their counts\n",
    "unique_events, counts = torch.unique(event_idxs, return_counts=True)\n",
    "\n",
    "# Find events that meet the threshold\n",
    "valid_events = unique_events[counts > threshold]\n",
    "\n",
    "# If there are valid events, process them\n",
    "if valid_events.numel() > 0:\n",
    "    # Create a mask for valid events\n",
    "    mask = torch.isin(event_idxs, valid_events)\n",
    "\n",
    "    # Get samples and events for valid events\n",
    "    valid_samples = samples[mask]\n",
    "    valid_event_indices = event_idxs[mask]\n",
    "\n",
    "    # Sort samples and event indices\n",
    "    sorted_indices = torch.argsort(valid_event_indices)\n",
    "    sorted_samples = valid_samples[sorted_indices]\n",
    "    sorted_events = valid_event_indices[sorted_indices]\n",
    "\n",
    "    # Find the minimum sample for each event\n",
    "    unique_events = torch.unique(sorted_events)\n",
    "    min_samples = torch.tensor([sorted_samples[sorted_events == event].min() for event in unique_events])\n",
    "    second_min_samples = torch.tensor([sorted_samples[sorted_events == event].kthvalue(2)[0] for event in unique_events])\n",
    "\n",
    "    # Append to the corresponding sublist in the result list\n",
    "    first_times.append(min_samples.tolist())"
   ]
  },
  {
   "cell_type": "markdown",
   "id": "58943615-94ba-48e0-a90f-117e47e8aca4",
   "metadata": {},
   "source": [
    "#### Optph: process times and get distribution"
   ]
  },
  {
   "cell_type": "code",
   "execution_count": 13,
   "id": "64cadfc5-2470-4969-8037-2632efa73bb9",
   "metadata": {},
   "outputs": [],
   "source": [
    "from NF_util import avg_time\n",
    "def process_times(uproot_path,threshold = 10, multipleFiles = False):\n",
    "    if(multipleFiles):\n",
    "        times_arrays_list = []\n",
    "        cells_arrays_list = []\n",
    "        x_pos_arrays_list = []\n",
    "        y_pos_arrays_list = []\n",
    "        z_pos_arrays_list = []\n",
    "        px_arrays_list = []\n",
    "        py_arrays_list = []\n",
    "        pz_arrays_list = []\n",
    "\n",
    "        # Loop through all files in the directory\n",
    "        for file_name in os.listdir(uproot_path):\n",
    "            if file_name.endswith(\".root\"):  # Ensure we're only processing ROOT files\n",
    "                file_path = os.path.join(uproot_path, file_name)\n",
    "\n",
    "                # Open the ROOT file\n",
    "                with up.open(file_path) as file:\n",
    "                    # Open tree\n",
    "                    tree = file[\"events\"]\n",
    "\n",
    "                    times_arrays_list.append(tree[\"HcalBarrelHits/HcalBarrelHits.time\"].array(library=\"np\"))\n",
    "                    cells_arrays_list.append(tree[\"HcalBarrelHits/HcalBarrelHits.cellID\"].array(library=\"np\"))\n",
    "                    x_pos_arrays_list.append(tree[\"HcalBarrelHits/HcalBarrelHits.position.x\"].array(library=\"np\"))\n",
    "                    y_pos_arrays_list.append(tree[\"HcalBarrelHits/HcalBarrelHits.position.y\"].array(library=\"np\"))\n",
    "                    z_pos_arrays_list.append(tree[\"HcalBarrelHits/HcalBarrelHits.position.z\"].array(library=\"np\"))\n",
    "                    \n",
    "                    px_arrays_list.append(tree[\"HcalBarrelHits/HcalBarrelHits.momentum.x\"].array(library=\"np\"))\n",
    "                    py_arrays_list.append(tree[\"HcalBarrelHits/HcalBarrelHits.momentum.y\"].array(library=\"np\"))\n",
    "                    pz_arrays_list.append(tree[\"HcalBarrelHits/HcalBarrelHits.momentum.z\"].array(library=\"np\"))\n",
    "\n",
    "        # Combine arrays for each branch\n",
    "        times = np.concatenate(times_arrays_list)\n",
    "        cells = np.concatenate(cells_arrays_list)\n",
    "        x_pos_branch = np.concatenate(x_pos_arrays_list)\n",
    "        y_pos_branch = np.concatenate(y_pos_arrays_list)\n",
    "        z_pos_branch = np.concatenate(z_pos_arrays_list)\n",
    "\n",
    "        # Now combined_arrays contains the concatenated arrays for each branch across all files\n",
    "    else:\n",
    "        events = up.open(uproot_path)\n",
    "\n",
    "        times = events[\"HcalBarrelHits/HcalBarrelHits.time\"].array(library='np')\n",
    "        cells = events[\"HcalBarrelHits/HcalBarrelHits.cellID\"].array(library='np')\n",
    "        x_pos_branch = events[\"HcalBarrelHits/HcalBarrelHits.position.x\"].array(library='np')\n",
    "        y_pos_branch = events[\"HcalBarrelHits/HcalBarrelHits.position.y\"].array(library='np')\n",
    "        z_pos_branch = events[\"HcalBarrelHits/HcalBarrelHits.position.z\"].array(library='np')\n",
    "        \n",
    "    accepted_times = []\n",
    "    second_lowest_list = []\n",
    "    avg_accepted_times = []\n",
    "    rel_accepted_times = []\n",
    "\n",
    "    duplicates = 0\n",
    "    total = 0\n",
    "    total_cells = []\n",
    "\n",
    "    skipped = 0\n",
    "    num_list = []\n",
    "    #First loop over events\n",
    "    for event_num in range(len(cells)):\n",
    "\n",
    "        #skip events with less than 2 photons\n",
    "    #     if(times[event_num].shape[0] < threshold): continue\n",
    "\n",
    "        #Keep track of which cell IDs are hit\n",
    "        curr_list = []\n",
    "        for photon_num in range(len(cells[event_num])):\n",
    "            if(cells[event_num][photon_num] in curr_list):\n",
    "                duplicates += 1\n",
    "            else:\n",
    "                curr_list.append(cells[event_num][photon_num])\n",
    "            if(cells[event_num][photon_num] not in total_cells):\n",
    "                total_cells.append(cells[event_num][photon_num])\n",
    "            total += 1\n",
    "        num_list.append(len(curr_list))\n",
    "        #check if 2 unique pixels are hit\n",
    "        if(len(curr_list) < threshold): \n",
    "            skipped += 1\n",
    "            continue\n",
    "        curr_min = min(times[event_num])\n",
    "        accepted_times.append(curr_min)\n",
    "        second_lowest_list.append(min([x for x in times[event_num] if x != curr_min]))\n",
    "        avg_accepted_times.append(avg_time(threshold,times[event_num]))\n",
    "    #     if(len(curr_list) == 15):\n",
    "    #         print(f\"event #{event_num}\")\n",
    "    print(f\"total: {total} | duplicates: {duplicates} | ratio: {duplicates / total} | num unique cells hit: {len(total_cells)} | skipped: {skipped}\")\n",
    "    return accepted_times, second_lowest_list, avg_accepted_times, times"
   ]
  },
  {
   "cell_type": "code",
   "execution_count": 14,
   "id": "f9f213ed-3810-42a1-9361-e972341597a6",
   "metadata": {},
   "outputs": [
    {
     "name": "stdout",
     "output_type": "stream",
     "text": [
      "total: 876688 | duplicates: 57574 | ratio: 0.06567216615261073 | num unique cells hit: 6532 | skipped: 1\n"
     ]
    }
   ],
   "source": [
    "#Minimum number of pixels to be hit for us to accept event\n",
    "threshold = 4\n",
    "\n",
    "\n",
    "uproot_path = f\"/hpc/group/vossenlab/rck32/eic/work_eic/root_files/time_res_one_segment_sensor/January_27/run_1_w_QE_2cm_thickness\"\n",
    "\n",
    "# uproot_path = f\"/hpc/group/vossenlab/rck32/eic/work_eic/root_files/time_res_one_segment_sensor/October_24/run_1_w_QE\"\n",
    "\n",
    "accepted_times, second_lowest_list, avg_accepted_times, times = process_times(uproot_path, threshold,True)"
   ]
  },
  {
   "cell_type": "code",
   "execution_count": 15,
   "id": "ea631c97-8262-428d-8c6a-c8dfc6d3a4b7",
   "metadata": {},
   "outputs": [],
   "source": [
    "all_times_optph = []\n",
    "for event_idx in range(len(times)):\n",
    "    for time in times[event_idx]:\n",
    "        all_times_optph.append(time)"
   ]
  },
  {
   "cell_type": "markdown",
   "id": "ab61a27c-98e7-4080-99dd-8c4d595c7711",
   "metadata": {},
   "source": [
    "### Compare first photon distributions"
   ]
  },
  {
   "cell_type": "code",
   "execution_count": 16,
   "id": "014b3f82-4d29-47dd-aae5-55cbce091ef6",
   "metadata": {},
   "outputs": [],
   "source": [
    "np_first_times = np.array(first_times)\n",
    "\n",
    "np_accepted_times = np.array(accepted_times)\n",
    "ub = 10.8\n",
    "lb = 10.2\n",
    "cut_first_times = np_first_times[np_first_times < ub]\n",
    "cut_first_times = cut_first_times[cut_first_times > lb]\n",
    "\n",
    "cut_accepted_times = np_accepted_times[np_accepted_times < ub]\n",
    "cut_accepted_times = cut_accepted_times[cut_accepted_times > lb]"
   ]
  },
  {
   "cell_type": "code",
   "execution_count": 30,
   "id": "bf819cda-9ad9-4124-9d75-00852cf573b8",
   "metadata": {},
   "outputs": [
    {
     "data": {
      "image/png": "[encoded data removed]",
      "text/plain": [
       "<Figure size 1500x500 with 3 Axes>"
      ]
     },
     "metadata": {},
     "output_type": "display_data"
    }
   ],
   "source": [
    "# import matplotlib as mpl\n",
    "# mpl.rcParams['figure.dpi'] = 600\n",
    "(mu, sigma) = norm.fit(cut_accepted_times)\n",
    "\n",
    "fig_first_times, axs_first_times = plot.subplots(1,3,figsize=(15,5))\n",
    "axs_first_times[0].hist(first_times,bins = 100,alpha = 0.5, color = \"blue\",density = True,label = \"Neural Network\");\n",
    "axs_first_times[0].hist(accepted_times,bins = 100,alpha = 0.4, color = \"red\",density = True,label = \"Simulation\");\n",
    "axs_first_times[0].legend()\n",
    "axs_first_times[0].set_ylabel(\"Normalized Counts\")\n",
    "axs_first_times[0].set_title(\"First Photon Arrival Time\")\n",
    "axs_first_times[0].set_xlabel(\"Arrival Time of first optical photon (ns)\")\n",
    "\n",
    "axs_first_times[1].hist(second_min_samples,bins = 100,alpha = 0.5, color = \"blue\",density = True,label = \"Neural Network\");\n",
    "axs_first_times[1].hist(second_lowest_list,bins = 100,alpha = 0.4, color = \"red\",density = True,label = \"Simulation\");\n",
    "axs_first_times[1].legend()\n",
    "axs_first_times[1].set_ylabel(\"Normalized Counts\")\n",
    "axs_first_times[1].set_title(\"Second Photon Arrival Time\")\n",
    "axs_first_times[1].set_xlabel(\"Arrival Time of second optical photon (ns)\")\n",
    "\n",
    "axs_first_times[2].hist(samples,bins = 100,alpha = 0.5, color = \"blue\",density = True,label = \"Neural Network\");\n",
    "axs_first_times[2].hist(all_times_optph,bins = 100,alpha = 0.4, color = \"red\",density = True,label = \"Simulation\");\n",
    "axs_first_times[2].legend()\n",
    "axs_first_times[2].set_ylabel(\"Normalized Counts\")\n",
    "axs_first_times[2].set_title(\"All Photon Arrival Times\")\n",
    "axs_first_times[2].set_xlabel(\"Arrival Time of all optical photons (ns)\")\n",
    "fig_first_times.suptitle(\"Arrival Time of First/Second Optical Photon\")\n",
    "# fig_first_times.text(0.3,0.5,r\"$\\sigma$ = %.1f ps\"%(sigma * 1000))\n",
    "fig_first_times.tight_layout()\n",
    "# fig_first_times.savefig(\"plots/time_res/both_times_1cm_new_labels.jpeg\")"
   ]
  },
  {
   "cell_type": "markdown",
   "id": "483e9ad4-9928-4104-8c45-9bdefa6ab88a",
   "metadata": {},
   "source": [
    "## Cutting off tails"
   ]
  },
  {
   "cell_type": "code",
   "execution_count": 21,
   "id": "545d7db6-aefb-48cb-8ab0-f0b8e1fe9d37",
   "metadata": {},
   "outputs": [],
   "source": [
    "np_first_times = np.array(first_times)\n",
    "\n",
    "np_accepted_times = np.array(accepted_times)\n",
    "\n",
    "cut_first_times = np_first_times[np_first_times < 10.8]\n",
    "cut_first_times = cut_first_times[cut_first_times > 10]\n",
    "\n",
    "cut_accepted_times = np_accepted_times[np_accepted_times < 10.8]\n",
    "cut_accepted_times = cut_accepted_times[cut_accepted_times > 10]"
   ]
  },
  {
   "cell_type": "code",
   "execution_count": 18,
   "id": "b24dcd0f-4b86-41ef-b794-80db2c6a6927",
   "metadata": {},
   "outputs": [
    {
     "name": "stdout",
     "output_type": "stream",
     "text": [
      "\tsigma:\t\t| mean:\t\t\n",
      "Real:\t\t  0.107 |\t 10.44\n",
      "Learned:\t  0.111 |\t 10.43\n"
     ]
    }
   ],
   "source": [
    "#timing resolution:\n",
    "(mu_real, sigma_real) = norm.fit(cut_accepted_times)\n",
    "(mu_learned, sigma_learned) = norm.fit(cut_first_times)\n",
    "print(\"\\tsigma:\\t\\t| mean:\\t\\t\")\n",
    "print(\"Real:\\t\\t  %4.3f |\\t %4.2f\" %(sigma_real,mu_real))\n",
    "print(\"Learned:\\t  %4.3f |\\t %4.2f\" %(sigma_learned,mu_learned))"
   ]
  },
  {
   "cell_type": "code",
   "execution_count": 97,
   "id": "3331b8f2-e526-4110-aec9-77b835932f33",
   "metadata": {},
   "outputs": [
    {
     "name": "stdout",
     "output_type": "stream",
     "text": [
      "\tsigma:\t\t| mean:\t\t\n",
      "Real:\t\t  0.125 |\t 10.44\n",
      "Real cut:\t\t  0.117 |\t 10.44\n"
     ]
    }
   ],
   "source": [
    "#timing resolution:\n",
    "accepted_times = np.array(accepted_times)\n",
    "\n",
    "cut_accepted_times = accepted_times[accepted_times < 10.9]\n",
    "cut_accepted_times = cut_accepted_times[cut_accepted_times > 10]\n",
    "\n",
    "\n",
    "(mu_real, sigma_real) = norm.fit(accepted_times)\n",
    "(mu_real_cut, sigma_real_cut) = norm.fit(cut_accepted_times)\n",
    "print(\"\\tsigma:\\t\\t| mean:\\t\\t\")\n",
    "print(\"Real:\\t\\t  %4.3f |\\t %4.2f\" %(sigma_real,mu_real))\n",
    "print(\"Real cut:\\t\\t  %4.3f |\\t %4.2f\" %(sigma_real_cut,mu_real_cut))"
   ]
  },
  {
   "cell_type": "code",
   "execution_count": 98,
   "id": "92907db6-cad2-4f3b-8a6f-dfc58af7c020",
   "metadata": {},
   "outputs": [
    {
     "data": {
      "image/png": "[encoded data removed]",
      "text/plain": [
       "<Figure size 640x480 with 1 Axes>"
      ]
     },
     "metadata": {},
     "output_type": "display_data"
    }
   ],
   "source": [
    "fig_first_times, axs_first_times = plot.subplots(1,1)\n",
    "axs_first_times.hist(accepted_times,bins = 100,alpha = 1, color = \"red\",density = True);\n",
    "# axs_first_times.legend()\n",
    "axs_first_times.set_ylabel(\"Normalized Counts\")\n",
    "axs_first_times.set_xlabel(\"Arrival Time (ns)\")\n",
    "axs_first_times.text(9.8,2.1,r\"$\\sigma$ = %.3f ns\" % (sigma_real))\n",
    "axs_first_times.text(9.8,1.6,r\"# events: %d\" % (len(accepted_times)))\n",
    "axs_first_times.grid(alpha = 0.3)\n",
    "fig_first_times.suptitle(\"First Photon Arrival Time\")\n",
    "fig_first_times.tight_layout()\n",
    "plot.show()\n",
    "# fig_first_times.savefig(\"plots/sept_29/time_res_0_8_10GeV_mu_5250.pdf\")"
   ]
  },
  {
   "cell_type": "code",
   "execution_count": null,
   "id": "a19eb908-8559-4984-87f2-624cf61f3176",
   "metadata": {},
   "outputs": [],
   "source": []
  }
 ],
 "metadata": {
  "kernelspec": {
   "display_name": "ML_venv",
   "language": "python",
   "name": "ml_venv"
  },
  "language_info": {
   "codemirror_mode": {
    "name": "ipython",
    "version": 3
   },
   "file_extension": ".py",
   "mimetype": "text/x-python",
   "name": "python",
   "nbconvert_exporter": "python",
   "pygments_lexer": "ipython3",
   "version": "3.9.19"
  }
 },
 "nbformat": 4,
 "nbformat_minor": 5
}
