{
 "cells": [
  {
   "cell_type": "markdown",
   "id": "1a2e1510-0015-412c-a610-0903f9eb5e09",
   "metadata": {},
   "source": [
    "# Notebook for making basic PID by separating mu- and pi- based on layers traversed"
   ]
  },
  {
   "cell_type": "code",
   "execution_count": 13,
   "id": "e8375889-d6af-4d52-a5e9-d6ee190e893e",
   "metadata": {},
   "outputs": [
    {
     "name": "stdout",
     "output_type": "stream",
     "text": [
      "skipped 0 events\n"
     ]
    },
    {
     "data": {
      "image/png": "[encoded data removed]",
      "text/plain": [
       "<Figure size 864x432 with 2 Axes>"
      ]
     },
     "metadata": {
      "needs_background": "light"
     },
     "output_type": "display_data"
    }
   ],
   "source": [
    "def get_num_layers_traversed(x_pos):\n",
    "    #This map contains the midpoints of each layer - each layer is 1cm in width, so we can check the 0.5cm on each side to see if a hit was in the layer\n",
    "    layer_map = [1830.8000, 1841.4000, 1907.5, 1918.1,1984.1999, 1994.8000, 2060.8999,2071.5,2137.6001,2148.1999,2214.3000,2224.8999,2291,2301.6001,2367.6999,2378.3000,2444.3999,2455,2521.1001,2531.6999,2597.8000,2608.3999,2674.5,2685.1001,2751.1999,2761.8000,2827.8999,2838.5]\n",
    "    for layer_idx in range(len(layer_map)):\n",
    "        #check if particle hit within layer\n",
    "        if ((x_pos >= layer_map[layer_idx] - 5) and (x_pos <= layer_map[layer_idx] + 5)):\n",
    "            return layer_idx\n",
    "    #if no layers hit, send error code\n",
    "    return -1\n",
    "\n",
    "#### Energy deposition cut method\n",
    "\n",
    "#initialize list that we will fill with # of layers traversed for each event\n",
    "layers_traversed = []\n",
    "skip_count = 0\n",
    "#loop over each event\n",
    "layer_EDep = np.zeros(28)\n",
    "\n",
    "for event_idx in range(len(x_pos_branch)):\n",
    "    event_x_pos = x_pos_branch[event_idx]\n",
    "    event_layer_hits = []\n",
    "    event_EDep = EDep_branch[event_idx]\n",
    "    layer_hit_bool = np.zeros(28)\n",
    "    #for each event, loop over the particles to find mu/pi\n",
    "    for hit_idx in range(len(event_x_pos)):\n",
    "        if(Hits_MC_idx_branch[event_idx][hit_idx] != 0):continue\n",
    "        current_x_pos = event_x_pos[hit_idx]\n",
    "        current_EDep = event_EDep[hit_idx]\n",
    "        layer_hit = get_num_layers_traversed(current_x_pos)\n",
    "#         if(layer_hit_bool[hit_idx] == 1):\n",
    "#             continue\n",
    "#         layer_hit_bool[hit_idx] = 1\n",
    "        if(layer_hit == -1):\n",
    "            skip_count += 1\n",
    "            continue\n",
    "        layer_EDep[layer_hit] += current_EDep\n",
    "super_layer_EDep = np.zeros(14)\n",
    "for i in range(len(layer_EDep)):\n",
    "    super_layer_num = int(np.floor(i / 2))\n",
    "    super_layer_EDep[super_layer_num] += layer_EDep[i]\n",
    "super_layer_EDep = super_layer_EDep / len(x_pos_branch)\n",
    "layer_EDep = layer_EDep / len(x_pos_branch)\n",
    "print(f\"skipped {skip_count} events\")\n",
    "\n",
    "fig,(ax1,ax2) = plot.subplots(1,2,figsize=(12,6))\n",
    "fig.suptitle(\"1GeV pi-: energy deposited by layer avg over 5k events\")\n",
    "ax1.set_title(\"Super layer energy deposition\")\n",
    "ax2.set_title(\"Individual layer energy deposition\")\n",
    "\n",
    "ax1.set_xlabel(\"superlayer number\")\n",
    "ax2.set_xlabel(\"layer number\")\n",
    "\n",
    "ax1.set_ylabel(\"avg energy deposited per event (GeV)\")\n",
    "ax1.scatter(range(14),super_layer_EDep,10)\n",
    "ax2.scatter(layer_map,layer_EDep,10,color = 'r',marker='o')\n",
    "fig.show()\n",
    "fig.savefig(\"plots/June_13/mu_1GeV_10k_edep_vs_layer_num_avg_event.jpeg\")"
   ]
  },
  {
   "cell_type": "code",
   "execution_count": 2,
   "id": "ec836a7e-fed6-4516-96b7-09a6f25d0f4d",
   "metadata": {},
   "outputs": [],
   "source": [
    "#imports\n",
    "import numpy as np\n",
    "import uproot as up\n",
    "import pandas as pd\n",
    "import matplotlib.pyplot as plot\n",
    "\n",
    "uproot_path = f\"/cwork/rck32/eic/work_eic/root_files/June_13/one_sector/pi_1GeV_2k.edm4hep.root:events\"\n",
    "events = up.open(uproot_path)\n",
    "\n",
    "x_pos_branch = events[\"HcalBarrelHits/HcalBarrelHits.position.x\"].array(library='np')\n",
    "EDep_branch = events[\"HcalBarrelHits.EDep\"].array(library='np')\n",
    "Hits_MC_idx_branch = events[\"_HcalBarrelHits_MCParticle.index\"].array(library='np')\n",
    "PDG_branch = events[\"MCParticles.PDG\"].array(library='np')\n",
    "gen_status_branch = events[\"MCParticles.generatorStatus\"].array(library='np')\n",
    "layer_map = [1830.8000, 1841.4000, 1907.5, 1918.1,1984.1999, 1994.8000, 2060.8999,2071.5,2137.6001,2148.1999,2214.3000,2224.8999,2291,2301.6001,2367.6999,2378.3000,2444.3999,2455,2521.1001,2531.6999,2597.8000,2608.3999,2674.5,2685.1001,2751.1999,2761.8000,2827.8999,2838.5]    "
   ]
  },
  {
   "cell_type": "code",
   "execution_count": 7,
   "id": "0851fad0-fe98-4118-8c38-5b0a701597dd",
   "metadata": {},
   "outputs": [
    {
     "name": "stdout",
     "output_type": "stream",
     "text": [
      "skipped layer #24\n",
      "skipped layer #25\n",
      "skipped layer #26\n",
      "skipped layer #27\n"
     ]
    }
   ],
   "source": [
    "hist = [[] for i in range(28)]\n",
    "generator_missed = 0\n",
    "generator_hit = 0\n",
    "for event_idx in range(len(x_pos_branch)):\n",
    "    event_layer_hits = []\n",
    "    #for each event, loop over the particles to find mu/pi\n",
    "    for hit_idx in range(len(x_pos_branch[event_idx])):\n",
    "        hit_position_x = x_pos_branch[event_idx][hit_idx]\n",
    "        \n",
    "        layer_number = -1\n",
    "        hit_energy = -1\n",
    "        \n",
    "        MC_idx = Hits_MC_idx_branch[event_idx][hit_idx]\n",
    "        if(not gen_status_branch[event_idx][MC_idx]):\n",
    "            generator_missed += 1\n",
    "            continue\n",
    "        else:\n",
    "            generator_hit += 1\n",
    "        for layer_num in range(len(layer_map)):\n",
    "            if((hit_position_x > (layer_map[layer_num]  - 5)) and (hit_position_x < (layer_map[layer_num]  + 5))):\n",
    "                layer_number = layer_num\n",
    "                break\n",
    "        \n",
    "        hit_energy = EDep_branch[event_idx][hit_idx]\n",
    "        hist[layer_number].append(hit_energy)\n",
    "hist_means = np.empty(28)\n",
    "for i in range(len(hist)):\n",
    "    if(len(hist[i]) == 0):\n",
    "        hist_means[i] = 0\n",
    "        print(f\"skipped layer #{i}\")\n",
    "    else:\n",
    "        hist_means[i] = np.mean(hist[i])"
   ]
  },
  {
   "cell_type": "code",
   "execution_count": 8,
   "id": "2e5296b3-aae1-4c4d-acf8-565bd03e1b6e",
   "metadata": {},
   "outputs": [
    {
     "name": "stdout",
     "output_type": "stream",
     "text": [
      "generator_missed: 171746 | generator_hit: 8502\n"
     ]
    }
   ],
   "source": [
    "print(f\"generator_missed: {generator_missed} | generator_hit: {generator_hit}\")"
   ]
  },
  {
   "cell_type": "code",
   "execution_count": 9,
   "id": "7ce76c2a-526b-48b6-91b1-cfa3c62a6dcf",
   "metadata": {},
   "outputs": [
    {
     "data": {
      "image/png": "[encoded data removed]",
      "text/plain": [
       "<Figure size 432x288 with 1 Axes>"
      ]
     },
     "metadata": {
      "needs_background": "light"
     },
     "output_type": "display_data"
    }
   ],
   "source": [
    "plot.plot(hist_means, marker=\"o\");"
   ]
  },
  {
   "cell_type": "code",
   "execution_count": null,
   "id": "25419c37-434b-4b82-9d74-d2b4d05afeed",
   "metadata": {},
   "outputs": [],
   "source": [
    "super_layer_EDep = np.zeros(14)\n",
    "for i in range(len(layer_EDep)):\n",
    "    super_layer_num = int(np.floor(i / 2))\n",
    "    super_layer_EDep[super_layer_num] += layer_EDep[i]\n",
    "super_layer_EDep = super_layer_EDep / len(x_pos_branch)\n",
    "layer_EDep = layer_EDep / len(x_pos_branch)\n",
    "print(f\"skipped {skip_count} events\")\n",
    "\n",
    "fig,(ax1,ax2) = plot.subplots(1,2,figsize=(12,6))\n",
    "fig.suptitle(\"1GeV pi-: energy deposited by layer\")\n",
    "ax1.set_title(\"Super layer energy deposition\")\n",
    "ax2.set_title(\"Individual layer energy deposition\")\n",
    "\n",
    "ax1.set_xlabel(\"superlayer number\")\n",
    "ax2.set_xlabel(\"layer number\")\n",
    "\n",
    "ax1.set_ylabel(\"avg energy deposited per event (GeV)\")\n",
    "ax1.scatter(range(14),super_layer_EDep,10)\n",
    "ax2.scatter(layer_map,layer_EDep,10,color = 'r',marker='o')\n",
    "fig.show()\n",
    "# fig.savefig(\"plots/energy_dep/mu_1GeV_10k_edep_vs_layer_num.jpeg\")"
   ]
  }
 ],
 "metadata": {
  "kernelspec": {
   "display_name": "Python 3",
   "language": "python",
   "name": "python3"
  },
  "language_info": {
   "codemirror_mode": {
    "name": "ipython",
    "version": 3
   },
   "file_extension": ".py",
   "mimetype": "text/x-python",
   "name": "python",
   "nbconvert_exporter": "python",
   "pygments_lexer": "ipython3",
   "version": "3.8.8"
  }
 },
 "nbformat": 4,
 "nbformat_minor": 5
}
