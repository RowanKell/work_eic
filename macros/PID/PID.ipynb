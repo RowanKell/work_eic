{
 "cells": [
  {
   "cell_type": "markdown",
   "id": "1a2e1510-0015-412c-a610-0903f9eb5e09",
   "metadata": {},
   "source": [
    "# Notebook for making basic PID by separating mu- and pi- based on layers traversed"
   ]
  },
  {
   "cell_type": "code",
   "execution_count": 8,
   "id": "3fbb85ed-564f-44de-baa0-5934f9624b29",
   "metadata": {},
   "outputs": [],
   "source": [
    "#imports\n",
    "import numpy as np\n",
    "import uproot as up\n",
    "import pandas as pd\n",
    "import matplotlib.pyplot as plot"
   ]
  },
  {
   "cell_type": "code",
   "execution_count": 9,
   "id": "1993d9c1-c495-4c2e-b2d8-34726bd83f60",
   "metadata": {},
   "outputs": [],
   "source": [
    "#USER SET VARIABLES\n",
    "\n",
    "#Set these according to the simulation\n",
    "select_pdg = 13 #pdg value of particle gun (mu- = 13; pi- = 211)"
   ]
  },
  {
   "cell_type": "code",
   "execution_count": 10,
   "id": "032f3fce-e9ab-4741-a5e4-6bf552b78d19",
   "metadata": {},
   "outputs": [],
   "source": [
    "uproot_path = f\"/cwork/rck32/eic/work_eic/root_files/June_10/mu_5GeV_10k.edm4hep.root:events\"\n",
    "\n",
    "events = up.open(uproot_path)\n",
    "\n",
    "x_pos_branch = events[\"HcalBarrelHits/HcalBarrelHits.position.x\"].array(library='np')\n",
    "PDG_branch = events[\"MCParticles.PDG\"].array(library='np')"
   ]
  },
  {
   "cell_type": "code",
   "execution_count": 11,
   "id": "6022163d-97f5-4d21-bbc1-59b685e92624",
   "metadata": {},
   "outputs": [],
   "source": [
    "def get_num_layers_traversed(x_pos):\n",
    "    #This map contains the midpoints of each layer - each layer is 1cm in width, so we can check the 0.5cm on each side to see if a hit was in the layer\n",
    "    layer_map = [1830.8000, 1841.4000, 1907.5, 1918.1,1984.1999, 1994.8000, 2060.8999,2071.5,2137.6001,2148.1999,2214.3000,2224.8999,2291,2301.6001,2367.6999,2378.3000,2444.3999,2455,2521.1001,2531.6999,2597.8000,2608.3999,2674.5,2685.1001,2751.1999,2761.8000,2827.8999,2838.5]\n",
    "    for layer_idx in range(len(layer_map)):\n",
    "        #check if particle hit within layer\n",
    "        if((x_pos >= layer_map[layer_idx] - 5) and (x_pos <= layer_map[layer_idx] + 5)):\n",
    "            continue\n",
    "        elif(layer_idx == 0):\n",
    "            #if didn't hit first layer, skip event and make note\n",
    "            return -1\n",
    "        else:\n",
    "            #if particle didn't hit layer, must have stopped previous layer\n",
    "            return layer_idx - 1\n",
    "    return -2"
   ]
  },
  {
   "cell_type": "code",
   "execution_count": 12,
   "id": "68ada3b2-7c24-4668-b340-d4c3171a444a",
   "metadata": {},
   "outputs": [
    {
     "ename": "IndexError",
     "evalue": "index 1 is out of bounds for axis 0 with size 1",
     "output_type": "error",
     "traceback": [
      "\u001b[0;31m---------------------------------------------------------------------------\u001b[0m",
      "\u001b[0;31mIndexError\u001b[0m                                Traceback (most recent call last)",
      "\u001b[0;32m<ipython-input-12-8988432213b4>\u001b[0m in \u001b[0;36m<module>\u001b[0;34m\u001b[0m\n\u001b[1;32m      7\u001b[0m     \u001b[0;31m#for each event, loop over the particles to find mu/pi\u001b[0m\u001b[0;34m\u001b[0m\u001b[0;34m\u001b[0m\u001b[0;34m\u001b[0m\u001b[0m\n\u001b[1;32m      8\u001b[0m     \u001b[0;32mfor\u001b[0m \u001b[0mparticle_idx\u001b[0m \u001b[0;32min\u001b[0m \u001b[0mrange\u001b[0m\u001b[0;34m(\u001b[0m\u001b[0mlen\u001b[0m\u001b[0;34m(\u001b[0m\u001b[0mevent_x_pos\u001b[0m\u001b[0;34m)\u001b[0m\u001b[0;34m)\u001b[0m\u001b[0;34m:\u001b[0m\u001b[0;34m\u001b[0m\u001b[0;34m\u001b[0m\u001b[0m\n\u001b[0;32m----> 9\u001b[0;31m         \u001b[0mparticle_pdg\u001b[0m \u001b[0;34m=\u001b[0m \u001b[0mPDG_branch\u001b[0m\u001b[0;34m[\u001b[0m\u001b[0mevent_idx\u001b[0m\u001b[0;34m]\u001b[0m\u001b[0;34m[\u001b[0m\u001b[0mparticle_idx\u001b[0m\u001b[0;34m]\u001b[0m\u001b[0;34m\u001b[0m\u001b[0;34m\u001b[0m\u001b[0m\n\u001b[0m\u001b[1;32m     10\u001b[0m         \u001b[0;32mif\u001b[0m\u001b[0;34m(\u001b[0m\u001b[0mparticle_pdg\u001b[0m \u001b[0;34m==\u001b[0m \u001b[0mselect_pdg\u001b[0m\u001b[0;34m)\u001b[0m\u001b[0;34m:\u001b[0m\u001b[0;34m\u001b[0m\u001b[0;34m\u001b[0m\u001b[0m\n\u001b[1;32m     11\u001b[0m             \u001b[0mcurrent_x_pos\u001b[0m \u001b[0;34m=\u001b[0m \u001b[0mevent_x_pos\u001b[0m\u001b[0;34m[\u001b[0m\u001b[0mparticle_idx\u001b[0m\u001b[0;34m]\u001b[0m\u001b[0;34m\u001b[0m\u001b[0;34m\u001b[0m\u001b[0m\n",
      "\u001b[0;31mIndexError\u001b[0m: index 1 is out of bounds for axis 0 with size 1"
     ]
    }
   ],
   "source": [
    "#initialize list that we will fill with # of layers traversed for each event\n",
    "layers_traversed = []\n",
    "\n",
    "#loop over each event\n",
    "for event_idx in range(len(x_pos_branch)):\n",
    "    event_x_pos = x_pos_branch[event_idx]\n",
    "    #for each event, loop over the particles to find mu/pi\n",
    "    for particle_idx in range(len(event_x_pos)):\n",
    "        particle_pdg = PDG_branch[event_idx][particle_idx]\n",
    "        if(particle_pdg == select_pdg):\n",
    "            current_x_pos = event_x_pos[particle_idx]\n",
    "            num_layers_traversed = get_num_layers_traversed(current_x_pos)\n",
    "            if(num_layers_traversed == -1):\n",
    "                print(f\"Event #{event_idx} did not hit first layer... skipping\")\n",
    "                continue\n",
    "            elif(num_layers_traversed == -2):\n",
    "                print(f\"Error with event #{event_idx}... skipping\")\n",
    "                continue\n",
    "            layers_traversed.append(num_layers_traversed)#add to list"
   ]
  },
  {
   "cell_type": "code",
   "execution_count": 14,
   "id": "af1097d0-82da-4f99-92aa-b3d9eae963c3",
   "metadata": {},
   "outputs": [
    {
     "data": {
      "text/plain": [
       "array([13], dtype=int32)"
      ]
     },
     "execution_count": 14,
     "metadata": {},
     "output_type": "execute_result"
    }
   ],
   "source": [
    "PDG_branch[0]"
   ]
  },
  {
   "cell_type": "code",
   "execution_count": null,
   "id": "22bd0ff4-371b-44c7-9989-5efde75bc681",
   "metadata": {},
   "outputs": [],
   "source": []
  },
  {
   "cell_type": "code",
   "execution_count": null,
   "id": "594f5cfc-b03e-4319-94cd-fa79cab20a2c",
   "metadata": {},
   "outputs": [],
   "source": []
  }
 ],
 "metadata": {
  "kernelspec": {
   "display_name": "Python 3",
   "language": "python",
   "name": "python3"
  },
  "language_info": {
   "codemirror_mode": {
    "name": "ipython",
    "version": 3
   },
   "file_extension": ".py",
   "mimetype": "text/x-python",
   "name": "python",
   "nbconvert_exporter": "python",
   "pygments_lexer": "ipython3",
   "version": "3.8.8"
  }
 },
 "nbformat": 4,
 "nbformat_minor": 5
}
