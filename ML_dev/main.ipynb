{
 "cells": [
  {
   "cell_type": "code",
   "execution_count": 48,
   "id": "7b3df0d1-b5ab-457d-acae-db17300b049b",
   "metadata": {},
   "outputs": [],
   "source": [
    "import uproot\n",
    "import numpy as np\n",
    "import pandas as pd"
   ]
  },
  {
   "cell_type": "code",
   "execution_count": 2,
   "id": "df729b01-b0e4-4f0c-880d-305fe1cc38c5",
   "metadata": {},
   "outputs": [],
   "source": [
    "file_dir = \"/hpc/group/vossenlab/rck32/eic/work_eic/root_files/Slurm/May_21/Run_0/\"\n",
    "num_files = 1\n",
    "file_names = [\"mu_5GeV_30events_run_0_file_1.edm4hep.root\"]"
   ]
  },
  {
   "cell_type": "code",
   "execution_count": 5,
   "id": "a632c351-c65c-4a53-9fd5-128b4e47eca2",
   "metadata": {},
   "outputs": [],
   "source": [
    "tree_events = []\n",
    "for i in range(num_files):\n",
    "    tree_events.append(uproot.open(file_dir + file_names[i]+ \":events\"))    "
   ]
  },
  {
   "cell_type": "code",
   "execution_count": 14,
   "id": "845d41d9-e517-46d6-bf01-e6f0f9ba052e",
   "metadata": {},
   "outputs": [],
   "source": [
    "xpos = tree_events[0]['HcalBarrelHits/HcalBarrelHits.position.x'].array(library='np')"
   ]
  },
  {
   "cell_type": "code",
   "execution_count": 64,
   "id": "23454593-7ebd-4c1f-92c8-9ad761ef4c6b",
   "metadata": {},
   "outputs": [],
   "source": [
    "class HitsData:\n",
    "    def __init__(self):\n",
    "        self.layer_map = [1830.8000, 1841.4000, 1907.5, 1918.1,1984.1999, 1994.8000, 2060.8999,2071.5,2137.6001,2148.1999,2214.3000,2224.8999,2291,2301.6001,2367.6999,2378.3000,2444.3999,2455,2521.1001,2531.6999,2597.8000,2608.3999,2674.5,2685.1001,2751.1999,2761.8000,2827.8999,2838.5]\n",
    "        self.labels = []\n",
    "        self.data = pd.DataFrame({})\n",
    "        self.addColumns()\n",
    "    def addColumns(self):\n",
    "        for i in range(28):\n",
    "            name = f\"layer{i}count\"\n",
    "            self.data[name] = []\n",
    "    def createData(self,tree):\n",
    "        for file in range(len(tree)):\n",
    "            PDG = tree[file]['MCParticles/MCParticles.PDG'].array(library='np')\n",
    "            for event in range(len(PDG)):\n",
    "                self.labels.append(PDG_dict[PDG[event][0]]) #get PDG of first particle\n",
    "                self.\n",
    "    def processHits(self,tree):\n",
    "        \n"
   ]
  },
  {
   "cell_type": "code",
   "execution_count": 66,
   "id": "a5381805-da2d-42c4-95df-2ebaa3c91c0e",
   "metadata": {},
   "outputs": [
    {
     "data": {
      "text/plain": [
       "1907.5"
      ]
     },
     "execution_count": 66,
     "metadata": {},
     "output_type": "execute_result"
    }
   ],
   "source": [
    "myData = HitsData()\n",
    "myData.createData(tree_events)\n",
    "myData.layer_map[2]"
   ]
  },
  {
   "cell_type": "code",
   "execution_count": 37,
   "id": "a30c7152-b6a3-4e63-a93e-5d69db3491bf",
   "metadata": {},
   "outputs": [
    {
     "data": {
      "text/plain": [
       "13"
      ]
     },
     "execution_count": 37,
     "metadata": {},
     "output_type": "execute_result"
    }
   ],
   "source": [
    "PDG = tree_events[0]['MCParticles/MCParticles.PDG'].array(library='np')\n",
    "PDG[0][0]"
   ]
  },
  {
   "cell_type": "code",
   "execution_count": 31,
   "id": "c787638e-b4ac-4bc6-a60c-41740b1ba857",
   "metadata": {},
   "outputs": [],
   "source": [
    "#use PDG_dict to create labels\n",
    "PDG_dict = {\n",
    "    13 : 0,\n",
    "    -211 : 1\n",
    "}\n",
    "\n",
    "\n",
    "for event in range(len(xpos)):\n",
    "    label[]"
   ]
  },
  {
   "cell_type": "code",
   "execution_count": 33,
   "id": "c7a5a3a7-e364-408f-b587-5c811dc26a2e",
   "metadata": {},
   "outputs": [
    {
     "data": {
      "text/plain": [
       "1"
      ]
     },
     "execution_count": 33,
     "metadata": {},
     "output_type": "execute_result"
    }
   ],
   "source": [
    "PDG_dict[-211]"
   ]
  },
  {
   "cell_type": "code",
   "execution_count": null,
   "id": "4918e427-80b6-45d4-96ae-8b06953fccb7",
   "metadata": {},
   "outputs": [],
   "source": [
    "import os\n",
    "import pandas as pd\n",
    "from torchvision.io import read_image\n",
    "\n",
    "class CustomImageDataset(Dataset):\n",
    "    def __init__(self, annotations_file, img_dir, transform=None, target_transform=None):\n",
    "        self.img_labels = pd.read_csv(annotations_file)\n",
    "        self.img_dir = img_dir\n",
    "        self.transform = transform\n",
    "        self.target_transform = target_transform\n",
    "\n",
    "    def __len__(self):\n",
    "        return len(self.img_labels)\n",
    "\n",
    "    def __getitem__(self, idx):\n",
    "        img_path = os.path.join(self.img_dir, self.img_labels.iloc[idx, 0])\n",
    "        image = read_image(img_path)\n",
    "        label = self.img_labels.iloc[idx, 1]\n",
    "        if self.transform:\n",
    "            image = self.transform(image)\n",
    "        if self.target_transform:\n",
    "            label = self.target_transform(label)\n",
    "        return image, label"
   ]
  },
  {
   "cell_type": "code",
   "execution_count": 26,
   "id": "ec826c3d-988b-4b31-bd10-2b49e32dd2fa",
   "metadata": {},
   "outputs": [
    {
     "data": {
      "text/plain": [
       "array([array([13, 11, 11, ..., 11, 11, 11], dtype=int32),\n",
       "       array([13, 11, 11, ..., 11, 11, 11], dtype=int32),\n",
       "       array([13, 11, 11, ..., 11, 11, 11], dtype=int32),\n",
       "       array([13, 11, 11, ..., 11, 11, 11], dtype=int32),\n",
       "       array([13, 11, 11, ..., 11, 11, 11], dtype=int32),\n",
       "       array([13, 11, 11, ..., 11, 11, 11], dtype=int32),\n",
       "       array([13, 11, 11, ..., 11, 11, 11], dtype=int32),\n",
       "       array([13, 11, 11, ..., 11, 11, 11], dtype=int32),\n",
       "       array([13, 11, 11, ..., 11, 11, 11], dtype=int32),\n",
       "       array([13, 11, 11, ..., 11, 11, 11], dtype=int32),\n",
       "       array([13, 11, 11, ..., 11, 11, 11], dtype=int32),\n",
       "       array([13, 11, 11, ..., 11, 11, 11], dtype=int32),\n",
       "       array([13, 11, 11, ..., 11, 11, 11], dtype=int32),\n",
       "       array([13, 11, 11, ..., 11, 11, 11], dtype=int32),\n",
       "       array([13, 11, 11, ..., 11, 11, 11], dtype=int32),\n",
       "       array([13, 11, 11, ..., 11, 11, 11], dtype=int32),\n",
       "       array([13, 11, 11, ..., 11, 11, 11], dtype=int32),\n",
       "       array([13, 11, 11, ..., 11, 11, 11], dtype=int32),\n",
       "       array([13, 11, 11, ..., 11, 11, 11], dtype=int32),\n",
       "       array([13, 11, 11, ..., 11, 11, 11], dtype=int32),\n",
       "       array([13, 11, 11, ..., 11, 11, 11], dtype=int32),\n",
       "       array([13, 11, 11, ..., 11, 11, 11], dtype=int32),\n",
       "       array([13, 11, 11, ..., 11, 11, 11], dtype=int32),\n",
       "       array([13, 11, 11, ..., 11, 11, 11], dtype=int32),\n",
       "       array([13, 11, 11, ..., 11, 11, 11], dtype=int32),\n",
       "       array([ 13,  11,  11, ..., -22, -22, -22], dtype=int32),\n",
       "       array([13, 11, 11, ..., 11, 11, 11], dtype=int32),\n",
       "       array([13, 11, 11, ..., 11, 11, 11], dtype=int32),\n",
       "       array([13, 11, 11, ..., 11, 11, 11], dtype=int32),\n",
       "       array([13, 11, 11, ..., 11, 11, 11], dtype=int32)], dtype=object)"
      ]
     },
     "execution_count": 26,
     "metadata": {},
     "output_type": "execute_result"
    }
   ],
   "source": [
    "tree_events[0]['MCParticles/MCParticles.PDG'].array(library='np')"
   ]
  },
  {
   "cell_type": "code",
   "execution_count": null,
   "id": "11c54b09-b2ba-4130-a40b-af1bc19943f2",
   "metadata": {},
   "outputs": [],
   "source": []
  }
 ],
 "metadata": {
  "kernelspec": {
   "display_name": "Python 3",
   "language": "python",
   "name": "python3"
  },
  "language_info": {
   "codemirror_mode": {
    "name": "ipython",
    "version": 3
   },
   "file_extension": ".py",
   "mimetype": "text/x-python",
   "name": "python",
   "nbconvert_exporter": "python",
   "pygments_lexer": "ipython3",
   "version": "3.8.8"
  }
 },
 "nbformat": 4,
 "nbformat_minor": 5
}
